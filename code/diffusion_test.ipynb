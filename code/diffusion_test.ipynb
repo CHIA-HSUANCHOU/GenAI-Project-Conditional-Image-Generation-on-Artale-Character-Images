{
  "nbformat": 4,
  "nbformat_minor": 0,
  "metadata": {
    "colab": {
      "provenance": [],
      "toc_visible": true
    },
    "kernelspec": {
      "name": "python3",
      "display_name": "Python 3"
    },
    "language_info": {
      "name": "python"
    }
  },
  "cells": [
    {
      "cell_type": "code",
      "source": [
        "from types import SimpleNamespace\n",
        "import os\n",
        "import json\n",
        "import torch\n",
        "import re\n",
        "import matplotlib.pyplot as plt\n",
        "import shutil\n",
        "from tqdm import tqdm"
      ],
      "metadata": {
        "id": "q9fPI9eL5gZr"
      },
      "execution_count": null,
      "outputs": []
    },
    {
      "cell_type": "markdown",
      "source": [
        "## DDPM"
      ],
      "metadata": {
        "id": "ZAY4PfPn461N"
      }
    },
    {
      "cell_type": "code",
      "source": [
        "@torch.no_grad()\n",
        "def generate_batch(prompts, unet, vae, tokenizer, text_encoder, device, steps=50, guidance_scale=7.5):\n",
        "    unet.eval()\n",
        "    noise_scheduler = DDPMScheduler()\n",
        "    scheduler = DPMSolverMultistepScheduler.from_config(noise_scheduler.config)\n",
        "    scheduler.set_timesteps(steps)\n",
        "\n",
        "    batch_size = len(prompts)\n",
        "    cond_ids = tokenizer(prompts, return_tensors=\"pt\", padding=\"max_length\", truncation=True, max_length=77).input_ids.to(device)\n",
        "    uncond_ids = tokenizer([\"\"] * batch_size, return_tensors=\"pt\", padding=\"max_length\", truncation=True, max_length=77).input_ids.to(device)\n",
        "\n",
        "    cond_emb = text_encoder(cond_ids)[0]\n",
        "    uncond_emb = text_encoder(uncond_ids)[0]\n",
        "    encoder_input = torch.cat([uncond_emb, cond_emb], dim=0)  # (2B, 77, D)\n",
        "\n",
        "    latents = torch.randn((batch_size, 4, 32, 32)).to(device)\n",
        "\n",
        "    for t in scheduler.timesteps:\n",
        "        latent_input = latents.repeat(2, 1, 1, 1)\n",
        "        noise_pred = unet(latent_input, t.to(device), encoder_hidden_states=encoder_input).sample\n",
        "        noise_pred_uncond, noise_pred_cond = noise_pred.chunk(2)\n",
        "        noise_pred = noise_pred_uncond + guidance_scale * (noise_pred_cond - noise_pred_uncond)\n",
        "        latents = scheduler.step(noise_pred, t, latents).prev_sample\n",
        "\n",
        "    latents = latents / 0.18215\n",
        "    images = vae.decode(latents, return_dict=False)[0]\n",
        "    images = (images.clamp(-1, 1) + 1) / 2\n",
        "\n",
        "    pil_images = [transforms.ToPILImage()(img.cpu()) for img in images]\n",
        "    return pil_images\n",
        "\n",
        "def test_inference(ckpt_path, test_json_path, save_folder, device=\"cuda\", steps=50, guidance_scale=7.5, batch_size=4):\n",
        "    tokenizer = CLIPTokenizer.from_pretrained(\"openai/clip-vit-base-patch32\")\n",
        "    text_encoder = CLIPTextModel.from_pretrained(\"openai/clip-vit-base-patch32\").eval().to(device)\n",
        "    text_encoder.requires_grad_(False)\n",
        "    vae = AutoencoderKL.from_pretrained(\"CompVis/stable-diffusion-v1-4\", subfolder=\"vae\").to(device)\n",
        "    vae.requires_grad_(False)\n",
        "\n",
        "    print(f\"🔍 Loading checkpoint: {ckpt_path}\")\n",
        "    # 1. 初始化 unet（使用原始 config）\n",
        "    unet = UNet2DConditionModel(\n",
        "    sample_size=32,\n",
        "    in_channels=4,\n",
        "    out_channels=4,\n",
        "    layers_per_block=3,\n",
        "    block_out_channels=(192, 384, 768),\n",
        "    down_block_types=(\n",
        "        \"CrossAttnDownBlock2D\",\n",
        "        \"CrossAttnDownBlock2D\",\n",
        "        \"CrossAttnDownBlock2D\"\n",
        "    ),\n",
        "    up_block_types=(\n",
        "        \"CrossAttnUpBlock2D\",\n",
        "        \"CrossAttnUpBlock2D\",\n",
        "        \"CrossAttnUpBlock2D\"\n",
        "    ),\n",
        "    cross_attention_dim=512,\n",
        "    attention_head_dim=8\n",
        "    ).to(device)\n",
        "\n",
        "    # 2. 載入訓練好的權重（推薦用 EMA）\n",
        "    ckpt = torch.load(ckpt_path, map_location=device)\n",
        "    if \"ema\" in ckpt:\n",
        "        print(\"✅ Using EMA weights\")\n",
        "        unet.load_state_dict(ckpt[\"ema\"])\n",
        "    else:\n",
        "        print(\"⚠️ Using raw UNet weights\")\n",
        "        unet.load_state_dict(ckpt[\"unet\"])\n",
        "\n",
        "    os.makedirs(save_folder, exist_ok=True)\n",
        "    with open(test_json_path, \"r\") as f:\n",
        "        test_data = list(json.load(f).items())\n",
        "\n",
        "    print(f\"🚀 Start batch inference: {len(test_data)} samples | Batch size={batch_size}\")\n",
        "    for i in tqdm(range(0, len(test_data), batch_size), desc=\"Batch generating\"):\n",
        "        batch_items = test_data[i:i+batch_size]\n",
        "        prompts = [item[1][\"text_prompt\"] for item in batch_items]\n",
        "        filenames = [item[1][\"image_name\"] for item in batch_items]\n",
        "\n",
        "        images = generate_batch(prompts, unet, vae, tokenizer, text_encoder, device,\n",
        "                                steps=steps, guidance_scale=guidance_scale)\n",
        "        for img, fname in zip(images, filenames):\n",
        "            img.save(os.path.join(save_folder, fname))\n",
        "\n"
      ],
      "metadata": {
        "id": "b7wopv0W0vH1"
      },
      "execution_count": null,
      "outputs": []
    },
    {
      "cell_type": "code",
      "execution_count": null,
      "metadata": {
        "id": "fRNcBBKUgZDU"
      },
      "outputs": [],
      "source": [
        "class ImageSizeError(ValueError):\n",
        "    pass\n",
        "\n",
        "class FIDDataset(Dataset):\n",
        "    def __init__(self, image_paths: str, image_size: int = None):\n",
        "        self.image_paths = image_paths\n",
        "        self.image_size = image_size\n",
        "\n",
        "        self.transform = transforms.Compose([\n",
        "            transforms.Resize((299, 299)),\n",
        "            transforms.ToTensor(),\n",
        "            transforms.Normalize([0.5] * 3, [0.5] * 3)\n",
        "        ])\n",
        "\n",
        "    def __len__(self):\n",
        "        return len(self.image_paths)\n",
        "\n",
        "    def __getitem__(self, idx):\n",
        "        image_path = self.image_paths[idx]\n",
        "        image = Image.open(image_path).convert('RGB')\n",
        "\n",
        "        if self.image_size is not None and image.size != (self.image_size, self.image_size):\n",
        "            raise ImageSizeError(\n",
        "                f\"Image {image_path} has size {image.size}, expected \"\n",
        "                f\"{self.image_size}x{self.image_size}\"\n",
        "            )\n",
        "\n",
        "        if self.transform:\n",
        "            image = self.transform(image)\n",
        "        return image\n",
        "\n",
        "\n",
        "class CLIPDataset(Dataset):\n",
        "    def __init__(self, base2path: str, items: List[Tuple[str, str]], preprocess, tokenizer, image_size: int = None):\n",
        "        self.base2path = base2path\n",
        "        self.items = items\n",
        "        self.preprocess = preprocess\n",
        "        self.tokenizer = tokenizer\n",
        "        self.image_size = image_size\n",
        "\n",
        "    def __len__(self):\n",
        "        return len(self.items)\n",
        "\n",
        "    def __getitem__(self, idx):\n",
        "        base_name = self.items[idx][\"image_name\"]\n",
        "        image_path = self.base2path[base_name]\n",
        "        image = Image.open(image_path).convert('RGB')\n",
        "        if self.image_size is not None and image.size != (self.image_size, self.image_size):\n",
        "            raise ImageSizeError(\n",
        "                f\"Image {image_path} has size {image.size}, expected \"\n",
        "                f\"{self.image_size}x{self.image_size}.\"\n",
        "            )\n",
        "        image = self.preprocess(image)\n",
        "\n",
        "        text_prompt = self.items[idx][\"text_prompt\"]\n",
        "        tokens = self.tokenizer(text_prompt)[0]\n",
        "\n",
        "        return image, tokens\n",
        "\n",
        "\n",
        "def get_inception_model() -> nn.Module:\n",
        "    weights = Inception_V3_Weights.IMAGENET1K_V1\n",
        "    model = inception_v3(weights=weights, transform_input=False)\n",
        "    model.fc = nn.Identity()\n",
        "    model.eval()\n",
        "    return model\n",
        "\n",
        "def get_inception_feature(dataloader: DataLoader, model: nn.Module, device: torch.device, verbose: bool = False) -> torch.Tensor:\n",
        "    features_list = []\n",
        "    with torch.no_grad():\n",
        "        for batch in tqdm(\n",
        "            dataloader,\n",
        "            ncols=0,\n",
        "            desc=\"Extracting features\",\n",
        "            leave=False,\n",
        "            disable=not verbose\n",
        "        ):\n",
        "            batch = batch.to(device)\n",
        "            features = model(batch)\n",
        "            features_list.append(features.cpu())\n",
        "    return torch.cat(features_list, axis=0)\n",
        "\n",
        "\n",
        "def calculate_fid(mu1, sigma1, mu2, sigma2):\n",
        "    covmean, _ = linalg.sqrtm(sigma1 @ sigma2, disp=False)\n",
        "    if np.iscomplexobj(covmean):\n",
        "        covmean = covmean.real\n",
        "    diff = mu1 - mu2\n",
        "    fid = diff.dot(diff) + np.trace(sigma1 + sigma2 - 2 * covmean)\n",
        "    return fid\n",
        "\n",
        "\n",
        "class CLIPScore:\n",
        "    def __init__(self, model, tokenizer):\n",
        "        self.model = model\n",
        "        self.tokenizer = tokenizer\n",
        "\n",
        "    def get_image_embedding(self, images):\n",
        "        with torch.no_grad():\n",
        "            image_features = self.model.encode_image(images)\n",
        "            image_features /= image_features.norm(dim=-1, keepdim=True)\n",
        "        return image_features\n",
        "\n",
        "    def get_text_embedding(self, tokens):\n",
        "        with torch.no_grad():\n",
        "            text_features = self.model.encode_text(tokens)\n",
        "            text_features /= text_features.norm(dim=-1, keepdim=True)\n",
        "        return text_features\n",
        "\n",
        "    def clip_score_image_image(self, images1, images2):\n",
        "        embs1 = self.get_image_embedding(images1)\n",
        "        embs2 = self.get_image_embedding(images2)\n",
        "        scores = (embs1 * embs2).sum(dim=-1)\n",
        "        return scores\n",
        "\n",
        "    def clip_score_image_text(self, images, tokens):\n",
        "        embsi = self.get_image_embedding(images)\n",
        "        embst = self.get_text_embedding(tokens)\n",
        "        scores = (embsi * embst).sum(dim=-1)\n",
        "        return scores\n",
        "\n",
        "\n",
        "def run_fid(args, device):\n",
        "    # ================ Load reference statistics ================\n",
        "    # 改成直接用參數指定的絕對路徑\n",
        "    real_mu = np.load(args.ref_mu_path)\n",
        "    real_sigma = np.load(args.ref_sigma_path)\n",
        "\n",
        "    # ================ List and check images ================\n",
        "    image_paths = glob.glob(os.path.join(args.fake_img_root, '**', '*.png'), recursive=True)\n",
        "    if args.num_images is not None and len(image_paths) != args.num_images:\n",
        "        raise ValueError(\n",
        "            f\"Expected {args.num_images} PNG files in zip file, \"\n",
        "            f\"found {len(image_paths)}.\")\n",
        "    if args.verbose:\n",
        "        print(f\"[INFO] Found {len(image_paths)} images in the zip file.\")\n",
        "\n",
        "    # ================ Load and process images =================\n",
        "    dataset = FIDDataset(image_paths, args.image_size)\n",
        "    dataloader = DataLoader(\n",
        "        dataset, batch_size=args.batch_size, shuffle=False, num_workers=2, pin_memory=True\n",
        "    )\n",
        "    # Initialize the Inception model and extract features\n",
        "    model = get_inception_model().to(device)\n",
        "    if args.verbose:\n",
        "        print(\"[INFO] Generating Inception model features...\")\n",
        "    features = get_inception_feature(dataloader, model, device, verbose=args.verbose)\n",
        "    del model\n",
        "    features = features.numpy()\n",
        "    fake_mu = np.mean(features, axis=0)\n",
        "    fake_sigma = np.cov(features, rowvar=False)\n",
        "\n",
        "    # ================ Calculate FID =================\n",
        "    if args.verbose:\n",
        "        print(\"[INFO] Calculating FID score...\")\n",
        "    fid = calculate_fid(real_mu, real_sigma, fake_mu, fake_sigma)\n",
        "    if args.verbose:\n",
        "        print(f\"[INFO] FID score: {fid:.4f}.\")\n",
        "    return {\"FID\": fid}\n",
        "\n",
        "\n",
        "def get_image_base2path(image_root, items, num_images=None, verbose=False):\n",
        "    image_paths = glob.glob(os.path.join(image_root, '**', '*.png'), recursive=True)\n",
        "    image_base2path = {os.path.basename(path): path for path in image_paths}\n",
        "    if len(image_paths) != len(items):\n",
        "        raise ValueError(\n",
        "            f\"Expected {len(items)} PNG files in zip file, found \"\n",
        "            f\"{len(image_paths)}.\")\n",
        "    if num_images is None:\n",
        "        num_images = len(items)\n",
        "    else:\n",
        "        num_images = num_images\n",
        "    if len(image_base2path) != num_images:\n",
        "        raise ValueError(\n",
        "            f\"The number of unique image filenames ({len(image_base2path)}) \"\n",
        "            f\"does not match the number of items in the test JSON file ({num_images}).\"\n",
        "        )\n",
        "    if verbose:\n",
        "        print(f\"[INFO] Found {len(image_paths)} images in the zip file.\")\n",
        "\n",
        "    if verbose:\n",
        "        print(\n",
        "            \"[INFO] Checking if all image paths from the test JSON file are \"\n",
        "            \"present in the zip file.\")\n",
        "    for item in items:\n",
        "        # item[\"image_name\"] is the base filename of the image\n",
        "        if item[\"image_name\"] not in image_base2path:\n",
        "            raise ValueError(\n",
        "                f\"Image path {item['image_name']} from the test JSON file \"\n",
        "                f\"not found in the zip file.\"\n",
        "            )\n",
        "    return image_base2path\n",
        "\n",
        "\n",
        "def run_clip(args, device):\n",
        "    if not ('clip_i' in args.scores or 'clip_t' in args.scores):\n",
        "        raise ValueError(\n",
        "            \"CLIP scores can only be calculated if 'clip_i' or 'clip_t' is in \"\n",
        "            \"the --scores argument.\"\n",
        "        )\n",
        "\n",
        "    # ================ Load reference statistics ================\n",
        "    if not os.path.exists(args.test_json_path):\n",
        "        raise FileNotFoundError(f\"Test JSON file {args.test_json_path} does not exist.\")\n",
        "    if args.verbose:\n",
        "        print(f\"[INFO] Loading test JSON file: {args.test_json_path}.\")\n",
        "    with open(args.test_json_path, 'r') as f:\n",
        "        items = json.load(f)\n",
        "\n",
        "    items = [\n",
        "        {\n",
        "            \"image_name\": item[\"image_name\"],\n",
        "            \"text_prompt\": item[\"text_prompt\"]\n",
        "        } for item in items.values()\n",
        "    ]\n",
        "\n",
        "    # ================ List and check images ================\n",
        "\n",
        "    fake_image_base2path = get_image_base2path(\n",
        "        args.fake_img_root,\n",
        "        items,\n",
        "        num_images=args.num_images,\n",
        "        verbose=args.verbose\n",
        "    )\n",
        "\n",
        "    # ================ Load CLIP model ================\n",
        "    if args.verbose:\n",
        "        print(f\"[INFO] Loading CLIP model: {args.model_name} with pretrained weights: {args.pretrained}.\")\n",
        "    model, _, preprocess = open_clip.create_model_and_transforms(args.model_name, pretrained=args.pretrained)\n",
        "    model = model.to(device)\n",
        "    tokenizer = open_clip.get_tokenizer(args.model_name)\n",
        "    clip_score = CLIPScore(model, tokenizer)\n",
        "\n",
        "    # ================ Load and process images =================\n",
        "\n",
        "    fake_dataset = CLIPDataset(\n",
        "        fake_image_base2path, items, preprocess, tokenizer, image_size=args.image_size\n",
        "    )\n",
        "    fake_dataloader = DataLoader(\n",
        "        fake_dataset, batch_size=args.batch_size, shuffle=False, num_workers=4, pin_memory=True\n",
        "    )\n",
        "    if args.verbose:\n",
        "        print(f\"[INFO] Calculating CLIP scores for {len(fake_dataset)} images...\")\n",
        "    scores_list = defaultdict(list)\n",
        "    for fake_image, tokens in tqdm(\n",
        "        fake_dataloader):\n",
        "        fake_image = fake_image.to(device)\n",
        "        tokens = tokens.to(device)\n",
        "        for score in args.scores:\n",
        "             if score == 'clip_t':\n",
        "                 scores = clip_score.clip_score_image_text(fake_image, tokens)\n",
        "             else:\n",
        "                 scores = None\n",
        "             if scores is not None:\n",
        "                 scores_list[score].append(scores.cpu())\n",
        "\n",
        "\n",
        "    # ================ Save the score =================\n",
        "    output_json = {}\n",
        "    for score in args.scores:\n",
        "        if score == 'clip_i':\n",
        "            score_name = \"CLIP Image-Image Score\"\n",
        "        elif score == 'clip_t':\n",
        "            score_name = \"CLIP Image-Text Score\"\n",
        "        else:\n",
        "            score_name = None\n",
        "        if score_name is not None:\n",
        "            if args.verbose:\n",
        "                mean_score = torch.cat(scores_list[score]).mean().item()\n",
        "                print(f\"{score_name}: {mean_score:.6f}\")\n",
        "            output_json[score_name] = mean_score\n",
        "\n",
        "    return output_json"
      ]
    },
    {
      "cell_type": "markdown",
      "source": [
        "### step=15, guidance=3"
      ],
      "metadata": {
        "id": "fuUznW0M7_IX"
      }
    },
    {
      "cell_type": "code",
      "source": [
        "# 要測試的 epoch 清單\n",
        "target_epochs = [13,14,15,16,17,18,19,20,21,22,23,24,25,26,27,28,29,30,31,32,33,34,35,36,38,40,42]\n",
        "\n",
        "# 固定參數設定\n",
        "test_json_path = \"/content/test.json\"\n",
        "ref_mu_path = \"/content/drive/MyDrive/public_data/score/test_mu.npy\"\n",
        "ref_sigma_path = \"/content/drive/MyDrive/public_data/score/test_sigma.npy\"\n",
        "device = torch.device(\"cuda\" if torch.cuda.is_available() else \"cpu\")\n",
        "\n",
        "result_list = []\n",
        "os.makedirs(\"/content/generated_eval4\", exist_ok=True)\n",
        "for epoch in target_epochs:\n",
        "    ckpt_path = f\"/content/drive/MyDrive/DDIM11/ckpt/checkpoint_epoch{epoch}.pt\"\n",
        "    save_folder = f\"/content/generated_test11_{epoch}_15_3_2\"\n",
        "    os.makedirs(save_folder, exist_ok=True)\n",
        "\n",
        "    print(f\"\\n🎯 Epoch {epoch}: Generating images...\")\n",
        "\n",
        "    # 推論產圖\n",
        "    test_inference(\n",
        "        ckpt_path=ckpt_path,\n",
        "        test_json_path=test_json_path,\n",
        "        save_folder=save_folder,\n",
        "        steps=15,\n",
        "        guidance_scale=3,\n",
        "        batch_size=32\n",
        "    )\n",
        "\n",
        "    # 設定評分參數\n",
        "    args = SimpleNamespace(\n",
        "        ref_mu_path=ref_mu_path,\n",
        "        ref_sigma_path=ref_sigma_path,\n",
        "        test_json_path=test_json_path,\n",
        "        fake_img_root=save_folder,\n",
        "        image_size=256,\n",
        "        num_images=None,\n",
        "        scores=[\"fid\", \"clip_t\"],\n",
        "        model_name=\"ViT-B-32-quickgelu\",\n",
        "        pretrained=\"openai\",\n",
        "        batch_size=32,\n",
        "        num_workers=2,\n",
        "        verbose=True,\n",
        "        output_path=f\"/content/generated_eval4/scores_ep{epoch}.json\"\n",
        "    )\n",
        "\n",
        "    # 執行評分\n",
        "    output_json = {}\n",
        "    if 'clip_i' in args.scores or 'clip_t' in args.scores:\n",
        "        output_json.update(run_clip(args, device))\n",
        "    if 'fid' in args.scores:\n",
        "        output_json.update(run_fid(args, device))\n",
        "\n",
        "    # 印出分數\n",
        "    print(f\"✅ Epoch {epoch} scores:\")\n",
        "    for key in [\"FID\", \"CLIP Image-Text Score\"]:\n",
        "        if key in output_json:\n",
        "            print(f\"  {key}: {output_json[key]:.4f}\")\n",
        "\n",
        "    # 儲存分數\n",
        "    with open(args.output_path, \"w\") as f:\n",
        "        json.dump(output_json, f, indent=2)\n",
        "\n",
        "    # 收集結果\n",
        "    result_list.append({\n",
        "        \"epoch\": epoch,\n",
        "        \"FID\": output_json.get(\"FID\", None),\n",
        "        \"CLIP\": output_json.get(\"CLIP Image-Text Score\", None)\n",
        "    })\n",
        "\n",
        "# 總結\n",
        "print(\"\\n📊 Summary:\")\n",
        "for r in result_list:\n",
        "    print(f\"Epoch {r['epoch']:>2} | FID: {r['FID']:.4f} | CLIP: {r['CLIP']:.4f}\")"
      ],
      "metadata": {
        "colab": {
          "base_uri": "https://localhost:8080/"
        },
        "outputId": "09c70e50-0878-48af-c763-3ead0f15b8fa",
        "collapsed": true,
        "id": "JvEnNhcb7_IY"
      },
      "execution_count": null,
      "outputs": [
        {
          "output_type": "stream",
          "name": "stdout",
          "text": [
            "\n",
            "🎯 Epoch 13: Generating images...\n",
            "🔍 Loading checkpoint: /content/drive/MyDrive/DDIM11/ckpt/checkpoint_epoch13.pt\n",
            "✅ Using EMA weights\n",
            "🚀 Start batch inference: 1063 samples | Batch size=32\n"
          ]
        },
        {
          "output_type": "stream",
          "name": "stderr",
          "text": [
            "Batch generating: 100%|██████████| 34/34 [02:37<00:00,  4.65s/it]\n"
          ]
        },
        {
          "output_type": "stream",
          "name": "stdout",
          "text": [
            "[INFO] Loading test JSON file: /content/test.json.\n",
            "[INFO] Found 1063 images in the zip file.\n",
            "[INFO] Checking if all image paths from the test JSON file are present in the zip file.\n",
            "[INFO] Loading CLIP model: ViT-B-32-quickgelu with pretrained weights: openai.\n",
            "[INFO] Calculating CLIP scores for 1063 images...\n"
          ]
        },
        {
          "output_type": "stream",
          "name": "stderr",
          "text": [
            "100%|██████████| 34/34 [00:01<00:00, 17.06it/s]\n"
          ]
        },
        {
          "output_type": "stream",
          "name": "stdout",
          "text": [
            "CLIP Image-Text Score: 0.294992\n",
            "[INFO] Found 1063 images in the zip file.\n",
            "[INFO] Generating Inception model features...\n"
          ]
        },
        {
          "output_type": "stream",
          "name": "stderr",
          "text": []
        },
        {
          "output_type": "stream",
          "name": "stdout",
          "text": [
            "[INFO] Calculating FID score...\n",
            "[INFO] FID score: 68.3075.\n",
            "✅ Epoch 13 scores:\n",
            "  FID: 68.3075\n",
            "  CLIP Image-Text Score: 0.2950\n",
            "\n",
            "🎯 Epoch 14: Generating images...\n",
            "🔍 Loading checkpoint: /content/drive/MyDrive/DDIM11/ckpt/checkpoint_epoch14.pt\n",
            "✅ Using EMA weights\n",
            "🚀 Start batch inference: 1063 samples | Batch size=32\n"
          ]
        },
        {
          "output_type": "stream",
          "name": "stderr",
          "text": [
            "Batch generating: 100%|██████████| 34/34 [02:37<00:00,  4.63s/it]\n"
          ]
        },
        {
          "output_type": "stream",
          "name": "stdout",
          "text": [
            "[INFO] Loading test JSON file: /content/test.json.\n",
            "[INFO] Found 1063 images in the zip file.\n",
            "[INFO] Checking if all image paths from the test JSON file are present in the zip file.\n",
            "[INFO] Loading CLIP model: ViT-B-32-quickgelu with pretrained weights: openai.\n",
            "[INFO] Calculating CLIP scores for 1063 images...\n"
          ]
        },
        {
          "output_type": "stream",
          "name": "stderr",
          "text": [
            "100%|██████████| 34/34 [00:02<00:00, 16.82it/s]\n"
          ]
        },
        {
          "output_type": "stream",
          "name": "stdout",
          "text": [
            "CLIP Image-Text Score: 0.297473\n",
            "[INFO] Found 1063 images in the zip file.\n",
            "[INFO] Generating Inception model features...\n"
          ]
        },
        {
          "output_type": "stream",
          "name": "stderr",
          "text": []
        },
        {
          "output_type": "stream",
          "name": "stdout",
          "text": [
            "[INFO] Calculating FID score...\n",
            "[INFO] FID score: 65.9507.\n",
            "✅ Epoch 14 scores:\n",
            "  FID: 65.9507\n",
            "  CLIP Image-Text Score: 0.2975\n",
            "\n",
            "🎯 Epoch 15: Generating images...\n",
            "🔍 Loading checkpoint: /content/drive/MyDrive/DDIM11/ckpt/checkpoint_epoch15.pt\n",
            "✅ Using EMA weights\n",
            "🚀 Start batch inference: 1063 samples | Batch size=32\n"
          ]
        },
        {
          "output_type": "stream",
          "name": "stderr",
          "text": [
            "Batch generating: 100%|██████████| 34/34 [02:37<00:00,  4.63s/it]\n"
          ]
        },
        {
          "output_type": "stream",
          "name": "stdout",
          "text": [
            "[INFO] Loading test JSON file: /content/test.json.\n",
            "[INFO] Found 1063 images in the zip file.\n",
            "[INFO] Checking if all image paths from the test JSON file are present in the zip file.\n",
            "[INFO] Loading CLIP model: ViT-B-32-quickgelu with pretrained weights: openai.\n",
            "[INFO] Calculating CLIP scores for 1063 images...\n"
          ]
        },
        {
          "output_type": "stream",
          "name": "stderr",
          "text": [
            "100%|██████████| 34/34 [00:01<00:00, 17.33it/s]\n"
          ]
        },
        {
          "output_type": "stream",
          "name": "stdout",
          "text": [
            "CLIP Image-Text Score: 0.298014\n",
            "[INFO] Found 1063 images in the zip file.\n",
            "[INFO] Generating Inception model features...\n"
          ]
        },
        {
          "output_type": "stream",
          "name": "stderr",
          "text": []
        },
        {
          "output_type": "stream",
          "name": "stdout",
          "text": [
            "[INFO] Calculating FID score...\n",
            "[INFO] FID score: 65.6294.\n",
            "✅ Epoch 15 scores:\n",
            "  FID: 65.6294\n",
            "  CLIP Image-Text Score: 0.2980\n",
            "\n",
            "🎯 Epoch 16: Generating images...\n",
            "🔍 Loading checkpoint: /content/drive/MyDrive/DDIM11/ckpt/checkpoint_epoch16.pt\n",
            "✅ Using EMA weights\n",
            "🚀 Start batch inference: 1063 samples | Batch size=32\n"
          ]
        },
        {
          "output_type": "stream",
          "name": "stderr",
          "text": [
            "Batch generating: 100%|██████████| 34/34 [02:37<00:00,  4.62s/it]\n"
          ]
        },
        {
          "output_type": "stream",
          "name": "stdout",
          "text": [
            "[INFO] Loading test JSON file: /content/test.json.\n",
            "[INFO] Found 1063 images in the zip file.\n",
            "[INFO] Checking if all image paths from the test JSON file are present in the zip file.\n",
            "[INFO] Loading CLIP model: ViT-B-32-quickgelu with pretrained weights: openai.\n",
            "[INFO] Calculating CLIP scores for 1063 images...\n"
          ]
        },
        {
          "output_type": "stream",
          "name": "stderr",
          "text": [
            "100%|██████████| 34/34 [00:01<00:00, 17.38it/s]\n"
          ]
        },
        {
          "output_type": "stream",
          "name": "stdout",
          "text": [
            "CLIP Image-Text Score: 0.298975\n",
            "[INFO] Found 1063 images in the zip file.\n",
            "[INFO] Generating Inception model features...\n"
          ]
        },
        {
          "output_type": "stream",
          "name": "stderr",
          "text": []
        },
        {
          "output_type": "stream",
          "name": "stdout",
          "text": [
            "[INFO] Calculating FID score...\n",
            "[INFO] FID score: 64.1016.\n",
            "✅ Epoch 16 scores:\n",
            "  FID: 64.1016\n",
            "  CLIP Image-Text Score: 0.2990\n",
            "\n",
            "🎯 Epoch 17: Generating images...\n",
            "🔍 Loading checkpoint: /content/drive/MyDrive/DDIM11/ckpt/checkpoint_epoch17.pt\n",
            "✅ Using EMA weights\n",
            "🚀 Start batch inference: 1063 samples | Batch size=32\n"
          ]
        },
        {
          "output_type": "stream",
          "name": "stderr",
          "text": [
            "Batch generating: 100%|██████████| 34/34 [02:37<00:00,  4.62s/it]\n"
          ]
        },
        {
          "output_type": "stream",
          "name": "stdout",
          "text": [
            "[INFO] Loading test JSON file: /content/test.json.\n",
            "[INFO] Found 1063 images in the zip file.\n",
            "[INFO] Checking if all image paths from the test JSON file are present in the zip file.\n",
            "[INFO] Loading CLIP model: ViT-B-32-quickgelu with pretrained weights: openai.\n",
            "[INFO] Calculating CLIP scores for 1063 images...\n"
          ]
        },
        {
          "output_type": "stream",
          "name": "stderr",
          "text": [
            "100%|██████████| 34/34 [00:01<00:00, 17.19it/s]\n"
          ]
        },
        {
          "output_type": "stream",
          "name": "stdout",
          "text": [
            "CLIP Image-Text Score: 0.298526\n",
            "[INFO] Found 1063 images in the zip file.\n",
            "[INFO] Generating Inception model features...\n"
          ]
        },
        {
          "output_type": "stream",
          "name": "stderr",
          "text": []
        },
        {
          "output_type": "stream",
          "name": "stdout",
          "text": [
            "[INFO] Calculating FID score...\n",
            "[INFO] FID score: 64.0001.\n",
            "✅ Epoch 17 scores:\n",
            "  FID: 64.0001\n",
            "  CLIP Image-Text Score: 0.2985\n",
            "\n",
            "🎯 Epoch 18: Generating images...\n",
            "🔍 Loading checkpoint: /content/drive/MyDrive/DDIM11/ckpt/checkpoint_epoch18.pt\n",
            "✅ Using EMA weights\n",
            "🚀 Start batch inference: 1063 samples | Batch size=32\n"
          ]
        },
        {
          "output_type": "stream",
          "name": "stderr",
          "text": [
            "Batch generating: 100%|██████████| 34/34 [02:37<00:00,  4.63s/it]\n"
          ]
        },
        {
          "output_type": "stream",
          "name": "stdout",
          "text": [
            "[INFO] Loading test JSON file: /content/test.json.\n",
            "[INFO] Found 1063 images in the zip file.\n",
            "[INFO] Checking if all image paths from the test JSON file are present in the zip file.\n",
            "[INFO] Loading CLIP model: ViT-B-32-quickgelu with pretrained weights: openai.\n",
            "[INFO] Calculating CLIP scores for 1063 images...\n"
          ]
        },
        {
          "output_type": "stream",
          "name": "stderr",
          "text": [
            "100%|██████████| 34/34 [00:02<00:00, 15.84it/s]\n"
          ]
        },
        {
          "output_type": "stream",
          "name": "stdout",
          "text": [
            "CLIP Image-Text Score: 0.299484\n",
            "[INFO] Found 1063 images in the zip file.\n",
            "[INFO] Generating Inception model features...\n"
          ]
        },
        {
          "output_type": "stream",
          "name": "stderr",
          "text": []
        },
        {
          "output_type": "stream",
          "name": "stdout",
          "text": [
            "[INFO] Calculating FID score...\n",
            "[INFO] FID score: 63.0737.\n",
            "✅ Epoch 18 scores:\n",
            "  FID: 63.0737\n",
            "  CLIP Image-Text Score: 0.2995\n",
            "\n",
            "🎯 Epoch 19: Generating images...\n",
            "🔍 Loading checkpoint: /content/drive/MyDrive/DDIM11/ckpt/checkpoint_epoch19.pt\n",
            "✅ Using EMA weights\n",
            "🚀 Start batch inference: 1063 samples | Batch size=32\n"
          ]
        },
        {
          "output_type": "stream",
          "name": "stderr",
          "text": [
            "Batch generating: 100%|██████████| 34/34 [02:37<00:00,  4.62s/it]\n"
          ]
        },
        {
          "output_type": "stream",
          "name": "stdout",
          "text": [
            "[INFO] Loading test JSON file: /content/test.json.\n",
            "[INFO] Found 1063 images in the zip file.\n",
            "[INFO] Checking if all image paths from the test JSON file are present in the zip file.\n",
            "[INFO] Loading CLIP model: ViT-B-32-quickgelu with pretrained weights: openai.\n",
            "[INFO] Calculating CLIP scores for 1063 images...\n"
          ]
        },
        {
          "output_type": "stream",
          "name": "stderr",
          "text": [
            "100%|██████████| 34/34 [00:01<00:00, 17.13it/s]\n"
          ]
        },
        {
          "output_type": "stream",
          "name": "stdout",
          "text": [
            "CLIP Image-Text Score: 0.299182\n",
            "[INFO] Found 1063 images in the zip file.\n",
            "[INFO] Generating Inception model features...\n"
          ]
        },
        {
          "output_type": "stream",
          "name": "stderr",
          "text": []
        },
        {
          "output_type": "stream",
          "name": "stdout",
          "text": [
            "[INFO] Calculating FID score...\n",
            "[INFO] FID score: 62.2366.\n",
            "✅ Epoch 19 scores:\n",
            "  FID: 62.2366\n",
            "  CLIP Image-Text Score: 0.2992\n",
            "\n",
            "🎯 Epoch 20: Generating images...\n",
            "🔍 Loading checkpoint: /content/drive/MyDrive/DDIM11/ckpt/checkpoint_epoch20.pt\n",
            "✅ Using EMA weights\n",
            "🚀 Start batch inference: 1063 samples | Batch size=32\n"
          ]
        },
        {
          "output_type": "stream",
          "name": "stderr",
          "text": [
            "Batch generating: 100%|██████████| 34/34 [02:37<00:00,  4.62s/it]\n"
          ]
        },
        {
          "output_type": "stream",
          "name": "stdout",
          "text": [
            "[INFO] Loading test JSON file: /content/test.json.\n",
            "[INFO] Found 1063 images in the zip file.\n",
            "[INFO] Checking if all image paths from the test JSON file are present in the zip file.\n",
            "[INFO] Loading CLIP model: ViT-B-32-quickgelu with pretrained weights: openai.\n",
            "[INFO] Calculating CLIP scores for 1063 images...\n"
          ]
        },
        {
          "output_type": "stream",
          "name": "stderr",
          "text": [
            "100%|██████████| 34/34 [00:02<00:00, 16.46it/s]\n"
          ]
        },
        {
          "output_type": "stream",
          "name": "stdout",
          "text": [
            "CLIP Image-Text Score: 0.299644\n",
            "[INFO] Found 1063 images in the zip file.\n",
            "[INFO] Generating Inception model features...\n"
          ]
        },
        {
          "output_type": "stream",
          "name": "stderr",
          "text": []
        },
        {
          "output_type": "stream",
          "name": "stdout",
          "text": [
            "[INFO] Calculating FID score...\n",
            "[INFO] FID score: 62.4425.\n",
            "✅ Epoch 20 scores:\n",
            "  FID: 62.4425\n",
            "  CLIP Image-Text Score: 0.2996\n",
            "\n",
            "🎯 Epoch 21: Generating images...\n",
            "🔍 Loading checkpoint: /content/drive/MyDrive/DDIM11/ckpt/checkpoint_epoch21.pt\n",
            "✅ Using EMA weights\n",
            "🚀 Start batch inference: 1063 samples | Batch size=32\n"
          ]
        },
        {
          "output_type": "stream",
          "name": "stderr",
          "text": [
            "Batch generating: 100%|██████████| 34/34 [02:37<00:00,  4.62s/it]\n"
          ]
        },
        {
          "output_type": "stream",
          "name": "stdout",
          "text": [
            "[INFO] Loading test JSON file: /content/test.json.\n",
            "[INFO] Found 1063 images in the zip file.\n",
            "[INFO] Checking if all image paths from the test JSON file are present in the zip file.\n",
            "[INFO] Loading CLIP model: ViT-B-32-quickgelu with pretrained weights: openai.\n",
            "[INFO] Calculating CLIP scores for 1063 images...\n"
          ]
        },
        {
          "output_type": "stream",
          "name": "stderr",
          "text": [
            "100%|██████████| 34/34 [00:01<00:00, 17.24it/s]\n"
          ]
        },
        {
          "output_type": "stream",
          "name": "stdout",
          "text": [
            "CLIP Image-Text Score: 0.300317\n",
            "[INFO] Found 1063 images in the zip file.\n",
            "[INFO] Generating Inception model features...\n"
          ]
        },
        {
          "output_type": "stream",
          "name": "stderr",
          "text": []
        },
        {
          "output_type": "stream",
          "name": "stdout",
          "text": [
            "[INFO] Calculating FID score...\n",
            "[INFO] FID score: 61.3854.\n",
            "✅ Epoch 21 scores:\n",
            "  FID: 61.3854\n",
            "  CLIP Image-Text Score: 0.3003\n",
            "\n",
            "🎯 Epoch 22: Generating images...\n",
            "🔍 Loading checkpoint: /content/drive/MyDrive/DDIM11/ckpt/checkpoint_epoch22.pt\n",
            "✅ Using EMA weights\n",
            "🚀 Start batch inference: 1063 samples | Batch size=32\n"
          ]
        },
        {
          "output_type": "stream",
          "name": "stderr",
          "text": [
            "Batch generating: 100%|██████████| 34/34 [02:37<00:00,  4.62s/it]\n"
          ]
        },
        {
          "output_type": "stream",
          "name": "stdout",
          "text": [
            "[INFO] Loading test JSON file: /content/test.json.\n",
            "[INFO] Found 1063 images in the zip file.\n",
            "[INFO] Checking if all image paths from the test JSON file are present in the zip file.\n",
            "[INFO] Loading CLIP model: ViT-B-32-quickgelu with pretrained weights: openai.\n",
            "[INFO] Calculating CLIP scores for 1063 images...\n"
          ]
        },
        {
          "output_type": "stream",
          "name": "stderr",
          "text": [
            "100%|██████████| 34/34 [00:02<00:00, 16.68it/s]\n"
          ]
        },
        {
          "output_type": "stream",
          "name": "stdout",
          "text": [
            "CLIP Image-Text Score: 0.300588\n",
            "[INFO] Found 1063 images in the zip file.\n",
            "[INFO] Generating Inception model features...\n"
          ]
        },
        {
          "output_type": "stream",
          "name": "stderr",
          "text": []
        },
        {
          "output_type": "stream",
          "name": "stdout",
          "text": [
            "[INFO] Calculating FID score...\n",
            "[INFO] FID score: 62.9043.\n",
            "✅ Epoch 22 scores:\n",
            "  FID: 62.9043\n",
            "  CLIP Image-Text Score: 0.3006\n",
            "\n",
            "🎯 Epoch 23: Generating images...\n",
            "🔍 Loading checkpoint: /content/drive/MyDrive/DDIM11/ckpt/checkpoint_epoch23.pt\n",
            "✅ Using EMA weights\n",
            "🚀 Start batch inference: 1063 samples | Batch size=32\n"
          ]
        },
        {
          "output_type": "stream",
          "name": "stderr",
          "text": [
            "Batch generating: 100%|██████████| 34/34 [02:37<00:00,  4.63s/it]\n"
          ]
        },
        {
          "output_type": "stream",
          "name": "stdout",
          "text": [
            "[INFO] Loading test JSON file: /content/test.json.\n",
            "[INFO] Found 1063 images in the zip file.\n",
            "[INFO] Checking if all image paths from the test JSON file are present in the zip file.\n",
            "[INFO] Loading CLIP model: ViT-B-32-quickgelu with pretrained weights: openai.\n",
            "[INFO] Calculating CLIP scores for 1063 images...\n"
          ]
        },
        {
          "output_type": "stream",
          "name": "stderr",
          "text": [
            "100%|██████████| 34/34 [00:01<00:00, 17.01it/s]\n"
          ]
        },
        {
          "output_type": "stream",
          "name": "stdout",
          "text": [
            "CLIP Image-Text Score: 0.300291\n",
            "[INFO] Found 1063 images in the zip file.\n",
            "[INFO] Generating Inception model features...\n"
          ]
        },
        {
          "output_type": "stream",
          "name": "stderr",
          "text": []
        },
        {
          "output_type": "stream",
          "name": "stdout",
          "text": [
            "[INFO] Calculating FID score...\n",
            "[INFO] FID score: 62.7593.\n",
            "✅ Epoch 23 scores:\n",
            "  FID: 62.7593\n",
            "  CLIP Image-Text Score: 0.3003\n",
            "\n",
            "🎯 Epoch 24: Generating images...\n",
            "🔍 Loading checkpoint: /content/drive/MyDrive/DDIM11/ckpt/checkpoint_epoch24.pt\n",
            "✅ Using EMA weights\n",
            "🚀 Start batch inference: 1063 samples | Batch size=32\n"
          ]
        },
        {
          "output_type": "stream",
          "name": "stderr",
          "text": [
            "Batch generating: 100%|██████████| 34/34 [02:37<00:00,  4.62s/it]\n"
          ]
        },
        {
          "output_type": "stream",
          "name": "stdout",
          "text": [
            "[INFO] Loading test JSON file: /content/test.json.\n",
            "[INFO] Found 1063 images in the zip file.\n",
            "[INFO] Checking if all image paths from the test JSON file are present in the zip file.\n",
            "[INFO] Loading CLIP model: ViT-B-32-quickgelu with pretrained weights: openai.\n",
            "[INFO] Calculating CLIP scores for 1063 images...\n"
          ]
        },
        {
          "output_type": "stream",
          "name": "stderr",
          "text": [
            "100%|██████████| 34/34 [00:02<00:00, 16.75it/s]\n"
          ]
        },
        {
          "output_type": "stream",
          "name": "stdout",
          "text": [
            "CLIP Image-Text Score: 0.300935\n",
            "[INFO] Found 1063 images in the zip file.\n",
            "[INFO] Generating Inception model features...\n"
          ]
        },
        {
          "output_type": "stream",
          "name": "stderr",
          "text": []
        },
        {
          "output_type": "stream",
          "name": "stdout",
          "text": [
            "[INFO] Calculating FID score...\n",
            "[INFO] FID score: 61.7875.\n",
            "✅ Epoch 24 scores:\n",
            "  FID: 61.7875\n",
            "  CLIP Image-Text Score: 0.3009\n",
            "\n",
            "🎯 Epoch 25: Generating images...\n",
            "🔍 Loading checkpoint: /content/drive/MyDrive/DDIM11/ckpt/checkpoint_epoch25.pt\n",
            "✅ Using EMA weights\n",
            "🚀 Start batch inference: 1063 samples | Batch size=32\n"
          ]
        },
        {
          "output_type": "stream",
          "name": "stderr",
          "text": [
            "Batch generating: 100%|██████████| 34/34 [02:37<00:00,  4.63s/it]\n"
          ]
        },
        {
          "output_type": "stream",
          "name": "stdout",
          "text": [
            "[INFO] Loading test JSON file: /content/test.json.\n",
            "[INFO] Found 1063 images in the zip file.\n",
            "[INFO] Checking if all image paths from the test JSON file are present in the zip file.\n",
            "[INFO] Loading CLIP model: ViT-B-32-quickgelu with pretrained weights: openai.\n",
            "[INFO] Calculating CLIP scores for 1063 images...\n"
          ]
        },
        {
          "output_type": "stream",
          "name": "stderr",
          "text": [
            "100%|██████████| 34/34 [00:02<00:00, 16.66it/s]\n"
          ]
        },
        {
          "output_type": "stream",
          "name": "stdout",
          "text": [
            "CLIP Image-Text Score: 0.299705\n",
            "[INFO] Found 1063 images in the zip file.\n",
            "[INFO] Generating Inception model features...\n"
          ]
        },
        {
          "output_type": "stream",
          "name": "stderr",
          "text": []
        },
        {
          "output_type": "stream",
          "name": "stdout",
          "text": [
            "[INFO] Calculating FID score...\n",
            "[INFO] FID score: 60.6018.\n",
            "✅ Epoch 25 scores:\n",
            "  FID: 60.6018\n",
            "  CLIP Image-Text Score: 0.2997\n",
            "\n",
            "🎯 Epoch 26: Generating images...\n",
            "🔍 Loading checkpoint: /content/drive/MyDrive/DDIM11/ckpt/checkpoint_epoch26.pt\n",
            "✅ Using EMA weights\n",
            "🚀 Start batch inference: 1063 samples | Batch size=32\n"
          ]
        },
        {
          "output_type": "stream",
          "name": "stderr",
          "text": [
            "Batch generating: 100%|██████████| 34/34 [02:37<00:00,  4.63s/it]\n"
          ]
        },
        {
          "output_type": "stream",
          "name": "stdout",
          "text": [
            "[INFO] Loading test JSON file: /content/test.json.\n",
            "[INFO] Found 1063 images in the zip file.\n",
            "[INFO] Checking if all image paths from the test JSON file are present in the zip file.\n",
            "[INFO] Loading CLIP model: ViT-B-32-quickgelu with pretrained weights: openai.\n",
            "[INFO] Calculating CLIP scores for 1063 images...\n"
          ]
        },
        {
          "output_type": "stream",
          "name": "stderr",
          "text": [
            "100%|██████████| 34/34 [00:01<00:00, 17.30it/s]\n"
          ]
        },
        {
          "output_type": "stream",
          "name": "stdout",
          "text": [
            "CLIP Image-Text Score: 0.299878\n",
            "[INFO] Found 1063 images in the zip file.\n",
            "[INFO] Generating Inception model features...\n"
          ]
        },
        {
          "output_type": "stream",
          "name": "stderr",
          "text": []
        },
        {
          "output_type": "stream",
          "name": "stdout",
          "text": [
            "[INFO] Calculating FID score...\n",
            "[INFO] FID score: 61.8255.\n",
            "✅ Epoch 26 scores:\n",
            "  FID: 61.8255\n",
            "  CLIP Image-Text Score: 0.2999\n",
            "\n",
            "🎯 Epoch 27: Generating images...\n",
            "🔍 Loading checkpoint: /content/drive/MyDrive/DDIM11/ckpt/checkpoint_epoch27.pt\n",
            "✅ Using EMA weights\n",
            "🚀 Start batch inference: 1063 samples | Batch size=32\n"
          ]
        },
        {
          "output_type": "stream",
          "name": "stderr",
          "text": [
            "Batch generating: 100%|██████████| 34/34 [02:36<00:00,  4.62s/it]\n"
          ]
        },
        {
          "output_type": "stream",
          "name": "stdout",
          "text": [
            "[INFO] Loading test JSON file: /content/test.json.\n",
            "[INFO] Found 1063 images in the zip file.\n",
            "[INFO] Checking if all image paths from the test JSON file are present in the zip file.\n",
            "[INFO] Loading CLIP model: ViT-B-32-quickgelu with pretrained weights: openai.\n",
            "[INFO] Calculating CLIP scores for 1063 images...\n"
          ]
        },
        {
          "output_type": "stream",
          "name": "stderr",
          "text": [
            "100%|██████████| 34/34 [00:01<00:00, 17.31it/s]\n"
          ]
        },
        {
          "output_type": "stream",
          "name": "stdout",
          "text": [
            "CLIP Image-Text Score: 0.300026\n",
            "[INFO] Found 1063 images in the zip file.\n",
            "[INFO] Generating Inception model features...\n"
          ]
        },
        {
          "output_type": "stream",
          "name": "stderr",
          "text": []
        },
        {
          "output_type": "stream",
          "name": "stdout",
          "text": [
            "[INFO] Calculating FID score...\n",
            "[INFO] FID score: 59.8592.\n",
            "✅ Epoch 27 scores:\n",
            "  FID: 59.8592\n",
            "  CLIP Image-Text Score: 0.3000\n",
            "\n",
            "🎯 Epoch 28: Generating images...\n",
            "🔍 Loading checkpoint: /content/drive/MyDrive/DDIM11/ckpt/checkpoint_epoch28.pt\n",
            "✅ Using EMA weights\n",
            "🚀 Start batch inference: 1063 samples | Batch size=32\n"
          ]
        },
        {
          "output_type": "stream",
          "name": "stderr",
          "text": [
            "Batch generating: 100%|██████████| 34/34 [02:37<00:00,  4.63s/it]\n"
          ]
        },
        {
          "output_type": "stream",
          "name": "stdout",
          "text": [
            "[INFO] Loading test JSON file: /content/test.json.\n",
            "[INFO] Found 1063 images in the zip file.\n",
            "[INFO] Checking if all image paths from the test JSON file are present in the zip file.\n",
            "[INFO] Loading CLIP model: ViT-B-32-quickgelu with pretrained weights: openai.\n",
            "[INFO] Calculating CLIP scores for 1063 images...\n"
          ]
        },
        {
          "output_type": "stream",
          "name": "stderr",
          "text": [
            "100%|██████████| 34/34 [00:01<00:00, 17.21it/s]\n"
          ]
        },
        {
          "output_type": "stream",
          "name": "stdout",
          "text": [
            "CLIP Image-Text Score: 0.301456\n",
            "[INFO] Found 1063 images in the zip file.\n",
            "[INFO] Generating Inception model features...\n"
          ]
        },
        {
          "output_type": "stream",
          "name": "stderr",
          "text": []
        },
        {
          "output_type": "stream",
          "name": "stdout",
          "text": [
            "[INFO] Calculating FID score...\n",
            "[INFO] FID score: 59.8843.\n",
            "✅ Epoch 28 scores:\n",
            "  FID: 59.8843\n",
            "  CLIP Image-Text Score: 0.3015\n",
            "\n",
            "🎯 Epoch 29: Generating images...\n",
            "🔍 Loading checkpoint: /content/drive/MyDrive/DDIM11/ckpt/checkpoint_epoch29.pt\n",
            "✅ Using EMA weights\n",
            "🚀 Start batch inference: 1063 samples | Batch size=32\n"
          ]
        },
        {
          "output_type": "stream",
          "name": "stderr",
          "text": [
            "Batch generating: 100%|██████████| 34/34 [02:37<00:00,  4.63s/it]\n"
          ]
        },
        {
          "output_type": "stream",
          "name": "stdout",
          "text": [
            "[INFO] Loading test JSON file: /content/test.json.\n",
            "[INFO] Found 1063 images in the zip file.\n",
            "[INFO] Checking if all image paths from the test JSON file are present in the zip file.\n",
            "[INFO] Loading CLIP model: ViT-B-32-quickgelu with pretrained weights: openai.\n",
            "[INFO] Calculating CLIP scores for 1063 images...\n"
          ]
        },
        {
          "output_type": "stream",
          "name": "stderr",
          "text": [
            "100%|██████████| 34/34 [00:02<00:00, 16.86it/s]\n"
          ]
        },
        {
          "output_type": "stream",
          "name": "stdout",
          "text": [
            "CLIP Image-Text Score: 0.300325\n",
            "[INFO] Found 1063 images in the zip file.\n",
            "[INFO] Generating Inception model features...\n"
          ]
        },
        {
          "output_type": "stream",
          "name": "stderr",
          "text": []
        },
        {
          "output_type": "stream",
          "name": "stdout",
          "text": [
            "[INFO] Calculating FID score...\n",
            "[INFO] FID score: 61.3936.\n",
            "✅ Epoch 29 scores:\n",
            "  FID: 61.3936\n",
            "  CLIP Image-Text Score: 0.3003\n",
            "\n",
            "🎯 Epoch 30: Generating images...\n",
            "🔍 Loading checkpoint: /content/drive/MyDrive/DDIM11/ckpt/checkpoint_epoch30.pt\n",
            "✅ Using EMA weights\n",
            "🚀 Start batch inference: 1063 samples | Batch size=32\n"
          ]
        },
        {
          "output_type": "stream",
          "name": "stderr",
          "text": [
            "Batch generating: 100%|██████████| 34/34 [02:37<00:00,  4.63s/it]\n"
          ]
        },
        {
          "output_type": "stream",
          "name": "stdout",
          "text": [
            "[INFO] Loading test JSON file: /content/test.json.\n",
            "[INFO] Found 1063 images in the zip file.\n",
            "[INFO] Checking if all image paths from the test JSON file are present in the zip file.\n",
            "[INFO] Loading CLIP model: ViT-B-32-quickgelu with pretrained weights: openai.\n",
            "[INFO] Calculating CLIP scores for 1063 images...\n"
          ]
        },
        {
          "output_type": "stream",
          "name": "stderr",
          "text": [
            "100%|██████████| 34/34 [00:02<00:00, 16.86it/s]\n"
          ]
        },
        {
          "output_type": "stream",
          "name": "stdout",
          "text": [
            "CLIP Image-Text Score: 0.301427\n",
            "[INFO] Found 1063 images in the zip file.\n",
            "[INFO] Generating Inception model features...\n"
          ]
        },
        {
          "output_type": "stream",
          "name": "stderr",
          "text": []
        },
        {
          "output_type": "stream",
          "name": "stdout",
          "text": [
            "[INFO] Calculating FID score...\n",
            "[INFO] FID score: 60.6765.\n",
            "✅ Epoch 30 scores:\n",
            "  FID: 60.6765\n",
            "  CLIP Image-Text Score: 0.3014\n",
            "\n",
            "🎯 Epoch 31: Generating images...\n",
            "🔍 Loading checkpoint: /content/drive/MyDrive/DDIM11/ckpt/checkpoint_epoch31.pt\n",
            "✅ Using EMA weights\n",
            "🚀 Start batch inference: 1063 samples | Batch size=32\n"
          ]
        },
        {
          "output_type": "stream",
          "name": "stderr",
          "text": [
            "Batch generating: 100%|██████████| 34/34 [02:37<00:00,  4.63s/it]\n"
          ]
        },
        {
          "output_type": "stream",
          "name": "stdout",
          "text": [
            "[INFO] Loading test JSON file: /content/test.json.\n",
            "[INFO] Found 1063 images in the zip file.\n",
            "[INFO] Checking if all image paths from the test JSON file are present in the zip file.\n",
            "[INFO] Loading CLIP model: ViT-B-32-quickgelu with pretrained weights: openai.\n",
            "[INFO] Calculating CLIP scores for 1063 images...\n"
          ]
        },
        {
          "output_type": "stream",
          "name": "stderr",
          "text": [
            "100%|██████████| 34/34 [00:01<00:00, 17.30it/s]\n"
          ]
        },
        {
          "output_type": "stream",
          "name": "stdout",
          "text": [
            "CLIP Image-Text Score: 0.300370\n",
            "[INFO] Found 1063 images in the zip file.\n",
            "[INFO] Generating Inception model features...\n"
          ]
        },
        {
          "output_type": "stream",
          "name": "stderr",
          "text": []
        },
        {
          "output_type": "stream",
          "name": "stdout",
          "text": [
            "[INFO] Calculating FID score...\n",
            "[INFO] FID score: 60.8665.\n",
            "✅ Epoch 31 scores:\n",
            "  FID: 60.8665\n",
            "  CLIP Image-Text Score: 0.3004\n",
            "\n",
            "🎯 Epoch 32: Generating images...\n",
            "🔍 Loading checkpoint: /content/drive/MyDrive/DDIM11/ckpt/checkpoint_epoch32.pt\n",
            "✅ Using EMA weights\n",
            "🚀 Start batch inference: 1063 samples | Batch size=32\n"
          ]
        },
        {
          "output_type": "stream",
          "name": "stderr",
          "text": [
            "Batch generating: 100%|██████████| 34/34 [02:37<00:00,  4.62s/it]\n"
          ]
        },
        {
          "output_type": "stream",
          "name": "stdout",
          "text": [
            "[INFO] Loading test JSON file: /content/test.json.\n",
            "[INFO] Found 1063 images in the zip file.\n",
            "[INFO] Checking if all image paths from the test JSON file are present in the zip file.\n",
            "[INFO] Loading CLIP model: ViT-B-32-quickgelu with pretrained weights: openai.\n",
            "[INFO] Calculating CLIP scores for 1063 images...\n"
          ]
        },
        {
          "output_type": "stream",
          "name": "stderr",
          "text": [
            "100%|██████████| 34/34 [00:02<00:00, 16.92it/s]\n"
          ]
        },
        {
          "output_type": "stream",
          "name": "stdout",
          "text": [
            "CLIP Image-Text Score: 0.300352\n",
            "[INFO] Found 1063 images in the zip file.\n",
            "[INFO] Generating Inception model features...\n"
          ]
        },
        {
          "output_type": "stream",
          "name": "stderr",
          "text": []
        },
        {
          "output_type": "stream",
          "name": "stdout",
          "text": [
            "[INFO] Calculating FID score...\n",
            "[INFO] FID score: 59.9263.\n",
            "✅ Epoch 32 scores:\n",
            "  FID: 59.9263\n",
            "  CLIP Image-Text Score: 0.3004\n",
            "\n",
            "🎯 Epoch 33: Generating images...\n",
            "🔍 Loading checkpoint: /content/drive/MyDrive/DDIM11/ckpt/checkpoint_epoch33.pt\n",
            "✅ Using EMA weights\n",
            "🚀 Start batch inference: 1063 samples | Batch size=32\n"
          ]
        },
        {
          "output_type": "stream",
          "name": "stderr",
          "text": [
            "Batch generating: 100%|██████████| 34/34 [02:37<00:00,  4.62s/it]\n"
          ]
        },
        {
          "output_type": "stream",
          "name": "stdout",
          "text": [
            "[INFO] Loading test JSON file: /content/test.json.\n",
            "[INFO] Found 1063 images in the zip file.\n",
            "[INFO] Checking if all image paths from the test JSON file are present in the zip file.\n",
            "[INFO] Loading CLIP model: ViT-B-32-quickgelu with pretrained weights: openai.\n",
            "[INFO] Calculating CLIP scores for 1063 images...\n"
          ]
        },
        {
          "output_type": "stream",
          "name": "stderr",
          "text": [
            "100%|██████████| 34/34 [00:01<00:00, 17.27it/s]\n"
          ]
        },
        {
          "output_type": "stream",
          "name": "stdout",
          "text": [
            "CLIP Image-Text Score: 0.299981\n",
            "[INFO] Found 1063 images in the zip file.\n",
            "[INFO] Generating Inception model features...\n"
          ]
        },
        {
          "output_type": "stream",
          "name": "stderr",
          "text": []
        },
        {
          "output_type": "stream",
          "name": "stdout",
          "text": [
            "[INFO] Calculating FID score...\n",
            "[INFO] FID score: 59.6454.\n",
            "✅ Epoch 33 scores:\n",
            "  FID: 59.6454\n",
            "  CLIP Image-Text Score: 0.3000\n",
            "\n",
            "🎯 Epoch 34: Generating images...\n",
            "🔍 Loading checkpoint: /content/drive/MyDrive/DDIM11/ckpt/checkpoint_epoch34.pt\n",
            "✅ Using EMA weights\n",
            "🚀 Start batch inference: 1063 samples | Batch size=32\n"
          ]
        },
        {
          "output_type": "stream",
          "name": "stderr",
          "text": [
            "Batch generating: 100%|██████████| 34/34 [02:36<00:00,  4.62s/it]\n"
          ]
        },
        {
          "output_type": "stream",
          "name": "stdout",
          "text": [
            "[INFO] Loading test JSON file: /content/test.json.\n",
            "[INFO] Found 1063 images in the zip file.\n",
            "[INFO] Checking if all image paths from the test JSON file are present in the zip file.\n",
            "[INFO] Loading CLIP model: ViT-B-32-quickgelu with pretrained weights: openai.\n",
            "[INFO] Calculating CLIP scores for 1063 images...\n"
          ]
        },
        {
          "output_type": "stream",
          "name": "stderr",
          "text": [
            "100%|██████████| 34/34 [00:02<00:00, 16.74it/s]\n"
          ]
        },
        {
          "output_type": "stream",
          "name": "stdout",
          "text": [
            "CLIP Image-Text Score: 0.300830\n",
            "[INFO] Found 1063 images in the zip file.\n",
            "[INFO] Generating Inception model features...\n"
          ]
        },
        {
          "output_type": "stream",
          "name": "stderr",
          "text": []
        },
        {
          "output_type": "stream",
          "name": "stdout",
          "text": [
            "[INFO] Calculating FID score...\n",
            "[INFO] FID score: 59.7002.\n",
            "✅ Epoch 34 scores:\n",
            "  FID: 59.7002\n",
            "  CLIP Image-Text Score: 0.3008\n",
            "\n",
            "🎯 Epoch 35: Generating images...\n",
            "🔍 Loading checkpoint: /content/drive/MyDrive/DDIM11/ckpt/checkpoint_epoch35.pt\n",
            "✅ Using EMA weights\n",
            "🚀 Start batch inference: 1063 samples | Batch size=32\n"
          ]
        },
        {
          "output_type": "stream",
          "name": "stderr",
          "text": [
            "Batch generating: 100%|██████████| 34/34 [02:37<00:00,  4.62s/it]\n"
          ]
        },
        {
          "output_type": "stream",
          "name": "stdout",
          "text": [
            "[INFO] Loading test JSON file: /content/test.json.\n",
            "[INFO] Found 1063 images in the zip file.\n",
            "[INFO] Checking if all image paths from the test JSON file are present in the zip file.\n",
            "[INFO] Loading CLIP model: ViT-B-32-quickgelu with pretrained weights: openai.\n",
            "[INFO] Calculating CLIP scores for 1063 images...\n"
          ]
        },
        {
          "output_type": "stream",
          "name": "stderr",
          "text": [
            "100%|██████████| 34/34 [00:02<00:00, 16.86it/s]\n"
          ]
        },
        {
          "output_type": "stream",
          "name": "stdout",
          "text": [
            "CLIP Image-Text Score: 0.299468\n",
            "[INFO] Found 1063 images in the zip file.\n",
            "[INFO] Generating Inception model features...\n"
          ]
        },
        {
          "output_type": "stream",
          "name": "stderr",
          "text": []
        },
        {
          "output_type": "stream",
          "name": "stdout",
          "text": [
            "[INFO] Calculating FID score...\n",
            "[INFO] FID score: 59.1533.\n",
            "✅ Epoch 35 scores:\n",
            "  FID: 59.1533\n",
            "  CLIP Image-Text Score: 0.2995\n",
            "\n",
            "🎯 Epoch 36: Generating images...\n",
            "🔍 Loading checkpoint: /content/drive/MyDrive/DDIM11/ckpt/checkpoint_epoch36.pt\n",
            "✅ Using EMA weights\n",
            "🚀 Start batch inference: 1063 samples | Batch size=32\n"
          ]
        },
        {
          "output_type": "stream",
          "name": "stderr",
          "text": [
            "Batch generating: 100%|██████████| 34/34 [02:37<00:00,  4.62s/it]\n"
          ]
        },
        {
          "output_type": "stream",
          "name": "stdout",
          "text": [
            "[INFO] Loading test JSON file: /content/test.json.\n",
            "[INFO] Found 1063 images in the zip file.\n",
            "[INFO] Checking if all image paths from the test JSON file are present in the zip file.\n",
            "[INFO] Loading CLIP model: ViT-B-32-quickgelu with pretrained weights: openai.\n",
            "[INFO] Calculating CLIP scores for 1063 images...\n"
          ]
        },
        {
          "output_type": "stream",
          "name": "stderr",
          "text": [
            "100%|██████████| 34/34 [00:01<00:00, 17.27it/s]\n"
          ]
        },
        {
          "output_type": "stream",
          "name": "stdout",
          "text": [
            "CLIP Image-Text Score: 0.299896\n",
            "[INFO] Found 1063 images in the zip file.\n",
            "[INFO] Generating Inception model features...\n"
          ]
        },
        {
          "output_type": "stream",
          "name": "stderr",
          "text": []
        },
        {
          "output_type": "stream",
          "name": "stdout",
          "text": [
            "[INFO] Calculating FID score...\n",
            "[INFO] FID score: 59.4649.\n",
            "✅ Epoch 36 scores:\n",
            "  FID: 59.4649\n",
            "  CLIP Image-Text Score: 0.2999\n",
            "\n",
            "🎯 Epoch 38: Generating images...\n",
            "🔍 Loading checkpoint: /content/drive/MyDrive/DDIM11/ckpt/checkpoint_epoch38.pt\n",
            "✅ Using EMA weights\n",
            "🚀 Start batch inference: 1063 samples | Batch size=32\n"
          ]
        },
        {
          "output_type": "stream",
          "name": "stderr",
          "text": [
            "Batch generating: 100%|██████████| 34/34 [02:37<00:00,  4.62s/it]\n"
          ]
        },
        {
          "output_type": "stream",
          "name": "stdout",
          "text": [
            "[INFO] Loading test JSON file: /content/test.json.\n",
            "[INFO] Found 1063 images in the zip file.\n",
            "[INFO] Checking if all image paths from the test JSON file are present in the zip file.\n",
            "[INFO] Loading CLIP model: ViT-B-32-quickgelu with pretrained weights: openai.\n",
            "[INFO] Calculating CLIP scores for 1063 images...\n"
          ]
        },
        {
          "output_type": "stream",
          "name": "stderr",
          "text": [
            "100%|██████████| 34/34 [00:02<00:00, 16.68it/s]\n"
          ]
        },
        {
          "output_type": "stream",
          "name": "stdout",
          "text": [
            "CLIP Image-Text Score: 0.299532\n",
            "[INFO] Found 1063 images in the zip file.\n",
            "[INFO] Generating Inception model features...\n"
          ]
        },
        {
          "output_type": "stream",
          "name": "stderr",
          "text": []
        },
        {
          "output_type": "stream",
          "name": "stdout",
          "text": [
            "[INFO] Calculating FID score...\n",
            "[INFO] FID score: 59.9745.\n",
            "✅ Epoch 38 scores:\n",
            "  FID: 59.9745\n",
            "  CLIP Image-Text Score: 0.2995\n",
            "\n",
            "🎯 Epoch 40: Generating images...\n",
            "🔍 Loading checkpoint: /content/drive/MyDrive/DDIM11/ckpt/checkpoint_epoch40.pt\n",
            "✅ Using EMA weights\n",
            "🚀 Start batch inference: 1063 samples | Batch size=32\n"
          ]
        },
        {
          "output_type": "stream",
          "name": "stderr",
          "text": [
            "Batch generating: 100%|██████████| 34/34 [02:37<00:00,  4.62s/it]\n"
          ]
        },
        {
          "output_type": "stream",
          "name": "stdout",
          "text": [
            "[INFO] Loading test JSON file: /content/test.json.\n",
            "[INFO] Found 1063 images in the zip file.\n",
            "[INFO] Checking if all image paths from the test JSON file are present in the zip file.\n",
            "[INFO] Loading CLIP model: ViT-B-32-quickgelu with pretrained weights: openai.\n",
            "[INFO] Calculating CLIP scores for 1063 images...\n"
          ]
        },
        {
          "output_type": "stream",
          "name": "stderr",
          "text": [
            "100%|██████████| 34/34 [00:02<00:00, 16.13it/s]\n"
          ]
        },
        {
          "output_type": "stream",
          "name": "stdout",
          "text": [
            "CLIP Image-Text Score: 0.298816\n",
            "[INFO] Found 1063 images in the zip file.\n",
            "[INFO] Generating Inception model features...\n"
          ]
        },
        {
          "output_type": "stream",
          "name": "stderr",
          "text": []
        },
        {
          "output_type": "stream",
          "name": "stdout",
          "text": [
            "[INFO] Calculating FID score...\n",
            "[INFO] FID score: 60.2420.\n",
            "✅ Epoch 40 scores:\n",
            "  FID: 60.2420\n",
            "  CLIP Image-Text Score: 0.2988\n",
            "\n",
            "🎯 Epoch 42: Generating images...\n",
            "🔍 Loading checkpoint: /content/drive/MyDrive/DDIM11/ckpt/checkpoint_epoch42.pt\n",
            "✅ Using EMA weights\n",
            "🚀 Start batch inference: 1063 samples | Batch size=32\n"
          ]
        },
        {
          "output_type": "stream",
          "name": "stderr",
          "text": [
            "Batch generating: 100%|██████████| 34/34 [02:37<00:00,  4.62s/it]\n"
          ]
        },
        {
          "output_type": "stream",
          "name": "stdout",
          "text": [
            "[INFO] Loading test JSON file: /content/test.json.\n",
            "[INFO] Found 1063 images in the zip file.\n",
            "[INFO] Checking if all image paths from the test JSON file are present in the zip file.\n",
            "[INFO] Loading CLIP model: ViT-B-32-quickgelu with pretrained weights: openai.\n",
            "[INFO] Calculating CLIP scores for 1063 images...\n"
          ]
        },
        {
          "output_type": "stream",
          "name": "stderr",
          "text": [
            "100%|██████████| 34/34 [00:01<00:00, 17.18it/s]\n"
          ]
        },
        {
          "output_type": "stream",
          "name": "stdout",
          "text": [
            "CLIP Image-Text Score: 0.297365\n",
            "[INFO] Found 1063 images in the zip file.\n",
            "[INFO] Generating Inception model features...\n"
          ]
        },
        {
          "output_type": "stream",
          "name": "stderr",
          "text": []
        },
        {
          "output_type": "stream",
          "name": "stdout",
          "text": [
            "[INFO] Calculating FID score...\n",
            "[INFO] FID score: 59.3921.\n",
            "✅ Epoch 42 scores:\n",
            "  FID: 59.3921\n",
            "  CLIP Image-Text Score: 0.2974\n",
            "\n",
            "📊 Summary:\n",
            "Epoch 13 | FID: 68.3075 | CLIP: 0.2950\n",
            "Epoch 14 | FID: 65.9507 | CLIP: 0.2975\n",
            "Epoch 15 | FID: 65.6294 | CLIP: 0.2980\n",
            "Epoch 16 | FID: 64.1016 | CLIP: 0.2990\n",
            "Epoch 17 | FID: 64.0001 | CLIP: 0.2985\n",
            "Epoch 18 | FID: 63.0737 | CLIP: 0.2995\n",
            "Epoch 19 | FID: 62.2366 | CLIP: 0.2992\n",
            "Epoch 20 | FID: 62.4425 | CLIP: 0.2996\n",
            "Epoch 21 | FID: 61.3854 | CLIP: 0.3003\n",
            "Epoch 22 | FID: 62.9043 | CLIP: 0.3006\n",
            "Epoch 23 | FID: 62.7593 | CLIP: 0.3003\n",
            "Epoch 24 | FID: 61.7875 | CLIP: 0.3009\n",
            "Epoch 25 | FID: 60.6018 | CLIP: 0.2997\n",
            "Epoch 26 | FID: 61.8255 | CLIP: 0.2999\n",
            "Epoch 27 | FID: 59.8592 | CLIP: 0.3000\n",
            "Epoch 28 | FID: 59.8843 | CLIP: 0.3015\n",
            "Epoch 29 | FID: 61.3936 | CLIP: 0.3003\n",
            "Epoch 30 | FID: 60.6765 | CLIP: 0.3014\n",
            "Epoch 31 | FID: 60.8665 | CLIP: 0.3004\n",
            "Epoch 32 | FID: 59.9263 | CLIP: 0.3004\n",
            "Epoch 33 | FID: 59.6454 | CLIP: 0.3000\n",
            "Epoch 34 | FID: 59.7002 | CLIP: 0.3008\n",
            "Epoch 35 | FID: 59.1533 | CLIP: 0.2995\n",
            "Epoch 36 | FID: 59.4649 | CLIP: 0.2999\n",
            "Epoch 38 | FID: 59.9745 | CLIP: 0.2995\n",
            "Epoch 40 | FID: 60.2420 | CLIP: 0.2988\n",
            "Epoch 42 | FID: 59.3921 | CLIP: 0.2974\n"
          ]
        }
      ]
    },
    {
      "cell_type": "code",
      "source": [
        "# 評分資料夾路徑\n",
        "eval_dir = \"/content/generated_eval4\"\n",
        "\n",
        "# 讀取所有 scores_ep*.json\n",
        "result_list = []\n",
        "for fname in sorted(os.listdir(eval_dir)):\n",
        "    match = re.match(r\"scores_ep(\\d+)\\.json\", fname)\n",
        "    if match:\n",
        "        epoch = int(match.group(1))\n",
        "        with open(os.path.join(eval_dir, fname), \"r\") as f:\n",
        "            data = json.load(f)\n",
        "            result_list.append({\n",
        "                \"epoch\": epoch,\n",
        "                \"FID\": data.get(\"FID\", None),\n",
        "                \"CLIP\": data.get(\"CLIP Image-Text Score\", None)\n",
        "            })\n",
        "\n",
        "# 照 epoch 排序\n",
        "result_list.sort(key=lambda x: x[\"epoch\"])\n",
        "\n",
        "# 提取資料\n",
        "epochs = [r[\"epoch\"] for r in result_list]\n",
        "fid_scores = [r[\"FID\"] for r in result_list]\n",
        "clip_scores = [r[\"CLIP\"] for r in result_list]\n",
        "\n",
        "# 畫 FID vs. Epoch\n",
        "plt.figure()\n",
        "plt.plot(epochs, fid_scores, marker='o')\n",
        "plt.xlabel(\"Epoch\")\n",
        "plt.ylabel(\"FID\")\n",
        "plt.title(\"FID Score vs. Epoch\")\n",
        "plt.grid(True)\n",
        "plt.xticks(epochs)\n",
        "plt.gca().invert_yaxis()  # FID 越低越好\n",
        "plt.show()\n",
        "\n",
        "# 畫 CLIP Score vs. Epoch\n",
        "plt.figure()\n",
        "plt.plot(epochs, clip_scores, marker='o')\n",
        "plt.xlabel(\"Epoch\")\n",
        "plt.ylabel(\"CLIP Image-Text Score\")\n",
        "plt.title(\"CLIP Score vs. Epoch\")\n",
        "plt.grid(True)\n",
        "plt.xticks(epochs)\n",
        "plt.show()"
      ],
      "metadata": {
        "colab": {
          "base_uri": "https://localhost:8080/",
          "height": 927
        },
        "outputId": "ce609fd4-0289-42de-8f7f-3ac183a1416e",
        "id": "zTfImyRG7_IY"
      },
      "execution_count": null,
      "outputs": [
        {
          "output_type": "display_data",
          "data": {
            "text/plain": [
              "<Figure size 640x480 with 1 Axes>"
            ],
            "image/png": "[encoded data removed]"
          },
          "metadata": {}
        },
        {
          "output_type": "display_data",
          "data": {
            "text/plain": [
              "<Figure size 640x480 with 1 Axes>"
            ],
            "image/png": "[encoded data removed]"
          },
          "metadata": {}
        }
      ]
    },
    {
      "cell_type": "markdown",
      "source": [
        "### step=10, guidance=2"
      ],
      "metadata": {
        "id": "NBr9HBdB6s0f"
      }
    },
    {
      "cell_type": "code",
      "execution_count": null,
      "metadata": {
        "colab": {
          "base_uri": "https://localhost:8080/",
          "height": 1000,
          "referenced_widgets": [
            "35d9a9bc47fb4c3e8692a04c05c57d57",
            "66a4373ea2934bf6bb80235f89fa7eaf",
            "3b393bc7167347a7a05a0fa0f0e24dae",
            "072f479713804bee8d5246397cc38a7c",
            "8e285a37a70845baa5461d66f72159e7",
            "62b6b0ece547411997e224eb79b41971",
            "064d310bb3cb4414a22f005679ceee1f",
            "4675e4ddd802456b877d40c614a32e66",
            "3c8d60054ba94cb2ac9995f52a3da75f",
            "87a73927d9aa4760865a3af41e1f5398",
            "5635c064cf77491dbf05802ac0faa320",
            "ab1b2983461b49ea8593f91764a6dad0",
            "97b26b5fe0d54355904713cc22ba2a2c",
            "ae5fb2d2ce3c4efbaaacabc1696d06c3",
            "1376d27ce0e9492f862d0b8a628ea669",
            "5445aff87cf3488d838967ed64efa068",
            "51f58cacea7c4367b72a581c69476e26",
            "a0dd3947a5f94a8e9b5febd4ae3ba75a",
            "f0f7a1f97eab4c3f9ed98c316d628252",
            "c4834266793a47ce9c8784dcf036e2d5",
            "28ab4fb7e082452a8e321fa487391ba3",
            "dd6c5df3ac384ed2bbabbe61bcfd6522",
            "266f96c163314fe1aaf38daca936f474",
            "79d6138c18644531b407dbf142639bb8",
            "83bffb5b35284ba2927ab6796f39188a",
            "a53f10de5a474e4f933974dc72aed449",
            "5b1cc5e9f5414c25abdfe358091c38d8",
            "81feef6965dd4e05aa206e73f31592ea",
            "364ec6f9543d48d6bb9be609849429f0",
            "0fe332cf580b4e229d517ac47e60f5fb",
            "1e5c1edce00a465ba7d8d99746c72c99",
            "a43f20fcc9d2471db6e3ef706e41ce26",
            "1caea36802f34c53a8424ca657511263",
            "102364b79865474e9f237e568b92a110",
            "0a3f34cb8d8c41fba9f103405be94ac4",
            "012914016ee346dea1304de38d5eea0e",
            "9192c093587a483fb709433ad1a8fb7b",
            "483477508a7e43e78d42995734391614",
            "e2732df4abe44a0ca289b32424b2dd77",
            "15fd38e744bd49cb8a598aa65f68ed12",
            "245e5223c34d4754a23c320d61573475",
            "a0ca140566c342a19a4d4a34fd64fd76",
            "82e6a507413342c6a01392bd5ae8b624",
            "6f4a301a3d924fa3b815bfcd6774b52c",
            "4ecdda92219b4131b47ae9c8c9e80843",
            "60dc9405c59d42059eed2d376b34b53b",
            "d60570f1e78e45f6a51c0cfcda2223f4",
            "31e28e6a7de24b61a9ab164188be7acc",
            "5c6793fdc3ee4d30ba86f2d8a0bf9160",
            "d36ffbe307b641d98b423c4fbc54c5df",
            "33dbc88dc9ab4f6483c612c1585c3b08",
            "10c90d0c5ebb42dbb59e26354954398c",
            "523c5163a56548918fb1375d48310db8",
            "28af9ab5496e4a2c8b75e53d4312d2d8",
            "73bc3dc4393d49d7ac1efaae58758e97",
            "44cf3649d09943af845eef5be0645796",
            "86f47d896c2b40fea0d9a54b0852bfdb",
            "5639cbd6fd0d4d629f0074b1d937ff1a",
            "b6992a6315134db2a751684d3e055add",
            "1dfd49de332d42d7bc8b6e3af3d59700",
            "98fa35cccb0a43bd85e570e44b36339a",
            "0cad108907624d62964dd3d4a6671976",
            "17ff2d1e5c2e4d499d145b714978a40c",
            "39eb2eb427994f67a48283e74a5cf614",
            "1d65064035e44e6fb0a1f6b8021aca78",
            "9f02ba232d68450388c0d43d7b389554",
            "3392bb23097742ba8d81e335d04ff9dc",
            "32cd19237156477b8e25979ac5c0423c",
            "2ed21dba4414470eaec19da96c8cbc97",
            "a3e27999c59c4fb5b91dfe7e19e47abb",
            "77c094c5f69b43fd8b429f2687f58ef7",
            "7da2224f9b504512bcb36e731dec5c8e",
            "90778a2b362a408795c58c80eacac8f0",
            "3bf7f027f25a49e789f5054086816fcd",
            "2d9db97e622c4ef6bab1c92a3ad8029f",
            "f2b34f2b19294644934c737baa197099",
            "38db0c7e49184d2aa13ee5fc5df42009",
            "3c160d9a643f4444abae1008d3d3d840",
            "7f0307941eea4ae79b3df202379673f4",
            "6be84709757b46919e1558f36380491a",
            "6139ed8ca64e4148a0c5cbe93b38f02b",
            "5217dcd6be09415fb752e9ed7d580f58",
            "55029639fb2d435a9561cbbc1bb2fbcd",
            "e189272f58e743b5b4bf819782f5fbbd",
            "86ee5e61bfdf441f935f1bbcf1496d1e",
            "d0f6aff2d7e74b2cb0b69516a1c09524",
            "a3245b3e3b3047b9a13af7989eafbd73",
            "4adc56effd004ba39b2f29ce189890cd",
            "f0aa44260e9f4f2fb5307342b22a2cac",
            "d038335314234fc1ad6cad71d00ed592",
            "19f34c0f8834467eb313bec3f29d14b8",
            "13875959492945af8b64e7badd132ada",
            "ce0d9cb5e8794dfbb5446aedb87722b2",
            "f6c1497cb4424cd0abd8914ba0b74845",
            "e0886319cc6b4a8486388ff05a81d43a",
            "c56a9338930a4cb88befb4bb7529b35b",
            "415eea43bec249eab5ca2856987b8754",
            "b807d240e1154340b61a8fba9e1f2872",
            "c4dc5c1d3bcc4781802b3b866ac45b52",
            "a58456501391470faf8dc823ee1bc589",
            "79123f9fbf3d44adb2953afe5d919e2b",
            "19157677542d4d289d5ec2d1cd2cb51a",
            "6218e22794b346b1bbe6e0fcfcd3f7c8",
            "1c1b55ad95664fdcb883fe94cfb6ff0b",
            "e7ed2758809a41b1bf96e9e2db2df73c",
            "1974c7733fca43339cd49dd97f3a0ffe",
            "d460a8f8d0154e879681643d67f6c721",
            "9b77579927f54fb5a054a713d98d2333",
            "833c5ea4db214e8f958a3ec90b987bc9",
            "f99f82b2bf7242ab9af5e2696e51665b",
            "d9e232fbd77e4386a9bac86bd1984f95",
            "12e44af46efe42748ba38c39ea5a82e8",
            "e0bbd9dbcd58456496d865f7a0de5155",
            "a547586a6f6c4d6ca2f9f8f789423289",
            "72f1afa672a24cae858a97996595a873",
            "5697379dc4f740128490cc20d5121468",
            "dff36cf37c374098a6192f8a56d1ab17",
            "5fd51f99ef564adabab131008455ec3f",
            "def4d9abd07246ec9c26e3d642774665",
            "e64ede3882cc4db9a014c2a978f25a70",
            "4b0a5f6a6ec342e89501183eab1fc488"
          ]
        },
        "outputId": "22712b92-9bbd-4108-c92a-b4d0b47cb9f0",
        "id": "XWuVwmEAgZDU",
        "collapsed": true
      },
      "outputs": [
        {
          "output_type": "stream",
          "name": "stdout",
          "text": [
            "\n",
            "🎯 Epoch 10: Generating images...\n"
          ]
        },
        {
          "output_type": "stream",
          "name": "stderr",
          "text": [
            "/usr/local/lib/python3.11/dist-packages/huggingface_hub/utils/_auth.py:94: UserWarning: \n",
            "The secret `HF_TOKEN` does not exist in your Colab secrets.\n",
            "To authenticate with the Hugging Face Hub, create a token in your settings tab (https://huggingface.co/settings/tokens), set it as secret in your Google Colab and restart your session.\n",
            "You will be able to reuse this secret in all of your notebooks.\n",
            "Please note that authentication is recommended but still optional to access public models or datasets.\n",
            "  warnings.warn(\n"
          ]
        },
        {
          "output_type": "display_data",
          "data": {
            "text/plain": [
              "tokenizer_config.json:   0%|          | 0.00/592 [00:00<?, ?B/s]"
            ],
            "application/vnd.jupyter.widget-view+json": {
              "version_major": 2,
              "version_minor": 0,
              "model_id": "35d9a9bc47fb4c3e8692a04c05c57d57"
            }
          },
          "metadata": {}
        },
        {
          "output_type": "display_data",
          "data": {
            "text/plain": [
              "vocab.json:   0%|          | 0.00/862k [00:00<?, ?B/s]"
            ],
            "application/vnd.jupyter.widget-view+json": {
              "version_major": 2,
              "version_minor": 0,
              "model_id": "ab1b2983461b49ea8593f91764a6dad0"
            }
          },
          "metadata": {}
        },
        {
          "output_type": "display_data",
          "data": {
            "text/plain": [
              "merges.txt:   0%|          | 0.00/525k [00:00<?, ?B/s]"
            ],
            "application/vnd.jupyter.widget-view+json": {
              "version_major": 2,
              "version_minor": 0,
              "model_id": "266f96c163314fe1aaf38daca936f474"
            }
          },
          "metadata": {}
        },
        {
          "output_type": "display_data",
          "data": {
            "text/plain": [
              "special_tokens_map.json:   0%|          | 0.00/389 [00:00<?, ?B/s]"
            ],
            "application/vnd.jupyter.widget-view+json": {
              "version_major": 2,
              "version_minor": 0,
              "model_id": "102364b79865474e9f237e568b92a110"
            }
          },
          "metadata": {}
        },
        {
          "output_type": "display_data",
          "data": {
            "text/plain": [
              "tokenizer.json:   0%|          | 0.00/2.22M [00:00<?, ?B/s]"
            ],
            "application/vnd.jupyter.widget-view+json": {
              "version_major": 2,
              "version_minor": 0,
              "model_id": "4ecdda92219b4131b47ae9c8c9e80843"
            }
          },
          "metadata": {}
        },
        {
          "output_type": "display_data",
          "data": {
            "text/plain": [
              "config.json:   0%|          | 0.00/4.19k [00:00<?, ?B/s]"
            ],
            "application/vnd.jupyter.widget-view+json": {
              "version_major": 2,
              "version_minor": 0,
              "model_id": "44cf3649d09943af845eef5be0645796"
            }
          },
          "metadata": {}
        },
        {
          "output_type": "display_data",
          "data": {
            "text/plain": [
              "pytorch_model.bin:   0%|          | 0.00/605M [00:00<?, ?B/s]"
            ],
            "application/vnd.jupyter.widget-view+json": {
              "version_major": 2,
              "version_minor": 0,
              "model_id": "3392bb23097742ba8d81e335d04ff9dc"
            }
          },
          "metadata": {}
        },
        {
          "output_type": "display_data",
          "data": {
            "text/plain": [
              "model.safetensors:   0%|          | 0.00/605M [00:00<?, ?B/s]"
            ],
            "application/vnd.jupyter.widget-view+json": {
              "version_major": 2,
              "version_minor": 0,
              "model_id": "3c160d9a643f4444abae1008d3d3d840"
            }
          },
          "metadata": {}
        },
        {
          "output_type": "display_data",
          "data": {
            "text/plain": [
              "config.json:   0%|          | 0.00/551 [00:00<?, ?B/s]"
            ],
            "application/vnd.jupyter.widget-view+json": {
              "version_major": 2,
              "version_minor": 0,
              "model_id": "f0aa44260e9f4f2fb5307342b22a2cac"
            }
          },
          "metadata": {}
        },
        {
          "output_type": "display_data",
          "data": {
            "text/plain": [
              "vae/diffusion_pytorch_model.safetensors:   0%|          | 0.00/335M [00:00<?, ?B/s]"
            ],
            "application/vnd.jupyter.widget-view+json": {
              "version_major": 2,
              "version_minor": 0,
              "model_id": "a58456501391470faf8dc823ee1bc589"
            }
          },
          "metadata": {}
        },
        {
          "output_type": "stream",
          "name": "stdout",
          "text": [
            "🔍 Loading checkpoint: /content/drive/MyDrive/DDIM11/ckpt/checkpoint_epoch10.pt\n",
            "✅ Using EMA weights\n",
            "🚀 Start batch inference: 1063 samples | Batch size=32\n"
          ]
        },
        {
          "output_type": "stream",
          "name": "stderr",
          "text": [
            "Batch generating: 100%|██████████| 34/34 [02:07<00:00,  3.74s/it]\n"
          ]
        },
        {
          "output_type": "stream",
          "name": "stdout",
          "text": [
            "[INFO] Loading test JSON file: /content/test.json.\n",
            "[INFO] Found 1063 images in the zip file.\n",
            "[INFO] Checking if all image paths from the test JSON file are present in the zip file.\n",
            "[INFO] Loading CLIP model: ViT-B-32-quickgelu with pretrained weights: openai.\n"
          ]
        },
        {
          "output_type": "display_data",
          "data": {
            "text/plain": [
              "open_clip_model.safetensors:   0%|          | 0.00/605M [00:00<?, ?B/s]"
            ],
            "application/vnd.jupyter.widget-view+json": {
              "version_major": 2,
              "version_minor": 0,
              "model_id": "d9e232fbd77e4386a9bac86bd1984f95"
            }
          },
          "metadata": {}
        },
        {
          "output_type": "stream",
          "name": "stdout",
          "text": [
            "[INFO] Calculating CLIP scores for 1063 images...\n"
          ]
        },
        {
          "output_type": "stream",
          "name": "stderr",
          "text": [
            "100%|██████████| 34/34 [00:06<00:00,  4.98it/s]\n"
          ]
        },
        {
          "output_type": "stream",
          "name": "stdout",
          "text": [
            "CLIP Image-Text Score: 0.281452\n",
            "[INFO] Found 1063 images in the zip file.\n"
          ]
        },
        {
          "output_type": "stream",
          "name": "stderr",
          "text": [
            "Downloading: \"https://download.pytorch.org/models/inception_v3_google-0cc3c7bd.pth\" to /root/.cache/torch/hub/checkpoints/inception_v3_google-0cc3c7bd.pth\n",
            "100%|██████████| 104M/104M [00:00<00:00, 184MB/s] \n"
          ]
        },
        {
          "output_type": "stream",
          "name": "stdout",
          "text": [
            "[INFO] Generating Inception model features...\n"
          ]
        },
        {
          "output_type": "stream",
          "name": "stderr",
          "text": []
        },
        {
          "output_type": "stream",
          "name": "stdout",
          "text": [
            "[INFO] Calculating FID score...\n",
            "[INFO] FID score: 80.6006.\n",
            "✅ Epoch 10 scores:\n",
            "  FID: 80.6006\n",
            "  CLIP Image-Text Score: 0.2815\n",
            "\n",
            "🎯 Epoch 11: Generating images...\n",
            "🔍 Loading checkpoint: /content/drive/MyDrive/DDIM11/ckpt/checkpoint_epoch11.pt\n",
            "✅ Using EMA weights\n",
            "🚀 Start batch inference: 1063 samples | Batch size=32\n"
          ]
        },
        {
          "output_type": "stream",
          "name": "stderr",
          "text": [
            "Batch generating: 100%|██████████| 34/34 [02:02<00:00,  3.60s/it]\n"
          ]
        },
        {
          "output_type": "stream",
          "name": "stdout",
          "text": [
            "[INFO] Loading test JSON file: /content/test.json.\n",
            "[INFO] Found 1063 images in the zip file.\n",
            "[INFO] Checking if all image paths from the test JSON file are present in the zip file.\n",
            "[INFO] Loading CLIP model: ViT-B-32-quickgelu with pretrained weights: openai.\n",
            "[INFO] Calculating CLIP scores for 1063 images...\n"
          ]
        },
        {
          "output_type": "stream",
          "name": "stderr",
          "text": [
            "100%|██████████| 34/34 [00:07<00:00,  4.84it/s]\n"
          ]
        },
        {
          "output_type": "stream",
          "name": "stdout",
          "text": [
            "CLIP Image-Text Score: 0.286693\n",
            "[INFO] Found 1063 images in the zip file.\n",
            "[INFO] Generating Inception model features...\n"
          ]
        },
        {
          "output_type": "stream",
          "name": "stderr",
          "text": []
        },
        {
          "output_type": "stream",
          "name": "stdout",
          "text": [
            "[INFO] Calculating FID score...\n",
            "[INFO] FID score: 74.6403.\n",
            "✅ Epoch 11 scores:\n",
            "  FID: 74.6403\n",
            "  CLIP Image-Text Score: 0.2867\n",
            "\n",
            "🎯 Epoch 12: Generating images...\n",
            "🔍 Loading checkpoint: /content/drive/MyDrive/DDIM11/ckpt/checkpoint_epoch12.pt\n",
            "✅ Using EMA weights\n",
            "🚀 Start batch inference: 1063 samples | Batch size=32\n"
          ]
        },
        {
          "output_type": "stream",
          "name": "stderr",
          "text": [
            "Batch generating: 100%|██████████| 34/34 [02:03<00:00,  3.62s/it]\n"
          ]
        },
        {
          "output_type": "stream",
          "name": "stdout",
          "text": [
            "[INFO] Loading test JSON file: /content/test.json.\n",
            "[INFO] Found 1063 images in the zip file.\n",
            "[INFO] Checking if all image paths from the test JSON file are present in the zip file.\n",
            "[INFO] Loading CLIP model: ViT-B-32-quickgelu with pretrained weights: openai.\n",
            "[INFO] Calculating CLIP scores for 1063 images...\n"
          ]
        },
        {
          "output_type": "stream",
          "name": "stderr",
          "text": [
            "100%|██████████| 34/34 [00:07<00:00,  4.84it/s]\n"
          ]
        },
        {
          "output_type": "stream",
          "name": "stdout",
          "text": [
            "CLIP Image-Text Score: 0.288441\n",
            "[INFO] Found 1063 images in the zip file.\n",
            "[INFO] Generating Inception model features...\n"
          ]
        },
        {
          "output_type": "stream",
          "name": "stderr",
          "text": []
        },
        {
          "output_type": "stream",
          "name": "stdout",
          "text": [
            "[INFO] Calculating FID score...\n",
            "[INFO] FID score: 75.3209.\n",
            "✅ Epoch 12 scores:\n",
            "  FID: 75.3209\n",
            "  CLIP Image-Text Score: 0.2884\n",
            "\n",
            "🎯 Epoch 13: Generating images...\n",
            "🔍 Loading checkpoint: /content/drive/MyDrive/DDIM11/ckpt/checkpoint_epoch13.pt\n",
            "✅ Using EMA weights\n",
            "🚀 Start batch inference: 1063 samples | Batch size=32\n"
          ]
        },
        {
          "output_type": "stream",
          "name": "stderr",
          "text": [
            "Batch generating: 100%|██████████| 34/34 [02:02<00:00,  3.61s/it]\n"
          ]
        },
        {
          "output_type": "stream",
          "name": "stdout",
          "text": [
            "[INFO] Loading test JSON file: /content/test.json.\n",
            "[INFO] Found 1063 images in the zip file.\n",
            "[INFO] Checking if all image paths from the test JSON file are present in the zip file.\n",
            "[INFO] Loading CLIP model: ViT-B-32-quickgelu with pretrained weights: openai.\n",
            "[INFO] Calculating CLIP scores for 1063 images...\n"
          ]
        },
        {
          "output_type": "stream",
          "name": "stderr",
          "text": [
            "100%|██████████| 34/34 [00:07<00:00,  4.40it/s]\n"
          ]
        },
        {
          "output_type": "stream",
          "name": "stdout",
          "text": [
            "CLIP Image-Text Score: 0.288932\n",
            "[INFO] Found 1063 images in the zip file.\n",
            "[INFO] Generating Inception model features...\n"
          ]
        },
        {
          "output_type": "stream",
          "name": "stderr",
          "text": []
        },
        {
          "output_type": "stream",
          "name": "stdout",
          "text": [
            "[INFO] Calculating FID score...\n",
            "[INFO] FID score: 71.2050.\n",
            "✅ Epoch 13 scores:\n",
            "  FID: 71.2050\n",
            "  CLIP Image-Text Score: 0.2889\n",
            "\n",
            "🎯 Epoch 14: Generating images...\n",
            "🔍 Loading checkpoint: /content/drive/MyDrive/DDIM11/ckpt/checkpoint_epoch14.pt\n",
            "✅ Using EMA weights\n",
            "🚀 Start batch inference: 1063 samples | Batch size=32\n"
          ]
        },
        {
          "output_type": "stream",
          "name": "stderr",
          "text": [
            "Batch generating: 100%|██████████| 34/34 [02:02<00:00,  3.60s/it]\n"
          ]
        },
        {
          "output_type": "stream",
          "name": "stdout",
          "text": [
            "[INFO] Loading test JSON file: /content/test.json.\n",
            "[INFO] Found 1063 images in the zip file.\n",
            "[INFO] Checking if all image paths from the test JSON file are present in the zip file.\n",
            "[INFO] Loading CLIP model: ViT-B-32-quickgelu with pretrained weights: openai.\n",
            "[INFO] Calculating CLIP scores for 1063 images...\n"
          ]
        },
        {
          "output_type": "stream",
          "name": "stderr",
          "text": [
            "100%|██████████| 34/34 [00:06<00:00,  4.99it/s]\n"
          ]
        },
        {
          "output_type": "stream",
          "name": "stdout",
          "text": [
            "CLIP Image-Text Score: 0.292155\n",
            "[INFO] Found 1063 images in the zip file.\n",
            "[INFO] Generating Inception model features...\n"
          ]
        },
        {
          "output_type": "stream",
          "name": "stderr",
          "text": []
        },
        {
          "output_type": "stream",
          "name": "stdout",
          "text": [
            "[INFO] Calculating FID score...\n",
            "[INFO] FID score: 70.1896.\n",
            "✅ Epoch 14 scores:\n",
            "  FID: 70.1896\n",
            "  CLIP Image-Text Score: 0.2922\n",
            "\n",
            "🎯 Epoch 15: Generating images...\n",
            "🔍 Loading checkpoint: /content/drive/MyDrive/DDIM11/ckpt/checkpoint_epoch15.pt\n",
            "✅ Using EMA weights\n",
            "🚀 Start batch inference: 1063 samples | Batch size=32\n"
          ]
        },
        {
          "output_type": "stream",
          "name": "stderr",
          "text": [
            "Batch generating: 100%|██████████| 34/34 [02:03<00:00,  3.62s/it]\n"
          ]
        },
        {
          "output_type": "stream",
          "name": "stdout",
          "text": [
            "[INFO] Loading test JSON file: /content/test.json.\n",
            "[INFO] Found 1063 images in the zip file.\n",
            "[INFO] Checking if all image paths from the test JSON file are present in the zip file.\n",
            "[INFO] Loading CLIP model: ViT-B-32-quickgelu with pretrained weights: openai.\n",
            "[INFO] Calculating CLIP scores for 1063 images...\n"
          ]
        },
        {
          "output_type": "stream",
          "name": "stderr",
          "text": [
            "100%|██████████| 34/34 [00:07<00:00,  4.55it/s]\n"
          ]
        },
        {
          "output_type": "stream",
          "name": "stdout",
          "text": [
            "CLIP Image-Text Score: 0.294740\n",
            "[INFO] Found 1063 images in the zip file.\n",
            "[INFO] Generating Inception model features...\n"
          ]
        },
        {
          "output_type": "stream",
          "name": "stderr",
          "text": []
        },
        {
          "output_type": "stream",
          "name": "stdout",
          "text": [
            "[INFO] Calculating FID score...\n",
            "[INFO] FID score: 68.4553.\n",
            "✅ Epoch 15 scores:\n",
            "  FID: 68.4553\n",
            "  CLIP Image-Text Score: 0.2947\n",
            "\n",
            "🎯 Epoch 16: Generating images...\n",
            "🔍 Loading checkpoint: /content/drive/MyDrive/DDIM11/ckpt/checkpoint_epoch16.pt\n",
            "✅ Using EMA weights\n",
            "🚀 Start batch inference: 1063 samples | Batch size=32\n"
          ]
        },
        {
          "output_type": "stream",
          "name": "stderr",
          "text": [
            "Batch generating: 100%|██████████| 34/34 [02:02<00:00,  3.61s/it]\n"
          ]
        },
        {
          "output_type": "stream",
          "name": "stdout",
          "text": [
            "[INFO] Loading test JSON file: /content/test.json.\n",
            "[INFO] Found 1063 images in the zip file.\n",
            "[INFO] Checking if all image paths from the test JSON file are present in the zip file.\n",
            "[INFO] Loading CLIP model: ViT-B-32-quickgelu with pretrained weights: openai.\n",
            "[INFO] Calculating CLIP scores for 1063 images...\n"
          ]
        },
        {
          "output_type": "stream",
          "name": "stderr",
          "text": [
            "100%|██████████| 34/34 [00:06<00:00,  4.87it/s]\n"
          ]
        },
        {
          "output_type": "stream",
          "name": "stdout",
          "text": [
            "CLIP Image-Text Score: 0.294989\n",
            "[INFO] Found 1063 images in the zip file.\n",
            "[INFO] Generating Inception model features...\n"
          ]
        },
        {
          "output_type": "stream",
          "name": "stderr",
          "text": []
        },
        {
          "output_type": "stream",
          "name": "stdout",
          "text": [
            "[INFO] Calculating FID score...\n",
            "[INFO] FID score: 67.0253.\n",
            "✅ Epoch 16 scores:\n",
            "  FID: 67.0253\n",
            "  CLIP Image-Text Score: 0.2950\n",
            "\n",
            "🎯 Epoch 17: Generating images...\n",
            "🔍 Loading checkpoint: /content/drive/MyDrive/DDIM11/ckpt/checkpoint_epoch17.pt\n",
            "✅ Using EMA weights\n",
            "🚀 Start batch inference: 1063 samples | Batch size=32\n"
          ]
        },
        {
          "output_type": "stream",
          "name": "stderr",
          "text": [
            "Batch generating: 100%|██████████| 34/34 [02:01<00:00,  3.57s/it]\n"
          ]
        },
        {
          "output_type": "stream",
          "name": "stdout",
          "text": [
            "[INFO] Loading test JSON file: /content/test.json.\n",
            "[INFO] Found 1063 images in the zip file.\n",
            "[INFO] Checking if all image paths from the test JSON file are present in the zip file.\n",
            "[INFO] Loading CLIP model: ViT-B-32-quickgelu with pretrained weights: openai.\n",
            "[INFO] Calculating CLIP scores for 1063 images...\n"
          ]
        },
        {
          "output_type": "stream",
          "name": "stderr",
          "text": [
            "100%|██████████| 34/34 [00:06<00:00,  5.22it/s]\n"
          ]
        },
        {
          "output_type": "stream",
          "name": "stdout",
          "text": [
            "CLIP Image-Text Score: 0.295923\n",
            "[INFO] Found 1063 images in the zip file.\n",
            "[INFO] Generating Inception model features...\n"
          ]
        },
        {
          "output_type": "stream",
          "name": "stderr",
          "text": []
        },
        {
          "output_type": "stream",
          "name": "stdout",
          "text": [
            "[INFO] Calculating FID score...\n",
            "[INFO] FID score: 65.4684.\n",
            "✅ Epoch 17 scores:\n",
            "  FID: 65.4684\n",
            "  CLIP Image-Text Score: 0.2959\n",
            "\n",
            "🎯 Epoch 18: Generating images...\n",
            "🔍 Loading checkpoint: /content/drive/MyDrive/DDIM11/ckpt/checkpoint_epoch18.pt\n",
            "✅ Using EMA weights\n",
            "🚀 Start batch inference: 1063 samples | Batch size=32\n"
          ]
        },
        {
          "output_type": "stream",
          "name": "stderr",
          "text": [
            "Batch generating:   6%|▌         | 2/34 [00:08<02:18,  4.32s/it]\n"
          ]
        },
        {
          "output_type": "error",
          "ename": "KeyboardInterrupt",
          "evalue": "",
          "traceback": [
            "\u001b[0;31m---------------------------------------------------------------------------\u001b[0m",
            "\u001b[0;31mKeyboardInterrupt\u001b[0m                         Traceback (most recent call last)",
            "\u001b[0;32m<ipython-input-11-613041642>\u001b[0m in \u001b[0;36m<cell line: 0>\u001b[0;34m()\u001b[0m\n\u001b[1;32m     23\u001b[0m \u001b[0;34m\u001b[0m\u001b[0m\n\u001b[1;32m     24\u001b[0m     \u001b[0;31m# 推論產圖\u001b[0m\u001b[0;34m\u001b[0m\u001b[0;34m\u001b[0m\u001b[0m\n\u001b[0;32m---> 25\u001b[0;31m     test_inference(\n\u001b[0m\u001b[1;32m     26\u001b[0m         \u001b[0mckpt_path\u001b[0m\u001b[0;34m=\u001b[0m\u001b[0mckpt_path\u001b[0m\u001b[0;34m,\u001b[0m\u001b[0;34m\u001b[0m\u001b[0;34m\u001b[0m\u001b[0m\n\u001b[1;32m     27\u001b[0m         \u001b[0mtest_json_path\u001b[0m\u001b[0;34m=\u001b[0m\u001b[0mtest_json_path\u001b[0m\u001b[0;34m,\u001b[0m\u001b[0;34m\u001b[0m\u001b[0;34m\u001b[0m\u001b[0m\n",
            "\u001b[0;32m<ipython-input-9-182388421>\u001b[0m in \u001b[0;36mtest_inference\u001b[0;34m(ckpt_path, test_json_path, save_folder, device, steps, guidance_scale, batch_size)\u001b[0m\n\u001b[1;32m     80\u001b[0m         \u001b[0mfilenames\u001b[0m \u001b[0;34m=\u001b[0m \u001b[0;34m[\u001b[0m\u001b[0mitem\u001b[0m\u001b[0;34m[\u001b[0m\u001b[0;36m1\u001b[0m\u001b[0;34m]\u001b[0m\u001b[0;34m[\u001b[0m\u001b[0;34m\"image_name\"\u001b[0m\u001b[0;34m]\u001b[0m \u001b[0;32mfor\u001b[0m \u001b[0mitem\u001b[0m \u001b[0;32min\u001b[0m \u001b[0mbatch_items\u001b[0m\u001b[0;34m]\u001b[0m\u001b[0;34m\u001b[0m\u001b[0;34m\u001b[0m\u001b[0m\n\u001b[1;32m     81\u001b[0m \u001b[0;34m\u001b[0m\u001b[0m\n\u001b[0;32m---> 82\u001b[0;31m         images = generate_batch(prompts, unet, vae, tokenizer, text_encoder, device,\n\u001b[0m\u001b[1;32m     83\u001b[0m                                 steps=steps, guidance_scale=guidance_scale)\n\u001b[1;32m     84\u001b[0m         \u001b[0;32mfor\u001b[0m \u001b[0mimg\u001b[0m\u001b[0;34m,\u001b[0m \u001b[0mfname\u001b[0m \u001b[0;32min\u001b[0m \u001b[0mzip\u001b[0m\u001b[0;34m(\u001b[0m\u001b[0mimages\u001b[0m\u001b[0;34m,\u001b[0m \u001b[0mfilenames\u001b[0m\u001b[0;34m)\u001b[0m\u001b[0;34m:\u001b[0m\u001b[0;34m\u001b[0m\u001b[0;34m\u001b[0m\u001b[0m\n",
            "\u001b[0;32m/usr/local/lib/python3.11/dist-packages/torch/utils/_contextlib.py\u001b[0m in \u001b[0;36mdecorate_context\u001b[0;34m(*args, **kwargs)\u001b[0m\n\u001b[1;32m    114\u001b[0m     \u001b[0;32mdef\u001b[0m \u001b[0mdecorate_context\u001b[0m\u001b[0;34m(\u001b[0m\u001b[0;34m*\u001b[0m\u001b[0margs\u001b[0m\u001b[0;34m,\u001b[0m \u001b[0;34m**\u001b[0m\u001b[0mkwargs\u001b[0m\u001b[0;34m)\u001b[0m\u001b[0;34m:\u001b[0m\u001b[0;34m\u001b[0m\u001b[0;34m\u001b[0m\u001b[0m\n\u001b[1;32m    115\u001b[0m         \u001b[0;32mwith\u001b[0m \u001b[0mctx_factory\u001b[0m\u001b[0;34m(\u001b[0m\u001b[0;34m)\u001b[0m\u001b[0;34m:\u001b[0m\u001b[0;34m\u001b[0m\u001b[0;34m\u001b[0m\u001b[0m\n\u001b[0;32m--> 116\u001b[0;31m             \u001b[0;32mreturn\u001b[0m \u001b[0mfunc\u001b[0m\u001b[0;34m(\u001b[0m\u001b[0;34m*\u001b[0m\u001b[0margs\u001b[0m\u001b[0;34m,\u001b[0m \u001b[0;34m**\u001b[0m\u001b[0mkwargs\u001b[0m\u001b[0;34m)\u001b[0m\u001b[0;34m\u001b[0m\u001b[0;34m\u001b[0m\u001b[0m\n\u001b[0m\u001b[1;32m    117\u001b[0m \u001b[0;34m\u001b[0m\u001b[0m\n\u001b[1;32m    118\u001b[0m     \u001b[0;32mreturn\u001b[0m \u001b[0mdecorate_context\u001b[0m\u001b[0;34m\u001b[0m\u001b[0;34m\u001b[0m\u001b[0m\n",
            "\u001b[0;32m<ipython-input-9-182388421>\u001b[0m in \u001b[0;36mgenerate_batch\u001b[0;34m(prompts, unet, vae, tokenizer, text_encoder, device, steps, guidance_scale)\u001b[0m\n\u001b[1;32m     18\u001b[0m     \u001b[0;32mfor\u001b[0m \u001b[0mt\u001b[0m \u001b[0;32min\u001b[0m \u001b[0mscheduler\u001b[0m\u001b[0;34m.\u001b[0m\u001b[0mtimesteps\u001b[0m\u001b[0;34m:\u001b[0m\u001b[0;34m\u001b[0m\u001b[0;34m\u001b[0m\u001b[0m\n\u001b[1;32m     19\u001b[0m         \u001b[0mlatent_input\u001b[0m \u001b[0;34m=\u001b[0m \u001b[0mlatents\u001b[0m\u001b[0;34m.\u001b[0m\u001b[0mrepeat\u001b[0m\u001b[0;34m(\u001b[0m\u001b[0;36m2\u001b[0m\u001b[0;34m,\u001b[0m \u001b[0;36m1\u001b[0m\u001b[0;34m,\u001b[0m \u001b[0;36m1\u001b[0m\u001b[0;34m,\u001b[0m \u001b[0;36m1\u001b[0m\u001b[0;34m)\u001b[0m\u001b[0;34m\u001b[0m\u001b[0;34m\u001b[0m\u001b[0m\n\u001b[0;32m---> 20\u001b[0;31m         \u001b[0mnoise_pred\u001b[0m \u001b[0;34m=\u001b[0m \u001b[0munet\u001b[0m\u001b[0;34m(\u001b[0m\u001b[0mlatent_input\u001b[0m\u001b[0;34m,\u001b[0m \u001b[0mt\u001b[0m\u001b[0;34m.\u001b[0m\u001b[0mto\u001b[0m\u001b[0;34m(\u001b[0m\u001b[0mdevice\u001b[0m\u001b[0;34m)\u001b[0m\u001b[0;34m,\u001b[0m \u001b[0mencoder_hidden_states\u001b[0m\u001b[0;34m=\u001b[0m\u001b[0mencoder_input\u001b[0m\u001b[0;34m)\u001b[0m\u001b[0;34m.\u001b[0m\u001b[0msample\u001b[0m\u001b[0;34m\u001b[0m\u001b[0;34m\u001b[0m\u001b[0m\n\u001b[0m\u001b[1;32m     21\u001b[0m         \u001b[0mnoise_pred_uncond\u001b[0m\u001b[0;34m,\u001b[0m \u001b[0mnoise_pred_cond\u001b[0m \u001b[0;34m=\u001b[0m \u001b[0mnoise_pred\u001b[0m\u001b[0;34m.\u001b[0m\u001b[0mchunk\u001b[0m\u001b[0;34m(\u001b[0m\u001b[0;36m2\u001b[0m\u001b[0;34m)\u001b[0m\u001b[0;34m\u001b[0m\u001b[0;34m\u001b[0m\u001b[0m\n\u001b[1;32m     22\u001b[0m         \u001b[0mnoise_pred\u001b[0m \u001b[0;34m=\u001b[0m \u001b[0mnoise_pred_uncond\u001b[0m \u001b[0;34m+\u001b[0m \u001b[0mguidance_scale\u001b[0m \u001b[0;34m*\u001b[0m \u001b[0;34m(\u001b[0m\u001b[0mnoise_pred_cond\u001b[0m \u001b[0;34m-\u001b[0m \u001b[0mnoise_pred_uncond\u001b[0m\u001b[0;34m)\u001b[0m\u001b[0;34m\u001b[0m\u001b[0;34m\u001b[0m\u001b[0m\n",
            "\u001b[0;31mKeyboardInterrupt\u001b[0m: "
          ]
        }
      ],
      "source": [
        "# 要測試的 epoch 清單\n",
        "target_epochs = [10,11,12,13,14,15,16,17,18,19,20,21,22,23,24,25,26,27,28,29,30,31,32,33,34,35,36,38,40,42,44,45,48,51,54,57,60]\n",
        "\n",
        "# 固定參數設定\n",
        "test_json_path = \"/content/test.json\"\n",
        "ref_mu_path = \"/content/drive/MyDrive/public_data/score/test_mu.npy\"\n",
        "ref_sigma_path = \"/content/drive/MyDrive/public_data/score/test_sigma.npy\"\n",
        "device = torch.device(\"cuda\" if torch.cuda.is_available() else \"cpu\")\n",
        "\n",
        "result_list = []\n",
        "os.makedirs(\"/content/generated_eval1\", exist_ok=True)\n",
        "for epoch in target_epochs:\n",
        "    ckpt_path = f\"/content/drive/MyDrive/DDIM11/ckpt/checkpoint_epoch{epoch}.pt\"\n",
        "    save_folder = f\"/content/drive/MyDrive/generated_test11_{epoch}_10_2_2\"\n",
        "    os.makedirs(save_folder, exist_ok=True)\n",
        "\n",
        "    print(f\"\\n🎯 Epoch {epoch}: Generating images...\")\n",
        "\n",
        "    # 推論產圖\n",
        "    test_inference(\n",
        "        ckpt_path=ckpt_path,\n",
        "        test_json_path=test_json_path,\n",
        "        save_folder=save_folder,\n",
        "        steps=10,\n",
        "        guidance_scale=2,\n",
        "        batch_size=32\n",
        "    )\n",
        "\n",
        "    # 設定評分參數\n",
        "    args = SimpleNamespace(\n",
        "        ref_mu_path=ref_mu_path,\n",
        "        ref_sigma_path=ref_sigma_path,\n",
        "        test_json_path=test_json_path,\n",
        "        fake_img_root=save_folder,\n",
        "        image_size=256,\n",
        "        num_images=None,\n",
        "        scores=[\"fid\", \"clip_t\"],\n",
        "        model_name=\"ViT-B-32-quickgelu\",\n",
        "        pretrained=\"openai\",\n",
        "        batch_size=32,\n",
        "        num_workers=2,\n",
        "        verbose=True,\n",
        "        output_path=f\"/content/generated_eval1/scores_ep{epoch}.json\"\n",
        "    )\n",
        "\n",
        "    # 執行評分\n",
        "    output_json = {}\n",
        "    if 'clip_i' in args.scores or 'clip_t' in args.scores:\n",
        "        output_json.update(run_clip(args, device))\n",
        "    if 'fid' in args.scores:\n",
        "        output_json.update(run_fid(args, device))\n",
        "\n",
        "    # 印出分數\n",
        "    print(f\"✅ Epoch {epoch} scores:\")\n",
        "    for key in [\"FID\", \"CLIP Image-Text Score\"]:\n",
        "        if key in output_json:\n",
        "            print(f\"  {key}: {output_json[key]:.4f}\")\n",
        "\n",
        "    # 儲存分數\n",
        "    with open(args.output_path, \"w\") as f:\n",
        "        json.dump(output_json, f, indent=2)\n",
        "\n",
        "    # 收集結果\n",
        "    result_list.append({\n",
        "        \"epoch\": epoch,\n",
        "        \"FID\": output_json.get(\"FID\", None),\n",
        "        \"CLIP\": output_json.get(\"CLIP Image-Text Score\", None)\n",
        "    })\n",
        "\n",
        "# 總結\n",
        "print(\"\\n📊 Summary:\")\n",
        "for r in result_list:\n",
        "    print(f\"Epoch {r['epoch']:>2} | FID: {r['FID']:.4f} | CLIP: {r['CLIP']:.4f}\")"
      ]
    },
    {
      "cell_type": "code",
      "source": [
        "# 要測試的 epoch 清單\n",
        "target_epochs = [18,19,20,21,22,23,24,25,26,27,28,29,30,31,32,33,34,35,36,38,40,42,44,45,48,51,54,57,60]\n",
        "\n",
        "# 固定參數設定\n",
        "test_json_path = \"/content/test.json\"\n",
        "ref_mu_path = \"/content/drive/MyDrive/public_data/score/test_mu.npy\"\n",
        "ref_sigma_path = \"/content/drive/MyDrive/public_data/score/test_sigma.npy\"\n",
        "device = torch.device(\"cuda\" if torch.cuda.is_available() else \"cpu\")\n",
        "\n",
        "result_list = []\n",
        "for epoch in target_epochs:\n",
        "    ckpt_path = f\"/content/drive/MyDrive/DDIM11/ckpt/checkpoint_epoch{epoch}.pt\"\n",
        "    save_folder = f\"/content/generated_test11_{epoch}_10_2_2\"\n",
        "    os.makedirs(save_folder, exist_ok=True)\n",
        "\n",
        "    print(f\"\\n🎯 Epoch {epoch}: Generating images...\")\n",
        "\n",
        "    # 推論產圖\n",
        "    test_inference(\n",
        "        ckpt_path=ckpt_path,\n",
        "        test_json_path=test_json_path,\n",
        "        save_folder=save_folder,\n",
        "        steps=10,\n",
        "        guidance_scale=2,\n",
        "        batch_size=32\n",
        "    )\n",
        "\n",
        "    # 設定評分參數\n",
        "    args = SimpleNamespace(\n",
        "        ref_mu_path=ref_mu_path,\n",
        "        ref_sigma_path=ref_sigma_path,\n",
        "        test_json_path=test_json_path,\n",
        "        fake_img_root=save_folder,\n",
        "        image_size=256,\n",
        "        num_images=None,\n",
        "        scores=[\"fid\", \"clip_t\"],\n",
        "        model_name=\"ViT-B-32-quickgelu\",\n",
        "        pretrained=\"openai\",\n",
        "        batch_size=32,\n",
        "        num_workers=2,\n",
        "        verbose=True,\n",
        "        output_path=f\"/content/generated_eval1/scores_ep{epoch}.json\"\n",
        "    )\n",
        "\n",
        "    # 執行評分\n",
        "    output_json = {}\n",
        "    if 'clip_i' in args.scores or 'clip_t' in args.scores:\n",
        "        output_json.update(run_clip(args, device))\n",
        "    if 'fid' in args.scores:\n",
        "        output_json.update(run_fid(args, device))\n",
        "\n",
        "    # 印出分數\n",
        "    print(f\"✅ Epoch {epoch} scores:\")\n",
        "    for key in [\"FID\", \"CLIP Image-Text Score\"]:\n",
        "        if key in output_json:\n",
        "            print(f\"  {key}: {output_json[key]:.4f}\")\n",
        "\n",
        "    # 儲存分數\n",
        "    with open(args.output_path, \"w\") as f:\n",
        "        json.dump(output_json, f, indent=2)\n",
        "\n",
        "    # 收集結果\n",
        "    result_list.append({\n",
        "        \"epoch\": epoch,\n",
        "        \"FID\": output_json.get(\"FID\", None),\n",
        "        \"CLIP\": output_json.get(\"CLIP Image-Text Score\", None)\n",
        "    })\n",
        "\n",
        "# 總結\n",
        "print(\"\\n📊 Summary:\")\n",
        "for r in result_list:\n",
        "    print(f\"Epoch {r['epoch']:>2} | FID: {r['FID']:.4f} | CLIP: {r['CLIP']:.4f}\")"
      ],
      "metadata": {
        "colab": {
          "base_uri": "https://localhost:8080/"
        },
        "id": "TzjTsrjj8MVk",
        "outputId": "ca22d970-a781-491f-df71-2fd2497e5696"
      },
      "execution_count": null,
      "outputs": [
        {
          "output_type": "stream",
          "name": "stdout",
          "text": [
            "\n",
            "🎯 Epoch 18: Generating images...\n",
            "🔍 Loading checkpoint: /content/drive/MyDrive/DDIM11/ckpt/checkpoint_epoch18.pt\n",
            "✅ Using EMA weights\n",
            "🚀 Start batch inference: 1063 samples | Batch size=32\n"
          ]
        },
        {
          "output_type": "stream",
          "name": "stderr",
          "text": [
            "Batch generating: 100%|██████████| 34/34 [01:57<00:00,  3.44s/it]\n"
          ]
        },
        {
          "output_type": "stream",
          "name": "stdout",
          "text": [
            "[INFO] Loading test JSON file: /content/test.json.\n",
            "[INFO] Found 1063 images in the zip file.\n",
            "[INFO] Checking if all image paths from the test JSON file are present in the zip file.\n",
            "[INFO] Loading CLIP model: ViT-B-32-quickgelu with pretrained weights: openai.\n",
            "[INFO] Calculating CLIP scores for 1063 images...\n"
          ]
        },
        {
          "output_type": "stream",
          "name": "stderr",
          "text": [
            "100%|██████████| 34/34 [00:02<00:00, 16.83it/s]\n"
          ]
        },
        {
          "output_type": "stream",
          "name": "stdout",
          "text": [
            "CLIP Image-Text Score: 0.296937\n",
            "[INFO] Found 1063 images in the zip file.\n",
            "[INFO] Generating Inception model features...\n"
          ]
        },
        {
          "output_type": "stream",
          "name": "stderr",
          "text": []
        },
        {
          "output_type": "stream",
          "name": "stdout",
          "text": [
            "[INFO] Calculating FID score...\n",
            "[INFO] FID score: 66.1790.\n",
            "✅ Epoch 18 scores:\n",
            "  FID: 66.1790\n",
            "  CLIP Image-Text Score: 0.2969\n",
            "\n",
            "🎯 Epoch 19: Generating images...\n",
            "🔍 Loading checkpoint: /content/drive/MyDrive/DDIM11/ckpt/checkpoint_epoch19.pt\n",
            "✅ Using EMA weights\n",
            "🚀 Start batch inference: 1063 samples | Batch size=32\n"
          ]
        },
        {
          "output_type": "stream",
          "name": "stderr",
          "text": [
            "Batch generating: 100%|██████████| 34/34 [01:57<00:00,  3.44s/it]\n"
          ]
        },
        {
          "output_type": "stream",
          "name": "stdout",
          "text": [
            "[INFO] Loading test JSON file: /content/test.json.\n",
            "[INFO] Found 1063 images in the zip file.\n",
            "[INFO] Checking if all image paths from the test JSON file are present in the zip file.\n",
            "[INFO] Loading CLIP model: ViT-B-32-quickgelu with pretrained weights: openai.\n",
            "[INFO] Calculating CLIP scores for 1063 images...\n"
          ]
        },
        {
          "output_type": "stream",
          "name": "stderr",
          "text": [
            "100%|██████████| 34/34 [00:02<00:00, 16.93it/s]\n"
          ]
        },
        {
          "output_type": "stream",
          "name": "stdout",
          "text": [
            "CLIP Image-Text Score: 0.296515\n",
            "[INFO] Found 1063 images in the zip file.\n",
            "[INFO] Generating Inception model features...\n"
          ]
        },
        {
          "output_type": "stream",
          "name": "stderr",
          "text": []
        },
        {
          "output_type": "stream",
          "name": "stdout",
          "text": [
            "[INFO] Calculating FID score...\n",
            "[INFO] FID score: 64.5799.\n",
            "✅ Epoch 19 scores:\n",
            "  FID: 64.5799\n",
            "  CLIP Image-Text Score: 0.2965\n",
            "\n",
            "🎯 Epoch 20: Generating images...\n",
            "🔍 Loading checkpoint: /content/drive/MyDrive/DDIM11/ckpt/checkpoint_epoch20.pt\n",
            "✅ Using EMA weights\n",
            "🚀 Start batch inference: 1063 samples | Batch size=32\n"
          ]
        },
        {
          "output_type": "stream",
          "name": "stderr",
          "text": [
            "Batch generating: 100%|██████████| 34/34 [01:56<00:00,  3.44s/it]\n"
          ]
        },
        {
          "output_type": "stream",
          "name": "stdout",
          "text": [
            "[INFO] Loading test JSON file: /content/test.json.\n",
            "[INFO] Found 1063 images in the zip file.\n",
            "[INFO] Checking if all image paths from the test JSON file are present in the zip file.\n",
            "[INFO] Loading CLIP model: ViT-B-32-quickgelu with pretrained weights: openai.\n",
            "[INFO] Calculating CLIP scores for 1063 images...\n"
          ]
        },
        {
          "output_type": "stream",
          "name": "stderr",
          "text": [
            "100%|██████████| 34/34 [00:02<00:00, 16.88it/s]\n"
          ]
        },
        {
          "output_type": "stream",
          "name": "stdout",
          "text": [
            "CLIP Image-Text Score: 0.297428\n",
            "[INFO] Found 1063 images in the zip file.\n",
            "[INFO] Generating Inception model features...\n"
          ]
        },
        {
          "output_type": "stream",
          "name": "stderr",
          "text": []
        },
        {
          "output_type": "stream",
          "name": "stdout",
          "text": [
            "[INFO] Calculating FID score...\n",
            "[INFO] FID score: 65.3892.\n",
            "✅ Epoch 20 scores:\n",
            "  FID: 65.3892\n",
            "  CLIP Image-Text Score: 0.2974\n",
            "\n",
            "🎯 Epoch 21: Generating images...\n",
            "🔍 Loading checkpoint: /content/drive/MyDrive/DDIM11/ckpt/checkpoint_epoch21.pt\n",
            "✅ Using EMA weights\n",
            "🚀 Start batch inference: 1063 samples | Batch size=32\n"
          ]
        },
        {
          "output_type": "stream",
          "name": "stderr",
          "text": [
            "Batch generating: 100%|██████████| 34/34 [01:56<00:00,  3.44s/it]\n"
          ]
        },
        {
          "output_type": "stream",
          "name": "stdout",
          "text": [
            "[INFO] Loading test JSON file: /content/test.json.\n",
            "[INFO] Found 1063 images in the zip file.\n",
            "[INFO] Checking if all image paths from the test JSON file are present in the zip file.\n",
            "[INFO] Loading CLIP model: ViT-B-32-quickgelu with pretrained weights: openai.\n",
            "[INFO] Calculating CLIP scores for 1063 images...\n"
          ]
        },
        {
          "output_type": "stream",
          "name": "stderr",
          "text": [
            "100%|██████████| 34/34 [00:02<00:00, 16.75it/s]\n"
          ]
        },
        {
          "output_type": "stream",
          "name": "stdout",
          "text": [
            "CLIP Image-Text Score: 0.296554\n",
            "[INFO] Found 1063 images in the zip file.\n",
            "[INFO] Generating Inception model features...\n"
          ]
        },
        {
          "output_type": "stream",
          "name": "stderr",
          "text": []
        },
        {
          "output_type": "stream",
          "name": "stdout",
          "text": [
            "[INFO] Calculating FID score...\n",
            "[INFO] FID score: 64.9630.\n",
            "✅ Epoch 21 scores:\n",
            "  FID: 64.9630\n",
            "  CLIP Image-Text Score: 0.2966\n",
            "\n",
            "🎯 Epoch 22: Generating images...\n",
            "🔍 Loading checkpoint: /content/drive/MyDrive/DDIM11/ckpt/checkpoint_epoch22.pt\n",
            "✅ Using EMA weights\n",
            "🚀 Start batch inference: 1063 samples | Batch size=32\n"
          ]
        },
        {
          "output_type": "stream",
          "name": "stderr",
          "text": [
            "Batch generating: 100%|██████████| 34/34 [01:57<00:00,  3.45s/it]\n"
          ]
        },
        {
          "output_type": "stream",
          "name": "stdout",
          "text": [
            "[INFO] Loading test JSON file: /content/test.json.\n",
            "[INFO] Found 1063 images in the zip file.\n",
            "[INFO] Checking if all image paths from the test JSON file are present in the zip file.\n",
            "[INFO] Loading CLIP model: ViT-B-32-quickgelu with pretrained weights: openai.\n",
            "[INFO] Calculating CLIP scores for 1063 images...\n"
          ]
        },
        {
          "output_type": "stream",
          "name": "stderr",
          "text": [
            "100%|██████████| 34/34 [00:02<00:00, 16.51it/s]\n"
          ]
        },
        {
          "output_type": "stream",
          "name": "stdout",
          "text": [
            "CLIP Image-Text Score: 0.297176\n",
            "[INFO] Found 1063 images in the zip file.\n",
            "[INFO] Generating Inception model features...\n"
          ]
        },
        {
          "output_type": "stream",
          "name": "stderr",
          "text": []
        },
        {
          "output_type": "stream",
          "name": "stdout",
          "text": [
            "[INFO] Calculating FID score...\n",
            "[INFO] FID score: 65.6065.\n",
            "✅ Epoch 22 scores:\n",
            "  FID: 65.6065\n",
            "  CLIP Image-Text Score: 0.2972\n",
            "\n",
            "🎯 Epoch 23: Generating images...\n",
            "🔍 Loading checkpoint: /content/drive/MyDrive/DDIM11/ckpt/checkpoint_epoch23.pt\n",
            "✅ Using EMA weights\n",
            "🚀 Start batch inference: 1063 samples | Batch size=32\n"
          ]
        },
        {
          "output_type": "stream",
          "name": "stderr",
          "text": [
            "Batch generating: 100%|██████████| 34/34 [01:56<00:00,  3.44s/it]\n"
          ]
        },
        {
          "output_type": "stream",
          "name": "stdout",
          "text": [
            "[INFO] Loading test JSON file: /content/test.json.\n",
            "[INFO] Found 1063 images in the zip file.\n",
            "[INFO] Checking if all image paths from the test JSON file are present in the zip file.\n",
            "[INFO] Loading CLIP model: ViT-B-32-quickgelu with pretrained weights: openai.\n",
            "[INFO] Calculating CLIP scores for 1063 images...\n"
          ]
        },
        {
          "output_type": "stream",
          "name": "stderr",
          "text": [
            "100%|██████████| 34/34 [00:02<00:00, 16.97it/s]\n"
          ]
        },
        {
          "output_type": "stream",
          "name": "stdout",
          "text": [
            "CLIP Image-Text Score: 0.296629\n",
            "[INFO] Found 1063 images in the zip file.\n",
            "[INFO] Generating Inception model features...\n"
          ]
        },
        {
          "output_type": "stream",
          "name": "stderr",
          "text": []
        },
        {
          "output_type": "stream",
          "name": "stdout",
          "text": [
            "[INFO] Calculating FID score...\n",
            "[INFO] FID score: 64.3640.\n",
            "✅ Epoch 23 scores:\n",
            "  FID: 64.3640\n",
            "  CLIP Image-Text Score: 0.2966\n",
            "\n",
            "🎯 Epoch 24: Generating images...\n",
            "🔍 Loading checkpoint: /content/drive/MyDrive/DDIM11/ckpt/checkpoint_epoch24.pt\n",
            "✅ Using EMA weights\n",
            "🚀 Start batch inference: 1063 samples | Batch size=32\n"
          ]
        },
        {
          "output_type": "stream",
          "name": "stderr",
          "text": [
            "Batch generating: 100%|██████████| 34/34 [01:56<00:00,  3.43s/it]\n"
          ]
        },
        {
          "output_type": "stream",
          "name": "stdout",
          "text": [
            "[INFO] Loading test JSON file: /content/test.json.\n",
            "[INFO] Found 1063 images in the zip file.\n",
            "[INFO] Checking if all image paths from the test JSON file are present in the zip file.\n",
            "[INFO] Loading CLIP model: ViT-B-32-quickgelu with pretrained weights: openai.\n",
            "[INFO] Calculating CLIP scores for 1063 images...\n"
          ]
        },
        {
          "output_type": "stream",
          "name": "stderr",
          "text": [
            "100%|██████████| 34/34 [00:01<00:00, 17.19it/s]\n"
          ]
        },
        {
          "output_type": "stream",
          "name": "stdout",
          "text": [
            "CLIP Image-Text Score: 0.298166\n",
            "[INFO] Found 1063 images in the zip file.\n",
            "[INFO] Generating Inception model features...\n"
          ]
        },
        {
          "output_type": "stream",
          "name": "stderr",
          "text": []
        },
        {
          "output_type": "stream",
          "name": "stdout",
          "text": [
            "[INFO] Calculating FID score...\n",
            "[INFO] FID score: 64.3622.\n",
            "✅ Epoch 24 scores:\n",
            "  FID: 64.3622\n",
            "  CLIP Image-Text Score: 0.2982\n",
            "\n",
            "🎯 Epoch 25: Generating images...\n",
            "🔍 Loading checkpoint: /content/drive/MyDrive/DDIM11/ckpt/checkpoint_epoch25.pt\n",
            "✅ Using EMA weights\n",
            "🚀 Start batch inference: 1063 samples | Batch size=32\n"
          ]
        },
        {
          "output_type": "stream",
          "name": "stderr",
          "text": [
            "Batch generating: 100%|██████████| 34/34 [01:56<00:00,  3.43s/it]\n"
          ]
        },
        {
          "output_type": "stream",
          "name": "stdout",
          "text": [
            "[INFO] Loading test JSON file: /content/test.json.\n",
            "[INFO] Found 1063 images in the zip file.\n",
            "[INFO] Checking if all image paths from the test JSON file are present in the zip file.\n",
            "[INFO] Loading CLIP model: ViT-B-32-quickgelu with pretrained weights: openai.\n",
            "[INFO] Calculating CLIP scores for 1063 images...\n"
          ]
        },
        {
          "output_type": "stream",
          "name": "stderr",
          "text": [
            "100%|██████████| 34/34 [00:02<00:00, 16.31it/s]\n"
          ]
        },
        {
          "output_type": "stream",
          "name": "stdout",
          "text": [
            "CLIP Image-Text Score: 0.297287\n",
            "[INFO] Found 1063 images in the zip file.\n",
            "[INFO] Generating Inception model features...\n"
          ]
        },
        {
          "output_type": "stream",
          "name": "stderr",
          "text": []
        },
        {
          "output_type": "stream",
          "name": "stdout",
          "text": [
            "[INFO] Calculating FID score...\n",
            "[INFO] FID score: 63.4355.\n",
            "✅ Epoch 25 scores:\n",
            "  FID: 63.4355\n",
            "  CLIP Image-Text Score: 0.2973\n",
            "\n",
            "🎯 Epoch 26: Generating images...\n",
            "🔍 Loading checkpoint: /content/drive/MyDrive/DDIM11/ckpt/checkpoint_epoch26.pt\n",
            "✅ Using EMA weights\n",
            "🚀 Start batch inference: 1063 samples | Batch size=32\n"
          ]
        },
        {
          "output_type": "stream",
          "name": "stderr",
          "text": [
            "Batch generating: 100%|██████████| 34/34 [01:56<00:00,  3.43s/it]\n"
          ]
        },
        {
          "output_type": "stream",
          "name": "stdout",
          "text": [
            "[INFO] Loading test JSON file: /content/test.json.\n",
            "[INFO] Found 1063 images in the zip file.\n",
            "[INFO] Checking if all image paths from the test JSON file are present in the zip file.\n",
            "[INFO] Loading CLIP model: ViT-B-32-quickgelu with pretrained weights: openai.\n",
            "[INFO] Calculating CLIP scores for 1063 images...\n"
          ]
        },
        {
          "output_type": "stream",
          "name": "stderr",
          "text": [
            "100%|██████████| 34/34 [00:01<00:00, 17.43it/s]\n"
          ]
        },
        {
          "output_type": "stream",
          "name": "stdout",
          "text": [
            "CLIP Image-Text Score: 0.296513\n",
            "[INFO] Found 1063 images in the zip file.\n",
            "[INFO] Generating Inception model features...\n"
          ]
        },
        {
          "output_type": "stream",
          "name": "stderr",
          "text": []
        },
        {
          "output_type": "stream",
          "name": "stdout",
          "text": [
            "[INFO] Calculating FID score...\n",
            "[INFO] FID score: 64.2562.\n",
            "✅ Epoch 26 scores:\n",
            "  FID: 64.2562\n",
            "  CLIP Image-Text Score: 0.2965\n",
            "\n",
            "🎯 Epoch 27: Generating images...\n",
            "🔍 Loading checkpoint: /content/drive/MyDrive/DDIM11/ckpt/checkpoint_epoch27.pt\n",
            "✅ Using EMA weights\n",
            "🚀 Start batch inference: 1063 samples | Batch size=32\n"
          ]
        },
        {
          "output_type": "stream",
          "name": "stderr",
          "text": [
            "Batch generating: 100%|██████████| 34/34 [01:56<00:00,  3.43s/it]\n"
          ]
        },
        {
          "output_type": "stream",
          "name": "stdout",
          "text": [
            "[INFO] Loading test JSON file: /content/test.json.\n",
            "[INFO] Found 1063 images in the zip file.\n",
            "[INFO] Checking if all image paths from the test JSON file are present in the zip file.\n",
            "[INFO] Loading CLIP model: ViT-B-32-quickgelu with pretrained weights: openai.\n",
            "[INFO] Calculating CLIP scores for 1063 images...\n"
          ]
        },
        {
          "output_type": "stream",
          "name": "stderr",
          "text": [
            "100%|██████████| 34/34 [00:01<00:00, 17.46it/s]\n"
          ]
        },
        {
          "output_type": "stream",
          "name": "stdout",
          "text": [
            "CLIP Image-Text Score: 0.296901\n",
            "[INFO] Found 1063 images in the zip file.\n",
            "[INFO] Generating Inception model features...\n"
          ]
        },
        {
          "output_type": "stream",
          "name": "stderr",
          "text": []
        },
        {
          "output_type": "stream",
          "name": "stdout",
          "text": [
            "[INFO] Calculating FID score...\n",
            "[INFO] FID score: 63.7908.\n",
            "✅ Epoch 27 scores:\n",
            "  FID: 63.7908\n",
            "  CLIP Image-Text Score: 0.2969\n",
            "\n",
            "🎯 Epoch 28: Generating images...\n",
            "🔍 Loading checkpoint: /content/drive/MyDrive/DDIM11/ckpt/checkpoint_epoch28.pt\n",
            "✅ Using EMA weights\n",
            "🚀 Start batch inference: 1063 samples | Batch size=32\n"
          ]
        },
        {
          "output_type": "stream",
          "name": "stderr",
          "text": [
            "Batch generating: 100%|██████████| 34/34 [01:56<00:00,  3.43s/it]\n"
          ]
        },
        {
          "output_type": "stream",
          "name": "stdout",
          "text": [
            "[INFO] Loading test JSON file: /content/test.json.\n",
            "[INFO] Found 1063 images in the zip file.\n",
            "[INFO] Checking if all image paths from the test JSON file are present in the zip file.\n",
            "[INFO] Loading CLIP model: ViT-B-32-quickgelu with pretrained weights: openai.\n",
            "[INFO] Calculating CLIP scores for 1063 images...\n"
          ]
        },
        {
          "output_type": "stream",
          "name": "stderr",
          "text": [
            "100%|██████████| 34/34 [00:01<00:00, 17.32it/s]\n"
          ]
        },
        {
          "output_type": "stream",
          "name": "stdout",
          "text": [
            "CLIP Image-Text Score: 0.296894\n",
            "[INFO] Found 1063 images in the zip file.\n",
            "[INFO] Generating Inception model features...\n"
          ]
        },
        {
          "output_type": "stream",
          "name": "stderr",
          "text": []
        },
        {
          "output_type": "stream",
          "name": "stdout",
          "text": [
            "[INFO] Calculating FID score...\n",
            "[INFO] FID score: 63.9797.\n",
            "✅ Epoch 28 scores:\n",
            "  FID: 63.9797\n",
            "  CLIP Image-Text Score: 0.2969\n",
            "\n",
            "🎯 Epoch 29: Generating images...\n",
            "🔍 Loading checkpoint: /content/drive/MyDrive/DDIM11/ckpt/checkpoint_epoch29.pt\n",
            "✅ Using EMA weights\n",
            "🚀 Start batch inference: 1063 samples | Batch size=32\n"
          ]
        },
        {
          "output_type": "stream",
          "name": "stderr",
          "text": [
            "Batch generating: 100%|██████████| 34/34 [01:56<00:00,  3.43s/it]\n"
          ]
        },
        {
          "output_type": "stream",
          "name": "stdout",
          "text": [
            "[INFO] Loading test JSON file: /content/test.json.\n",
            "[INFO] Found 1063 images in the zip file.\n",
            "[INFO] Checking if all image paths from the test JSON file are present in the zip file.\n",
            "[INFO] Loading CLIP model: ViT-B-32-quickgelu with pretrained weights: openai.\n",
            "[INFO] Calculating CLIP scores for 1063 images...\n"
          ]
        },
        {
          "output_type": "stream",
          "name": "stderr",
          "text": [
            "100%|██████████| 34/34 [00:02<00:00, 16.91it/s]\n"
          ]
        },
        {
          "output_type": "stream",
          "name": "stdout",
          "text": [
            "CLIP Image-Text Score: 0.297214\n",
            "[INFO] Found 1063 images in the zip file.\n",
            "[INFO] Generating Inception model features...\n"
          ]
        },
        {
          "output_type": "stream",
          "name": "stderr",
          "text": []
        },
        {
          "output_type": "stream",
          "name": "stdout",
          "text": [
            "[INFO] Calculating FID score...\n",
            "[INFO] FID score: 63.9325.\n",
            "✅ Epoch 29 scores:\n",
            "  FID: 63.9325\n",
            "  CLIP Image-Text Score: 0.2972\n",
            "\n",
            "🎯 Epoch 30: Generating images...\n",
            "🔍 Loading checkpoint: /content/drive/MyDrive/DDIM11/ckpt/checkpoint_epoch30.pt\n",
            "✅ Using EMA weights\n",
            "🚀 Start batch inference: 1063 samples | Batch size=32\n"
          ]
        },
        {
          "output_type": "stream",
          "name": "stderr",
          "text": [
            "Batch generating: 100%|██████████| 34/34 [01:56<00:00,  3.43s/it]\n"
          ]
        },
        {
          "output_type": "stream",
          "name": "stdout",
          "text": [
            "[INFO] Loading test JSON file: /content/test.json.\n",
            "[INFO] Found 1063 images in the zip file.\n",
            "[INFO] Checking if all image paths from the test JSON file are present in the zip file.\n",
            "[INFO] Loading CLIP model: ViT-B-32-quickgelu with pretrained weights: openai.\n",
            "[INFO] Calculating CLIP scores for 1063 images...\n"
          ]
        },
        {
          "output_type": "stream",
          "name": "stderr",
          "text": [
            "100%|██████████| 34/34 [00:01<00:00, 17.11it/s]\n"
          ]
        },
        {
          "output_type": "stream",
          "name": "stdout",
          "text": [
            "CLIP Image-Text Score: 0.296743\n",
            "[INFO] Found 1063 images in the zip file.\n",
            "[INFO] Generating Inception model features...\n"
          ]
        },
        {
          "output_type": "stream",
          "name": "stderr",
          "text": []
        },
        {
          "output_type": "stream",
          "name": "stdout",
          "text": [
            "[INFO] Calculating FID score...\n",
            "[INFO] FID score: 64.2378.\n",
            "✅ Epoch 30 scores:\n",
            "  FID: 64.2378\n",
            "  CLIP Image-Text Score: 0.2967\n",
            "\n",
            "🎯 Epoch 31: Generating images...\n",
            "🔍 Loading checkpoint: /content/drive/MyDrive/DDIM11/ckpt/checkpoint_epoch31.pt\n",
            "✅ Using EMA weights\n",
            "🚀 Start batch inference: 1063 samples | Batch size=32\n"
          ]
        },
        {
          "output_type": "stream",
          "name": "stderr",
          "text": [
            "Batch generating: 100%|██████████| 34/34 [01:56<00:00,  3.44s/it]\n"
          ]
        },
        {
          "output_type": "stream",
          "name": "stdout",
          "text": [
            "[INFO] Loading test JSON file: /content/test.json.\n",
            "[INFO] Found 1063 images in the zip file.\n",
            "[INFO] Checking if all image paths from the test JSON file are present in the zip file.\n",
            "[INFO] Loading CLIP model: ViT-B-32-quickgelu with pretrained weights: openai.\n",
            "[INFO] Calculating CLIP scores for 1063 images...\n"
          ]
        },
        {
          "output_type": "stream",
          "name": "stderr",
          "text": [
            "100%|██████████| 34/34 [00:02<00:00, 16.82it/s]\n"
          ]
        },
        {
          "output_type": "stream",
          "name": "stdout",
          "text": [
            "CLIP Image-Text Score: 0.297503\n",
            "[INFO] Found 1063 images in the zip file.\n",
            "[INFO] Generating Inception model features...\n"
          ]
        },
        {
          "output_type": "stream",
          "name": "stderr",
          "text": []
        },
        {
          "output_type": "stream",
          "name": "stdout",
          "text": [
            "[INFO] Calculating FID score...\n",
            "[INFO] FID score: 63.6412.\n",
            "✅ Epoch 31 scores:\n",
            "  FID: 63.6412\n",
            "  CLIP Image-Text Score: 0.2975\n",
            "\n",
            "🎯 Epoch 32: Generating images...\n",
            "🔍 Loading checkpoint: /content/drive/MyDrive/DDIM11/ckpt/checkpoint_epoch32.pt\n",
            "✅ Using EMA weights\n",
            "🚀 Start batch inference: 1063 samples | Batch size=32\n"
          ]
        },
        {
          "output_type": "stream",
          "name": "stderr",
          "text": [
            "Batch generating: 100%|██████████| 34/34 [01:56<00:00,  3.43s/it]\n"
          ]
        },
        {
          "output_type": "stream",
          "name": "stdout",
          "text": [
            "[INFO] Loading test JSON file: /content/test.json.\n",
            "[INFO] Found 1063 images in the zip file.\n",
            "[INFO] Checking if all image paths from the test JSON file are present in the zip file.\n",
            "[INFO] Loading CLIP model: ViT-B-32-quickgelu with pretrained weights: openai.\n",
            "[INFO] Calculating CLIP scores for 1063 images...\n"
          ]
        },
        {
          "output_type": "stream",
          "name": "stderr",
          "text": [
            "100%|██████████| 34/34 [00:01<00:00, 17.01it/s]\n"
          ]
        },
        {
          "output_type": "stream",
          "name": "stdout",
          "text": [
            "CLIP Image-Text Score: 0.296315\n",
            "[INFO] Found 1063 images in the zip file.\n",
            "[INFO] Generating Inception model features...\n"
          ]
        },
        {
          "output_type": "stream",
          "name": "stderr",
          "text": []
        },
        {
          "output_type": "stream",
          "name": "stdout",
          "text": [
            "[INFO] Calculating FID score...\n",
            "[INFO] FID score: 64.4058.\n",
            "✅ Epoch 32 scores:\n",
            "  FID: 64.4058\n",
            "  CLIP Image-Text Score: 0.2963\n",
            "\n",
            "🎯 Epoch 33: Generating images...\n",
            "🔍 Loading checkpoint: /content/drive/MyDrive/DDIM11/ckpt/checkpoint_epoch33.pt\n",
            "✅ Using EMA weights\n",
            "🚀 Start batch inference: 1063 samples | Batch size=32\n"
          ]
        },
        {
          "output_type": "stream",
          "name": "stderr",
          "text": [
            "Batch generating: 100%|██████████| 34/34 [01:56<00:00,  3.42s/it]\n"
          ]
        },
        {
          "output_type": "stream",
          "name": "stdout",
          "text": [
            "[INFO] Loading test JSON file: /content/test.json.\n",
            "[INFO] Found 1063 images in the zip file.\n",
            "[INFO] Checking if all image paths from the test JSON file are present in the zip file.\n",
            "[INFO] Loading CLIP model: ViT-B-32-quickgelu with pretrained weights: openai.\n",
            "[INFO] Calculating CLIP scores for 1063 images...\n"
          ]
        },
        {
          "output_type": "stream",
          "name": "stderr",
          "text": [
            "100%|██████████| 34/34 [00:01<00:00, 17.24it/s]\n"
          ]
        },
        {
          "output_type": "stream",
          "name": "stdout",
          "text": [
            "CLIP Image-Text Score: 0.296250\n",
            "[INFO] Found 1063 images in the zip file.\n",
            "[INFO] Generating Inception model features...\n"
          ]
        },
        {
          "output_type": "stream",
          "name": "stderr",
          "text": []
        },
        {
          "output_type": "stream",
          "name": "stdout",
          "text": [
            "[INFO] Calculating FID score...\n",
            "[INFO] FID score: 64.0102.\n",
            "✅ Epoch 33 scores:\n",
            "  FID: 64.0102\n",
            "  CLIP Image-Text Score: 0.2963\n",
            "\n",
            "🎯 Epoch 34: Generating images...\n",
            "🔍 Loading checkpoint: /content/drive/MyDrive/DDIM11/ckpt/checkpoint_epoch34.pt\n",
            "✅ Using EMA weights\n",
            "🚀 Start batch inference: 1063 samples | Batch size=32\n"
          ]
        },
        {
          "output_type": "stream",
          "name": "stderr",
          "text": [
            "Batch generating: 100%|██████████| 34/34 [01:56<00:00,  3.42s/it]\n"
          ]
        },
        {
          "output_type": "stream",
          "name": "stdout",
          "text": [
            "[INFO] Loading test JSON file: /content/test.json.\n",
            "[INFO] Found 1063 images in the zip file.\n",
            "[INFO] Checking if all image paths from the test JSON file are present in the zip file.\n",
            "[INFO] Loading CLIP model: ViT-B-32-quickgelu with pretrained weights: openai.\n",
            "[INFO] Calculating CLIP scores for 1063 images...\n"
          ]
        },
        {
          "output_type": "stream",
          "name": "stderr",
          "text": [
            "100%|██████████| 34/34 [00:01<00:00, 17.52it/s]\n"
          ]
        },
        {
          "output_type": "stream",
          "name": "stdout",
          "text": [
            "CLIP Image-Text Score: 0.295195\n",
            "[INFO] Found 1063 images in the zip file.\n",
            "[INFO] Generating Inception model features...\n"
          ]
        },
        {
          "output_type": "stream",
          "name": "stderr",
          "text": []
        },
        {
          "output_type": "stream",
          "name": "stdout",
          "text": [
            "[INFO] Calculating FID score...\n",
            "[INFO] FID score: 64.5579.\n",
            "✅ Epoch 34 scores:\n",
            "  FID: 64.5579\n",
            "  CLIP Image-Text Score: 0.2952\n",
            "\n",
            "🎯 Epoch 35: Generating images...\n",
            "🔍 Loading checkpoint: /content/drive/MyDrive/DDIM11/ckpt/checkpoint_epoch35.pt\n",
            "✅ Using EMA weights\n",
            "🚀 Start batch inference: 1063 samples | Batch size=32\n"
          ]
        },
        {
          "output_type": "stream",
          "name": "stderr",
          "text": [
            "Batch generating: 100%|██████████| 34/34 [01:56<00:00,  3.43s/it]\n"
          ]
        },
        {
          "output_type": "stream",
          "name": "stdout",
          "text": [
            "[INFO] Loading test JSON file: /content/test.json.\n",
            "[INFO] Found 1063 images in the zip file.\n",
            "[INFO] Checking if all image paths from the test JSON file are present in the zip file.\n",
            "[INFO] Loading CLIP model: ViT-B-32-quickgelu with pretrained weights: openai.\n",
            "[INFO] Calculating CLIP scores for 1063 images...\n"
          ]
        },
        {
          "output_type": "stream",
          "name": "stderr",
          "text": [
            "100%|██████████| 34/34 [00:02<00:00, 16.87it/s]\n"
          ]
        },
        {
          "output_type": "stream",
          "name": "stdout",
          "text": [
            "CLIP Image-Text Score: 0.296279\n",
            "[INFO] Found 1063 images in the zip file.\n",
            "[INFO] Generating Inception model features...\n"
          ]
        },
        {
          "output_type": "stream",
          "name": "stderr",
          "text": []
        },
        {
          "output_type": "stream",
          "name": "stdout",
          "text": [
            "[INFO] Calculating FID score...\n",
            "[INFO] FID score: 63.1682.\n",
            "✅ Epoch 35 scores:\n",
            "  FID: 63.1682\n",
            "  CLIP Image-Text Score: 0.2963\n",
            "\n",
            "🎯 Epoch 36: Generating images...\n",
            "🔍 Loading checkpoint: /content/drive/MyDrive/DDIM11/ckpt/checkpoint_epoch36.pt\n",
            "✅ Using EMA weights\n",
            "🚀 Start batch inference: 1063 samples | Batch size=32\n"
          ]
        },
        {
          "output_type": "stream",
          "name": "stderr",
          "text": [
            "Batch generating: 100%|██████████| 34/34 [01:56<00:00,  3.42s/it]\n"
          ]
        },
        {
          "output_type": "stream",
          "name": "stdout",
          "text": [
            "[INFO] Loading test JSON file: /content/test.json.\n",
            "[INFO] Found 1063 images in the zip file.\n",
            "[INFO] Checking if all image paths from the test JSON file are present in the zip file.\n",
            "[INFO] Loading CLIP model: ViT-B-32-quickgelu with pretrained weights: openai.\n",
            "[INFO] Calculating CLIP scores for 1063 images...\n"
          ]
        },
        {
          "output_type": "stream",
          "name": "stderr",
          "text": [
            "100%|██████████| 34/34 [00:02<00:00, 16.92it/s]\n"
          ]
        },
        {
          "output_type": "stream",
          "name": "stdout",
          "text": [
            "CLIP Image-Text Score: 0.295662\n",
            "[INFO] Found 1063 images in the zip file.\n",
            "[INFO] Generating Inception model features...\n"
          ]
        },
        {
          "output_type": "stream",
          "name": "stderr",
          "text": []
        },
        {
          "output_type": "stream",
          "name": "stdout",
          "text": [
            "[INFO] Calculating FID score...\n",
            "[INFO] FID score: 63.7153.\n",
            "✅ Epoch 36 scores:\n",
            "  FID: 63.7153\n",
            "  CLIP Image-Text Score: 0.2957\n",
            "\n",
            "🎯 Epoch 38: Generating images...\n",
            "🔍 Loading checkpoint: /content/drive/MyDrive/DDIM11/ckpt/checkpoint_epoch38.pt\n",
            "✅ Using EMA weights\n",
            "🚀 Start batch inference: 1063 samples | Batch size=32\n"
          ]
        },
        {
          "output_type": "stream",
          "name": "stderr",
          "text": [
            "Batch generating: 100%|██████████| 34/34 [01:56<00:00,  3.42s/it]\n"
          ]
        },
        {
          "output_type": "stream",
          "name": "stdout",
          "text": [
            "[INFO] Loading test JSON file: /content/test.json.\n",
            "[INFO] Found 1063 images in the zip file.\n",
            "[INFO] Checking if all image paths from the test JSON file are present in the zip file.\n",
            "[INFO] Loading CLIP model: ViT-B-32-quickgelu with pretrained weights: openai.\n",
            "[INFO] Calculating CLIP scores for 1063 images...\n"
          ]
        },
        {
          "output_type": "stream",
          "name": "stderr",
          "text": [
            "100%|██████████| 34/34 [00:01<00:00, 17.14it/s]\n"
          ]
        },
        {
          "output_type": "stream",
          "name": "stdout",
          "text": [
            "CLIP Image-Text Score: 0.295577\n",
            "[INFO] Found 1063 images in the zip file.\n",
            "[INFO] Generating Inception model features...\n"
          ]
        },
        {
          "output_type": "stream",
          "name": "stderr",
          "text": []
        },
        {
          "output_type": "stream",
          "name": "stdout",
          "text": [
            "[INFO] Calculating FID score...\n",
            "[INFO] FID score: 64.1416.\n",
            "✅ Epoch 38 scores:\n",
            "  FID: 64.1416\n",
            "  CLIP Image-Text Score: 0.2956\n",
            "\n",
            "🎯 Epoch 40: Generating images...\n",
            "🔍 Loading checkpoint: /content/drive/MyDrive/DDIM11/ckpt/checkpoint_epoch40.pt\n",
            "✅ Using EMA weights\n",
            "🚀 Start batch inference: 1063 samples | Batch size=32\n"
          ]
        },
        {
          "output_type": "stream",
          "name": "stderr",
          "text": [
            "Batch generating: 100%|██████████| 34/34 [01:56<00:00,  3.42s/it]\n"
          ]
        },
        {
          "output_type": "stream",
          "name": "stdout",
          "text": [
            "[INFO] Loading test JSON file: /content/test.json.\n",
            "[INFO] Found 1063 images in the zip file.\n",
            "[INFO] Checking if all image paths from the test JSON file are present in the zip file.\n",
            "[INFO] Loading CLIP model: ViT-B-32-quickgelu with pretrained weights: openai.\n",
            "[INFO] Calculating CLIP scores for 1063 images...\n"
          ]
        },
        {
          "output_type": "stream",
          "name": "stderr",
          "text": [
            "100%|██████████| 34/34 [00:01<00:00, 17.13it/s]\n"
          ]
        },
        {
          "output_type": "stream",
          "name": "stdout",
          "text": [
            "CLIP Image-Text Score: 0.295026\n",
            "[INFO] Found 1063 images in the zip file.\n",
            "[INFO] Generating Inception model features...\n"
          ]
        },
        {
          "output_type": "stream",
          "name": "stderr",
          "text": []
        },
        {
          "output_type": "stream",
          "name": "stdout",
          "text": [
            "[INFO] Calculating FID score...\n",
            "[INFO] FID score: 64.5231.\n",
            "✅ Epoch 40 scores:\n",
            "  FID: 64.5231\n",
            "  CLIP Image-Text Score: 0.2950\n",
            "\n",
            "🎯 Epoch 42: Generating images...\n",
            "🔍 Loading checkpoint: /content/drive/MyDrive/DDIM11/ckpt/checkpoint_epoch42.pt\n",
            "✅ Using EMA weights\n",
            "🚀 Start batch inference: 1063 samples | Batch size=32\n"
          ]
        },
        {
          "output_type": "stream",
          "name": "stderr",
          "text": [
            "Batch generating: 100%|██████████| 34/34 [01:56<00:00,  3.42s/it]\n"
          ]
        },
        {
          "output_type": "stream",
          "name": "stdout",
          "text": [
            "[INFO] Loading test JSON file: /content/test.json.\n",
            "[INFO] Found 1063 images in the zip file.\n",
            "[INFO] Checking if all image paths from the test JSON file are present in the zip file.\n",
            "[INFO] Loading CLIP model: ViT-B-32-quickgelu with pretrained weights: openai.\n",
            "[INFO] Calculating CLIP scores for 1063 images...\n"
          ]
        },
        {
          "output_type": "stream",
          "name": "stderr",
          "text": [
            "100%|██████████| 34/34 [00:01<00:00, 17.26it/s]\n"
          ]
        },
        {
          "output_type": "stream",
          "name": "stdout",
          "text": [
            "CLIP Image-Text Score: 0.294582\n",
            "[INFO] Found 1063 images in the zip file.\n",
            "[INFO] Generating Inception model features...\n"
          ]
        },
        {
          "output_type": "stream",
          "name": "stderr",
          "text": []
        },
        {
          "output_type": "stream",
          "name": "stdout",
          "text": [
            "[INFO] Calculating FID score...\n",
            "[INFO] FID score: 64.6524.\n",
            "✅ Epoch 42 scores:\n",
            "  FID: 64.6524\n",
            "  CLIP Image-Text Score: 0.2946\n",
            "\n",
            "🎯 Epoch 44: Generating images...\n",
            "🔍 Loading checkpoint: /content/drive/MyDrive/DDIM11/ckpt/checkpoint_epoch44.pt\n",
            "✅ Using EMA weights\n",
            "🚀 Start batch inference: 1063 samples | Batch size=32\n"
          ]
        },
        {
          "output_type": "stream",
          "name": "stderr",
          "text": [
            "Batch generating: 100%|██████████| 34/34 [01:56<00:00,  3.42s/it]\n"
          ]
        },
        {
          "output_type": "stream",
          "name": "stdout",
          "text": [
            "[INFO] Loading test JSON file: /content/test.json.\n",
            "[INFO] Found 1063 images in the zip file.\n",
            "[INFO] Checking if all image paths from the test JSON file are present in the zip file.\n",
            "[INFO] Loading CLIP model: ViT-B-32-quickgelu with pretrained weights: openai.\n",
            "[INFO] Calculating CLIP scores for 1063 images...\n"
          ]
        },
        {
          "output_type": "stream",
          "name": "stderr",
          "text": [
            "100%|██████████| 34/34 [00:01<00:00, 17.17it/s]\n"
          ]
        },
        {
          "output_type": "stream",
          "name": "stdout",
          "text": [
            "CLIP Image-Text Score: 0.293201\n",
            "[INFO] Found 1063 images in the zip file.\n",
            "[INFO] Generating Inception model features...\n"
          ]
        },
        {
          "output_type": "stream",
          "name": "stderr",
          "text": []
        },
        {
          "output_type": "stream",
          "name": "stdout",
          "text": [
            "[INFO] Calculating FID score...\n",
            "[INFO] FID score: 65.9728.\n",
            "✅ Epoch 44 scores:\n",
            "  FID: 65.9728\n",
            "  CLIP Image-Text Score: 0.2932\n",
            "\n",
            "🎯 Epoch 45: Generating images...\n",
            "🔍 Loading checkpoint: /content/drive/MyDrive/DDIM11/ckpt/checkpoint_epoch45.pt\n",
            "✅ Using EMA weights\n",
            "🚀 Start batch inference: 1063 samples | Batch size=32\n"
          ]
        },
        {
          "output_type": "stream",
          "name": "stderr",
          "text": [
            "Batch generating: 100%|██████████| 34/34 [01:56<00:00,  3.42s/it]\n"
          ]
        },
        {
          "output_type": "stream",
          "name": "stdout",
          "text": [
            "[INFO] Loading test JSON file: /content/test.json.\n",
            "[INFO] Found 1063 images in the zip file.\n",
            "[INFO] Checking if all image paths from the test JSON file are present in the zip file.\n",
            "[INFO] Loading CLIP model: ViT-B-32-quickgelu with pretrained weights: openai.\n",
            "[INFO] Calculating CLIP scores for 1063 images...\n"
          ]
        },
        {
          "output_type": "stream",
          "name": "stderr",
          "text": [
            "100%|██████████| 34/34 [00:01<00:00, 17.34it/s]\n"
          ]
        },
        {
          "output_type": "stream",
          "name": "stdout",
          "text": [
            "CLIP Image-Text Score: 0.292750\n",
            "[INFO] Found 1063 images in the zip file.\n",
            "[INFO] Generating Inception model features...\n"
          ]
        },
        {
          "output_type": "stream",
          "name": "stderr",
          "text": []
        },
        {
          "output_type": "stream",
          "name": "stdout",
          "text": [
            "[INFO] Calculating FID score...\n",
            "[INFO] FID score: 65.1887.\n",
            "✅ Epoch 45 scores:\n",
            "  FID: 65.1887\n",
            "  CLIP Image-Text Score: 0.2928\n",
            "\n",
            "🎯 Epoch 48: Generating images...\n",
            "🔍 Loading checkpoint: /content/drive/MyDrive/DDIM11/ckpt/checkpoint_epoch48.pt\n",
            "✅ Using EMA weights\n",
            "🚀 Start batch inference: 1063 samples | Batch size=32\n"
          ]
        },
        {
          "output_type": "stream",
          "name": "stderr",
          "text": [
            "Batch generating: 100%|██████████| 34/34 [01:56<00:00,  3.42s/it]\n"
          ]
        },
        {
          "output_type": "stream",
          "name": "stdout",
          "text": [
            "[INFO] Loading test JSON file: /content/test.json.\n",
            "[INFO] Found 1063 images in the zip file.\n",
            "[INFO] Checking if all image paths from the test JSON file are present in the zip file.\n",
            "[INFO] Loading CLIP model: ViT-B-32-quickgelu with pretrained weights: openai.\n",
            "[INFO] Calculating CLIP scores for 1063 images...\n"
          ]
        },
        {
          "output_type": "stream",
          "name": "stderr",
          "text": [
            "100%|██████████| 34/34 [00:02<00:00, 16.78it/s]\n"
          ]
        },
        {
          "output_type": "stream",
          "name": "stdout",
          "text": [
            "CLIP Image-Text Score: 0.293448\n",
            "[INFO] Found 1063 images in the zip file.\n",
            "[INFO] Generating Inception model features...\n"
          ]
        },
        {
          "output_type": "stream",
          "name": "stderr",
          "text": []
        },
        {
          "output_type": "stream",
          "name": "stdout",
          "text": [
            "[INFO] Calculating FID score...\n",
            "[INFO] FID score: 66.5829.\n",
            "✅ Epoch 48 scores:\n",
            "  FID: 66.5829\n",
            "  CLIP Image-Text Score: 0.2934\n",
            "\n",
            "🎯 Epoch 51: Generating images...\n",
            "🔍 Loading checkpoint: /content/drive/MyDrive/DDIM11/ckpt/checkpoint_epoch51.pt\n",
            "✅ Using EMA weights\n",
            "🚀 Start batch inference: 1063 samples | Batch size=32\n"
          ]
        },
        {
          "output_type": "stream",
          "name": "stderr",
          "text": [
            "Batch generating: 100%|██████████| 34/34 [01:56<00:00,  3.41s/it]\n"
          ]
        },
        {
          "output_type": "stream",
          "name": "stdout",
          "text": [
            "[INFO] Loading test JSON file: /content/test.json.\n",
            "[INFO] Found 1063 images in the zip file.\n",
            "[INFO] Checking if all image paths from the test JSON file are present in the zip file.\n",
            "[INFO] Loading CLIP model: ViT-B-32-quickgelu with pretrained weights: openai.\n",
            "[INFO] Calculating CLIP scores for 1063 images...\n"
          ]
        },
        {
          "output_type": "stream",
          "name": "stderr",
          "text": [
            "100%|██████████| 34/34 [00:01<00:00, 17.43it/s]\n"
          ]
        },
        {
          "output_type": "stream",
          "name": "stdout",
          "text": [
            "CLIP Image-Text Score: 0.292996\n",
            "[INFO] Found 1063 images in the zip file.\n",
            "[INFO] Generating Inception model features...\n"
          ]
        },
        {
          "output_type": "stream",
          "name": "stderr",
          "text": []
        },
        {
          "output_type": "stream",
          "name": "stdout",
          "text": [
            "[INFO] Calculating FID score...\n",
            "[INFO] FID score: 66.0174.\n",
            "✅ Epoch 51 scores:\n",
            "  FID: 66.0174\n",
            "  CLIP Image-Text Score: 0.2930\n",
            "\n",
            "🎯 Epoch 54: Generating images...\n",
            "🔍 Loading checkpoint: /content/drive/MyDrive/DDIM11/ckpt/checkpoint_epoch54.pt\n",
            "✅ Using EMA weights\n",
            "🚀 Start batch inference: 1063 samples | Batch size=32\n"
          ]
        },
        {
          "output_type": "stream",
          "name": "stderr",
          "text": [
            "Batch generating: 100%|██████████| 34/34 [01:56<00:00,  3.42s/it]\n"
          ]
        },
        {
          "output_type": "stream",
          "name": "stdout",
          "text": [
            "[INFO] Loading test JSON file: /content/test.json.\n",
            "[INFO] Found 1063 images in the zip file.\n",
            "[INFO] Checking if all image paths from the test JSON file are present in the zip file.\n",
            "[INFO] Loading CLIP model: ViT-B-32-quickgelu with pretrained weights: openai.\n",
            "[INFO] Calculating CLIP scores for 1063 images...\n"
          ]
        },
        {
          "output_type": "stream",
          "name": "stderr",
          "text": [
            "100%|██████████| 34/34 [00:02<00:00, 16.80it/s]\n"
          ]
        },
        {
          "output_type": "stream",
          "name": "stdout",
          "text": [
            "CLIP Image-Text Score: 0.290940\n",
            "[INFO] Found 1063 images in the zip file.\n",
            "[INFO] Generating Inception model features...\n"
          ]
        },
        {
          "output_type": "stream",
          "name": "stderr",
          "text": []
        },
        {
          "output_type": "stream",
          "name": "stdout",
          "text": [
            "[INFO] Calculating FID score...\n",
            "[INFO] FID score: 66.8105.\n",
            "✅ Epoch 54 scores:\n",
            "  FID: 66.8105\n",
            "  CLIP Image-Text Score: 0.2909\n",
            "\n",
            "🎯 Epoch 57: Generating images...\n",
            "🔍 Loading checkpoint: /content/drive/MyDrive/DDIM11/ckpt/checkpoint_epoch57.pt\n",
            "✅ Using EMA weights\n",
            "🚀 Start batch inference: 1063 samples | Batch size=32\n"
          ]
        },
        {
          "output_type": "stream",
          "name": "stderr",
          "text": [
            "Batch generating: 100%|██████████| 34/34 [01:56<00:00,  3.43s/it]\n"
          ]
        },
        {
          "output_type": "stream",
          "name": "stdout",
          "text": [
            "[INFO] Loading test JSON file: /content/test.json.\n",
            "[INFO] Found 1063 images in the zip file.\n",
            "[INFO] Checking if all image paths from the test JSON file are present in the zip file.\n",
            "[INFO] Loading CLIP model: ViT-B-32-quickgelu with pretrained weights: openai.\n",
            "[INFO] Calculating CLIP scores for 1063 images...\n"
          ]
        },
        {
          "output_type": "stream",
          "name": "stderr",
          "text": [
            "100%|██████████| 34/34 [00:02<00:00, 16.41it/s]\n"
          ]
        },
        {
          "output_type": "stream",
          "name": "stdout",
          "text": [
            "CLIP Image-Text Score: 0.291621\n",
            "[INFO] Found 1063 images in the zip file.\n",
            "[INFO] Generating Inception model features...\n"
          ]
        },
        {
          "output_type": "stream",
          "name": "stderr",
          "text": []
        },
        {
          "output_type": "stream",
          "name": "stdout",
          "text": [
            "[INFO] Calculating FID score...\n",
            "[INFO] FID score: 66.6930.\n",
            "✅ Epoch 57 scores:\n",
            "  FID: 66.6930\n",
            "  CLIP Image-Text Score: 0.2916\n",
            "\n",
            "🎯 Epoch 60: Generating images...\n",
            "🔍 Loading checkpoint: /content/drive/MyDrive/DDIM11/ckpt/checkpoint_epoch60.pt\n",
            "✅ Using EMA weights\n",
            "🚀 Start batch inference: 1063 samples | Batch size=32\n"
          ]
        },
        {
          "output_type": "stream",
          "name": "stderr",
          "text": [
            "Batch generating: 100%|██████████| 34/34 [01:56<00:00,  3.42s/it]\n"
          ]
        },
        {
          "output_type": "stream",
          "name": "stdout",
          "text": [
            "[INFO] Loading test JSON file: /content/test.json.\n",
            "[INFO] Found 1063 images in the zip file.\n",
            "[INFO] Checking if all image paths from the test JSON file are present in the zip file.\n",
            "[INFO] Loading CLIP model: ViT-B-32-quickgelu with pretrained weights: openai.\n",
            "[INFO] Calculating CLIP scores for 1063 images...\n"
          ]
        },
        {
          "output_type": "stream",
          "name": "stderr",
          "text": [
            "100%|██████████| 34/34 [00:01<00:00, 17.22it/s]\n"
          ]
        },
        {
          "output_type": "stream",
          "name": "stdout",
          "text": [
            "CLIP Image-Text Score: 0.290523\n",
            "[INFO] Found 1063 images in the zip file.\n",
            "[INFO] Generating Inception model features...\n"
          ]
        },
        {
          "output_type": "stream",
          "name": "stderr",
          "text": []
        },
        {
          "output_type": "stream",
          "name": "stdout",
          "text": [
            "[INFO] Calculating FID score...\n",
            "[INFO] FID score: 67.4679.\n",
            "✅ Epoch 60 scores:\n",
            "  FID: 67.4679\n",
            "  CLIP Image-Text Score: 0.2905\n",
            "\n",
            "📊 Summary:\n",
            "Epoch 18 | FID: 66.1790 | CLIP: 0.2969\n",
            "Epoch 19 | FID: 64.5799 | CLIP: 0.2965\n",
            "Epoch 20 | FID: 65.3892 | CLIP: 0.2974\n",
            "Epoch 21 | FID: 64.9630 | CLIP: 0.2966\n",
            "Epoch 22 | FID: 65.6065 | CLIP: 0.2972\n",
            "Epoch 23 | FID: 64.3640 | CLIP: 0.2966\n",
            "Epoch 24 | FID: 64.3622 | CLIP: 0.2982\n",
            "Epoch 25 | FID: 63.4355 | CLIP: 0.2973\n",
            "Epoch 26 | FID: 64.2562 | CLIP: 0.2965\n",
            "Epoch 27 | FID: 63.7908 | CLIP: 0.2969\n",
            "Epoch 28 | FID: 63.9797 | CLIP: 0.2969\n",
            "Epoch 29 | FID: 63.9325 | CLIP: 0.2972\n",
            "Epoch 30 | FID: 64.2378 | CLIP: 0.2967\n",
            "Epoch 31 | FID: 63.6412 | CLIP: 0.2975\n",
            "Epoch 32 | FID: 64.4058 | CLIP: 0.2963\n",
            "Epoch 33 | FID: 64.0102 | CLIP: 0.2963\n",
            "Epoch 34 | FID: 64.5579 | CLIP: 0.2952\n",
            "Epoch 35 | FID: 63.1682 | CLIP: 0.2963\n",
            "Epoch 36 | FID: 63.7153 | CLIP: 0.2957\n",
            "Epoch 38 | FID: 64.1416 | CLIP: 0.2956\n",
            "Epoch 40 | FID: 64.5231 | CLIP: 0.2950\n",
            "Epoch 42 | FID: 64.6524 | CLIP: 0.2946\n",
            "Epoch 44 | FID: 65.9728 | CLIP: 0.2932\n",
            "Epoch 45 | FID: 65.1887 | CLIP: 0.2928\n",
            "Epoch 48 | FID: 66.5829 | CLIP: 0.2934\n",
            "Epoch 51 | FID: 66.0174 | CLIP: 0.2930\n",
            "Epoch 54 | FID: 66.8105 | CLIP: 0.2909\n",
            "Epoch 57 | FID: 66.6930 | CLIP: 0.2916\n",
            "Epoch 60 | FID: 67.4679 | CLIP: 0.2905\n"
          ]
        }
      ]
    },
    {
      "cell_type": "code",
      "source": [
        "# 評分資料夾路徑\n",
        "eval_dir = \"/content/generated_eval1\"\n",
        "\n",
        "# 讀取所有 scores_ep*.json\n",
        "result_list = []\n",
        "for fname in sorted(os.listdir(eval_dir)):\n",
        "    match = re.match(r\"scores_ep(\\d+)\\.json\", fname)\n",
        "    if match:\n",
        "        epoch = int(match.group(1))\n",
        "        with open(os.path.join(eval_dir, fname), \"r\") as f:\n",
        "            data = json.load(f)\n",
        "            result_list.append({\n",
        "                \"epoch\": epoch,\n",
        "                \"FID\": data.get(\"FID\", None),\n",
        "                \"CLIP\": data.get(\"CLIP Image-Text Score\", None)\n",
        "            })\n",
        "\n",
        "# 照 epoch 排序\n",
        "result_list.sort(key=lambda x: x[\"epoch\"])\n",
        "\n",
        "# 提取資料\n",
        "epochs = [r[\"epoch\"] for r in result_list]\n",
        "fid_scores = [r[\"FID\"] for r in result_list]\n",
        "clip_scores = [r[\"CLIP\"] for r in result_list]\n",
        "\n",
        "# 畫 FID vs. Epoch\n",
        "plt.figure()\n",
        "plt.plot(epochs, fid_scores, marker='o')\n",
        "plt.xlabel(\"Epoch\")\n",
        "plt.ylabel(\"FID\")\n",
        "plt.title(\"FID Score vs. Epoch\")\n",
        "plt.grid(True)\n",
        "plt.xticks(epochs)\n",
        "plt.gca().invert_yaxis()  # FID 越低越好\n",
        "plt.show()\n",
        "\n",
        "# 畫 CLIP Score vs. Epoch\n",
        "plt.figure()\n",
        "plt.plot(epochs, clip_scores, marker='o')\n",
        "plt.xlabel(\"Epoch\")\n",
        "plt.ylabel(\"CLIP Image-Text Score\")\n",
        "plt.title(\"CLIP Score vs. Epoch\")\n",
        "plt.grid(True)\n",
        "plt.xticks(epochs)\n",
        "plt.show()"
      ],
      "metadata": {
        "colab": {
          "base_uri": "https://localhost:8080/",
          "height": 927
        },
        "id": "EOO9EoY37rEw",
        "outputId": "3cee27a9-45a0-4fdf-b493-9198faa11e91",
        "collapsed": true
      },
      "execution_count": null,
      "outputs": [
        {
          "output_type": "display_data",
          "data": {
            "text/plain": [
              "<Figure size 640x480 with 1 Axes>"
            ],
            "image/png": "[encoded data removed]"
          },
          "metadata": {}
        },
        {
          "output_type": "display_data",
          "data": {
            "text/plain": [
              "<Figure size 640x480 with 1 Axes>"
            ],
            "image/png": "[encoded data removed]"
          },
          "metadata": {}
        }
      ]
    },
    {
      "cell_type": "markdown",
      "source": [
        "### step=10, guidance=3"
      ],
      "metadata": {
        "id": "6lLwTa9G7VkV"
      }
    },
    {
      "cell_type": "code",
      "source": [
        "# 要測試的 epoch 清單\n",
        "target_epochs = [13,14,15,16,17,18,19,20,21,22,23,24,25,26,27,28,29,30,31,32,33,34,35,36,38,40,42]\n",
        "\n",
        "# 固定參數設定\n",
        "test_json_path = \"/content/test.json\"\n",
        "ref_mu_path = \"/content/drive/MyDrive/public_data/score/test_mu.npy\"\n",
        "ref_sigma_path = \"/content/drive/MyDrive/public_data/score/test_sigma.npy\"\n",
        "device = torch.device(\"cuda\" if torch.cuda.is_available() else \"cpu\")\n",
        "\n",
        "result_list = []\n",
        "os.makedirs(\"/content/generated_eval2\", exist_ok=True)\n",
        "for epoch in target_epochs:\n",
        "    ckpt_path = f\"/content/drive/MyDrive/DDIM11/ckpt/checkpoint_epoch{epoch}.pt\"\n",
        "    save_folder = f\"/content/generated_test11_{epoch}_10_3_2\"\n",
        "    os.makedirs(save_folder, exist_ok=True)\n",
        "\n",
        "    print(f\"\\n🎯 Epoch {epoch}: Generating images...\")\n",
        "\n",
        "    # 推論產圖\n",
        "    test_inference(\n",
        "        ckpt_path=ckpt_path,\n",
        "        test_json_path=test_json_path,\n",
        "        save_folder=save_folder,\n",
        "        steps=10,\n",
        "        guidance_scale=3,\n",
        "        batch_size=32\n",
        "    )\n",
        "\n",
        "    # 設定評分參數\n",
        "    args = SimpleNamespace(\n",
        "        ref_mu_path=ref_mu_path,\n",
        "        ref_sigma_path=ref_sigma_path,\n",
        "        test_json_path=test_json_path,\n",
        "        fake_img_root=save_folder,\n",
        "        image_size=256,\n",
        "        num_images=None,\n",
        "        scores=[\"fid\", \"clip_t\"],\n",
        "        model_name=\"ViT-B-32-quickgelu\",\n",
        "        pretrained=\"openai\",\n",
        "        batch_size=32,\n",
        "        num_workers=2,\n",
        "        verbose=True,\n",
        "        output_path=f\"/content/generated_eval2/scores_ep{epoch}.json\"\n",
        "    )\n",
        "\n",
        "    # 執行評分\n",
        "    output_json = {}\n",
        "    if 'clip_i' in args.scores or 'clip_t' in args.scores:\n",
        "        output_json.update(run_clip(args, device))\n",
        "    if 'fid' in args.scores:\n",
        "        output_json.update(run_fid(args, device))\n",
        "\n",
        "    # 印出分數\n",
        "    print(f\"✅ Epoch {epoch} scores:\")\n",
        "    for key in [\"FID\", \"CLIP Image-Text Score\"]:\n",
        "        if key in output_json:\n",
        "            print(f\"  {key}: {output_json[key]:.4f}\")\n",
        "\n",
        "    # 儲存分數\n",
        "    with open(args.output_path, \"w\") as f:\n",
        "        json.dump(output_json, f, indent=2)\n",
        "\n",
        "    # 收集結果\n",
        "    result_list.append({\n",
        "        \"epoch\": epoch,\n",
        "        \"FID\": output_json.get(\"FID\", None),\n",
        "        \"CLIP\": output_json.get(\"CLIP Image-Text Score\", None)\n",
        "    })\n",
        "\n",
        "# 總結\n",
        "print(\"\\n📊 Summary:\")\n",
        "for r in result_list:\n",
        "    print(f\"Epoch {r['epoch']:>2} | FID: {r['FID']:.4f} | CLIP: {r['CLIP']:.4f}\")"
      ],
      "metadata": {
        "colab": {
          "base_uri": "https://localhost:8080/"
        },
        "id": "xOCIguCs5IjM",
        "outputId": "45a5d9e2-c496-4391-e811-e087644ffb3c",
        "collapsed": true
      },
      "execution_count": null,
      "outputs": [
        {
          "output_type": "stream",
          "name": "stdout",
          "text": [
            "\n",
            "🎯 Epoch 13: Generating images...\n",
            "🔍 Loading checkpoint: /content/drive/MyDrive/DDIM11/ckpt/checkpoint_epoch13.pt\n",
            "✅ Using EMA weights\n",
            "🚀 Start batch inference: 1063 samples | Batch size=32\n"
          ]
        },
        {
          "output_type": "stream",
          "name": "stderr",
          "text": [
            "Batch generating: 100%|██████████| 34/34 [01:57<00:00,  3.45s/it]\n"
          ]
        },
        {
          "output_type": "stream",
          "name": "stdout",
          "text": [
            "[INFO] Loading test JSON file: /content/test.json.\n",
            "[INFO] Found 1063 images in the zip file.\n",
            "[INFO] Checking if all image paths from the test JSON file are present in the zip file.\n",
            "[INFO] Loading CLIP model: ViT-B-32-quickgelu with pretrained weights: openai.\n",
            "[INFO] Calculating CLIP scores for 1063 images...\n"
          ]
        },
        {
          "output_type": "stream",
          "name": "stderr",
          "text": [
            "100%|██████████| 34/34 [00:01<00:00, 17.10it/s]\n"
          ]
        },
        {
          "output_type": "stream",
          "name": "stdout",
          "text": [
            "CLIP Image-Text Score: 0.292454\n",
            "[INFO] Found 1063 images in the zip file.\n",
            "[INFO] Generating Inception model features...\n"
          ]
        },
        {
          "output_type": "stream",
          "name": "stderr",
          "text": []
        },
        {
          "output_type": "stream",
          "name": "stdout",
          "text": [
            "[INFO] Calculating FID score...\n",
            "[INFO] FID score: 70.1248.\n",
            "✅ Epoch 13 scores:\n",
            "  FID: 70.1248\n",
            "  CLIP Image-Text Score: 0.2925\n",
            "\n",
            "🎯 Epoch 14: Generating images...\n",
            "🔍 Loading checkpoint: /content/drive/MyDrive/DDIM11/ckpt/checkpoint_epoch14.pt\n",
            "✅ Using EMA weights\n",
            "🚀 Start batch inference: 1063 samples | Batch size=32\n"
          ]
        },
        {
          "output_type": "stream",
          "name": "stderr",
          "text": [
            "Batch generating: 100%|██████████| 34/34 [01:56<00:00,  3.44s/it]\n"
          ]
        },
        {
          "output_type": "stream",
          "name": "stdout",
          "text": [
            "[INFO] Loading test JSON file: /content/test.json.\n",
            "[INFO] Found 1063 images in the zip file.\n",
            "[INFO] Checking if all image paths from the test JSON file are present in the zip file.\n",
            "[INFO] Loading CLIP model: ViT-B-32-quickgelu with pretrained weights: openai.\n",
            "[INFO] Calculating CLIP scores for 1063 images...\n"
          ]
        },
        {
          "output_type": "stream",
          "name": "stderr",
          "text": [
            "100%|██████████| 34/34 [00:01<00:00, 17.14it/s]\n"
          ]
        },
        {
          "output_type": "stream",
          "name": "stdout",
          "text": [
            "CLIP Image-Text Score: 0.295453\n",
            "[INFO] Found 1063 images in the zip file.\n",
            "[INFO] Generating Inception model features...\n"
          ]
        },
        {
          "output_type": "stream",
          "name": "stderr",
          "text": []
        },
        {
          "output_type": "stream",
          "name": "stdout",
          "text": [
            "[INFO] Calculating FID score...\n",
            "[INFO] FID score: 67.8451.\n",
            "✅ Epoch 14 scores:\n",
            "  FID: 67.8451\n",
            "  CLIP Image-Text Score: 0.2955\n",
            "\n",
            "🎯 Epoch 15: Generating images...\n",
            "🔍 Loading checkpoint: /content/drive/MyDrive/DDIM11/ckpt/checkpoint_epoch15.pt\n",
            "✅ Using EMA weights\n",
            "🚀 Start batch inference: 1063 samples | Batch size=32\n"
          ]
        },
        {
          "output_type": "stream",
          "name": "stderr",
          "text": [
            "Batch generating: 100%|██████████| 34/34 [01:56<00:00,  3.43s/it]\n"
          ]
        },
        {
          "output_type": "stream",
          "name": "stdout",
          "text": [
            "[INFO] Loading test JSON file: /content/test.json.\n",
            "[INFO] Found 1063 images in the zip file.\n",
            "[INFO] Checking if all image paths from the test JSON file are present in the zip file.\n",
            "[INFO] Loading CLIP model: ViT-B-32-quickgelu with pretrained weights: openai.\n",
            "[INFO] Calculating CLIP scores for 1063 images...\n"
          ]
        },
        {
          "output_type": "stream",
          "name": "stderr",
          "text": [
            "100%|██████████| 34/34 [00:01<00:00, 17.01it/s]\n"
          ]
        },
        {
          "output_type": "stream",
          "name": "stdout",
          "text": [
            "CLIP Image-Text Score: 0.296855\n",
            "[INFO] Found 1063 images in the zip file.\n",
            "[INFO] Generating Inception model features...\n"
          ]
        },
        {
          "output_type": "stream",
          "name": "stderr",
          "text": []
        },
        {
          "output_type": "stream",
          "name": "stdout",
          "text": [
            "[INFO] Calculating FID score...\n",
            "[INFO] FID score: 66.4611.\n",
            "✅ Epoch 15 scores:\n",
            "  FID: 66.4611\n",
            "  CLIP Image-Text Score: 0.2969\n",
            "\n",
            "🎯 Epoch 16: Generating images...\n",
            "🔍 Loading checkpoint: /content/drive/MyDrive/DDIM11/ckpt/checkpoint_epoch16.pt\n",
            "✅ Using EMA weights\n",
            "🚀 Start batch inference: 1063 samples | Batch size=32\n"
          ]
        },
        {
          "output_type": "stream",
          "name": "stderr",
          "text": [
            "Batch generating: 100%|██████████| 34/34 [01:56<00:00,  3.43s/it]\n"
          ]
        },
        {
          "output_type": "stream",
          "name": "stdout",
          "text": [
            "[INFO] Loading test JSON file: /content/test.json.\n",
            "[INFO] Found 1063 images in the zip file.\n",
            "[INFO] Checking if all image paths from the test JSON file are present in the zip file.\n",
            "[INFO] Loading CLIP model: ViT-B-32-quickgelu with pretrained weights: openai.\n",
            "[INFO] Calculating CLIP scores for 1063 images...\n"
          ]
        },
        {
          "output_type": "stream",
          "name": "stderr",
          "text": [
            "100%|██████████| 34/34 [00:01<00:00, 17.07it/s]\n"
          ]
        },
        {
          "output_type": "stream",
          "name": "stdout",
          "text": [
            "CLIP Image-Text Score: 0.297044\n",
            "[INFO] Found 1063 images in the zip file.\n",
            "[INFO] Generating Inception model features...\n"
          ]
        },
        {
          "output_type": "stream",
          "name": "stderr",
          "text": []
        },
        {
          "output_type": "stream",
          "name": "stdout",
          "text": [
            "[INFO] Calculating FID score...\n",
            "[INFO] FID score: 66.8658.\n",
            "✅ Epoch 16 scores:\n",
            "  FID: 66.8658\n",
            "  CLIP Image-Text Score: 0.2970\n",
            "\n",
            "🎯 Epoch 17: Generating images...\n",
            "🔍 Loading checkpoint: /content/drive/MyDrive/DDIM11/ckpt/checkpoint_epoch17.pt\n",
            "✅ Using EMA weights\n",
            "🚀 Start batch inference: 1063 samples | Batch size=32\n"
          ]
        },
        {
          "output_type": "stream",
          "name": "stderr",
          "text": [
            "Batch generating: 100%|██████████| 34/34 [01:56<00:00,  3.41s/it]\n"
          ]
        },
        {
          "output_type": "stream",
          "name": "stdout",
          "text": [
            "[INFO] Loading test JSON file: /content/test.json.\n",
            "[INFO] Found 1063 images in the zip file.\n",
            "[INFO] Checking if all image paths from the test JSON file are present in the zip file.\n",
            "[INFO] Loading CLIP model: ViT-B-32-quickgelu with pretrained weights: openai.\n",
            "[INFO] Calculating CLIP scores for 1063 images...\n"
          ]
        },
        {
          "output_type": "stream",
          "name": "stderr",
          "text": [
            "100%|██████████| 34/34 [00:02<00:00, 16.18it/s]\n"
          ]
        },
        {
          "output_type": "stream",
          "name": "stdout",
          "text": [
            "CLIP Image-Text Score: 0.298122\n",
            "[INFO] Found 1063 images in the zip file.\n",
            "[INFO] Generating Inception model features...\n"
          ]
        },
        {
          "output_type": "stream",
          "name": "stderr",
          "text": []
        },
        {
          "output_type": "stream",
          "name": "stdout",
          "text": [
            "[INFO] Calculating FID score...\n",
            "[INFO] FID score: 64.0278.\n",
            "✅ Epoch 17 scores:\n",
            "  FID: 64.0278\n",
            "  CLIP Image-Text Score: 0.2981\n",
            "\n",
            "🎯 Epoch 18: Generating images...\n",
            "🔍 Loading checkpoint: /content/drive/MyDrive/DDIM11/ckpt/checkpoint_epoch18.pt\n",
            "✅ Using EMA weights\n",
            "🚀 Start batch inference: 1063 samples | Batch size=32\n"
          ]
        },
        {
          "output_type": "stream",
          "name": "stderr",
          "text": [
            "Batch generating: 100%|██████████| 34/34 [01:56<00:00,  3.42s/it]\n"
          ]
        },
        {
          "output_type": "stream",
          "name": "stdout",
          "text": [
            "[INFO] Loading test JSON file: /content/test.json.\n",
            "[INFO] Found 1063 images in the zip file.\n",
            "[INFO] Checking if all image paths from the test JSON file are present in the zip file.\n",
            "[INFO] Loading CLIP model: ViT-B-32-quickgelu with pretrained weights: openai.\n",
            "[INFO] Calculating CLIP scores for 1063 images...\n"
          ]
        },
        {
          "output_type": "stream",
          "name": "stderr",
          "text": [
            "100%|██████████| 34/34 [00:02<00:00, 16.90it/s]\n"
          ]
        },
        {
          "output_type": "stream",
          "name": "stdout",
          "text": [
            "CLIP Image-Text Score: 0.298840\n",
            "[INFO] Found 1063 images in the zip file.\n",
            "[INFO] Generating Inception model features...\n"
          ]
        },
        {
          "output_type": "stream",
          "name": "stderr",
          "text": []
        },
        {
          "output_type": "stream",
          "name": "stdout",
          "text": [
            "[INFO] Calculating FID score...\n",
            "[INFO] FID score: 63.9771.\n",
            "✅ Epoch 18 scores:\n",
            "  FID: 63.9771\n",
            "  CLIP Image-Text Score: 0.2988\n",
            "\n",
            "🎯 Epoch 19: Generating images...\n",
            "🔍 Loading checkpoint: /content/drive/MyDrive/DDIM11/ckpt/checkpoint_epoch19.pt\n",
            "✅ Using EMA weights\n",
            "🚀 Start batch inference: 1063 samples | Batch size=32\n"
          ]
        },
        {
          "output_type": "stream",
          "name": "stderr",
          "text": [
            "Batch generating: 100%|██████████| 34/34 [01:56<00:00,  3.42s/it]\n"
          ]
        },
        {
          "output_type": "stream",
          "name": "stdout",
          "text": [
            "[INFO] Loading test JSON file: /content/test.json.\n",
            "[INFO] Found 1063 images in the zip file.\n",
            "[INFO] Checking if all image paths from the test JSON file are present in the zip file.\n",
            "[INFO] Loading CLIP model: ViT-B-32-quickgelu with pretrained weights: openai.\n",
            "[INFO] Calculating CLIP scores for 1063 images...\n"
          ]
        },
        {
          "output_type": "stream",
          "name": "stderr",
          "text": [
            "100%|██████████| 34/34 [00:02<00:00, 16.76it/s]\n"
          ]
        },
        {
          "output_type": "stream",
          "name": "stdout",
          "text": [
            "CLIP Image-Text Score: 0.299505\n",
            "[INFO] Found 1063 images in the zip file.\n",
            "[INFO] Generating Inception model features...\n"
          ]
        },
        {
          "output_type": "stream",
          "name": "stderr",
          "text": []
        },
        {
          "output_type": "stream",
          "name": "stdout",
          "text": [
            "[INFO] Calculating FID score...\n",
            "[INFO] FID score: 63.3648.\n",
            "✅ Epoch 19 scores:\n",
            "  FID: 63.3648\n",
            "  CLIP Image-Text Score: 0.2995\n",
            "\n",
            "🎯 Epoch 20: Generating images...\n",
            "🔍 Loading checkpoint: /content/drive/MyDrive/DDIM11/ckpt/checkpoint_epoch20.pt\n",
            "✅ Using EMA weights\n",
            "🚀 Start batch inference: 1063 samples | Batch size=32\n"
          ]
        },
        {
          "output_type": "stream",
          "name": "stderr",
          "text": [
            "Batch generating: 100%|██████████| 34/34 [01:56<00:00,  3.42s/it]\n"
          ]
        },
        {
          "output_type": "stream",
          "name": "stdout",
          "text": [
            "[INFO] Loading test JSON file: /content/test.json.\n",
            "[INFO] Found 1063 images in the zip file.\n",
            "[INFO] Checking if all image paths from the test JSON file are present in the zip file.\n",
            "[INFO] Loading CLIP model: ViT-B-32-quickgelu with pretrained weights: openai.\n",
            "[INFO] Calculating CLIP scores for 1063 images...\n"
          ]
        },
        {
          "output_type": "stream",
          "name": "stderr",
          "text": [
            "100%|██████████| 34/34 [00:02<00:00, 16.55it/s]\n"
          ]
        },
        {
          "output_type": "stream",
          "name": "stdout",
          "text": [
            "CLIP Image-Text Score: 0.299409\n",
            "[INFO] Found 1063 images in the zip file.\n",
            "[INFO] Generating Inception model features...\n"
          ]
        },
        {
          "output_type": "stream",
          "name": "stderr",
          "text": []
        },
        {
          "output_type": "stream",
          "name": "stdout",
          "text": [
            "[INFO] Calculating FID score...\n",
            "[INFO] FID score: 62.9959.\n",
            "✅ Epoch 20 scores:\n",
            "  FID: 62.9959\n",
            "  CLIP Image-Text Score: 0.2994\n",
            "\n",
            "🎯 Epoch 21: Generating images...\n",
            "🔍 Loading checkpoint: /content/drive/MyDrive/DDIM11/ckpt/checkpoint_epoch21.pt\n",
            "✅ Using EMA weights\n",
            "🚀 Start batch inference: 1063 samples | Batch size=32\n"
          ]
        },
        {
          "output_type": "stream",
          "name": "stderr",
          "text": [
            "Batch generating: 100%|██████████| 34/34 [01:56<00:00,  3.42s/it]\n"
          ]
        },
        {
          "output_type": "stream",
          "name": "stdout",
          "text": [
            "[INFO] Loading test JSON file: /content/test.json.\n",
            "[INFO] Found 1063 images in the zip file.\n",
            "[INFO] Checking if all image paths from the test JSON file are present in the zip file.\n",
            "[INFO] Loading CLIP model: ViT-B-32-quickgelu with pretrained weights: openai.\n",
            "[INFO] Calculating CLIP scores for 1063 images...\n"
          ]
        },
        {
          "output_type": "stream",
          "name": "stderr",
          "text": [
            "100%|██████████| 34/34 [00:01<00:00, 17.25it/s]\n"
          ]
        },
        {
          "output_type": "stream",
          "name": "stdout",
          "text": [
            "CLIP Image-Text Score: 0.299132\n",
            "[INFO] Found 1063 images in the zip file.\n",
            "[INFO] Generating Inception model features...\n"
          ]
        },
        {
          "output_type": "stream",
          "name": "stderr",
          "text": []
        },
        {
          "output_type": "stream",
          "name": "stdout",
          "text": [
            "[INFO] Calculating FID score...\n",
            "[INFO] FID score: 62.8496.\n",
            "✅ Epoch 21 scores:\n",
            "  FID: 62.8496\n",
            "  CLIP Image-Text Score: 0.2991\n",
            "\n",
            "🎯 Epoch 22: Generating images...\n",
            "🔍 Loading checkpoint: /content/drive/MyDrive/DDIM11/ckpt/checkpoint_epoch22.pt\n",
            "✅ Using EMA weights\n",
            "🚀 Start batch inference: 1063 samples | Batch size=32\n"
          ]
        },
        {
          "output_type": "stream",
          "name": "stderr",
          "text": [
            "Batch generating: 100%|██████████| 34/34 [01:56<00:00,  3.42s/it]\n"
          ]
        },
        {
          "output_type": "stream",
          "name": "stdout",
          "text": [
            "[INFO] Loading test JSON file: /content/test.json.\n",
            "[INFO] Found 1063 images in the zip file.\n",
            "[INFO] Checking if all image paths from the test JSON file are present in the zip file.\n",
            "[INFO] Loading CLIP model: ViT-B-32-quickgelu with pretrained weights: openai.\n",
            "[INFO] Calculating CLIP scores for 1063 images...\n"
          ]
        },
        {
          "output_type": "stream",
          "name": "stderr",
          "text": [
            "100%|██████████| 34/34 [00:01<00:00, 17.35it/s]\n"
          ]
        },
        {
          "output_type": "stream",
          "name": "stdout",
          "text": [
            "CLIP Image-Text Score: 0.298612\n",
            "[INFO] Found 1063 images in the zip file.\n",
            "[INFO] Generating Inception model features...\n"
          ]
        },
        {
          "output_type": "stream",
          "name": "stderr",
          "text": []
        },
        {
          "output_type": "stream",
          "name": "stdout",
          "text": [
            "[INFO] Calculating FID score...\n",
            "[INFO] FID score: 63.4465.\n",
            "✅ Epoch 22 scores:\n",
            "  FID: 63.4465\n",
            "  CLIP Image-Text Score: 0.2986\n",
            "\n",
            "🎯 Epoch 23: Generating images...\n",
            "🔍 Loading checkpoint: /content/drive/MyDrive/DDIM11/ckpt/checkpoint_epoch23.pt\n",
            "✅ Using EMA weights\n",
            "🚀 Start batch inference: 1063 samples | Batch size=32\n"
          ]
        },
        {
          "output_type": "stream",
          "name": "stderr",
          "text": [
            "Batch generating: 100%|██████████| 34/34 [01:56<00:00,  3.42s/it]\n"
          ]
        },
        {
          "output_type": "stream",
          "name": "stdout",
          "text": [
            "[INFO] Loading test JSON file: /content/test.json.\n",
            "[INFO] Found 1063 images in the zip file.\n",
            "[INFO] Checking if all image paths from the test JSON file are present in the zip file.\n",
            "[INFO] Loading CLIP model: ViT-B-32-quickgelu with pretrained weights: openai.\n",
            "[INFO] Calculating CLIP scores for 1063 images...\n"
          ]
        },
        {
          "output_type": "stream",
          "name": "stderr",
          "text": [
            "100%|██████████| 34/34 [00:02<00:00, 16.83it/s]\n"
          ]
        },
        {
          "output_type": "stream",
          "name": "stdout",
          "text": [
            "CLIP Image-Text Score: 0.298797\n",
            "[INFO] Found 1063 images in the zip file.\n",
            "[INFO] Generating Inception model features...\n"
          ]
        },
        {
          "output_type": "stream",
          "name": "stderr",
          "text": []
        },
        {
          "output_type": "stream",
          "name": "stdout",
          "text": [
            "[INFO] Calculating FID score...\n",
            "[INFO] FID score: 62.2995.\n",
            "✅ Epoch 23 scores:\n",
            "  FID: 62.2995\n",
            "  CLIP Image-Text Score: 0.2988\n",
            "\n",
            "🎯 Epoch 24: Generating images...\n",
            "🔍 Loading checkpoint: /content/drive/MyDrive/DDIM11/ckpt/checkpoint_epoch24.pt\n",
            "✅ Using EMA weights\n",
            "🚀 Start batch inference: 1063 samples | Batch size=32\n"
          ]
        },
        {
          "output_type": "stream",
          "name": "stderr",
          "text": [
            "Batch generating: 100%|██████████| 34/34 [01:56<00:00,  3.42s/it]\n"
          ]
        },
        {
          "output_type": "stream",
          "name": "stdout",
          "text": [
            "[INFO] Loading test JSON file: /content/test.json.\n",
            "[INFO] Found 1063 images in the zip file.\n",
            "[INFO] Checking if all image paths from the test JSON file are present in the zip file.\n",
            "[INFO] Loading CLIP model: ViT-B-32-quickgelu with pretrained weights: openai.\n",
            "[INFO] Calculating CLIP scores for 1063 images...\n"
          ]
        },
        {
          "output_type": "stream",
          "name": "stderr",
          "text": [
            "100%|██████████| 34/34 [00:01<00:00, 17.00it/s]\n"
          ]
        },
        {
          "output_type": "stream",
          "name": "stdout",
          "text": [
            "CLIP Image-Text Score: 0.299995\n",
            "[INFO] Found 1063 images in the zip file.\n",
            "[INFO] Generating Inception model features...\n"
          ]
        },
        {
          "output_type": "stream",
          "name": "stderr",
          "text": []
        },
        {
          "output_type": "stream",
          "name": "stdout",
          "text": [
            "[INFO] Calculating FID score...\n",
            "[INFO] FID score: 63.3627.\n",
            "✅ Epoch 24 scores:\n",
            "  FID: 63.3627\n",
            "  CLIP Image-Text Score: 0.3000\n",
            "\n",
            "🎯 Epoch 25: Generating images...\n",
            "🔍 Loading checkpoint: /content/drive/MyDrive/DDIM11/ckpt/checkpoint_epoch25.pt\n",
            "✅ Using EMA weights\n",
            "🚀 Start batch inference: 1063 samples | Batch size=32\n"
          ]
        },
        {
          "output_type": "stream",
          "name": "stderr",
          "text": [
            "Batch generating: 100%|██████████| 34/34 [01:56<00:00,  3.42s/it]\n"
          ]
        },
        {
          "output_type": "stream",
          "name": "stdout",
          "text": [
            "[INFO] Loading test JSON file: /content/test.json.\n",
            "[INFO] Found 1063 images in the zip file.\n",
            "[INFO] Checking if all image paths from the test JSON file are present in the zip file.\n",
            "[INFO] Loading CLIP model: ViT-B-32-quickgelu with pretrained weights: openai.\n",
            "[INFO] Calculating CLIP scores for 1063 images...\n"
          ]
        },
        {
          "output_type": "stream",
          "name": "stderr",
          "text": [
            "100%|██████████| 34/34 [00:01<00:00, 17.01it/s]\n"
          ]
        },
        {
          "output_type": "stream",
          "name": "stdout",
          "text": [
            "CLIP Image-Text Score: 0.299843\n",
            "[INFO] Found 1063 images in the zip file.\n",
            "[INFO] Generating Inception model features...\n"
          ]
        },
        {
          "output_type": "stream",
          "name": "stderr",
          "text": []
        },
        {
          "output_type": "stream",
          "name": "stdout",
          "text": [
            "[INFO] Calculating FID score...\n",
            "[INFO] FID score: 62.8520.\n",
            "✅ Epoch 25 scores:\n",
            "  FID: 62.8520\n",
            "  CLIP Image-Text Score: 0.2998\n",
            "\n",
            "🎯 Epoch 26: Generating images...\n",
            "🔍 Loading checkpoint: /content/drive/MyDrive/DDIM11/ckpt/checkpoint_epoch26.pt\n",
            "✅ Using EMA weights\n",
            "🚀 Start batch inference: 1063 samples | Batch size=32\n"
          ]
        },
        {
          "output_type": "stream",
          "name": "stderr",
          "text": [
            "Batch generating: 100%|██████████| 34/34 [01:56<00:00,  3.42s/it]\n"
          ]
        },
        {
          "output_type": "stream",
          "name": "stdout",
          "text": [
            "[INFO] Loading test JSON file: /content/test.json.\n",
            "[INFO] Found 1063 images in the zip file.\n",
            "[INFO] Checking if all image paths from the test JSON file are present in the zip file.\n",
            "[INFO] Loading CLIP model: ViT-B-32-quickgelu with pretrained weights: openai.\n",
            "[INFO] Calculating CLIP scores for 1063 images...\n"
          ]
        },
        {
          "output_type": "stream",
          "name": "stderr",
          "text": [
            "100%|██████████| 34/34 [00:01<00:00, 17.17it/s]\n"
          ]
        },
        {
          "output_type": "stream",
          "name": "stdout",
          "text": [
            "CLIP Image-Text Score: 0.300178\n",
            "[INFO] Found 1063 images in the zip file.\n",
            "[INFO] Generating Inception model features...\n"
          ]
        },
        {
          "output_type": "stream",
          "name": "stderr",
          "text": []
        },
        {
          "output_type": "stream",
          "name": "stdout",
          "text": [
            "[INFO] Calculating FID score...\n",
            "[INFO] FID score: 63.2505.\n",
            "✅ Epoch 26 scores:\n",
            "  FID: 63.2505\n",
            "  CLIP Image-Text Score: 0.3002\n",
            "\n",
            "🎯 Epoch 27: Generating images...\n",
            "🔍 Loading checkpoint: /content/drive/MyDrive/DDIM11/ckpt/checkpoint_epoch27.pt\n",
            "✅ Using EMA weights\n",
            "🚀 Start batch inference: 1063 samples | Batch size=32\n"
          ]
        },
        {
          "output_type": "stream",
          "name": "stderr",
          "text": [
            "Batch generating: 100%|██████████| 34/34 [01:56<00:00,  3.41s/it]\n"
          ]
        },
        {
          "output_type": "stream",
          "name": "stdout",
          "text": [
            "[INFO] Loading test JSON file: /content/test.json.\n",
            "[INFO] Found 1063 images in the zip file.\n",
            "[INFO] Checking if all image paths from the test JSON file are present in the zip file.\n",
            "[INFO] Loading CLIP model: ViT-B-32-quickgelu with pretrained weights: openai.\n",
            "[INFO] Calculating CLIP scores for 1063 images...\n"
          ]
        },
        {
          "output_type": "stream",
          "name": "stderr",
          "text": [
            "100%|██████████| 34/34 [00:01<00:00, 17.21it/s]\n"
          ]
        },
        {
          "output_type": "stream",
          "name": "stdout",
          "text": [
            "CLIP Image-Text Score: 0.298760\n",
            "[INFO] Found 1063 images in the zip file.\n",
            "[INFO] Generating Inception model features...\n"
          ]
        },
        {
          "output_type": "stream",
          "name": "stderr",
          "text": []
        },
        {
          "output_type": "stream",
          "name": "stdout",
          "text": [
            "[INFO] Calculating FID score...\n",
            "[INFO] FID score: 61.0587.\n",
            "✅ Epoch 27 scores:\n",
            "  FID: 61.0587\n",
            "  CLIP Image-Text Score: 0.2988\n",
            "\n",
            "🎯 Epoch 28: Generating images...\n",
            "🔍 Loading checkpoint: /content/drive/MyDrive/DDIM11/ckpt/checkpoint_epoch28.pt\n",
            "✅ Using EMA weights\n",
            "🚀 Start batch inference: 1063 samples | Batch size=32\n"
          ]
        },
        {
          "output_type": "stream",
          "name": "stderr",
          "text": [
            "Batch generating: 100%|██████████| 34/34 [01:56<00:00,  3.42s/it]\n"
          ]
        },
        {
          "output_type": "stream",
          "name": "stdout",
          "text": [
            "[INFO] Loading test JSON file: /content/test.json.\n",
            "[INFO] Found 1063 images in the zip file.\n",
            "[INFO] Checking if all image paths from the test JSON file are present in the zip file.\n",
            "[INFO] Loading CLIP model: ViT-B-32-quickgelu with pretrained weights: openai.\n",
            "[INFO] Calculating CLIP scores for 1063 images...\n"
          ]
        },
        {
          "output_type": "stream",
          "name": "stderr",
          "text": [
            "100%|██████████| 34/34 [00:01<00:00, 17.29it/s]\n"
          ]
        },
        {
          "output_type": "stream",
          "name": "stdout",
          "text": [
            "CLIP Image-Text Score: 0.298914\n",
            "[INFO] Found 1063 images in the zip file.\n",
            "[INFO] Generating Inception model features...\n"
          ]
        },
        {
          "output_type": "stream",
          "name": "stderr",
          "text": []
        },
        {
          "output_type": "stream",
          "name": "stdout",
          "text": [
            "[INFO] Calculating FID score...\n",
            "[INFO] FID score: 61.1457.\n",
            "✅ Epoch 28 scores:\n",
            "  FID: 61.1457\n",
            "  CLIP Image-Text Score: 0.2989\n",
            "\n",
            "🎯 Epoch 29: Generating images...\n",
            "🔍 Loading checkpoint: /content/drive/MyDrive/DDIM11/ckpt/checkpoint_epoch29.pt\n",
            "✅ Using EMA weights\n",
            "🚀 Start batch inference: 1063 samples | Batch size=32\n"
          ]
        },
        {
          "output_type": "stream",
          "name": "stderr",
          "text": [
            "Batch generating: 100%|██████████| 34/34 [01:56<00:00,  3.42s/it]\n"
          ]
        },
        {
          "output_type": "stream",
          "name": "stdout",
          "text": [
            "[INFO] Loading test JSON file: /content/test.json.\n",
            "[INFO] Found 1063 images in the zip file.\n",
            "[INFO] Checking if all image paths from the test JSON file are present in the zip file.\n",
            "[INFO] Loading CLIP model: ViT-B-32-quickgelu with pretrained weights: openai.\n",
            "[INFO] Calculating CLIP scores for 1063 images...\n"
          ]
        },
        {
          "output_type": "stream",
          "name": "stderr",
          "text": [
            "100%|██████████| 34/34 [00:01<00:00, 17.08it/s]\n"
          ]
        },
        {
          "output_type": "stream",
          "name": "stdout",
          "text": [
            "CLIP Image-Text Score: 0.299107\n",
            "[INFO] Found 1063 images in the zip file.\n",
            "[INFO] Generating Inception model features...\n"
          ]
        },
        {
          "output_type": "stream",
          "name": "stderr",
          "text": []
        },
        {
          "output_type": "stream",
          "name": "stdout",
          "text": [
            "[INFO] Calculating FID score...\n",
            "[INFO] FID score: 61.5521.\n",
            "✅ Epoch 29 scores:\n",
            "  FID: 61.5521\n",
            "  CLIP Image-Text Score: 0.2991\n",
            "\n",
            "🎯 Epoch 30: Generating images...\n",
            "🔍 Loading checkpoint: /content/drive/MyDrive/DDIM11/ckpt/checkpoint_epoch30.pt\n",
            "✅ Using EMA weights\n",
            "🚀 Start batch inference: 1063 samples | Batch size=32\n"
          ]
        },
        {
          "output_type": "stream",
          "name": "stderr",
          "text": [
            "Batch generating: 100%|██████████| 34/34 [01:56<00:00,  3.42s/it]\n"
          ]
        },
        {
          "output_type": "stream",
          "name": "stdout",
          "text": [
            "[INFO] Loading test JSON file: /content/test.json.\n",
            "[INFO] Found 1063 images in the zip file.\n",
            "[INFO] Checking if all image paths from the test JSON file are present in the zip file.\n",
            "[INFO] Loading CLIP model: ViT-B-32-quickgelu with pretrained weights: openai.\n",
            "[INFO] Calculating CLIP scores for 1063 images...\n"
          ]
        },
        {
          "output_type": "stream",
          "name": "stderr",
          "text": [
            "100%|██████████| 34/34 [00:01<00:00, 17.23it/s]\n"
          ]
        },
        {
          "output_type": "stream",
          "name": "stdout",
          "text": [
            "CLIP Image-Text Score: 0.298909\n",
            "[INFO] Found 1063 images in the zip file.\n",
            "[INFO] Generating Inception model features...\n"
          ]
        },
        {
          "output_type": "stream",
          "name": "stderr",
          "text": []
        },
        {
          "output_type": "stream",
          "name": "stdout",
          "text": [
            "[INFO] Calculating FID score...\n",
            "[INFO] FID score: 62.1153.\n",
            "✅ Epoch 30 scores:\n",
            "  FID: 62.1153\n",
            "  CLIP Image-Text Score: 0.2989\n",
            "\n",
            "🎯 Epoch 31: Generating images...\n",
            "🔍 Loading checkpoint: /content/drive/MyDrive/DDIM11/ckpt/checkpoint_epoch31.pt\n",
            "✅ Using EMA weights\n",
            "🚀 Start batch inference: 1063 samples | Batch size=32\n"
          ]
        },
        {
          "output_type": "stream",
          "name": "stderr",
          "text": [
            "Batch generating: 100%|██████████| 34/34 [01:56<00:00,  3.42s/it]\n"
          ]
        },
        {
          "output_type": "stream",
          "name": "stdout",
          "text": [
            "[INFO] Loading test JSON file: /content/test.json.\n",
            "[INFO] Found 1063 images in the zip file.\n",
            "[INFO] Checking if all image paths from the test JSON file are present in the zip file.\n",
            "[INFO] Loading CLIP model: ViT-B-32-quickgelu with pretrained weights: openai.\n",
            "[INFO] Calculating CLIP scores for 1063 images...\n"
          ]
        },
        {
          "output_type": "stream",
          "name": "stderr",
          "text": [
            "100%|██████████| 34/34 [00:02<00:00, 16.99it/s]\n"
          ]
        },
        {
          "output_type": "stream",
          "name": "stdout",
          "text": [
            "CLIP Image-Text Score: 0.300043\n",
            "[INFO] Found 1063 images in the zip file.\n",
            "[INFO] Generating Inception model features...\n"
          ]
        },
        {
          "output_type": "stream",
          "name": "stderr",
          "text": []
        },
        {
          "output_type": "stream",
          "name": "stdout",
          "text": [
            "[INFO] Calculating FID score...\n",
            "[INFO] FID score: 61.0454.\n",
            "✅ Epoch 31 scores:\n",
            "  FID: 61.0454\n",
            "  CLIP Image-Text Score: 0.3000\n",
            "\n",
            "🎯 Epoch 32: Generating images...\n",
            "🔍 Loading checkpoint: /content/drive/MyDrive/DDIM11/ckpt/checkpoint_epoch32.pt\n",
            "✅ Using EMA weights\n",
            "🚀 Start batch inference: 1063 samples | Batch size=32\n"
          ]
        },
        {
          "output_type": "stream",
          "name": "stderr",
          "text": [
            "Batch generating: 100%|██████████| 34/34 [01:56<00:00,  3.43s/it]\n"
          ]
        },
        {
          "output_type": "stream",
          "name": "stdout",
          "text": [
            "[INFO] Loading test JSON file: /content/test.json.\n",
            "[INFO] Found 1063 images in the zip file.\n",
            "[INFO] Checking if all image paths from the test JSON file are present in the zip file.\n",
            "[INFO] Loading CLIP model: ViT-B-32-quickgelu with pretrained weights: openai.\n",
            "[INFO] Calculating CLIP scores for 1063 images...\n"
          ]
        },
        {
          "output_type": "stream",
          "name": "stderr",
          "text": [
            "100%|██████████| 34/34 [00:02<00:00, 16.83it/s]\n"
          ]
        },
        {
          "output_type": "stream",
          "name": "stdout",
          "text": [
            "CLIP Image-Text Score: 0.300114\n",
            "[INFO] Found 1063 images in the zip file.\n",
            "[INFO] Generating Inception model features...\n"
          ]
        },
        {
          "output_type": "stream",
          "name": "stderr",
          "text": []
        },
        {
          "output_type": "stream",
          "name": "stdout",
          "text": [
            "[INFO] Calculating FID score...\n",
            "[INFO] FID score: 60.7837.\n",
            "✅ Epoch 32 scores:\n",
            "  FID: 60.7837\n",
            "  CLIP Image-Text Score: 0.3001\n",
            "\n",
            "🎯 Epoch 33: Generating images...\n",
            "🔍 Loading checkpoint: /content/drive/MyDrive/DDIM11/ckpt/checkpoint_epoch33.pt\n",
            "✅ Using EMA weights\n",
            "🚀 Start batch inference: 1063 samples | Batch size=32\n"
          ]
        },
        {
          "output_type": "stream",
          "name": "stderr",
          "text": [
            "Batch generating: 100%|██████████| 34/34 [01:56<00:00,  3.42s/it]\n"
          ]
        },
        {
          "output_type": "stream",
          "name": "stdout",
          "text": [
            "[INFO] Loading test JSON file: /content/test.json.\n",
            "[INFO] Found 1063 images in the zip file.\n",
            "[INFO] Checking if all image paths from the test JSON file are present in the zip file.\n",
            "[INFO] Loading CLIP model: ViT-B-32-quickgelu with pretrained weights: openai.\n",
            "[INFO] Calculating CLIP scores for 1063 images...\n"
          ]
        },
        {
          "output_type": "stream",
          "name": "stderr",
          "text": [
            "100%|██████████| 34/34 [00:01<00:00, 17.18it/s]\n"
          ]
        },
        {
          "output_type": "stream",
          "name": "stdout",
          "text": [
            "CLIP Image-Text Score: 0.299411\n",
            "[INFO] Found 1063 images in the zip file.\n",
            "[INFO] Generating Inception model features...\n"
          ]
        },
        {
          "output_type": "stream",
          "name": "stderr",
          "text": []
        },
        {
          "output_type": "stream",
          "name": "stdout",
          "text": [
            "[INFO] Calculating FID score...\n",
            "[INFO] FID score: 59.8989.\n",
            "✅ Epoch 33 scores:\n",
            "  FID: 59.8989\n",
            "  CLIP Image-Text Score: 0.2994\n",
            "\n",
            "🎯 Epoch 34: Generating images...\n",
            "🔍 Loading checkpoint: /content/drive/MyDrive/DDIM11/ckpt/checkpoint_epoch34.pt\n",
            "✅ Using EMA weights\n",
            "🚀 Start batch inference: 1063 samples | Batch size=32\n"
          ]
        },
        {
          "output_type": "stream",
          "name": "stderr",
          "text": [
            "Batch generating: 100%|██████████| 34/34 [01:55<00:00,  3.41s/it]\n"
          ]
        },
        {
          "output_type": "stream",
          "name": "stdout",
          "text": [
            "[INFO] Loading test JSON file: /content/test.json.\n",
            "[INFO] Found 1063 images in the zip file.\n",
            "[INFO] Checking if all image paths from the test JSON file are present in the zip file.\n",
            "[INFO] Loading CLIP model: ViT-B-32-quickgelu with pretrained weights: openai.\n",
            "[INFO] Calculating CLIP scores for 1063 images...\n"
          ]
        },
        {
          "output_type": "stream",
          "name": "stderr",
          "text": [
            "100%|██████████| 34/34 [00:01<00:00, 17.20it/s]\n"
          ]
        },
        {
          "output_type": "stream",
          "name": "stdout",
          "text": [
            "CLIP Image-Text Score: 0.299470\n",
            "[INFO] Found 1063 images in the zip file.\n",
            "[INFO] Generating Inception model features...\n"
          ]
        },
        {
          "output_type": "stream",
          "name": "stderr",
          "text": []
        },
        {
          "output_type": "stream",
          "name": "stdout",
          "text": [
            "[INFO] Calculating FID score...\n",
            "[INFO] FID score: 60.5715.\n",
            "✅ Epoch 34 scores:\n",
            "  FID: 60.5715\n",
            "  CLIP Image-Text Score: 0.2995\n",
            "\n",
            "🎯 Epoch 35: Generating images...\n",
            "🔍 Loading checkpoint: /content/drive/MyDrive/DDIM11/ckpt/checkpoint_epoch35.pt\n",
            "✅ Using EMA weights\n",
            "🚀 Start batch inference: 1063 samples | Batch size=32\n"
          ]
        },
        {
          "output_type": "stream",
          "name": "stderr",
          "text": [
            "Batch generating: 100%|██████████| 34/34 [01:56<00:00,  3.42s/it]\n"
          ]
        },
        {
          "output_type": "stream",
          "name": "stdout",
          "text": [
            "[INFO] Loading test JSON file: /content/test.json.\n",
            "[INFO] Found 1063 images in the zip file.\n",
            "[INFO] Checking if all image paths from the test JSON file are present in the zip file.\n",
            "[INFO] Loading CLIP model: ViT-B-32-quickgelu with pretrained weights: openai.\n",
            "[INFO] Calculating CLIP scores for 1063 images...\n"
          ]
        },
        {
          "output_type": "stream",
          "name": "stderr",
          "text": [
            "100%|██████████| 34/34 [00:01<00:00, 17.09it/s]\n"
          ]
        },
        {
          "output_type": "stream",
          "name": "stdout",
          "text": [
            "CLIP Image-Text Score: 0.298715\n",
            "[INFO] Found 1063 images in the zip file.\n",
            "[INFO] Generating Inception model features...\n"
          ]
        },
        {
          "output_type": "stream",
          "name": "stderr",
          "text": []
        },
        {
          "output_type": "stream",
          "name": "stdout",
          "text": [
            "[INFO] Calculating FID score...\n",
            "[INFO] FID score: 60.9921.\n",
            "✅ Epoch 35 scores:\n",
            "  FID: 60.9921\n",
            "  CLIP Image-Text Score: 0.2987\n",
            "\n",
            "🎯 Epoch 36: Generating images...\n",
            "🔍 Loading checkpoint: /content/drive/MyDrive/DDIM11/ckpt/checkpoint_epoch36.pt\n",
            "✅ Using EMA weights\n",
            "🚀 Start batch inference: 1063 samples | Batch size=32\n"
          ]
        },
        {
          "output_type": "stream",
          "name": "stderr",
          "text": [
            "Batch generating: 100%|██████████| 34/34 [01:56<00:00,  3.41s/it]\n"
          ]
        },
        {
          "output_type": "stream",
          "name": "stdout",
          "text": [
            "[INFO] Loading test JSON file: /content/test.json.\n",
            "[INFO] Found 1063 images in the zip file.\n",
            "[INFO] Checking if all image paths from the test JSON file are present in the zip file.\n",
            "[INFO] Loading CLIP model: ViT-B-32-quickgelu with pretrained weights: openai.\n",
            "[INFO] Calculating CLIP scores for 1063 images...\n"
          ]
        },
        {
          "output_type": "stream",
          "name": "stderr",
          "text": [
            "100%|██████████| 34/34 [00:01<00:00, 17.32it/s]\n"
          ]
        },
        {
          "output_type": "stream",
          "name": "stdout",
          "text": [
            "CLIP Image-Text Score: 0.298886\n",
            "[INFO] Found 1063 images in the zip file.\n",
            "[INFO] Generating Inception model features...\n"
          ]
        },
        {
          "output_type": "stream",
          "name": "stderr",
          "text": []
        },
        {
          "output_type": "stream",
          "name": "stdout",
          "text": [
            "[INFO] Calculating FID score...\n",
            "[INFO] FID score: 60.4174.\n",
            "✅ Epoch 36 scores:\n",
            "  FID: 60.4174\n",
            "  CLIP Image-Text Score: 0.2989\n",
            "\n",
            "🎯 Epoch 38: Generating images...\n",
            "🔍 Loading checkpoint: /content/drive/MyDrive/DDIM11/ckpt/checkpoint_epoch38.pt\n",
            "✅ Using EMA weights\n",
            "🚀 Start batch inference: 1063 samples | Batch size=32\n"
          ]
        },
        {
          "output_type": "stream",
          "name": "stderr",
          "text": [
            "Batch generating: 100%|██████████| 34/34 [01:56<00:00,  3.41s/it]\n"
          ]
        },
        {
          "output_type": "stream",
          "name": "stdout",
          "text": [
            "[INFO] Loading test JSON file: /content/test.json.\n",
            "[INFO] Found 1063 images in the zip file.\n",
            "[INFO] Checking if all image paths from the test JSON file are present in the zip file.\n",
            "[INFO] Loading CLIP model: ViT-B-32-quickgelu with pretrained weights: openai.\n",
            "[INFO] Calculating CLIP scores for 1063 images...\n"
          ]
        },
        {
          "output_type": "stream",
          "name": "stderr",
          "text": [
            "100%|██████████| 34/34 [00:02<00:00, 16.29it/s]\n"
          ]
        },
        {
          "output_type": "stream",
          "name": "stdout",
          "text": [
            "CLIP Image-Text Score: 0.299456\n",
            "[INFO] Found 1063 images in the zip file.\n",
            "[INFO] Generating Inception model features...\n"
          ]
        },
        {
          "output_type": "stream",
          "name": "stderr",
          "text": []
        },
        {
          "output_type": "stream",
          "name": "stdout",
          "text": [
            "[INFO] Calculating FID score...\n",
            "[INFO] FID score: 61.1642.\n",
            "✅ Epoch 38 scores:\n",
            "  FID: 61.1642\n",
            "  CLIP Image-Text Score: 0.2995\n",
            "\n",
            "🎯 Epoch 40: Generating images...\n",
            "🔍 Loading checkpoint: /content/drive/MyDrive/DDIM11/ckpt/checkpoint_epoch40.pt\n",
            "✅ Using EMA weights\n",
            "🚀 Start batch inference: 1063 samples | Batch size=32\n"
          ]
        },
        {
          "output_type": "stream",
          "name": "stderr",
          "text": [
            "Batch generating: 100%|██████████| 34/34 [01:55<00:00,  3.41s/it]\n"
          ]
        },
        {
          "output_type": "stream",
          "name": "stdout",
          "text": [
            "[INFO] Loading test JSON file: /content/test.json.\n",
            "[INFO] Found 1063 images in the zip file.\n",
            "[INFO] Checking if all image paths from the test JSON file are present in the zip file.\n",
            "[INFO] Loading CLIP model: ViT-B-32-quickgelu with pretrained weights: openai.\n",
            "[INFO] Calculating CLIP scores for 1063 images...\n"
          ]
        },
        {
          "output_type": "stream",
          "name": "stderr",
          "text": [
            "100%|██████████| 34/34 [00:02<00:00, 16.66it/s]\n"
          ]
        },
        {
          "output_type": "stream",
          "name": "stdout",
          "text": [
            "CLIP Image-Text Score: 0.297266\n",
            "[INFO] Found 1063 images in the zip file.\n",
            "[INFO] Generating Inception model features...\n"
          ]
        },
        {
          "output_type": "stream",
          "name": "stderr",
          "text": []
        },
        {
          "output_type": "stream",
          "name": "stdout",
          "text": [
            "[INFO] Calculating FID score...\n",
            "[INFO] FID score: 60.7668.\n",
            "✅ Epoch 40 scores:\n",
            "  FID: 60.7668\n",
            "  CLIP Image-Text Score: 0.2973\n",
            "\n",
            "🎯 Epoch 42: Generating images...\n",
            "🔍 Loading checkpoint: /content/drive/MyDrive/DDIM11/ckpt/checkpoint_epoch42.pt\n",
            "✅ Using EMA weights\n",
            "🚀 Start batch inference: 1063 samples | Batch size=32\n"
          ]
        },
        {
          "output_type": "stream",
          "name": "stderr",
          "text": [
            "Batch generating: 100%|██████████| 34/34 [01:56<00:00,  3.42s/it]\n"
          ]
        },
        {
          "output_type": "stream",
          "name": "stdout",
          "text": [
            "[INFO] Loading test JSON file: /content/test.json.\n",
            "[INFO] Found 1063 images in the zip file.\n",
            "[INFO] Checking if all image paths from the test JSON file are present in the zip file.\n",
            "[INFO] Loading CLIP model: ViT-B-32-quickgelu with pretrained weights: openai.\n",
            "[INFO] Calculating CLIP scores for 1063 images...\n"
          ]
        },
        {
          "output_type": "stream",
          "name": "stderr",
          "text": [
            "100%|██████████| 34/34 [00:01<00:00, 17.35it/s]\n"
          ]
        },
        {
          "output_type": "stream",
          "name": "stdout",
          "text": [
            "CLIP Image-Text Score: 0.296329\n",
            "[INFO] Found 1063 images in the zip file.\n",
            "[INFO] Generating Inception model features...\n"
          ]
        },
        {
          "output_type": "stream",
          "name": "stderr",
          "text": []
        },
        {
          "output_type": "stream",
          "name": "stdout",
          "text": [
            "[INFO] Calculating FID score...\n",
            "[INFO] FID score: 61.2857.\n",
            "✅ Epoch 42 scores:\n",
            "  FID: 61.2857\n",
            "  CLIP Image-Text Score: 0.2963\n",
            "\n",
            "📊 Summary:\n",
            "Epoch 13 | FID: 70.1248 | CLIP: 0.2925\n",
            "Epoch 14 | FID: 67.8451 | CLIP: 0.2955\n",
            "Epoch 15 | FID: 66.4611 | CLIP: 0.2969\n",
            "Epoch 16 | FID: 66.8658 | CLIP: 0.2970\n",
            "Epoch 17 | FID: 64.0278 | CLIP: 0.2981\n",
            "Epoch 18 | FID: 63.9771 | CLIP: 0.2988\n",
            "Epoch 19 | FID: 63.3648 | CLIP: 0.2995\n",
            "Epoch 20 | FID: 62.9959 | CLIP: 0.2994\n",
            "Epoch 21 | FID: 62.8496 | CLIP: 0.2991\n",
            "Epoch 22 | FID: 63.4465 | CLIP: 0.2986\n",
            "Epoch 23 | FID: 62.2995 | CLIP: 0.2988\n",
            "Epoch 24 | FID: 63.3627 | CLIP: 0.3000\n",
            "Epoch 25 | FID: 62.8520 | CLIP: 0.2998\n",
            "Epoch 26 | FID: 63.2505 | CLIP: 0.3002\n",
            "Epoch 27 | FID: 61.0587 | CLIP: 0.2988\n",
            "Epoch 28 | FID: 61.1457 | CLIP: 0.2989\n",
            "Epoch 29 | FID: 61.5521 | CLIP: 0.2991\n",
            "Epoch 30 | FID: 62.1153 | CLIP: 0.2989\n",
            "Epoch 31 | FID: 61.0454 | CLIP: 0.3000\n",
            "Epoch 32 | FID: 60.7837 | CLIP: 0.3001\n",
            "Epoch 33 | FID: 59.8989 | CLIP: 0.2994\n",
            "Epoch 34 | FID: 60.5715 | CLIP: 0.2995\n",
            "Epoch 35 | FID: 60.9921 | CLIP: 0.2987\n",
            "Epoch 36 | FID: 60.4174 | CLIP: 0.2989\n",
            "Epoch 38 | FID: 61.1642 | CLIP: 0.2995\n",
            "Epoch 40 | FID: 60.7668 | CLIP: 0.2973\n",
            "Epoch 42 | FID: 61.2857 | CLIP: 0.2963\n"
          ]
        }
      ]
    },
    {
      "cell_type": "code",
      "source": [
        "# 評分資料夾路徑\n",
        "eval_dir = \"/content/generated_eval2\"\n",
        "\n",
        "# 讀取所有 scores_ep*.json\n",
        "result_list = []\n",
        "for fname in sorted(os.listdir(eval_dir)):\n",
        "    match = re.match(r\"scores_ep(\\d+)\\.json\", fname)\n",
        "    if match:\n",
        "        epoch = int(match.group(1))\n",
        "        with open(os.path.join(eval_dir, fname), \"r\") as f:\n",
        "            data = json.load(f)\n",
        "            result_list.append({\n",
        "                \"epoch\": epoch,\n",
        "                \"FID\": data.get(\"FID\", None),\n",
        "                \"CLIP\": data.get(\"CLIP Image-Text Score\", None)\n",
        "            })\n",
        "\n",
        "# 照 epoch 排序\n",
        "result_list.sort(key=lambda x: x[\"epoch\"])\n",
        "\n",
        "# 提取資料\n",
        "epochs = [r[\"epoch\"] for r in result_list]\n",
        "fid_scores = [r[\"FID\"] for r in result_list]\n",
        "clip_scores = [r[\"CLIP\"] for r in result_list]\n",
        "\n",
        "# 畫 FID vs. Epoch\n",
        "plt.figure()\n",
        "plt.plot(epochs, fid_scores, marker='o')\n",
        "plt.xlabel(\"Epoch\")\n",
        "plt.ylabel(\"FID\")\n",
        "plt.title(\"FID Score vs. Epoch\")\n",
        "plt.grid(True)\n",
        "plt.xticks(epochs)\n",
        "plt.gca().invert_yaxis()  # FID 越低越好\n",
        "plt.show()\n",
        "\n",
        "# 畫 CLIP Score vs. Epoch\n",
        "plt.figure()\n",
        "plt.plot(epochs, clip_scores, marker='o')\n",
        "plt.xlabel(\"Epoch\")\n",
        "plt.ylabel(\"CLIP Image-Text Score\")\n",
        "plt.title(\"CLIP Score vs. Epoch\")\n",
        "plt.grid(True)\n",
        "plt.xticks(epochs)\n",
        "plt.show()"
      ],
      "metadata": {
        "colab": {
          "base_uri": "https://localhost:8080/",
          "height": 927
        },
        "id": "61EZgFZb7rNy",
        "outputId": "f5e90513-db7f-4a45-ca42-baa748102cc5"
      },
      "execution_count": null,
      "outputs": [
        {
          "output_type": "display_data",
          "data": {
            "text/plain": [
              "<Figure size 640x480 with 1 Axes>"
            ],
            "image/png": "[encoded data removed]"
          },
          "metadata": {}
        },
        {
          "output_type": "display_data",
          "data": {
            "text/plain": [
              "<Figure size 640x480 with 1 Axes>"
            ],
            "image/png": "[encoded data removed]"
          },
          "metadata": {}
        }
      ]
    },
    {
      "cell_type": "markdown",
      "source": [
        "### step=10, guidance=4"
      ],
      "metadata": {
        "id": "25uIDTF_7fj0"
      }
    },
    {
      "cell_type": "code",
      "source": [
        "# 要測試的 epoch 清單\n",
        "target_epochs = [13,14,15,16,17,18,19,20,21,22,23,24,25,26,27,28,29,30,31,32,33,34,35,36,38,40,42]\n",
        "\n",
        "# 固定參數設定\n",
        "test_json_path = \"/content/test.json\"\n",
        "ref_mu_path = \"/content/drive/MyDrive/public_data/score/test_mu.npy\"\n",
        "ref_sigma_path = \"/content/drive/MyDrive/public_data/score/test_sigma.npy\"\n",
        "device = torch.device(\"cuda\" if torch.cuda.is_available() else \"cpu\")\n",
        "\n",
        "result_list = []\n",
        "os.makedirs(\"/content/generated_eval3\", exist_ok=True)\n",
        "for epoch in target_epochs:\n",
        "    ckpt_path = f\"/content/drive/MyDrive/DDIM11/ckpt/checkpoint_epoch{epoch}.pt\"\n",
        "    save_folder = f\"/content/generated_test11_{epoch}_10_4_2\"\n",
        "    os.makedirs(save_folder, exist_ok=True)\n",
        "\n",
        "    print(f\"\\n🎯 Epoch {epoch}: Generating images...\")\n",
        "\n",
        "    # 推論產圖\n",
        "    test_inference(\n",
        "        ckpt_path=ckpt_path,\n",
        "        test_json_path=test_json_path,\n",
        "        save_folder=save_folder,\n",
        "        steps=10,\n",
        "        guidance_scale=4,\n",
        "        batch_size=32\n",
        "    )\n",
        "\n",
        "    # 設定評分參數\n",
        "    args = SimpleNamespace(\n",
        "        ref_mu_path=ref_mu_path,\n",
        "        ref_sigma_path=ref_sigma_path,\n",
        "        test_json_path=test_json_path,\n",
        "        fake_img_root=save_folder,\n",
        "        image_size=256,\n",
        "        num_images=None,\n",
        "        scores=[\"fid\", \"clip_t\"],\n",
        "        model_name=\"ViT-B-32-quickgelu\",\n",
        "        pretrained=\"openai\",\n",
        "        batch_size=32,\n",
        "        num_workers=2,\n",
        "        verbose=True,\n",
        "        output_path=f\"/content/generated_eval2/scores_ep{epoch}.json\"\n",
        "    )\n",
        "\n",
        "    # 執行評分\n",
        "    output_json = {}\n",
        "    if 'clip_i' in args.scores or 'clip_t' in args.scores:\n",
        "        output_json.update(run_clip(args, device))\n",
        "    if 'fid' in args.scores:\n",
        "        output_json.update(run_fid(args, device))\n",
        "\n",
        "    # 印出分數\n",
        "    print(f\"✅ Epoch {epoch} scores:\")\n",
        "    for key in [\"FID\", \"CLIP Image-Text Score\"]:\n",
        "        if key in output_json:\n",
        "            print(f\"  {key}: {output_json[key]:.4f}\")\n",
        "\n",
        "    # 儲存分數\n",
        "    with open(args.output_path, \"w\") as f:\n",
        "        json.dump(output_json, f, indent=2)\n",
        "\n",
        "    # 收集結果\n",
        "    result_list.append({\n",
        "        \"epoch\": epoch,\n",
        "        \"FID\": output_json.get(\"FID\", None),\n",
        "        \"CLIP\": output_json.get(\"CLIP Image-Text Score\", None)\n",
        "    })\n",
        "\n",
        "# 總結\n",
        "print(\"\\n📊 Summary:\")\n",
        "for r in result_list:\n",
        "    print(f\"Epoch {r['epoch']:>2} | FID: {r['FID']:.4f} | CLIP: {r['CLIP']:.4f}\")"
      ],
      "metadata": {
        "colab": {
          "base_uri": "https://localhost:8080/"
        },
        "id": "F_gSsD9Sf9YL",
        "outputId": "57ee44dc-77bc-428e-b789-07b0bd6efd8f"
      },
      "execution_count": null,
      "outputs": [
        {
          "output_type": "stream",
          "name": "stdout",
          "text": [
            "\n",
            "🎯 Epoch 13: Generating images...\n",
            "🔍 Loading checkpoint: /content/drive/MyDrive/DDIM11/ckpt/checkpoint_epoch13.pt\n",
            "✅ Using EMA weights\n",
            "🚀 Start batch inference: 1063 samples | Batch size=32\n"
          ]
        },
        {
          "output_type": "stream",
          "name": "stderr",
          "text": [
            "Batch generating: 100%|██████████| 34/34 [01:56<00:00,  3.42s/it]\n"
          ]
        },
        {
          "output_type": "stream",
          "name": "stdout",
          "text": [
            "[INFO] Loading test JSON file: /content/test.json.\n",
            "[INFO] Found 1063 images in the zip file.\n",
            "[INFO] Checking if all image paths from the test JSON file are present in the zip file.\n",
            "[INFO] Loading CLIP model: ViT-B-32-quickgelu with pretrained weights: openai.\n",
            "[INFO] Calculating CLIP scores for 1063 images...\n"
          ]
        },
        {
          "output_type": "stream",
          "name": "stderr",
          "text": [
            "100%|██████████| 34/34 [00:02<00:00, 16.69it/s]\n"
          ]
        },
        {
          "output_type": "stream",
          "name": "stdout",
          "text": [
            "CLIP Image-Text Score: 0.294223\n",
            "[INFO] Found 1063 images in the zip file.\n",
            "[INFO] Generating Inception model features...\n"
          ]
        },
        {
          "output_type": "stream",
          "name": "stderr",
          "text": []
        },
        {
          "output_type": "stream",
          "name": "stdout",
          "text": [
            "[INFO] Calculating FID score...\n",
            "[INFO] FID score: 70.0928.\n",
            "✅ Epoch 13 scores:\n",
            "  FID: 70.0928\n",
            "  CLIP Image-Text Score: 0.2942\n",
            "\n",
            "🎯 Epoch 14: Generating images...\n",
            "🔍 Loading checkpoint: /content/drive/MyDrive/DDIM11/ckpt/checkpoint_epoch14.pt\n",
            "✅ Using EMA weights\n",
            "🚀 Start batch inference: 1063 samples | Batch size=32\n"
          ]
        },
        {
          "output_type": "stream",
          "name": "stderr",
          "text": [
            "Batch generating: 100%|██████████| 34/34 [01:56<00:00,  3.41s/it]\n"
          ]
        },
        {
          "output_type": "stream",
          "name": "stdout",
          "text": [
            "[INFO] Loading test JSON file: /content/test.json.\n",
            "[INFO] Found 1063 images in the zip file.\n",
            "[INFO] Checking if all image paths from the test JSON file are present in the zip file.\n",
            "[INFO] Loading CLIP model: ViT-B-32-quickgelu with pretrained weights: openai.\n",
            "[INFO] Calculating CLIP scores for 1063 images...\n"
          ]
        },
        {
          "output_type": "stream",
          "name": "stderr",
          "text": [
            "100%|██████████| 34/34 [00:02<00:00, 16.86it/s]\n"
          ]
        },
        {
          "output_type": "stream",
          "name": "stdout",
          "text": [
            "CLIP Image-Text Score: 0.296479\n",
            "[INFO] Found 1063 images in the zip file.\n",
            "[INFO] Generating Inception model features...\n"
          ]
        },
        {
          "output_type": "stream",
          "name": "stderr",
          "text": []
        },
        {
          "output_type": "stream",
          "name": "stdout",
          "text": [
            "[INFO] Calculating FID score...\n",
            "[INFO] FID score: 68.9764.\n",
            "✅ Epoch 14 scores:\n",
            "  FID: 68.9764\n",
            "  CLIP Image-Text Score: 0.2965\n",
            "\n",
            "🎯 Epoch 15: Generating images...\n",
            "🔍 Loading checkpoint: /content/drive/MyDrive/DDIM11/ckpt/checkpoint_epoch15.pt\n",
            "✅ Using EMA weights\n",
            "🚀 Start batch inference: 1063 samples | Batch size=32\n"
          ]
        },
        {
          "output_type": "stream",
          "name": "stderr",
          "text": [
            "Batch generating: 100%|██████████| 34/34 [01:55<00:00,  3.41s/it]\n"
          ]
        },
        {
          "output_type": "stream",
          "name": "stdout",
          "text": [
            "[INFO] Loading test JSON file: /content/test.json.\n",
            "[INFO] Found 1063 images in the zip file.\n",
            "[INFO] Checking if all image paths from the test JSON file are present in the zip file.\n",
            "[INFO] Loading CLIP model: ViT-B-32-quickgelu with pretrained weights: openai.\n",
            "[INFO] Calculating CLIP scores for 1063 images...\n"
          ]
        },
        {
          "output_type": "stream",
          "name": "stderr",
          "text": [
            "100%|██████████| 34/34 [00:01<00:00, 17.27it/s]\n"
          ]
        },
        {
          "output_type": "stream",
          "name": "stdout",
          "text": [
            "CLIP Image-Text Score: 0.296498\n",
            "[INFO] Found 1063 images in the zip file.\n",
            "[INFO] Generating Inception model features...\n"
          ]
        },
        {
          "output_type": "stream",
          "name": "stderr",
          "text": []
        },
        {
          "output_type": "stream",
          "name": "stdout",
          "text": [
            "[INFO] Calculating FID score...\n",
            "[INFO] FID score: 68.5255.\n",
            "✅ Epoch 15 scores:\n",
            "  FID: 68.5255\n",
            "  CLIP Image-Text Score: 0.2965\n",
            "\n",
            "🎯 Epoch 16: Generating images...\n",
            "🔍 Loading checkpoint: /content/drive/MyDrive/DDIM11/ckpt/checkpoint_epoch16.pt\n",
            "✅ Using EMA weights\n",
            "🚀 Start batch inference: 1063 samples | Batch size=32\n"
          ]
        },
        {
          "output_type": "stream",
          "name": "stderr",
          "text": [
            "Batch generating: 100%|██████████| 34/34 [01:55<00:00,  3.39s/it]\n"
          ]
        },
        {
          "output_type": "stream",
          "name": "stdout",
          "text": [
            "[INFO] Loading test JSON file: /content/test.json.\n",
            "[INFO] Found 1063 images in the zip file.\n",
            "[INFO] Checking if all image paths from the test JSON file are present in the zip file.\n",
            "[INFO] Loading CLIP model: ViT-B-32-quickgelu with pretrained weights: openai.\n",
            "[INFO] Calculating CLIP scores for 1063 images...\n"
          ]
        },
        {
          "output_type": "stream",
          "name": "stderr",
          "text": [
            "100%|██████████| 34/34 [00:01<00:00, 17.52it/s]\n"
          ]
        },
        {
          "output_type": "stream",
          "name": "stdout",
          "text": [
            "CLIP Image-Text Score: 0.296929\n",
            "[INFO] Found 1063 images in the zip file.\n",
            "[INFO] Generating Inception model features...\n"
          ]
        },
        {
          "output_type": "stream",
          "name": "stderr",
          "text": []
        },
        {
          "output_type": "stream",
          "name": "stdout",
          "text": [
            "[INFO] Calculating FID score...\n",
            "[INFO] FID score: 66.6108.\n",
            "✅ Epoch 16 scores:\n",
            "  FID: 66.6108\n",
            "  CLIP Image-Text Score: 0.2969\n",
            "\n",
            "🎯 Epoch 17: Generating images...\n",
            "🔍 Loading checkpoint: /content/drive/MyDrive/DDIM11/ckpt/checkpoint_epoch17.pt\n",
            "✅ Using EMA weights\n",
            "🚀 Start batch inference: 1063 samples | Batch size=32\n"
          ]
        },
        {
          "output_type": "stream",
          "name": "stderr",
          "text": [
            "Batch generating: 100%|██████████| 34/34 [01:55<00:00,  3.39s/it]\n"
          ]
        },
        {
          "output_type": "stream",
          "name": "stdout",
          "text": [
            "[INFO] Loading test JSON file: /content/test.json.\n",
            "[INFO] Found 1063 images in the zip file.\n",
            "[INFO] Checking if all image paths from the test JSON file are present in the zip file.\n",
            "[INFO] Loading CLIP model: ViT-B-32-quickgelu with pretrained weights: openai.\n",
            "[INFO] Calculating CLIP scores for 1063 images...\n"
          ]
        },
        {
          "output_type": "stream",
          "name": "stderr",
          "text": [
            "100%|██████████| 34/34 [00:02<00:00, 16.68it/s]\n"
          ]
        },
        {
          "output_type": "stream",
          "name": "stdout",
          "text": [
            "CLIP Image-Text Score: 0.297091\n",
            "[INFO] Found 1063 images in the zip file.\n",
            "[INFO] Generating Inception model features...\n"
          ]
        },
        {
          "output_type": "stream",
          "name": "stderr",
          "text": []
        },
        {
          "output_type": "stream",
          "name": "stdout",
          "text": [
            "[INFO] Calculating FID score...\n",
            "[INFO] FID score: 64.9598.\n",
            "✅ Epoch 17 scores:\n",
            "  FID: 64.9598\n",
            "  CLIP Image-Text Score: 0.2971\n",
            "\n",
            "🎯 Epoch 18: Generating images...\n",
            "🔍 Loading checkpoint: /content/drive/MyDrive/DDIM11/ckpt/checkpoint_epoch18.pt\n",
            "✅ Using EMA weights\n",
            "🚀 Start batch inference: 1063 samples | Batch size=32\n"
          ]
        },
        {
          "output_type": "stream",
          "name": "stderr",
          "text": [
            "Batch generating: 100%|██████████| 34/34 [01:55<00:00,  3.40s/it]\n"
          ]
        },
        {
          "output_type": "stream",
          "name": "stdout",
          "text": [
            "[INFO] Loading test JSON file: /content/test.json.\n",
            "[INFO] Found 1063 images in the zip file.\n",
            "[INFO] Checking if all image paths from the test JSON file are present in the zip file.\n",
            "[INFO] Loading CLIP model: ViT-B-32-quickgelu with pretrained weights: openai.\n",
            "[INFO] Calculating CLIP scores for 1063 images...\n"
          ]
        },
        {
          "output_type": "stream",
          "name": "stderr",
          "text": [
            "100%|██████████| 34/34 [00:01<00:00, 17.36it/s]\n"
          ]
        },
        {
          "output_type": "stream",
          "name": "stdout",
          "text": [
            "CLIP Image-Text Score: 0.298420\n",
            "[INFO] Found 1063 images in the zip file.\n",
            "[INFO] Generating Inception model features...\n"
          ]
        },
        {
          "output_type": "stream",
          "name": "stderr",
          "text": []
        },
        {
          "output_type": "stream",
          "name": "stdout",
          "text": [
            "[INFO] Calculating FID score...\n",
            "[INFO] FID score: 65.0805.\n",
            "✅ Epoch 18 scores:\n",
            "  FID: 65.0805\n",
            "  CLIP Image-Text Score: 0.2984\n",
            "\n",
            "🎯 Epoch 19: Generating images...\n",
            "🔍 Loading checkpoint: /content/drive/MyDrive/DDIM11/ckpt/checkpoint_epoch19.pt\n",
            "✅ Using EMA weights\n",
            "🚀 Start batch inference: 1063 samples | Batch size=32\n"
          ]
        },
        {
          "output_type": "stream",
          "name": "stderr",
          "text": [
            "Batch generating: 100%|██████████| 34/34 [01:55<00:00,  3.39s/it]\n"
          ]
        },
        {
          "output_type": "stream",
          "name": "stdout",
          "text": [
            "[INFO] Loading test JSON file: /content/test.json.\n",
            "[INFO] Found 1063 images in the zip file.\n",
            "[INFO] Checking if all image paths from the test JSON file are present in the zip file.\n",
            "[INFO] Loading CLIP model: ViT-B-32-quickgelu with pretrained weights: openai.\n",
            "[INFO] Calculating CLIP scores for 1063 images...\n"
          ]
        },
        {
          "output_type": "stream",
          "name": "stderr",
          "text": [
            "100%|██████████| 34/34 [00:02<00:00, 16.98it/s]\n"
          ]
        },
        {
          "output_type": "stream",
          "name": "stdout",
          "text": [
            "CLIP Image-Text Score: 0.299213\n",
            "[INFO] Found 1063 images in the zip file.\n",
            "[INFO] Generating Inception model features...\n"
          ]
        },
        {
          "output_type": "stream",
          "name": "stderr",
          "text": []
        },
        {
          "output_type": "stream",
          "name": "stdout",
          "text": [
            "[INFO] Calculating FID score...\n",
            "[INFO] FID score: 63.7601.\n",
            "✅ Epoch 19 scores:\n",
            "  FID: 63.7601\n",
            "  CLIP Image-Text Score: 0.2992\n",
            "\n",
            "🎯 Epoch 20: Generating images...\n",
            "🔍 Loading checkpoint: /content/drive/MyDrive/DDIM11/ckpt/checkpoint_epoch20.pt\n",
            "✅ Using EMA weights\n",
            "🚀 Start batch inference: 1063 samples | Batch size=32\n"
          ]
        },
        {
          "output_type": "stream",
          "name": "stderr",
          "text": [
            "Batch generating: 100%|██████████| 34/34 [01:55<00:00,  3.39s/it]\n"
          ]
        },
        {
          "output_type": "stream",
          "name": "stdout",
          "text": [
            "[INFO] Loading test JSON file: /content/test.json.\n",
            "[INFO] Found 1063 images in the zip file.\n",
            "[INFO] Checking if all image paths from the test JSON file are present in the zip file.\n",
            "[INFO] Loading CLIP model: ViT-B-32-quickgelu with pretrained weights: openai.\n",
            "[INFO] Calculating CLIP scores for 1063 images...\n"
          ]
        },
        {
          "output_type": "stream",
          "name": "stderr",
          "text": [
            "100%|██████████| 34/34 [00:01<00:00, 17.46it/s]\n"
          ]
        },
        {
          "output_type": "stream",
          "name": "stdout",
          "text": [
            "CLIP Image-Text Score: 0.298358\n",
            "[INFO] Found 1063 images in the zip file.\n",
            "[INFO] Generating Inception model features...\n"
          ]
        },
        {
          "output_type": "stream",
          "name": "stderr",
          "text": []
        },
        {
          "output_type": "stream",
          "name": "stdout",
          "text": [
            "[INFO] Calculating FID score...\n",
            "[INFO] FID score: 64.1158.\n",
            "✅ Epoch 20 scores:\n",
            "  FID: 64.1158\n",
            "  CLIP Image-Text Score: 0.2984\n",
            "\n",
            "🎯 Epoch 21: Generating images...\n",
            "🔍 Loading checkpoint: /content/drive/MyDrive/DDIM11/ckpt/checkpoint_epoch21.pt\n",
            "✅ Using EMA weights\n",
            "🚀 Start batch inference: 1063 samples | Batch size=32\n"
          ]
        },
        {
          "output_type": "stream",
          "name": "stderr",
          "text": [
            "Batch generating: 100%|██████████| 34/34 [01:55<00:00,  3.39s/it]\n"
          ]
        },
        {
          "output_type": "stream",
          "name": "stdout",
          "text": [
            "[INFO] Loading test JSON file: /content/test.json.\n",
            "[INFO] Found 1063 images in the zip file.\n",
            "[INFO] Checking if all image paths from the test JSON file are present in the zip file.\n",
            "[INFO] Loading CLIP model: ViT-B-32-quickgelu with pretrained weights: openai.\n",
            "[INFO] Calculating CLIP scores for 1063 images...\n"
          ]
        },
        {
          "output_type": "stream",
          "name": "stderr",
          "text": [
            "100%|██████████| 34/34 [00:01<00:00, 17.25it/s]\n"
          ]
        },
        {
          "output_type": "stream",
          "name": "stdout",
          "text": [
            "CLIP Image-Text Score: 0.299019\n",
            "[INFO] Found 1063 images in the zip file.\n",
            "[INFO] Generating Inception model features...\n"
          ]
        },
        {
          "output_type": "stream",
          "name": "stderr",
          "text": []
        },
        {
          "output_type": "stream",
          "name": "stdout",
          "text": [
            "[INFO] Calculating FID score...\n",
            "[INFO] FID score: 63.0950.\n",
            "✅ Epoch 21 scores:\n",
            "  FID: 63.0950\n",
            "  CLIP Image-Text Score: 0.2990\n",
            "\n",
            "🎯 Epoch 22: Generating images...\n",
            "🔍 Loading checkpoint: /content/drive/MyDrive/DDIM11/ckpt/checkpoint_epoch22.pt\n",
            "✅ Using EMA weights\n",
            "🚀 Start batch inference: 1063 samples | Batch size=32\n"
          ]
        },
        {
          "output_type": "stream",
          "name": "stderr",
          "text": [
            "Batch generating: 100%|██████████| 34/34 [01:55<00:00,  3.40s/it]\n"
          ]
        },
        {
          "output_type": "stream",
          "name": "stdout",
          "text": [
            "[INFO] Loading test JSON file: /content/test.json.\n",
            "[INFO] Found 1063 images in the zip file.\n",
            "[INFO] Checking if all image paths from the test JSON file are present in the zip file.\n",
            "[INFO] Loading CLIP model: ViT-B-32-quickgelu with pretrained weights: openai.\n",
            "[INFO] Calculating CLIP scores for 1063 images...\n"
          ]
        },
        {
          "output_type": "stream",
          "name": "stderr",
          "text": [
            "100%|██████████| 34/34 [00:01<00:00, 17.31it/s]\n"
          ]
        },
        {
          "output_type": "stream",
          "name": "stdout",
          "text": [
            "CLIP Image-Text Score: 0.300815\n",
            "[INFO] Found 1063 images in the zip file.\n",
            "[INFO] Generating Inception model features...\n"
          ]
        },
        {
          "output_type": "stream",
          "name": "stderr",
          "text": []
        },
        {
          "output_type": "stream",
          "name": "stdout",
          "text": [
            "[INFO] Calculating FID score...\n",
            "[INFO] FID score: 63.4714.\n",
            "✅ Epoch 22 scores:\n",
            "  FID: 63.4714\n",
            "  CLIP Image-Text Score: 0.3008\n",
            "\n",
            "🎯 Epoch 23: Generating images...\n",
            "🔍 Loading checkpoint: /content/drive/MyDrive/DDIM11/ckpt/checkpoint_epoch23.pt\n",
            "✅ Using EMA weights\n",
            "🚀 Start batch inference: 1063 samples | Batch size=32\n"
          ]
        },
        {
          "output_type": "stream",
          "name": "stderr",
          "text": [
            "Batch generating: 100%|██████████| 34/34 [01:55<00:00,  3.40s/it]\n"
          ]
        },
        {
          "output_type": "stream",
          "name": "stdout",
          "text": [
            "[INFO] Loading test JSON file: /content/test.json.\n",
            "[INFO] Found 1063 images in the zip file.\n",
            "[INFO] Checking if all image paths from the test JSON file are present in the zip file.\n",
            "[INFO] Loading CLIP model: ViT-B-32-quickgelu with pretrained weights: openai.\n",
            "[INFO] Calculating CLIP scores for 1063 images...\n"
          ]
        },
        {
          "output_type": "stream",
          "name": "stderr",
          "text": [
            "100%|██████████| 34/34 [00:01<00:00, 17.24it/s]\n"
          ]
        },
        {
          "output_type": "stream",
          "name": "stdout",
          "text": [
            "CLIP Image-Text Score: 0.299581\n",
            "[INFO] Found 1063 images in the zip file.\n",
            "[INFO] Generating Inception model features...\n"
          ]
        },
        {
          "output_type": "stream",
          "name": "stderr",
          "text": []
        },
        {
          "output_type": "stream",
          "name": "stdout",
          "text": [
            "[INFO] Calculating FID score...\n",
            "[INFO] FID score: 63.0954.\n",
            "✅ Epoch 23 scores:\n",
            "  FID: 63.0954\n",
            "  CLIP Image-Text Score: 0.2996\n",
            "\n",
            "🎯 Epoch 24: Generating images...\n",
            "🔍 Loading checkpoint: /content/drive/MyDrive/DDIM11/ckpt/checkpoint_epoch24.pt\n",
            "✅ Using EMA weights\n",
            "🚀 Start batch inference: 1063 samples | Batch size=32\n"
          ]
        },
        {
          "output_type": "stream",
          "name": "stderr",
          "text": [
            "Batch generating: 100%|██████████| 34/34 [01:55<00:00,  3.40s/it]\n"
          ]
        },
        {
          "output_type": "stream",
          "name": "stdout",
          "text": [
            "[INFO] Loading test JSON file: /content/test.json.\n",
            "[INFO] Found 1063 images in the zip file.\n",
            "[INFO] Checking if all image paths from the test JSON file are present in the zip file.\n",
            "[INFO] Loading CLIP model: ViT-B-32-quickgelu with pretrained weights: openai.\n",
            "[INFO] Calculating CLIP scores for 1063 images...\n"
          ]
        },
        {
          "output_type": "stream",
          "name": "stderr",
          "text": [
            "100%|██████████| 34/34 [00:02<00:00, 16.70it/s]\n"
          ]
        },
        {
          "output_type": "stream",
          "name": "stdout",
          "text": [
            "CLIP Image-Text Score: 0.300252\n",
            "[INFO] Found 1063 images in the zip file.\n",
            "[INFO] Generating Inception model features...\n"
          ]
        },
        {
          "output_type": "stream",
          "name": "stderr",
          "text": []
        },
        {
          "output_type": "stream",
          "name": "stdout",
          "text": [
            "[INFO] Calculating FID score...\n",
            "[INFO] FID score: 63.4925.\n",
            "✅ Epoch 24 scores:\n",
            "  FID: 63.4925\n",
            "  CLIP Image-Text Score: 0.3003\n",
            "\n",
            "🎯 Epoch 25: Generating images...\n",
            "🔍 Loading checkpoint: /content/drive/MyDrive/DDIM11/ckpt/checkpoint_epoch25.pt\n",
            "✅ Using EMA weights\n",
            "🚀 Start batch inference: 1063 samples | Batch size=32\n"
          ]
        },
        {
          "output_type": "stream",
          "name": "stderr",
          "text": [
            "Batch generating: 100%|██████████| 34/34 [01:55<00:00,  3.40s/it]\n"
          ]
        },
        {
          "output_type": "stream",
          "name": "stdout",
          "text": [
            "[INFO] Loading test JSON file: /content/test.json.\n",
            "[INFO] Found 1063 images in the zip file.\n",
            "[INFO] Checking if all image paths from the test JSON file are present in the zip file.\n",
            "[INFO] Loading CLIP model: ViT-B-32-quickgelu with pretrained weights: openai.\n",
            "[INFO] Calculating CLIP scores for 1063 images...\n"
          ]
        },
        {
          "output_type": "stream",
          "name": "stderr",
          "text": [
            "100%|██████████| 34/34 [00:01<00:00, 17.22it/s]\n"
          ]
        },
        {
          "output_type": "stream",
          "name": "stdout",
          "text": [
            "CLIP Image-Text Score: 0.300890\n",
            "[INFO] Found 1063 images in the zip file.\n",
            "[INFO] Generating Inception model features...\n"
          ]
        },
        {
          "output_type": "stream",
          "name": "stderr",
          "text": []
        },
        {
          "output_type": "stream",
          "name": "stdout",
          "text": [
            "[INFO] Calculating FID score...\n",
            "[INFO] FID score: 63.0672.\n",
            "✅ Epoch 25 scores:\n",
            "  FID: 63.0672\n",
            "  CLIP Image-Text Score: 0.3009\n",
            "\n",
            "🎯 Epoch 26: Generating images...\n",
            "🔍 Loading checkpoint: /content/drive/MyDrive/DDIM11/ckpt/checkpoint_epoch26.pt\n",
            "✅ Using EMA weights\n",
            "🚀 Start batch inference: 1063 samples | Batch size=32\n"
          ]
        },
        {
          "output_type": "stream",
          "name": "stderr",
          "text": [
            "Batch generating: 100%|██████████| 34/34 [01:55<00:00,  3.40s/it]\n"
          ]
        },
        {
          "output_type": "stream",
          "name": "stdout",
          "text": [
            "[INFO] Loading test JSON file: /content/test.json.\n",
            "[INFO] Found 1063 images in the zip file.\n",
            "[INFO] Checking if all image paths from the test JSON file are present in the zip file.\n",
            "[INFO] Loading CLIP model: ViT-B-32-quickgelu with pretrained weights: openai.\n",
            "[INFO] Calculating CLIP scores for 1063 images...\n"
          ]
        },
        {
          "output_type": "stream",
          "name": "stderr",
          "text": [
            "100%|██████████| 34/34 [00:02<00:00, 16.54it/s]\n"
          ]
        },
        {
          "output_type": "stream",
          "name": "stdout",
          "text": [
            "CLIP Image-Text Score: 0.299858\n",
            "[INFO] Found 1063 images in the zip file.\n",
            "[INFO] Generating Inception model features...\n"
          ]
        },
        {
          "output_type": "stream",
          "name": "stderr",
          "text": []
        },
        {
          "output_type": "stream",
          "name": "stdout",
          "text": [
            "[INFO] Calculating FID score...\n",
            "[INFO] FID score: 63.2836.\n",
            "✅ Epoch 26 scores:\n",
            "  FID: 63.2836\n",
            "  CLIP Image-Text Score: 0.2999\n",
            "\n",
            "🎯 Epoch 27: Generating images...\n",
            "🔍 Loading checkpoint: /content/drive/MyDrive/DDIM11/ckpt/checkpoint_epoch27.pt\n",
            "✅ Using EMA weights\n",
            "🚀 Start batch inference: 1063 samples | Batch size=32\n"
          ]
        },
        {
          "output_type": "stream",
          "name": "stderr",
          "text": [
            "Batch generating: 100%|██████████| 34/34 [01:55<00:00,  3.39s/it]\n"
          ]
        },
        {
          "output_type": "stream",
          "name": "stdout",
          "text": [
            "[INFO] Loading test JSON file: /content/test.json.\n",
            "[INFO] Found 1063 images in the zip file.\n",
            "[INFO] Checking if all image paths from the test JSON file are present in the zip file.\n",
            "[INFO] Loading CLIP model: ViT-B-32-quickgelu with pretrained weights: openai.\n",
            "[INFO] Calculating CLIP scores for 1063 images...\n"
          ]
        },
        {
          "output_type": "stream",
          "name": "stderr",
          "text": [
            "100%|██████████| 34/34 [00:01<00:00, 17.36it/s]\n"
          ]
        },
        {
          "output_type": "stream",
          "name": "stdout",
          "text": [
            "CLIP Image-Text Score: 0.299414\n",
            "[INFO] Found 1063 images in the zip file.\n",
            "[INFO] Generating Inception model features...\n"
          ]
        },
        {
          "output_type": "stream",
          "name": "stderr",
          "text": []
        },
        {
          "output_type": "stream",
          "name": "stdout",
          "text": [
            "[INFO] Calculating FID score...\n",
            "[INFO] FID score: 61.3828.\n",
            "✅ Epoch 27 scores:\n",
            "  FID: 61.3828\n",
            "  CLIP Image-Text Score: 0.2994\n",
            "\n",
            "🎯 Epoch 28: Generating images...\n",
            "🔍 Loading checkpoint: /content/drive/MyDrive/DDIM11/ckpt/checkpoint_epoch28.pt\n",
            "✅ Using EMA weights\n",
            "🚀 Start batch inference: 1063 samples | Batch size=32\n"
          ]
        },
        {
          "output_type": "stream",
          "name": "stderr",
          "text": [
            "Batch generating: 100%|██████████| 34/34 [01:55<00:00,  3.40s/it]\n"
          ]
        },
        {
          "output_type": "stream",
          "name": "stdout",
          "text": [
            "[INFO] Loading test JSON file: /content/test.json.\n",
            "[INFO] Found 1063 images in the zip file.\n",
            "[INFO] Checking if all image paths from the test JSON file are present in the zip file.\n",
            "[INFO] Loading CLIP model: ViT-B-32-quickgelu with pretrained weights: openai.\n",
            "[INFO] Calculating CLIP scores for 1063 images...\n"
          ]
        },
        {
          "output_type": "stream",
          "name": "stderr",
          "text": [
            "100%|██████████| 34/34 [00:01<00:00, 17.07it/s]\n"
          ]
        },
        {
          "output_type": "stream",
          "name": "stdout",
          "text": [
            "CLIP Image-Text Score: 0.300282\n",
            "[INFO] Found 1063 images in the zip file.\n",
            "[INFO] Generating Inception model features...\n"
          ]
        },
        {
          "output_type": "stream",
          "name": "stderr",
          "text": []
        },
        {
          "output_type": "stream",
          "name": "stdout",
          "text": [
            "[INFO] Calculating FID score...\n",
            "[INFO] FID score: 61.9598.\n",
            "✅ Epoch 28 scores:\n",
            "  FID: 61.9598\n",
            "  CLIP Image-Text Score: 0.3003\n",
            "\n",
            "🎯 Epoch 29: Generating images...\n",
            "🔍 Loading checkpoint: /content/drive/MyDrive/DDIM11/ckpt/checkpoint_epoch29.pt\n",
            "✅ Using EMA weights\n",
            "🚀 Start batch inference: 1063 samples | Batch size=32\n"
          ]
        },
        {
          "output_type": "stream",
          "name": "stderr",
          "text": [
            "Batch generating: 100%|██████████| 34/34 [01:55<00:00,  3.41s/it]\n"
          ]
        },
        {
          "output_type": "stream",
          "name": "stdout",
          "text": [
            "[INFO] Loading test JSON file: /content/test.json.\n",
            "[INFO] Found 1063 images in the zip file.\n",
            "[INFO] Checking if all image paths from the test JSON file are present in the zip file.\n",
            "[INFO] Loading CLIP model: ViT-B-32-quickgelu with pretrained weights: openai.\n",
            "[INFO] Calculating CLIP scores for 1063 images...\n"
          ]
        },
        {
          "output_type": "stream",
          "name": "stderr",
          "text": [
            "100%|██████████| 34/34 [00:02<00:00, 16.93it/s]\n"
          ]
        },
        {
          "output_type": "stream",
          "name": "stdout",
          "text": [
            "CLIP Image-Text Score: 0.300840\n",
            "[INFO] Found 1063 images in the zip file.\n",
            "[INFO] Generating Inception model features...\n"
          ]
        },
        {
          "output_type": "stream",
          "name": "stderr",
          "text": []
        },
        {
          "output_type": "stream",
          "name": "stdout",
          "text": [
            "[INFO] Calculating FID score...\n",
            "[INFO] FID score: 61.5367.\n",
            "✅ Epoch 29 scores:\n",
            "  FID: 61.5367\n",
            "  CLIP Image-Text Score: 0.3008\n",
            "\n",
            "🎯 Epoch 30: Generating images...\n",
            "🔍 Loading checkpoint: /content/drive/MyDrive/DDIM11/ckpt/checkpoint_epoch30.pt\n",
            "✅ Using EMA weights\n",
            "🚀 Start batch inference: 1063 samples | Batch size=32\n"
          ]
        },
        {
          "output_type": "stream",
          "name": "stderr",
          "text": [
            "Batch generating: 100%|██████████| 34/34 [01:55<00:00,  3.41s/it]\n"
          ]
        },
        {
          "output_type": "stream",
          "name": "stdout",
          "text": [
            "[INFO] Loading test JSON file: /content/test.json.\n",
            "[INFO] Found 1063 images in the zip file.\n",
            "[INFO] Checking if all image paths from the test JSON file are present in the zip file.\n",
            "[INFO] Loading CLIP model: ViT-B-32-quickgelu with pretrained weights: openai.\n",
            "[INFO] Calculating CLIP scores for 1063 images...\n"
          ]
        },
        {
          "output_type": "stream",
          "name": "stderr",
          "text": [
            "100%|██████████| 34/34 [00:02<00:00, 16.90it/s]\n"
          ]
        },
        {
          "output_type": "stream",
          "name": "stdout",
          "text": [
            "CLIP Image-Text Score: 0.300817\n",
            "[INFO] Found 1063 images in the zip file.\n",
            "[INFO] Generating Inception model features...\n"
          ]
        },
        {
          "output_type": "stream",
          "name": "stderr",
          "text": []
        },
        {
          "output_type": "stream",
          "name": "stdout",
          "text": [
            "[INFO] Calculating FID score...\n",
            "[INFO] FID score: 62.3287.\n",
            "✅ Epoch 30 scores:\n",
            "  FID: 62.3287\n",
            "  CLIP Image-Text Score: 0.3008\n",
            "\n",
            "🎯 Epoch 31: Generating images...\n",
            "🔍 Loading checkpoint: /content/drive/MyDrive/DDIM11/ckpt/checkpoint_epoch31.pt\n",
            "✅ Using EMA weights\n",
            "🚀 Start batch inference: 1063 samples | Batch size=32\n"
          ]
        },
        {
          "output_type": "stream",
          "name": "stderr",
          "text": [
            "Batch generating: 100%|██████████| 34/34 [01:55<00:00,  3.41s/it]\n"
          ]
        },
        {
          "output_type": "stream",
          "name": "stdout",
          "text": [
            "[INFO] Loading test JSON file: /content/test.json.\n",
            "[INFO] Found 1063 images in the zip file.\n",
            "[INFO] Checking if all image paths from the test JSON file are present in the zip file.\n",
            "[INFO] Loading CLIP model: ViT-B-32-quickgelu with pretrained weights: openai.\n",
            "[INFO] Calculating CLIP scores for 1063 images...\n"
          ]
        },
        {
          "output_type": "stream",
          "name": "stderr",
          "text": [
            "100%|██████████| 34/34 [00:02<00:00, 16.90it/s]\n"
          ]
        },
        {
          "output_type": "stream",
          "name": "stdout",
          "text": [
            "CLIP Image-Text Score: 0.300463\n",
            "[INFO] Found 1063 images in the zip file.\n",
            "[INFO] Generating Inception model features...\n"
          ]
        },
        {
          "output_type": "stream",
          "name": "stderr",
          "text": []
        },
        {
          "output_type": "stream",
          "name": "stdout",
          "text": [
            "[INFO] Calculating FID score...\n",
            "[INFO] FID score: 61.3027.\n",
            "✅ Epoch 31 scores:\n",
            "  FID: 61.3027\n",
            "  CLIP Image-Text Score: 0.3005\n",
            "\n",
            "🎯 Epoch 32: Generating images...\n",
            "🔍 Loading checkpoint: /content/drive/MyDrive/DDIM11/ckpt/checkpoint_epoch32.pt\n",
            "✅ Using EMA weights\n",
            "🚀 Start batch inference: 1063 samples | Batch size=32\n"
          ]
        },
        {
          "output_type": "stream",
          "name": "stderr",
          "text": [
            "Batch generating: 100%|██████████| 34/34 [01:55<00:00,  3.41s/it]\n"
          ]
        },
        {
          "output_type": "stream",
          "name": "stdout",
          "text": [
            "[INFO] Loading test JSON file: /content/test.json.\n",
            "[INFO] Found 1063 images in the zip file.\n",
            "[INFO] Checking if all image paths from the test JSON file are present in the zip file.\n",
            "[INFO] Loading CLIP model: ViT-B-32-quickgelu with pretrained weights: openai.\n",
            "[INFO] Calculating CLIP scores for 1063 images...\n"
          ]
        },
        {
          "output_type": "stream",
          "name": "stderr",
          "text": [
            "100%|██████████| 34/34 [00:02<00:00, 16.17it/s]\n"
          ]
        },
        {
          "output_type": "stream",
          "name": "stdout",
          "text": [
            "CLIP Image-Text Score: 0.299690\n",
            "[INFO] Found 1063 images in the zip file.\n",
            "[INFO] Generating Inception model features...\n"
          ]
        },
        {
          "output_type": "stream",
          "name": "stderr",
          "text": []
        },
        {
          "output_type": "stream",
          "name": "stdout",
          "text": [
            "[INFO] Calculating FID score...\n",
            "[INFO] FID score: 61.4325.\n",
            "✅ Epoch 32 scores:\n",
            "  FID: 61.4325\n",
            "  CLIP Image-Text Score: 0.2997\n",
            "\n",
            "🎯 Epoch 33: Generating images...\n",
            "🔍 Loading checkpoint: /content/drive/MyDrive/DDIM11/ckpt/checkpoint_epoch33.pt\n",
            "✅ Using EMA weights\n",
            "🚀 Start batch inference: 1063 samples | Batch size=32\n"
          ]
        },
        {
          "output_type": "stream",
          "name": "stderr",
          "text": [
            "Batch generating: 100%|██████████| 34/34 [01:55<00:00,  3.40s/it]\n"
          ]
        },
        {
          "output_type": "stream",
          "name": "stdout",
          "text": [
            "[INFO] Loading test JSON file: /content/test.json.\n",
            "[INFO] Found 1063 images in the zip file.\n",
            "[INFO] Checking if all image paths from the test JSON file are present in the zip file.\n",
            "[INFO] Loading CLIP model: ViT-B-32-quickgelu with pretrained weights: openai.\n",
            "[INFO] Calculating CLIP scores for 1063 images...\n"
          ]
        },
        {
          "output_type": "stream",
          "name": "stderr",
          "text": [
            "100%|██████████| 34/34 [00:02<00:00, 16.69it/s]\n"
          ]
        },
        {
          "output_type": "stream",
          "name": "stdout",
          "text": [
            "CLIP Image-Text Score: 0.299698\n",
            "[INFO] Found 1063 images in the zip file.\n",
            "[INFO] Generating Inception model features...\n"
          ]
        },
        {
          "output_type": "stream",
          "name": "stderr",
          "text": []
        },
        {
          "output_type": "stream",
          "name": "stdout",
          "text": [
            "[INFO] Calculating FID score...\n",
            "[INFO] FID score: 60.8929.\n",
            "✅ Epoch 33 scores:\n",
            "  FID: 60.8929\n",
            "  CLIP Image-Text Score: 0.2997\n",
            "\n",
            "🎯 Epoch 34: Generating images...\n",
            "🔍 Loading checkpoint: /content/drive/MyDrive/DDIM11/ckpt/checkpoint_epoch34.pt\n",
            "✅ Using EMA weights\n",
            "🚀 Start batch inference: 1063 samples | Batch size=32\n"
          ]
        },
        {
          "output_type": "stream",
          "name": "stderr",
          "text": [
            "Batch generating: 100%|██████████| 34/34 [01:55<00:00,  3.39s/it]\n"
          ]
        },
        {
          "output_type": "stream",
          "name": "stdout",
          "text": [
            "[INFO] Loading test JSON file: /content/test.json.\n",
            "[INFO] Found 1063 images in the zip file.\n",
            "[INFO] Checking if all image paths from the test JSON file are present in the zip file.\n",
            "[INFO] Loading CLIP model: ViT-B-32-quickgelu with pretrained weights: openai.\n",
            "[INFO] Calculating CLIP scores for 1063 images...\n"
          ]
        },
        {
          "output_type": "stream",
          "name": "stderr",
          "text": [
            "100%|██████████| 34/34 [00:01<00:00, 17.30it/s]\n"
          ]
        },
        {
          "output_type": "stream",
          "name": "stdout",
          "text": [
            "CLIP Image-Text Score: 0.299274\n",
            "[INFO] Found 1063 images in the zip file.\n",
            "[INFO] Generating Inception model features...\n"
          ]
        },
        {
          "output_type": "stream",
          "name": "stderr",
          "text": []
        },
        {
          "output_type": "stream",
          "name": "stdout",
          "text": [
            "[INFO] Calculating FID score...\n",
            "[INFO] FID score: 60.6082.\n",
            "✅ Epoch 34 scores:\n",
            "  FID: 60.6082\n",
            "  CLIP Image-Text Score: 0.2993\n",
            "\n",
            "🎯 Epoch 35: Generating images...\n",
            "🔍 Loading checkpoint: /content/drive/MyDrive/DDIM11/ckpt/checkpoint_epoch35.pt\n",
            "✅ Using EMA weights\n",
            "🚀 Start batch inference: 1063 samples | Batch size=32\n"
          ]
        },
        {
          "output_type": "stream",
          "name": "stderr",
          "text": [
            "Batch generating: 100%|██████████| 34/34 [01:55<00:00,  3.40s/it]\n"
          ]
        },
        {
          "output_type": "stream",
          "name": "stdout",
          "text": [
            "[INFO] Loading test JSON file: /content/test.json.\n",
            "[INFO] Found 1063 images in the zip file.\n",
            "[INFO] Checking if all image paths from the test JSON file are present in the zip file.\n",
            "[INFO] Loading CLIP model: ViT-B-32-quickgelu with pretrained weights: openai.\n",
            "[INFO] Calculating CLIP scores for 1063 images...\n"
          ]
        },
        {
          "output_type": "stream",
          "name": "stderr",
          "text": [
            "100%|██████████| 34/34 [00:01<00:00, 17.36it/s]\n"
          ]
        },
        {
          "output_type": "stream",
          "name": "stdout",
          "text": [
            "CLIP Image-Text Score: 0.300813\n",
            "[INFO] Found 1063 images in the zip file.\n",
            "[INFO] Generating Inception model features...\n"
          ]
        },
        {
          "output_type": "stream",
          "name": "stderr",
          "text": []
        },
        {
          "output_type": "stream",
          "name": "stdout",
          "text": [
            "[INFO] Calculating FID score...\n",
            "[INFO] FID score: 60.8461.\n",
            "✅ Epoch 35 scores:\n",
            "  FID: 60.8461\n",
            "  CLIP Image-Text Score: 0.3008\n",
            "\n",
            "🎯 Epoch 36: Generating images...\n",
            "🔍 Loading checkpoint: /content/drive/MyDrive/DDIM11/ckpt/checkpoint_epoch36.pt\n",
            "✅ Using EMA weights\n",
            "🚀 Start batch inference: 1063 samples | Batch size=32\n"
          ]
        },
        {
          "output_type": "stream",
          "name": "stderr",
          "text": [
            "Batch generating: 100%|██████████| 34/34 [01:55<00:00,  3.40s/it]\n"
          ]
        },
        {
          "output_type": "stream",
          "name": "stdout",
          "text": [
            "[INFO] Loading test JSON file: /content/test.json.\n",
            "[INFO] Found 1063 images in the zip file.\n",
            "[INFO] Checking if all image paths from the test JSON file are present in the zip file.\n",
            "[INFO] Loading CLIP model: ViT-B-32-quickgelu with pretrained weights: openai.\n",
            "[INFO] Calculating CLIP scores for 1063 images...\n"
          ]
        },
        {
          "output_type": "stream",
          "name": "stderr",
          "text": [
            "100%|██████████| 34/34 [00:01<00:00, 17.46it/s]\n"
          ]
        },
        {
          "output_type": "stream",
          "name": "stdout",
          "text": [
            "CLIP Image-Text Score: 0.299950\n",
            "[INFO] Found 1063 images in the zip file.\n",
            "[INFO] Generating Inception model features...\n"
          ]
        },
        {
          "output_type": "stream",
          "name": "stderr",
          "text": []
        },
        {
          "output_type": "stream",
          "name": "stdout",
          "text": [
            "[INFO] Calculating FID score...\n",
            "[INFO] FID score: 60.9650.\n",
            "✅ Epoch 36 scores:\n",
            "  FID: 60.9650\n",
            "  CLIP Image-Text Score: 0.2999\n",
            "\n",
            "🎯 Epoch 38: Generating images...\n",
            "🔍 Loading checkpoint: /content/drive/MyDrive/DDIM11/ckpt/checkpoint_epoch38.pt\n",
            "✅ Using EMA weights\n",
            "🚀 Start batch inference: 1063 samples | Batch size=32\n"
          ]
        },
        {
          "output_type": "stream",
          "name": "stderr",
          "text": [
            "Batch generating: 100%|██████████| 34/34 [01:55<00:00,  3.41s/it]\n"
          ]
        },
        {
          "output_type": "stream",
          "name": "stdout",
          "text": [
            "[INFO] Loading test JSON file: /content/test.json.\n",
            "[INFO] Found 1063 images in the zip file.\n",
            "[INFO] Checking if all image paths from the test JSON file are present in the zip file.\n",
            "[INFO] Loading CLIP model: ViT-B-32-quickgelu with pretrained weights: openai.\n",
            "[INFO] Calculating CLIP scores for 1063 images...\n"
          ]
        },
        {
          "output_type": "stream",
          "name": "stderr",
          "text": [
            "100%|██████████| 34/34 [00:01<00:00, 17.06it/s]\n"
          ]
        },
        {
          "output_type": "stream",
          "name": "stdout",
          "text": [
            "CLIP Image-Text Score: 0.300232\n",
            "[INFO] Found 1063 images in the zip file.\n",
            "[INFO] Generating Inception model features...\n"
          ]
        },
        {
          "output_type": "stream",
          "name": "stderr",
          "text": []
        },
        {
          "output_type": "stream",
          "name": "stdout",
          "text": [
            "[INFO] Calculating FID score...\n",
            "[INFO] FID score: 61.1944.\n",
            "✅ Epoch 38 scores:\n",
            "  FID: 61.1944\n",
            "  CLIP Image-Text Score: 0.3002\n",
            "\n",
            "🎯 Epoch 40: Generating images...\n",
            "🔍 Loading checkpoint: /content/drive/MyDrive/DDIM11/ckpt/checkpoint_epoch40.pt\n",
            "✅ Using EMA weights\n",
            "🚀 Start batch inference: 1063 samples | Batch size=32\n"
          ]
        },
        {
          "output_type": "stream",
          "name": "stderr",
          "text": [
            "Batch generating: 100%|██████████| 34/34 [01:55<00:00,  3.40s/it]\n"
          ]
        },
        {
          "output_type": "stream",
          "name": "stdout",
          "text": [
            "[INFO] Loading test JSON file: /content/test.json.\n",
            "[INFO] Found 1063 images in the zip file.\n",
            "[INFO] Checking if all image paths from the test JSON file are present in the zip file.\n",
            "[INFO] Loading CLIP model: ViT-B-32-quickgelu with pretrained weights: openai.\n",
            "[INFO] Calculating CLIP scores for 1063 images...\n"
          ]
        },
        {
          "output_type": "stream",
          "name": "stderr",
          "text": [
            "100%|██████████| 34/34 [00:01<00:00, 17.16it/s]\n"
          ]
        },
        {
          "output_type": "stream",
          "name": "stdout",
          "text": [
            "CLIP Image-Text Score: 0.298465\n",
            "[INFO] Found 1063 images in the zip file.\n",
            "[INFO] Generating Inception model features...\n"
          ]
        },
        {
          "output_type": "stream",
          "name": "stderr",
          "text": []
        },
        {
          "output_type": "stream",
          "name": "stdout",
          "text": [
            "[INFO] Calculating FID score...\n",
            "[INFO] FID score: 60.8588.\n",
            "✅ Epoch 40 scores:\n",
            "  FID: 60.8588\n",
            "  CLIP Image-Text Score: 0.2985\n",
            "\n",
            "🎯 Epoch 42: Generating images...\n",
            "🔍 Loading checkpoint: /content/drive/MyDrive/DDIM11/ckpt/checkpoint_epoch42.pt\n",
            "✅ Using EMA weights\n",
            "🚀 Start batch inference: 1063 samples | Batch size=32\n"
          ]
        },
        {
          "output_type": "stream",
          "name": "stderr",
          "text": [
            "Batch generating: 100%|██████████| 34/34 [01:55<00:00,  3.40s/it]\n"
          ]
        },
        {
          "output_type": "stream",
          "name": "stdout",
          "text": [
            "[INFO] Loading test JSON file: /content/test.json.\n",
            "[INFO] Found 1063 images in the zip file.\n",
            "[INFO] Checking if all image paths from the test JSON file are present in the zip file.\n",
            "[INFO] Loading CLIP model: ViT-B-32-quickgelu with pretrained weights: openai.\n",
            "[INFO] Calculating CLIP scores for 1063 images...\n"
          ]
        },
        {
          "output_type": "stream",
          "name": "stderr",
          "text": [
            "100%|██████████| 34/34 [00:02<00:00, 16.72it/s]\n"
          ]
        },
        {
          "output_type": "stream",
          "name": "stdout",
          "text": [
            "CLIP Image-Text Score: 0.297340\n",
            "[INFO] Found 1063 images in the zip file.\n",
            "[INFO] Generating Inception model features...\n"
          ]
        },
        {
          "output_type": "stream",
          "name": "stderr",
          "text": []
        },
        {
          "output_type": "stream",
          "name": "stdout",
          "text": [
            "[INFO] Calculating FID score...\n",
            "[INFO] FID score: 61.9871.\n",
            "✅ Epoch 42 scores:\n",
            "  FID: 61.9871\n",
            "  CLIP Image-Text Score: 0.2973\n",
            "\n",
            "📊 Summary:\n",
            "Epoch 13 | FID: 70.0928 | CLIP: 0.2942\n",
            "Epoch 14 | FID: 68.9764 | CLIP: 0.2965\n",
            "Epoch 15 | FID: 68.5255 | CLIP: 0.2965\n",
            "Epoch 16 | FID: 66.6108 | CLIP: 0.2969\n",
            "Epoch 17 | FID: 64.9598 | CLIP: 0.2971\n",
            "Epoch 18 | FID: 65.0805 | CLIP: 0.2984\n",
            "Epoch 19 | FID: 63.7601 | CLIP: 0.2992\n",
            "Epoch 20 | FID: 64.1158 | CLIP: 0.2984\n",
            "Epoch 21 | FID: 63.0950 | CLIP: 0.2990\n",
            "Epoch 22 | FID: 63.4714 | CLIP: 0.3008\n",
            "Epoch 23 | FID: 63.0954 | CLIP: 0.2996\n",
            "Epoch 24 | FID: 63.4925 | CLIP: 0.3003\n",
            "Epoch 25 | FID: 63.0672 | CLIP: 0.3009\n",
            "Epoch 26 | FID: 63.2836 | CLIP: 0.2999\n",
            "Epoch 27 | FID: 61.3828 | CLIP: 0.2994\n",
            "Epoch 28 | FID: 61.9598 | CLIP: 0.3003\n",
            "Epoch 29 | FID: 61.5367 | CLIP: 0.3008\n",
            "Epoch 30 | FID: 62.3287 | CLIP: 0.3008\n",
            "Epoch 31 | FID: 61.3027 | CLIP: 0.3005\n",
            "Epoch 32 | FID: 61.4325 | CLIP: 0.2997\n",
            "Epoch 33 | FID: 60.8929 | CLIP: 0.2997\n",
            "Epoch 34 | FID: 60.6082 | CLIP: 0.2993\n",
            "Epoch 35 | FID: 60.8461 | CLIP: 0.3008\n",
            "Epoch 36 | FID: 60.9650 | CLIP: 0.2999\n",
            "Epoch 38 | FID: 61.1944 | CLIP: 0.3002\n",
            "Epoch 40 | FID: 60.8588 | CLIP: 0.2985\n",
            "Epoch 42 | FID: 61.9871 | CLIP: 0.2973\n"
          ]
        }
      ]
    },
    {
      "cell_type": "code",
      "source": [
        "# 評分資料夾路徑\n",
        "eval_dir = \"/content/generated_eval2\"\n",
        "\n",
        "# 讀取所有 scores_ep*.json\n",
        "result_list = []\n",
        "for fname in sorted(os.listdir(eval_dir)):\n",
        "    match = re.match(r\"scores_ep(\\d+)\\.json\", fname)\n",
        "    if match:\n",
        "        epoch = int(match.group(1))\n",
        "        with open(os.path.join(eval_dir, fname), \"r\") as f:\n",
        "            data = json.load(f)\n",
        "            result_list.append({\n",
        "                \"epoch\": epoch,\n",
        "                \"FID\": data.get(\"FID\", None),\n",
        "                \"CLIP\": data.get(\"CLIP Image-Text Score\", None)\n",
        "            })\n",
        "\n",
        "# 照 epoch 排序\n",
        "result_list.sort(key=lambda x: x[\"epoch\"])\n",
        "\n",
        "# 提取資料\n",
        "epochs = [r[\"epoch\"] for r in result_list]\n",
        "fid_scores = [r[\"FID\"] for r in result_list]\n",
        "clip_scores = [r[\"CLIP\"] for r in result_list]\n",
        "\n",
        "# 畫 FID vs. Epoch\n",
        "plt.figure()\n",
        "plt.plot(epochs, fid_scores, marker='o')\n",
        "plt.xlabel(\"Epoch\")\n",
        "plt.ylabel(\"FID\")\n",
        "plt.title(\"FID Score vs. Epoch\")\n",
        "plt.grid(True)\n",
        "plt.xticks(epochs)\n",
        "plt.gca().invert_yaxis()  # FID 越低越好\n",
        "plt.show()\n",
        "\n",
        "# 畫 CLIP Score vs. Epoch\n",
        "plt.figure()\n",
        "plt.plot(epochs, clip_scores, marker='o')\n",
        "plt.xlabel(\"Epoch\")\n",
        "plt.ylabel(\"CLIP Image-Text Score\")\n",
        "plt.title(\"CLIP Score vs. Epoch\")\n",
        "plt.grid(True)\n",
        "plt.xticks(epochs)\n",
        "plt.show()"
      ],
      "metadata": {
        "colab": {
          "base_uri": "https://localhost:8080/",
          "height": 927
        },
        "id": "HbzPqXaIf9ig",
        "outputId": "31332ebf-5316-4b2b-bee8-cb243f276265"
      },
      "execution_count": null,
      "outputs": [
        {
          "output_type": "display_data",
          "data": {
            "text/plain": [
              "<Figure size 640x480 with 1 Axes>"
            ],
            "image/png": "[encoded data removed]"
          },
          "metadata": {}
        },
        {
          "output_type": "display_data",
          "data": {
            "text/plain": [
              "<Figure size 640x480 with 1 Axes>"
            ],
            "image/png": "[encoded data removed]"
          },
          "metadata": {}
        }
      ]
    },
    {
      "cell_type": "markdown",
      "source": [
        "### step=20, guidance=3"
      ],
      "metadata": {
        "id": "jVFFZVxk7y9N"
      }
    },
    {
      "cell_type": "code",
      "source": [
        "# 要測試的 epoch 清單\n",
        "target_epochs = [13,14,15,16,17,18,19,20,21,22,23,24,25,26,27,28,29,30,31,32,33,34,35,36,38,40,42]\n",
        "# 固定參數設定\n",
        "test_json_path = \"/content/test.json\"\n",
        "ref_mu_path = \"/content/drive/MyDrive/public_data/score/test_mu.npy\"\n",
        "ref_sigma_path = \"/content/drive/MyDrive/public_data/score/test_sigma.npy\"\n",
        "device = torch.device(\"cuda\" if torch.cuda.is_available() else \"cpu\")\n",
        "\n",
        "result_list = []\n",
        "os.makedirs(\"/content/generated_eval5\", exist_ok=True)\n",
        "for epoch in target_epochs:\n",
        "    ckpt_path = f\"/content/drive/MyDrive/DDIM11/ckpt/checkpoint_epoch{epoch}.pt\"\n",
        "    save_folder = f\"/content/generated_test11_{epoch}_20_3_2\"\n",
        "    os.makedirs(save_folder, exist_ok=True)\n",
        "\n",
        "    print(f\"\\n🎯 Epoch {epoch}: Generating images...\")\n",
        "\n",
        "    # 推論產圖\n",
        "    test_inference(\n",
        "        ckpt_path=ckpt_path,\n",
        "        test_json_path=test_json_path,\n",
        "        save_folder=save_folder,\n",
        "        steps=20,\n",
        "        guidance_scale=3,\n",
        "        batch_size=32\n",
        "    )\n",
        "\n",
        "    # 設定評分參數\n",
        "    args = SimpleNamespace(\n",
        "        ref_mu_path=ref_mu_path,\n",
        "        ref_sigma_path=ref_sigma_path,\n",
        "        test_json_path=test_json_path,\n",
        "        fake_img_root=save_folder,\n",
        "        image_size=256,\n",
        "        num_images=None,\n",
        "        scores=[\"fid\", \"clip_t\"],\n",
        "        model_name=\"ViT-B-32-quickgelu\",\n",
        "        pretrained=\"openai\",\n",
        "        batch_size=32,\n",
        "        num_workers=2,\n",
        "        verbose=True,\n",
        "        output_path=f\"/content/generated_eval5/scores_ep{epoch}.json\"\n",
        "    )\n",
        "\n",
        "    # 執行評分\n",
        "    output_json = {}\n",
        "    if 'clip_i' in args.scores or 'clip_t' in args.scores:\n",
        "        output_json.update(run_clip(args, device))\n",
        "    if 'fid' in args.scores:\n",
        "        output_json.update(run_fid(args, device))\n",
        "\n",
        "    # 印出分數\n",
        "    print(f\"✅ Epoch {epoch} scores:\")\n",
        "    for key in [\"FID\", \"CLIP Image-Text Score\"]:\n",
        "        if key in output_json:\n",
        "            print(f\"  {key}: {output_json[key]:.4f}\")\n",
        "\n",
        "    # 儲存分數\n",
        "    with open(args.output_path, \"w\") as f:\n",
        "        json.dump(output_json, f, indent=2)\n",
        "\n",
        "    # 收集結果\n",
        "    result_list.append({\n",
        "        \"epoch\": epoch,\n",
        "        \"FID\": output_json.get(\"FID\", None),\n",
        "        \"CLIP\": output_json.get(\"CLIP Image-Text Score\", None)\n",
        "    })\n",
        "\n",
        "# 總結\n",
        "print(\"\\n📊 Summary:\")\n",
        "for r in result_list:\n",
        "    print(f\"Epoch {r['epoch']:>2} | FID: {r['FID']:.4f} | CLIP: {r['CLIP']:.4f}\")"
      ],
      "metadata": {
        "id": "9vyvtxOl5RSe",
        "colab": {
          "base_uri": "https://localhost:8080/",
          "height": 1000,
          "referenced_widgets": [
            "ce5683edea0e4263bc2f108c9269e275",
            "b0f969bcd1524cd19efaa7f03a6513ab",
            "09f0a3529b044001a9eba4255d409535",
            "27d16d13f9b14d80b8003b405fcb3b33",
            "3aa7358537af40ada26c0468545345c0",
            "68fae8bc772e4e6bbd4fcf25e78d86e8",
            "4a9fbf7a5daa4722965ef2e4c2ffc3ef",
            "8bc0963185a84819a3840ff8e775ac59",
            "4bfcf83533c244a984ef98c1831d4694",
            "06b59497e3d145849b0f97b86de06db9",
            "4dc0e005806d4067ab450ba722bb3807",
            "c76c7b0b38db4ad691dc6b5302a93462",
            "6ba52cd86d80477b90f4e0ad2c782e8b",
            "217056a7c41d49888d52ea4f3d3dfce7",
            "ea29f397cf054ec48d2a1f5e48927c1b",
            "35783bc78d6c46428d3de00f06a8d9ef",
            "9e8bb9123e024a6d911d2bd27a2dd331",
            "b9e6731ecc8645b39629075c781dbcb2",
            "9123dfa37f03444c88039103f9c3f9e2",
            "5600348696bf48ca9402c42658a5f3cc",
            "fdd61bb5cbb34d3d8867312085e5a894",
            "0b42d73f867c44db810c5e69223a0481",
            "7306d0dd8de642a68a012878cdfb3131",
            "5fcd07ab7eba476fb3d290b5c5fee11e",
            "e830aca1df06432daaa44258d256d56c",
            "e73d8046071a4eec96d1c72833fb3c61",
            "d4530f9842574b94b9557aa7704f8cbf",
            "9d3afa48701b44ec805c2410e0869c71",
            "9624fcb5d47546e188f56225474add3a",
            "b8fead77458f45c5a94018824e58e82d",
            "98a9d82a31d84fb684328d21b6146436",
            "9c2e73f9ab724ef2b3002272f6af9dec",
            "e5cdc10af93b48798d361fbdfe7b215f",
            "18253ddafed14640ad1af80f8627b9aa",
            "37d168297017421f8bb148f7c68b50bd",
            "7d3177337db34be1aa5ec76dba4eba18",
            "c6385212dc454df3b4e9e2fa17e42159",
            "09e479ad07764e3e8503deb0326a6822",
            "d81fad15cdc34438a61d5e846d64c4bf",
            "e5e3565042d240afa6307df3979f82da",
            "935f4d080a4c4359b4aaa4b1e7ef9210",
            "75667667664c42ec92cb06f53c0c3bf8",
            "7c6adefde04642eeb29539387f912eca",
            "98b61102130645289bd8c64c50129bab",
            "d5dd5652307f4e8e9ccd87271ec50c5f",
            "b69bad9f4b634e7b8e39c31e84053b64",
            "856a4c2db66b4637aabec3a0e0088a52",
            "d3ef90407d874dbdb3e7256febdc3bff",
            "7620963d9e3746ca87d64e012c82976a",
            "7c985d2e9a404470a26f680a8302ca54",
            "e72223440196437396df86795253ba61",
            "45b6212f65fb4703ad059e928f6e9c86",
            "3fb20272f3a9404488b7bd94fe0e8e3e",
            "a30030a303054b299879ec7fd75fb37d",
            "c91e0cee1db042d3a2cb80f4f9fb910d",
            "1c6e571aabfc4e33af47a6cf56d77cf0",
            "e1d7fe97bfee435f8fd05366e404373c",
            "5d61680485b442d2a50ae6314b8a57bd",
            "07c5c92d9a914c69a17c9c21d6761ea4",
            "bc2e6c871f5e42d388e502dc81458132",
            "5c8f43b6865040f990a4d874b5699cae",
            "e85cbc054a72406099c85715ed32ae1e",
            "ae4b83fb9246401280baf831814e49ce",
            "7eff9283f1bd43ee95ff38426f2852f2",
            "04d6e545b7df4697b1e01b504844861d",
            "9aeb9b4c9bf94c2cbd30b1635fcc7d57",
            "3c2aebfaae0a487c84b28bf48a709e63",
            "c7ef7d2c204446feaf567dcd8e7be796",
            "ba7090290ae442daa7c18b4c28ee2daf",
            "92170ad14a37422aa923340f6a525358",
            "2a9965e13ca74d34b102b3c67b3d69d6",
            "ec30b96595b847679b843084e0d0272c",
            "edd67a29bd654630b6bde9603e9d83a4",
            "5cd2e93333b84f609ee3a68fa9205c92",
            "2a1806a7303e40cc9f5922c72009d9e0",
            "2c63a669494445a3bb049203f8d2839e",
            "75f63acc0eb041668cef844599df0e3d",
            "ba2f2e5439db47eb8a5b03a4c40cb296",
            "a2568161c2f54f6f8d0af0382b63885d",
            "d896cbe5ef904c9a89816dfe78b580b0",
            "1091dc93bbd74bf8af06da1dc8555afd",
            "27c610ca3961426e9f1ebdd7063df4e5",
            "93d0a9ad51554f73800dc03852f8ab40",
            "ea4a28fb68ea4eafa15b152c1c362b68",
            "c2214c03525f4bcb8987ae43ad1a9ee0",
            "fc971ba81db046c19f9c9c6d3620b818",
            "7d5c63233e1a401fbe3a8c0b13368d3d",
            "8c06be33785a4610805701b1225c8763",
            "32d686726a7c4407b9e86af5dd4d9b54",
            "7ed0210134034457a8078edf3ebbb30c",
            "c89f42f79dc44eb8abcaef6263354716",
            "1968780b38494d0599ec8c0f14231f71",
            "4003468c278048f9bec31b42715d9fb9",
            "8bc295b16bd54cd5a65ececfebf435b1",
            "a678c54903bf4447a26176aff21637b1",
            "e552ab9d2b9d401398d186a5fe30dcb1",
            "04cbdb0b169b4b8ea98e371fc1a3f091",
            "0bca7aef1aa9482799b9f32f1dbd4ba7",
            "b8ba2ee1c82148ffbf4d2d7980b0aada",
            "6b32e98a77ce4ad29a06604116d65eca",
            "1c1252672d55412bbc750e0fc080e8f2",
            "089afcff81c34a1e9eaad10503dd2860",
            "82660c7e5009449e93a36ff2baeb5437",
            "c53719c5bae04d0591359ab04dedd5f2",
            "606ebf6f232144f689ee71e86f6afc15",
            "da328a03537f497083ebada7b292554e",
            "076597f687b44f9898306077a0740bc4",
            "55094de06f7646da9386b63708b07a70",
            "334fc6b476764161ae0c59c44ef73e87",
            "a6f895b8e7244ae7ae0d1d26f4975053",
            "4c7272dbab5549cda709418e7b3c321a",
            "bffcbc24504c49c6afcb4cfa78682b70",
            "b16ec5f8dd2a4c93a1cf61f1c107fe26",
            "fd30b79d59914484b3337d41959706cb",
            "0643a5a2488949328270e6d23be617eb",
            "4b787d34ab204377bbd0f85e92bec8d8",
            "55da08c677474a0d842bc51aef222632",
            "5a739b36524f4e6492403e84ce20df8b",
            "7e3b2ff7916d4fbaab3d9124e162a098",
            "59247aa7024d4850a89bd40ac04ebdff",
            "2f173ae2094f4b848f956a65a3052e2d"
          ]
        },
        "outputId": "485c339e-39d2-4bf0-860e-3a64d3db0973"
      },
      "execution_count": null,
      "outputs": [
        {
          "output_type": "stream",
          "name": "stdout",
          "text": [
            "\n",
            "🎯 Epoch 13: Generating images...\n"
          ]
        },
        {
          "output_type": "stream",
          "name": "stderr",
          "text": [
            "/usr/local/lib/python3.11/dist-packages/huggingface_hub/utils/_auth.py:94: UserWarning: \n",
            "The secret `HF_TOKEN` does not exist in your Colab secrets.\n",
            "To authenticate with the Hugging Face Hub, create a token in your settings tab (https://huggingface.co/settings/tokens), set it as secret in your Google Colab and restart your session.\n",
            "You will be able to reuse this secret in all of your notebooks.\n",
            "Please note that authentication is recommended but still optional to access public models or datasets.\n",
            "  warnings.warn(\n"
          ]
        },
        {
          "output_type": "display_data",
          "data": {
            "text/plain": [
              "tokenizer_config.json:   0%|          | 0.00/592 [00:00<?, ?B/s]"
            ],
            "application/vnd.jupyter.widget-view+json": {
              "version_major": 2,
              "version_minor": 0,
              "model_id": "ce5683edea0e4263bc2f108c9269e275"
            }
          },
          "metadata": {}
        },
        {
          "output_type": "display_data",
          "data": {
            "text/plain": [
              "vocab.json:   0%|          | 0.00/862k [00:00<?, ?B/s]"
            ],
            "application/vnd.jupyter.widget-view+json": {
              "version_major": 2,
              "version_minor": 0,
              "model_id": "c76c7b0b38db4ad691dc6b5302a93462"
            }
          },
          "metadata": {}
        },
        {
          "output_type": "display_data",
          "data": {
            "text/plain": [
              "merges.txt:   0%|          | 0.00/525k [00:00<?, ?B/s]"
            ],
            "application/vnd.jupyter.widget-view+json": {
              "version_major": 2,
              "version_minor": 0,
              "model_id": "7306d0dd8de642a68a012878cdfb3131"
            }
          },
          "metadata": {}
        },
        {
          "output_type": "display_data",
          "data": {
            "text/plain": [
              "special_tokens_map.json:   0%|          | 0.00/389 [00:00<?, ?B/s]"
            ],
            "application/vnd.jupyter.widget-view+json": {
              "version_major": 2,
              "version_minor": 0,
              "model_id": "18253ddafed14640ad1af80f8627b9aa"
            }
          },
          "metadata": {}
        },
        {
          "output_type": "display_data",
          "data": {
            "text/plain": [
              "tokenizer.json:   0%|          | 0.00/2.22M [00:00<?, ?B/s]"
            ],
            "application/vnd.jupyter.widget-view+json": {
              "version_major": 2,
              "version_minor": 0,
              "model_id": "d5dd5652307f4e8e9ccd87271ec50c5f"
            }
          },
          "metadata": {}
        },
        {
          "output_type": "display_data",
          "data": {
            "text/plain": [
              "config.json:   0%|          | 0.00/4.19k [00:00<?, ?B/s]"
            ],
            "application/vnd.jupyter.widget-view+json": {
              "version_major": 2,
              "version_minor": 0,
              "model_id": "1c6e571aabfc4e33af47a6cf56d77cf0"
            }
          },
          "metadata": {}
        },
        {
          "output_type": "display_data",
          "data": {
            "text/plain": [
              "pytorch_model.bin:   0%|          | 0.00/605M [00:00<?, ?B/s]"
            ],
            "application/vnd.jupyter.widget-view+json": {
              "version_major": 2,
              "version_minor": 0,
              "model_id": "3c2aebfaae0a487c84b28bf48a709e63"
            }
          },
          "metadata": {}
        },
        {
          "output_type": "display_data",
          "data": {
            "text/plain": [
              "model.safetensors:   0%|          | 0.00/605M [00:00<?, ?B/s]"
            ],
            "application/vnd.jupyter.widget-view+json": {
              "version_major": 2,
              "version_minor": 0,
              "model_id": "ba2f2e5439db47eb8a5b03a4c40cb296"
            }
          },
          "metadata": {}
        },
        {
          "output_type": "display_data",
          "data": {
            "text/plain": [
              "config.json:   0%|          | 0.00/551 [00:00<?, ?B/s]"
            ],
            "application/vnd.jupyter.widget-view+json": {
              "version_major": 2,
              "version_minor": 0,
              "model_id": "32d686726a7c4407b9e86af5dd4d9b54"
            }
          },
          "metadata": {}
        },
        {
          "output_type": "display_data",
          "data": {
            "text/plain": [
              "vae/diffusion_pytorch_model.safetensors:   0%|          | 0.00/335M [00:00<?, ?B/s]"
            ],
            "application/vnd.jupyter.widget-view+json": {
              "version_major": 2,
              "version_minor": 0,
              "model_id": "6b32e98a77ce4ad29a06604116d65eca"
            }
          },
          "metadata": {}
        },
        {
          "output_type": "stream",
          "name": "stdout",
          "text": [
            "🔍 Loading checkpoint: /content/drive/MyDrive/DDIM11/ckpt/checkpoint_epoch13.pt\n",
            "✅ Using EMA weights\n",
            "🚀 Start batch inference: 1063 samples | Batch size=32\n"
          ]
        },
        {
          "output_type": "stream",
          "name": "stderr",
          "text": [
            "Batch generating: 100%|██████████| 34/34 [03:20<00:00,  5.91s/it]\n"
          ]
        },
        {
          "output_type": "stream",
          "name": "stdout",
          "text": [
            "[INFO] Loading test JSON file: /content/test.json.\n",
            "[INFO] Found 1063 images in the zip file.\n",
            "[INFO] Checking if all image paths from the test JSON file are present in the zip file.\n",
            "[INFO] Loading CLIP model: ViT-B-32-quickgelu with pretrained weights: openai.\n"
          ]
        },
        {
          "output_type": "display_data",
          "data": {
            "text/plain": [
              "open_clip_model.safetensors:   0%|          | 0.00/605M [00:00<?, ?B/s]"
            ],
            "application/vnd.jupyter.widget-view+json": {
              "version_major": 2,
              "version_minor": 0,
              "model_id": "4c7272dbab5549cda709418e7b3c321a"
            }
          },
          "metadata": {}
        },
        {
          "output_type": "stream",
          "name": "stdout",
          "text": [
            "[INFO] Calculating CLIP scores for 1063 images...\n"
          ]
        },
        {
          "output_type": "stream",
          "name": "stderr",
          "text": [
            "100%|██████████| 34/34 [00:02<00:00, 16.99it/s]\n"
          ]
        },
        {
          "output_type": "stream",
          "name": "stdout",
          "text": [
            "CLIP Image-Text Score: 0.294908\n",
            "[INFO] Found 1063 images in the zip file.\n"
          ]
        },
        {
          "output_type": "stream",
          "name": "stderr",
          "text": [
            "Downloading: \"https://download.pytorch.org/models/inception_v3_google-0cc3c7bd.pth\" to /root/.cache/torch/hub/checkpoints/inception_v3_google-0cc3c7bd.pth\n",
            "100%|██████████| 104M/104M [00:00<00:00, 183MB/s] \n"
          ]
        },
        {
          "output_type": "stream",
          "name": "stdout",
          "text": [
            "[INFO] Generating Inception model features...\n"
          ]
        },
        {
          "output_type": "stream",
          "name": "stderr",
          "text": []
        },
        {
          "output_type": "stream",
          "name": "stdout",
          "text": [
            "[INFO] Calculating FID score...\n",
            "[INFO] FID score: 68.6697.\n",
            "✅ Epoch 13 scores:\n",
            "  FID: 68.6697\n",
            "  CLIP Image-Text Score: 0.2949\n",
            "\n",
            "🎯 Epoch 14: Generating images...\n",
            "🔍 Loading checkpoint: /content/drive/MyDrive/DDIM11/ckpt/checkpoint_epoch14.pt\n",
            "✅ Using EMA weights\n",
            "🚀 Start batch inference: 1063 samples | Batch size=32\n"
          ]
        },
        {
          "output_type": "stream",
          "name": "stderr",
          "text": [
            "Batch generating: 100%|██████████| 34/34 [03:19<00:00,  5.86s/it]\n"
          ]
        },
        {
          "output_type": "stream",
          "name": "stdout",
          "text": [
            "[INFO] Loading test JSON file: /content/test.json.\n",
            "[INFO] Found 1063 images in the zip file.\n",
            "[INFO] Checking if all image paths from the test JSON file are present in the zip file.\n",
            "[INFO] Loading CLIP model: ViT-B-32-quickgelu with pretrained weights: openai.\n",
            "[INFO] Calculating CLIP scores for 1063 images...\n"
          ]
        },
        {
          "output_type": "stream",
          "name": "stderr",
          "text": [
            "100%|██████████| 34/34 [00:01<00:00, 17.95it/s]\n"
          ]
        },
        {
          "output_type": "stream",
          "name": "stdout",
          "text": [
            "CLIP Image-Text Score: 0.296486\n",
            "[INFO] Found 1063 images in the zip file.\n",
            "[INFO] Generating Inception model features...\n"
          ]
        },
        {
          "output_type": "stream",
          "name": "stderr",
          "text": []
        },
        {
          "output_type": "stream",
          "name": "stdout",
          "text": [
            "[INFO] Calculating FID score...\n",
            "[INFO] FID score: 66.4579.\n",
            "✅ Epoch 14 scores:\n",
            "  FID: 66.4579\n",
            "  CLIP Image-Text Score: 0.2965\n",
            "\n",
            "🎯 Epoch 15: Generating images...\n",
            "🔍 Loading checkpoint: /content/drive/MyDrive/DDIM11/ckpt/checkpoint_epoch15.pt\n",
            "✅ Using EMA weights\n",
            "🚀 Start batch inference: 1063 samples | Batch size=32\n"
          ]
        },
        {
          "output_type": "stream",
          "name": "stderr",
          "text": [
            "Batch generating: 100%|██████████| 34/34 [03:19<00:00,  5.86s/it]\n"
          ]
        },
        {
          "output_type": "stream",
          "name": "stdout",
          "text": [
            "[INFO] Loading test JSON file: /content/test.json.\n",
            "[INFO] Found 1063 images in the zip file.\n",
            "[INFO] Checking if all image paths from the test JSON file are present in the zip file.\n",
            "[INFO] Loading CLIP model: ViT-B-32-quickgelu with pretrained weights: openai.\n",
            "[INFO] Calculating CLIP scores for 1063 images...\n"
          ]
        },
        {
          "output_type": "stream",
          "name": "stderr",
          "text": [
            "100%|██████████| 34/34 [00:01<00:00, 17.89it/s]\n"
          ]
        },
        {
          "output_type": "stream",
          "name": "stdout",
          "text": [
            "CLIP Image-Text Score: 0.296908\n",
            "[INFO] Found 1063 images in the zip file.\n",
            "[INFO] Generating Inception model features...\n"
          ]
        },
        {
          "output_type": "stream",
          "name": "stderr",
          "text": []
        },
        {
          "output_type": "stream",
          "name": "stdout",
          "text": [
            "[INFO] Calculating FID score...\n",
            "[INFO] FID score: 66.0960.\n",
            "✅ Epoch 15 scores:\n",
            "  FID: 66.0960\n",
            "  CLIP Image-Text Score: 0.2969\n",
            "\n",
            "🎯 Epoch 16: Generating images...\n",
            "🔍 Loading checkpoint: /content/drive/MyDrive/DDIM11/ckpt/checkpoint_epoch16.pt\n",
            "✅ Using EMA weights\n",
            "🚀 Start batch inference: 1063 samples | Batch size=32\n"
          ]
        },
        {
          "output_type": "stream",
          "name": "stderr",
          "text": [
            "Batch generating: 100%|██████████| 34/34 [03:18<00:00,  5.85s/it]\n"
          ]
        },
        {
          "output_type": "stream",
          "name": "stdout",
          "text": [
            "[INFO] Loading test JSON file: /content/test.json.\n",
            "[INFO] Found 1063 images in the zip file.\n",
            "[INFO] Checking if all image paths from the test JSON file are present in the zip file.\n",
            "[INFO] Loading CLIP model: ViT-B-32-quickgelu with pretrained weights: openai.\n",
            "[INFO] Calculating CLIP scores for 1063 images...\n"
          ]
        },
        {
          "output_type": "stream",
          "name": "stderr",
          "text": [
            "100%|██████████| 34/34 [00:01<00:00, 17.95it/s]\n"
          ]
        },
        {
          "output_type": "stream",
          "name": "stdout",
          "text": [
            "CLIP Image-Text Score: 0.298338\n",
            "[INFO] Found 1063 images in the zip file.\n",
            "[INFO] Generating Inception model features...\n"
          ]
        },
        {
          "output_type": "stream",
          "name": "stderr",
          "text": []
        },
        {
          "output_type": "stream",
          "name": "stdout",
          "text": [
            "[INFO] Calculating FID score...\n",
            "[INFO] FID score: 64.4597.\n",
            "✅ Epoch 16 scores:\n",
            "  FID: 64.4597\n",
            "  CLIP Image-Text Score: 0.2983\n",
            "\n",
            "🎯 Epoch 17: Generating images...\n",
            "🔍 Loading checkpoint: /content/drive/MyDrive/DDIM11/ckpt/checkpoint_epoch17.pt\n",
            "✅ Using EMA weights\n",
            "🚀 Start batch inference: 1063 samples | Batch size=32\n"
          ]
        },
        {
          "output_type": "stream",
          "name": "stderr",
          "text": [
            "Batch generating: 100%|██████████| 34/34 [03:18<00:00,  5.85s/it]\n"
          ]
        },
        {
          "output_type": "stream",
          "name": "stdout",
          "text": [
            "[INFO] Loading test JSON file: /content/test.json.\n",
            "[INFO] Found 1063 images in the zip file.\n",
            "[INFO] Checking if all image paths from the test JSON file are present in the zip file.\n",
            "[INFO] Loading CLIP model: ViT-B-32-quickgelu with pretrained weights: openai.\n",
            "[INFO] Calculating CLIP scores for 1063 images...\n"
          ]
        },
        {
          "output_type": "stream",
          "name": "stderr",
          "text": [
            "100%|██████████| 34/34 [00:01<00:00, 17.14it/s]\n"
          ]
        },
        {
          "output_type": "stream",
          "name": "stdout",
          "text": [
            "CLIP Image-Text Score: 0.298256\n",
            "[INFO] Found 1063 images in the zip file.\n",
            "[INFO] Generating Inception model features...\n"
          ]
        },
        {
          "output_type": "stream",
          "name": "stderr",
          "text": []
        },
        {
          "output_type": "stream",
          "name": "stdout",
          "text": [
            "[INFO] Calculating FID score...\n",
            "[INFO] FID score: 63.4555.\n",
            "✅ Epoch 17 scores:\n",
            "  FID: 63.4555\n",
            "  CLIP Image-Text Score: 0.2983\n",
            "\n",
            "🎯 Epoch 18: Generating images...\n",
            "🔍 Loading checkpoint: /content/drive/MyDrive/DDIM11/ckpt/checkpoint_epoch18.pt\n",
            "✅ Using EMA weights\n",
            "🚀 Start batch inference: 1063 samples | Batch size=32\n"
          ]
        },
        {
          "output_type": "stream",
          "name": "stderr",
          "text": [
            "Batch generating: 100%|██████████| 34/34 [03:18<00:00,  5.85s/it]\n"
          ]
        },
        {
          "output_type": "stream",
          "name": "stdout",
          "text": [
            "[INFO] Loading test JSON file: /content/test.json.\n",
            "[INFO] Found 1063 images in the zip file.\n",
            "[INFO] Checking if all image paths from the test JSON file are present in the zip file.\n",
            "[INFO] Loading CLIP model: ViT-B-32-quickgelu with pretrained weights: openai.\n",
            "[INFO] Calculating CLIP scores for 1063 images...\n"
          ]
        },
        {
          "output_type": "stream",
          "name": "stderr",
          "text": [
            "100%|██████████| 34/34 [00:01<00:00, 18.15it/s]\n"
          ]
        },
        {
          "output_type": "stream",
          "name": "stdout",
          "text": [
            "CLIP Image-Text Score: 0.299338\n",
            "[INFO] Found 1063 images in the zip file.\n",
            "[INFO] Generating Inception model features...\n"
          ]
        },
        {
          "output_type": "stream",
          "name": "stderr",
          "text": []
        },
        {
          "output_type": "stream",
          "name": "stdout",
          "text": [
            "[INFO] Calculating FID score...\n",
            "[INFO] FID score: 62.7977.\n",
            "✅ Epoch 18 scores:\n",
            "  FID: 62.7977\n",
            "  CLIP Image-Text Score: 0.2993\n",
            "\n",
            "🎯 Epoch 19: Generating images...\n",
            "🔍 Loading checkpoint: /content/drive/MyDrive/DDIM11/ckpt/checkpoint_epoch19.pt\n",
            "✅ Using EMA weights\n",
            "🚀 Start batch inference: 1063 samples | Batch size=32\n"
          ]
        },
        {
          "output_type": "stream",
          "name": "stderr",
          "text": [
            "Batch generating: 100%|██████████| 34/34 [03:18<00:00,  5.85s/it]\n"
          ]
        },
        {
          "output_type": "stream",
          "name": "stdout",
          "text": [
            "[INFO] Loading test JSON file: /content/test.json.\n",
            "[INFO] Found 1063 images in the zip file.\n",
            "[INFO] Checking if all image paths from the test JSON file are present in the zip file.\n",
            "[INFO] Loading CLIP model: ViT-B-32-quickgelu with pretrained weights: openai.\n",
            "[INFO] Calculating CLIP scores for 1063 images...\n"
          ]
        },
        {
          "output_type": "stream",
          "name": "stderr",
          "text": [
            "100%|██████████| 34/34 [00:01<00:00, 17.37it/s]\n"
          ]
        },
        {
          "output_type": "stream",
          "name": "stdout",
          "text": [
            "CLIP Image-Text Score: 0.299972\n",
            "[INFO] Found 1063 images in the zip file.\n",
            "[INFO] Generating Inception model features...\n"
          ]
        },
        {
          "output_type": "stream",
          "name": "stderr",
          "text": []
        },
        {
          "output_type": "stream",
          "name": "stdout",
          "text": [
            "[INFO] Calculating FID score...\n",
            "[INFO] FID score: 63.6113.\n",
            "✅ Epoch 19 scores:\n",
            "  FID: 63.6113\n",
            "  CLIP Image-Text Score: 0.3000\n",
            "\n",
            "🎯 Epoch 20: Generating images...\n",
            "🔍 Loading checkpoint: /content/drive/MyDrive/DDIM11/ckpt/checkpoint_epoch20.pt\n",
            "✅ Using EMA weights\n",
            "🚀 Start batch inference: 1063 samples | Batch size=32\n"
          ]
        },
        {
          "output_type": "stream",
          "name": "stderr",
          "text": [
            "Batch generating: 100%|██████████| 34/34 [03:19<00:00,  5.85s/it]\n"
          ]
        },
        {
          "output_type": "stream",
          "name": "stdout",
          "text": [
            "[INFO] Loading test JSON file: /content/test.json.\n",
            "[INFO] Found 1063 images in the zip file.\n",
            "[INFO] Checking if all image paths from the test JSON file are present in the zip file.\n",
            "[INFO] Loading CLIP model: ViT-B-32-quickgelu with pretrained weights: openai.\n",
            "[INFO] Calculating CLIP scores for 1063 images...\n"
          ]
        },
        {
          "output_type": "stream",
          "name": "stderr",
          "text": [
            "100%|██████████| 34/34 [00:01<00:00, 17.91it/s]\n"
          ]
        },
        {
          "output_type": "stream",
          "name": "stdout",
          "text": [
            "CLIP Image-Text Score: 0.300132\n",
            "[INFO] Found 1063 images in the zip file.\n",
            "[INFO] Generating Inception model features...\n"
          ]
        },
        {
          "output_type": "stream",
          "name": "stderr",
          "text": []
        },
        {
          "output_type": "stream",
          "name": "stdout",
          "text": [
            "[INFO] Calculating FID score...\n",
            "[INFO] FID score: 63.0056.\n",
            "✅ Epoch 20 scores:\n",
            "  FID: 63.0056\n",
            "  CLIP Image-Text Score: 0.3001\n",
            "\n",
            "🎯 Epoch 21: Generating images...\n",
            "🔍 Loading checkpoint: /content/drive/MyDrive/DDIM11/ckpt/checkpoint_epoch21.pt\n",
            "✅ Using EMA weights\n",
            "🚀 Start batch inference: 1063 samples | Batch size=32\n"
          ]
        },
        {
          "output_type": "stream",
          "name": "stderr",
          "text": [
            "Batch generating: 100%|██████████| 34/34 [03:18<00:00,  5.85s/it]\n"
          ]
        },
        {
          "output_type": "stream",
          "name": "stdout",
          "text": [
            "[INFO] Loading test JSON file: /content/test.json.\n",
            "[INFO] Found 1063 images in the zip file.\n",
            "[INFO] Checking if all image paths from the test JSON file are present in the zip file.\n",
            "[INFO] Loading CLIP model: ViT-B-32-quickgelu with pretrained weights: openai.\n",
            "[INFO] Calculating CLIP scores for 1063 images...\n"
          ]
        },
        {
          "output_type": "stream",
          "name": "stderr",
          "text": [
            "100%|██████████| 34/34 [00:01<00:00, 18.33it/s]\n"
          ]
        },
        {
          "output_type": "stream",
          "name": "stdout",
          "text": [
            "CLIP Image-Text Score: 0.300848\n",
            "[INFO] Found 1063 images in the zip file.\n",
            "[INFO] Generating Inception model features...\n"
          ]
        },
        {
          "output_type": "stream",
          "name": "stderr",
          "text": []
        },
        {
          "output_type": "stream",
          "name": "stdout",
          "text": [
            "[INFO] Calculating FID score...\n",
            "[INFO] FID score: 61.9337.\n",
            "✅ Epoch 21 scores:\n",
            "  FID: 61.9337\n",
            "  CLIP Image-Text Score: 0.3008\n",
            "\n",
            "🎯 Epoch 22: Generating images...\n",
            "🔍 Loading checkpoint: /content/drive/MyDrive/DDIM11/ckpt/checkpoint_epoch22.pt\n",
            "✅ Using EMA weights\n",
            "🚀 Start batch inference: 1063 samples | Batch size=32\n"
          ]
        },
        {
          "output_type": "stream",
          "name": "stderr",
          "text": [
            "Batch generating: 100%|██████████| 34/34 [03:19<00:00,  5.85s/it]\n"
          ]
        },
        {
          "output_type": "stream",
          "name": "stdout",
          "text": [
            "[INFO] Loading test JSON file: /content/test.json.\n",
            "[INFO] Found 1063 images in the zip file.\n",
            "[INFO] Checking if all image paths from the test JSON file are present in the zip file.\n",
            "[INFO] Loading CLIP model: ViT-B-32-quickgelu with pretrained weights: openai.\n",
            "[INFO] Calculating CLIP scores for 1063 images...\n"
          ]
        },
        {
          "output_type": "stream",
          "name": "stderr",
          "text": [
            "100%|██████████| 34/34 [00:01<00:00, 18.16it/s]\n"
          ]
        },
        {
          "output_type": "stream",
          "name": "stdout",
          "text": [
            "CLIP Image-Text Score: 0.299405\n",
            "[INFO] Found 1063 images in the zip file.\n",
            "[INFO] Generating Inception model features...\n"
          ]
        },
        {
          "output_type": "stream",
          "name": "stderr",
          "text": []
        },
        {
          "output_type": "stream",
          "name": "stdout",
          "text": [
            "[INFO] Calculating FID score...\n",
            "[INFO] FID score: 62.5564.\n",
            "✅ Epoch 22 scores:\n",
            "  FID: 62.5564\n",
            "  CLIP Image-Text Score: 0.2994\n",
            "\n",
            "🎯 Epoch 23: Generating images...\n",
            "🔍 Loading checkpoint: /content/drive/MyDrive/DDIM11/ckpt/checkpoint_epoch23.pt\n",
            "✅ Using EMA weights\n",
            "🚀 Start batch inference: 1063 samples | Batch size=32\n"
          ]
        },
        {
          "output_type": "stream",
          "name": "stderr",
          "text": [
            "Batch generating: 100%|██████████| 34/34 [03:19<00:00,  5.86s/it]\n"
          ]
        },
        {
          "output_type": "stream",
          "name": "stdout",
          "text": [
            "[INFO] Loading test JSON file: /content/test.json.\n",
            "[INFO] Found 1063 images in the zip file.\n",
            "[INFO] Checking if all image paths from the test JSON file are present in the zip file.\n",
            "[INFO] Loading CLIP model: ViT-B-32-quickgelu with pretrained weights: openai.\n",
            "[INFO] Calculating CLIP scores for 1063 images...\n"
          ]
        },
        {
          "output_type": "stream",
          "name": "stderr",
          "text": [
            "100%|██████████| 34/34 [00:01<00:00, 17.56it/s]\n"
          ]
        },
        {
          "output_type": "stream",
          "name": "stdout",
          "text": [
            "CLIP Image-Text Score: 0.299557\n",
            "[INFO] Found 1063 images in the zip file.\n",
            "[INFO] Generating Inception model features...\n"
          ]
        },
        {
          "output_type": "stream",
          "name": "stderr",
          "text": []
        },
        {
          "output_type": "stream",
          "name": "stdout",
          "text": [
            "[INFO] Calculating FID score...\n",
            "[INFO] FID score: 62.2401.\n",
            "✅ Epoch 23 scores:\n",
            "  FID: 62.2401\n",
            "  CLIP Image-Text Score: 0.2996\n",
            "\n",
            "🎯 Epoch 24: Generating images...\n",
            "🔍 Loading checkpoint: /content/drive/MyDrive/DDIM11/ckpt/checkpoint_epoch24.pt\n",
            "✅ Using EMA weights\n",
            "🚀 Start batch inference: 1063 samples | Batch size=32\n"
          ]
        },
        {
          "output_type": "stream",
          "name": "stderr",
          "text": [
            "Batch generating: 100%|██████████| 34/34 [03:18<00:00,  5.85s/it]\n"
          ]
        },
        {
          "output_type": "stream",
          "name": "stdout",
          "text": [
            "[INFO] Loading test JSON file: /content/test.json.\n",
            "[INFO] Found 1063 images in the zip file.\n",
            "[INFO] Checking if all image paths from the test JSON file are present in the zip file.\n",
            "[INFO] Loading CLIP model: ViT-B-32-quickgelu with pretrained weights: openai.\n",
            "[INFO] Calculating CLIP scores for 1063 images...\n"
          ]
        },
        {
          "output_type": "stream",
          "name": "stderr",
          "text": [
            "100%|██████████| 34/34 [00:01<00:00, 18.10it/s]\n"
          ]
        },
        {
          "output_type": "stream",
          "name": "stdout",
          "text": [
            "CLIP Image-Text Score: 0.300512\n",
            "[INFO] Found 1063 images in the zip file.\n",
            "[INFO] Generating Inception model features...\n"
          ]
        },
        {
          "output_type": "stream",
          "name": "stderr",
          "text": []
        },
        {
          "output_type": "stream",
          "name": "stdout",
          "text": [
            "[INFO] Calculating FID score...\n",
            "[INFO] FID score: 62.7336.\n",
            "✅ Epoch 24 scores:\n",
            "  FID: 62.7336\n",
            "  CLIP Image-Text Score: 0.3005\n",
            "\n",
            "🎯 Epoch 25: Generating images...\n",
            "🔍 Loading checkpoint: /content/drive/MyDrive/DDIM11/ckpt/checkpoint_epoch25.pt\n",
            "✅ Using EMA weights\n",
            "🚀 Start batch inference: 1063 samples | Batch size=32\n"
          ]
        },
        {
          "output_type": "stream",
          "name": "stderr",
          "text": [
            "Batch generating: 100%|██████████| 34/34 [03:18<00:00,  5.85s/it]\n"
          ]
        },
        {
          "output_type": "stream",
          "name": "stdout",
          "text": [
            "[INFO] Loading test JSON file: /content/test.json.\n",
            "[INFO] Found 1063 images in the zip file.\n",
            "[INFO] Checking if all image paths from the test JSON file are present in the zip file.\n",
            "[INFO] Loading CLIP model: ViT-B-32-quickgelu with pretrained weights: openai.\n",
            "[INFO] Calculating CLIP scores for 1063 images...\n"
          ]
        },
        {
          "output_type": "stream",
          "name": "stderr",
          "text": [
            "100%|██████████| 34/34 [00:01<00:00, 18.05it/s]\n"
          ]
        },
        {
          "output_type": "stream",
          "name": "stdout",
          "text": [
            "CLIP Image-Text Score: 0.300973\n",
            "[INFO] Found 1063 images in the zip file.\n",
            "[INFO] Generating Inception model features...\n"
          ]
        },
        {
          "output_type": "stream",
          "name": "stderr",
          "text": []
        },
        {
          "output_type": "stream",
          "name": "stdout",
          "text": [
            "[INFO] Calculating FID score...\n",
            "[INFO] FID score: 61.9212.\n",
            "✅ Epoch 25 scores:\n",
            "  FID: 61.9212\n",
            "  CLIP Image-Text Score: 0.3010\n",
            "\n",
            "🎯 Epoch 26: Generating images...\n",
            "🔍 Loading checkpoint: /content/drive/MyDrive/DDIM11/ckpt/checkpoint_epoch26.pt\n",
            "✅ Using EMA weights\n",
            "🚀 Start batch inference: 1063 samples | Batch size=32\n"
          ]
        },
        {
          "output_type": "stream",
          "name": "stderr",
          "text": [
            "Batch generating: 100%|██████████| 34/34 [03:19<00:00,  5.85s/it]\n"
          ]
        },
        {
          "output_type": "stream",
          "name": "stdout",
          "text": [
            "[INFO] Loading test JSON file: /content/test.json.\n",
            "[INFO] Found 1063 images in the zip file.\n",
            "[INFO] Checking if all image paths from the test JSON file are present in the zip file.\n",
            "[INFO] Loading CLIP model: ViT-B-32-quickgelu with pretrained weights: openai.\n",
            "[INFO] Calculating CLIP scores for 1063 images...\n"
          ]
        },
        {
          "output_type": "stream",
          "name": "stderr",
          "text": [
            "100%|██████████| 34/34 [00:01<00:00, 17.29it/s]\n"
          ]
        },
        {
          "output_type": "stream",
          "name": "stdout",
          "text": [
            "CLIP Image-Text Score: 0.300863\n",
            "[INFO] Found 1063 images in the zip file.\n",
            "[INFO] Generating Inception model features...\n"
          ]
        },
        {
          "output_type": "stream",
          "name": "stderr",
          "text": []
        },
        {
          "output_type": "stream",
          "name": "stdout",
          "text": [
            "[INFO] Calculating FID score...\n",
            "[INFO] FID score: 62.0865.\n",
            "✅ Epoch 26 scores:\n",
            "  FID: 62.0865\n",
            "  CLIP Image-Text Score: 0.3009\n",
            "\n",
            "🎯 Epoch 27: Generating images...\n",
            "🔍 Loading checkpoint: /content/drive/MyDrive/DDIM11/ckpt/checkpoint_epoch27.pt\n",
            "✅ Using EMA weights\n",
            "🚀 Start batch inference: 1063 samples | Batch size=32\n"
          ]
        },
        {
          "output_type": "stream",
          "name": "stderr",
          "text": [
            "Batch generating: 100%|██████████| 34/34 [03:18<00:00,  5.85s/it]\n"
          ]
        },
        {
          "output_type": "stream",
          "name": "stdout",
          "text": [
            "[INFO] Loading test JSON file: /content/test.json.\n",
            "[INFO] Found 1063 images in the zip file.\n",
            "[INFO] Checking if all image paths from the test JSON file are present in the zip file.\n",
            "[INFO] Loading CLIP model: ViT-B-32-quickgelu with pretrained weights: openai.\n",
            "[INFO] Calculating CLIP scores for 1063 images...\n"
          ]
        },
        {
          "output_type": "stream",
          "name": "stderr",
          "text": [
            "100%|██████████| 34/34 [00:01<00:00, 17.12it/s]\n"
          ]
        },
        {
          "output_type": "stream",
          "name": "stdout",
          "text": [
            "CLIP Image-Text Score: 0.300560\n",
            "[INFO] Found 1063 images in the zip file.\n",
            "[INFO] Generating Inception model features...\n"
          ]
        },
        {
          "output_type": "stream",
          "name": "stderr",
          "text": []
        },
        {
          "output_type": "stream",
          "name": "stdout",
          "text": [
            "[INFO] Calculating FID score...\n",
            "[INFO] FID score: 60.8727.\n",
            "✅ Epoch 27 scores:\n",
            "  FID: 60.8727\n",
            "  CLIP Image-Text Score: 0.3006\n",
            "\n",
            "🎯 Epoch 28: Generating images...\n",
            "🔍 Loading checkpoint: /content/drive/MyDrive/DDIM11/ckpt/checkpoint_epoch28.pt\n",
            "✅ Using EMA weights\n",
            "🚀 Start batch inference: 1063 samples | Batch size=32\n"
          ]
        },
        {
          "output_type": "stream",
          "name": "stderr",
          "text": [
            "Batch generating: 100%|██████████| 34/34 [03:19<00:00,  5.85s/it]\n"
          ]
        },
        {
          "output_type": "stream",
          "name": "stdout",
          "text": [
            "[INFO] Loading test JSON file: /content/test.json.\n",
            "[INFO] Found 1063 images in the zip file.\n",
            "[INFO] Checking if all image paths from the test JSON file are present in the zip file.\n",
            "[INFO] Loading CLIP model: ViT-B-32-quickgelu with pretrained weights: openai.\n",
            "[INFO] Calculating CLIP scores for 1063 images...\n"
          ]
        },
        {
          "output_type": "stream",
          "name": "stderr",
          "text": [
            "100%|██████████| 34/34 [00:01<00:00, 17.74it/s]\n"
          ]
        },
        {
          "output_type": "stream",
          "name": "stdout",
          "text": [
            "CLIP Image-Text Score: 0.300372\n",
            "[INFO] Found 1063 images in the zip file.\n",
            "[INFO] Generating Inception model features...\n"
          ]
        },
        {
          "output_type": "stream",
          "name": "stderr",
          "text": []
        },
        {
          "output_type": "stream",
          "name": "stdout",
          "text": [
            "[INFO] Calculating FID score...\n",
            "[INFO] FID score: 60.4241.\n",
            "✅ Epoch 28 scores:\n",
            "  FID: 60.4241\n",
            "  CLIP Image-Text Score: 0.3004\n",
            "\n",
            "🎯 Epoch 29: Generating images...\n",
            "🔍 Loading checkpoint: /content/drive/MyDrive/DDIM11/ckpt/checkpoint_epoch29.pt\n",
            "✅ Using EMA weights\n",
            "🚀 Start batch inference: 1063 samples | Batch size=32\n"
          ]
        },
        {
          "output_type": "stream",
          "name": "stderr",
          "text": [
            "Batch generating: 100%|██████████| 34/34 [03:19<00:00,  5.86s/it]\n"
          ]
        },
        {
          "output_type": "stream",
          "name": "stdout",
          "text": [
            "[INFO] Loading test JSON file: /content/test.json.\n",
            "[INFO] Found 1063 images in the zip file.\n",
            "[INFO] Checking if all image paths from the test JSON file are present in the zip file.\n",
            "[INFO] Loading CLIP model: ViT-B-32-quickgelu with pretrained weights: openai.\n",
            "[INFO] Calculating CLIP scores for 1063 images...\n"
          ]
        },
        {
          "output_type": "stream",
          "name": "stderr",
          "text": [
            "100%|██████████| 34/34 [00:01<00:00, 18.03it/s]\n"
          ]
        },
        {
          "output_type": "stream",
          "name": "stdout",
          "text": [
            "CLIP Image-Text Score: 0.300731\n",
            "[INFO] Found 1063 images in the zip file.\n",
            "[INFO] Generating Inception model features...\n"
          ]
        },
        {
          "output_type": "stream",
          "name": "stderr",
          "text": []
        },
        {
          "output_type": "stream",
          "name": "stdout",
          "text": [
            "[INFO] Calculating FID score...\n",
            "[INFO] FID score: 60.9483.\n",
            "✅ Epoch 29 scores:\n",
            "  FID: 60.9483\n",
            "  CLIP Image-Text Score: 0.3007\n",
            "\n",
            "🎯 Epoch 30: Generating images...\n",
            "🔍 Loading checkpoint: /content/drive/MyDrive/DDIM11/ckpt/checkpoint_epoch30.pt\n",
            "✅ Using EMA weights\n",
            "🚀 Start batch inference: 1063 samples | Batch size=32\n"
          ]
        },
        {
          "output_type": "stream",
          "name": "stderr",
          "text": [
            "Batch generating: 100%|██████████| 34/34 [03:19<00:00,  5.86s/it]\n"
          ]
        },
        {
          "output_type": "stream",
          "name": "stdout",
          "text": [
            "[INFO] Loading test JSON file: /content/test.json.\n",
            "[INFO] Found 1063 images in the zip file.\n",
            "[INFO] Checking if all image paths from the test JSON file are present in the zip file.\n",
            "[INFO] Loading CLIP model: ViT-B-32-quickgelu with pretrained weights: openai.\n",
            "[INFO] Calculating CLIP scores for 1063 images...\n"
          ]
        },
        {
          "output_type": "stream",
          "name": "stderr",
          "text": [
            "100%|██████████| 34/34 [00:01<00:00, 18.14it/s]\n"
          ]
        },
        {
          "output_type": "stream",
          "name": "stdout",
          "text": [
            "CLIP Image-Text Score: 0.300880\n",
            "[INFO] Found 1063 images in the zip file.\n",
            "[INFO] Generating Inception model features...\n"
          ]
        },
        {
          "output_type": "stream",
          "name": "stderr",
          "text": []
        },
        {
          "output_type": "stream",
          "name": "stdout",
          "text": [
            "[INFO] Calculating FID score...\n",
            "[INFO] FID score: 59.7125.\n",
            "✅ Epoch 30 scores:\n",
            "  FID: 59.7125\n",
            "  CLIP Image-Text Score: 0.3009\n",
            "\n",
            "🎯 Epoch 31: Generating images...\n",
            "🔍 Loading checkpoint: /content/drive/MyDrive/DDIM11/ckpt/checkpoint_epoch31.pt\n",
            "✅ Using EMA weights\n",
            "🚀 Start batch inference: 1063 samples | Batch size=32\n"
          ]
        },
        {
          "output_type": "stream",
          "name": "stderr",
          "text": [
            "Batch generating: 100%|██████████| 34/34 [03:19<00:00,  5.86s/it]\n"
          ]
        },
        {
          "output_type": "stream",
          "name": "stdout",
          "text": [
            "[INFO] Loading test JSON file: /content/test.json.\n",
            "[INFO] Found 1063 images in the zip file.\n",
            "[INFO] Checking if all image paths from the test JSON file are present in the zip file.\n",
            "[INFO] Loading CLIP model: ViT-B-32-quickgelu with pretrained weights: openai.\n",
            "[INFO] Calculating CLIP scores for 1063 images...\n"
          ]
        },
        {
          "output_type": "stream",
          "name": "stderr",
          "text": [
            "100%|██████████| 34/34 [00:01<00:00, 17.01it/s]\n"
          ]
        },
        {
          "output_type": "stream",
          "name": "stdout",
          "text": [
            "CLIP Image-Text Score: 0.301304\n",
            "[INFO] Found 1063 images in the zip file.\n",
            "[INFO] Generating Inception model features...\n"
          ]
        },
        {
          "output_type": "stream",
          "name": "stderr",
          "text": []
        },
        {
          "output_type": "stream",
          "name": "stdout",
          "text": [
            "[INFO] Calculating FID score...\n",
            "[INFO] FID score: 60.7028.\n",
            "✅ Epoch 31 scores:\n",
            "  FID: 60.7028\n",
            "  CLIP Image-Text Score: 0.3013\n",
            "\n",
            "🎯 Epoch 32: Generating images...\n",
            "🔍 Loading checkpoint: /content/drive/MyDrive/DDIM11/ckpt/checkpoint_epoch32.pt\n",
            "✅ Using EMA weights\n",
            "🚀 Start batch inference: 1063 samples | Batch size=32\n"
          ]
        },
        {
          "output_type": "stream",
          "name": "stderr",
          "text": [
            "Batch generating: 100%|██████████| 34/34 [03:19<00:00,  5.86s/it]\n"
          ]
        },
        {
          "output_type": "stream",
          "name": "stdout",
          "text": [
            "[INFO] Loading test JSON file: /content/test.json.\n",
            "[INFO] Found 1063 images in the zip file.\n",
            "[INFO] Checking if all image paths from the test JSON file are present in the zip file.\n",
            "[INFO] Loading CLIP model: ViT-B-32-quickgelu with pretrained weights: openai.\n",
            "[INFO] Calculating CLIP scores for 1063 images...\n"
          ]
        },
        {
          "output_type": "stream",
          "name": "stderr",
          "text": [
            "100%|██████████| 34/34 [00:01<00:00, 18.39it/s]\n"
          ]
        },
        {
          "output_type": "stream",
          "name": "stdout",
          "text": [
            "CLIP Image-Text Score: 0.300244\n",
            "[INFO] Found 1063 images in the zip file.\n",
            "[INFO] Generating Inception model features...\n"
          ]
        },
        {
          "output_type": "stream",
          "name": "stderr",
          "text": []
        },
        {
          "output_type": "stream",
          "name": "stdout",
          "text": [
            "[INFO] Calculating FID score...\n",
            "[INFO] FID score: 60.2968.\n",
            "✅ Epoch 32 scores:\n",
            "  FID: 60.2968\n",
            "  CLIP Image-Text Score: 0.3002\n",
            "\n",
            "🎯 Epoch 33: Generating images...\n",
            "🔍 Loading checkpoint: /content/drive/MyDrive/DDIM11/ckpt/checkpoint_epoch33.pt\n",
            "✅ Using EMA weights\n",
            "🚀 Start batch inference: 1063 samples | Batch size=32\n"
          ]
        },
        {
          "output_type": "stream",
          "name": "stderr",
          "text": [
            "Batch generating: 100%|██████████| 34/34 [03:19<00:00,  5.85s/it]\n"
          ]
        },
        {
          "output_type": "stream",
          "name": "stdout",
          "text": [
            "[INFO] Loading test JSON file: /content/test.json.\n",
            "[INFO] Found 1063 images in the zip file.\n",
            "[INFO] Checking if all image paths from the test JSON file are present in the zip file.\n",
            "[INFO] Loading CLIP model: ViT-B-32-quickgelu with pretrained weights: openai.\n",
            "[INFO] Calculating CLIP scores for 1063 images...\n"
          ]
        },
        {
          "output_type": "stream",
          "name": "stderr",
          "text": [
            "100%|██████████| 34/34 [00:01<00:00, 17.85it/s]\n"
          ]
        },
        {
          "output_type": "stream",
          "name": "stdout",
          "text": [
            "CLIP Image-Text Score: 0.300314\n",
            "[INFO] Found 1063 images in the zip file.\n",
            "[INFO] Generating Inception model features...\n"
          ]
        },
        {
          "output_type": "stream",
          "name": "stderr",
          "text": []
        },
        {
          "output_type": "stream",
          "name": "stdout",
          "text": [
            "[INFO] Calculating FID score...\n",
            "[INFO] FID score: 59.6059.\n",
            "✅ Epoch 33 scores:\n",
            "  FID: 59.6059\n",
            "  CLIP Image-Text Score: 0.3003\n",
            "\n",
            "🎯 Epoch 34: Generating images...\n",
            "🔍 Loading checkpoint: /content/drive/MyDrive/DDIM11/ckpt/checkpoint_epoch34.pt\n",
            "✅ Using EMA weights\n",
            "🚀 Start batch inference: 1063 samples | Batch size=32\n"
          ]
        },
        {
          "output_type": "stream",
          "name": "stderr",
          "text": [
            "Batch generating: 100%|██████████| 34/34 [03:18<00:00,  5.85s/it]\n"
          ]
        },
        {
          "output_type": "stream",
          "name": "stdout",
          "text": [
            "[INFO] Loading test JSON file: /content/test.json.\n",
            "[INFO] Found 1063 images in the zip file.\n",
            "[INFO] Checking if all image paths from the test JSON file are present in the zip file.\n",
            "[INFO] Loading CLIP model: ViT-B-32-quickgelu with pretrained weights: openai.\n",
            "[INFO] Calculating CLIP scores for 1063 images...\n"
          ]
        },
        {
          "output_type": "stream",
          "name": "stderr",
          "text": [
            "100%|██████████| 34/34 [00:01<00:00, 18.09it/s]\n"
          ]
        },
        {
          "output_type": "stream",
          "name": "stdout",
          "text": [
            "CLIP Image-Text Score: 0.299622\n",
            "[INFO] Found 1063 images in the zip file.\n",
            "[INFO] Generating Inception model features...\n"
          ]
        },
        {
          "output_type": "stream",
          "name": "stderr",
          "text": []
        },
        {
          "output_type": "stream",
          "name": "stdout",
          "text": [
            "[INFO] Calculating FID score...\n",
            "[INFO] FID score: 59.7088.\n",
            "✅ Epoch 34 scores:\n",
            "  FID: 59.7088\n",
            "  CLIP Image-Text Score: 0.2996\n",
            "\n",
            "🎯 Epoch 35: Generating images...\n",
            "🔍 Loading checkpoint: /content/drive/MyDrive/DDIM11/ckpt/checkpoint_epoch35.pt\n",
            "✅ Using EMA weights\n",
            "🚀 Start batch inference: 1063 samples | Batch size=32\n"
          ]
        },
        {
          "output_type": "stream",
          "name": "stderr",
          "text": [
            "Batch generating: 100%|██████████| 34/34 [03:19<00:00,  5.85s/it]\n"
          ]
        },
        {
          "output_type": "stream",
          "name": "stdout",
          "text": [
            "[INFO] Loading test JSON file: /content/test.json.\n",
            "[INFO] Found 1063 images in the zip file.\n",
            "[INFO] Checking if all image paths from the test JSON file are present in the zip file.\n",
            "[INFO] Loading CLIP model: ViT-B-32-quickgelu with pretrained weights: openai.\n",
            "[INFO] Calculating CLIP scores for 1063 images...\n"
          ]
        },
        {
          "output_type": "stream",
          "name": "stderr",
          "text": [
            "100%|██████████| 34/34 [00:01<00:00, 17.27it/s]\n"
          ]
        },
        {
          "output_type": "stream",
          "name": "stdout",
          "text": [
            "CLIP Image-Text Score: 0.298872\n",
            "[INFO] Found 1063 images in the zip file.\n",
            "[INFO] Generating Inception model features...\n"
          ]
        },
        {
          "output_type": "stream",
          "name": "stderr",
          "text": []
        },
        {
          "output_type": "stream",
          "name": "stdout",
          "text": [
            "[INFO] Calculating FID score...\n",
            "[INFO] FID score: 59.3112.\n",
            "✅ Epoch 35 scores:\n",
            "  FID: 59.3112\n",
            "  CLIP Image-Text Score: 0.2989\n",
            "\n",
            "🎯 Epoch 36: Generating images...\n",
            "🔍 Loading checkpoint: /content/drive/MyDrive/DDIM11/ckpt/checkpoint_epoch36.pt\n",
            "✅ Using EMA weights\n",
            "🚀 Start batch inference: 1063 samples | Batch size=32\n"
          ]
        },
        {
          "output_type": "stream",
          "name": "stderr",
          "text": [
            "Batch generating: 100%|██████████| 34/34 [03:18<00:00,  5.85s/it]\n"
          ]
        },
        {
          "output_type": "stream",
          "name": "stdout",
          "text": [
            "[INFO] Loading test JSON file: /content/test.json.\n",
            "[INFO] Found 1063 images in the zip file.\n",
            "[INFO] Checking if all image paths from the test JSON file are present in the zip file.\n",
            "[INFO] Loading CLIP model: ViT-B-32-quickgelu with pretrained weights: openai.\n",
            "[INFO] Calculating CLIP scores for 1063 images...\n"
          ]
        },
        {
          "output_type": "stream",
          "name": "stderr",
          "text": [
            "100%|██████████| 34/34 [00:01<00:00, 17.82it/s]\n"
          ]
        },
        {
          "output_type": "stream",
          "name": "stdout",
          "text": [
            "CLIP Image-Text Score: 0.299800\n",
            "[INFO] Found 1063 images in the zip file.\n",
            "[INFO] Generating Inception model features...\n"
          ]
        },
        {
          "output_type": "stream",
          "name": "stderr",
          "text": []
        },
        {
          "output_type": "stream",
          "name": "stdout",
          "text": [
            "[INFO] Calculating FID score...\n",
            "[INFO] FID score: 60.0075.\n",
            "✅ Epoch 36 scores:\n",
            "  FID: 60.0075\n",
            "  CLIP Image-Text Score: 0.2998\n",
            "\n",
            "🎯 Epoch 38: Generating images...\n",
            "🔍 Loading checkpoint: /content/drive/MyDrive/DDIM11/ckpt/checkpoint_epoch38.pt\n",
            "✅ Using EMA weights\n",
            "🚀 Start batch inference: 1063 samples | Batch size=32\n"
          ]
        },
        {
          "output_type": "stream",
          "name": "stderr",
          "text": [
            "Batch generating: 100%|██████████| 34/34 [03:18<00:00,  5.85s/it]\n"
          ]
        },
        {
          "output_type": "stream",
          "name": "stdout",
          "text": [
            "[INFO] Loading test JSON file: /content/test.json.\n",
            "[INFO] Found 1063 images in the zip file.\n",
            "[INFO] Checking if all image paths from the test JSON file are present in the zip file.\n",
            "[INFO] Loading CLIP model: ViT-B-32-quickgelu with pretrained weights: openai.\n",
            "[INFO] Calculating CLIP scores for 1063 images...\n"
          ]
        },
        {
          "output_type": "stream",
          "name": "stderr",
          "text": [
            "100%|██████████| 34/34 [00:01<00:00, 17.52it/s]\n"
          ]
        },
        {
          "output_type": "stream",
          "name": "stdout",
          "text": [
            "CLIP Image-Text Score: 0.299133\n",
            "[INFO] Found 1063 images in the zip file.\n",
            "[INFO] Generating Inception model features...\n"
          ]
        },
        {
          "output_type": "stream",
          "name": "stderr",
          "text": []
        },
        {
          "output_type": "stream",
          "name": "stdout",
          "text": [
            "[INFO] Calculating FID score...\n",
            "[INFO] FID score: 59.7688.\n",
            "✅ Epoch 38 scores:\n",
            "  FID: 59.7688\n",
            "  CLIP Image-Text Score: 0.2991\n",
            "\n",
            "🎯 Epoch 40: Generating images...\n",
            "🔍 Loading checkpoint: /content/drive/MyDrive/DDIM11/ckpt/checkpoint_epoch40.pt\n",
            "✅ Using EMA weights\n",
            "🚀 Start batch inference: 1063 samples | Batch size=32\n"
          ]
        },
        {
          "output_type": "stream",
          "name": "stderr",
          "text": [
            "Batch generating: 100%|██████████| 34/34 [03:18<00:00,  5.85s/it]\n"
          ]
        },
        {
          "output_type": "stream",
          "name": "stdout",
          "text": [
            "[INFO] Loading test JSON file: /content/test.json.\n",
            "[INFO] Found 1063 images in the zip file.\n",
            "[INFO] Checking if all image paths from the test JSON file are present in the zip file.\n",
            "[INFO] Loading CLIP model: ViT-B-32-quickgelu with pretrained weights: openai.\n",
            "[INFO] Calculating CLIP scores for 1063 images...\n"
          ]
        },
        {
          "output_type": "stream",
          "name": "stderr",
          "text": [
            "100%|██████████| 34/34 [00:01<00:00, 17.95it/s]\n"
          ]
        },
        {
          "output_type": "stream",
          "name": "stdout",
          "text": [
            "CLIP Image-Text Score: 0.299596\n",
            "[INFO] Found 1063 images in the zip file.\n",
            "[INFO] Generating Inception model features...\n"
          ]
        },
        {
          "output_type": "stream",
          "name": "stderr",
          "text": []
        },
        {
          "output_type": "stream",
          "name": "stdout",
          "text": [
            "[INFO] Calculating FID score...\n",
            "[INFO] FID score: 59.7540.\n",
            "✅ Epoch 40 scores:\n",
            "  FID: 59.7540\n",
            "  CLIP Image-Text Score: 0.2996\n",
            "\n",
            "🎯 Epoch 42: Generating images...\n",
            "🔍 Loading checkpoint: /content/drive/MyDrive/DDIM11/ckpt/checkpoint_epoch42.pt\n",
            "✅ Using EMA weights\n",
            "🚀 Start batch inference: 1063 samples | Batch size=32\n"
          ]
        },
        {
          "output_type": "stream",
          "name": "stderr",
          "text": [
            "Batch generating: 100%|██████████| 34/34 [03:19<00:00,  5.86s/it]\n"
          ]
        },
        {
          "output_type": "stream",
          "name": "stdout",
          "text": [
            "[INFO] Loading test JSON file: /content/test.json.\n",
            "[INFO] Found 1063 images in the zip file.\n",
            "[INFO] Checking if all image paths from the test JSON file are present in the zip file.\n",
            "[INFO] Loading CLIP model: ViT-B-32-quickgelu with pretrained weights: openai.\n",
            "[INFO] Calculating CLIP scores for 1063 images...\n"
          ]
        },
        {
          "output_type": "stream",
          "name": "stderr",
          "text": [
            "100%|██████████| 34/34 [00:01<00:00, 17.63it/s]\n"
          ]
        },
        {
          "output_type": "stream",
          "name": "stdout",
          "text": [
            "CLIP Image-Text Score: 0.298229\n",
            "[INFO] Found 1063 images in the zip file.\n",
            "[INFO] Generating Inception model features...\n"
          ]
        },
        {
          "output_type": "stream",
          "name": "stderr",
          "text": []
        },
        {
          "output_type": "stream",
          "name": "stdout",
          "text": [
            "[INFO] Calculating FID score...\n",
            "[INFO] FID score: 60.0472.\n",
            "✅ Epoch 42 scores:\n",
            "  FID: 60.0472\n",
            "  CLIP Image-Text Score: 0.2982\n",
            "\n",
            "📊 Summary:\n",
            "Epoch 13 | FID: 68.6697 | CLIP: 0.2949\n",
            "Epoch 14 | FID: 66.4579 | CLIP: 0.2965\n",
            "Epoch 15 | FID: 66.0960 | CLIP: 0.2969\n",
            "Epoch 16 | FID: 64.4597 | CLIP: 0.2983\n",
            "Epoch 17 | FID: 63.4555 | CLIP: 0.2983\n",
            "Epoch 18 | FID: 62.7977 | CLIP: 0.2993\n",
            "Epoch 19 | FID: 63.6113 | CLIP: 0.3000\n",
            "Epoch 20 | FID: 63.0056 | CLIP: 0.3001\n",
            "Epoch 21 | FID: 61.9337 | CLIP: 0.3008\n",
            "Epoch 22 | FID: 62.5564 | CLIP: 0.2994\n",
            "Epoch 23 | FID: 62.2401 | CLIP: 0.2996\n",
            "Epoch 24 | FID: 62.7336 | CLIP: 0.3005\n",
            "Epoch 25 | FID: 61.9212 | CLIP: 0.3010\n",
            "Epoch 26 | FID: 62.0865 | CLIP: 0.3009\n",
            "Epoch 27 | FID: 60.8727 | CLIP: 0.3006\n",
            "Epoch 28 | FID: 60.4241 | CLIP: 0.3004\n",
            "Epoch 29 | FID: 60.9483 | CLIP: 0.3007\n",
            "Epoch 30 | FID: 59.7125 | CLIP: 0.3009\n",
            "Epoch 31 | FID: 60.7028 | CLIP: 0.3013\n",
            "Epoch 32 | FID: 60.2968 | CLIP: 0.3002\n",
            "Epoch 33 | FID: 59.6059 | CLIP: 0.3003\n",
            "Epoch 34 | FID: 59.7088 | CLIP: 0.2996\n",
            "Epoch 35 | FID: 59.3112 | CLIP: 0.2989\n",
            "Epoch 36 | FID: 60.0075 | CLIP: 0.2998\n",
            "Epoch 38 | FID: 59.7688 | CLIP: 0.2991\n",
            "Epoch 40 | FID: 59.7540 | CLIP: 0.2996\n",
            "Epoch 42 | FID: 60.0472 | CLIP: 0.2982\n"
          ]
        }
      ]
    },
    {
      "cell_type": "code",
      "source": [
        "# 評分資料夾路徑\n",
        "eval_dir = \"/content/generated_eval5\"\n",
        "\n",
        "# 讀取所有 scores_ep*.json\n",
        "result_list = []\n",
        "for fname in sorted(os.listdir(eval_dir)):\n",
        "    match = re.match(r\"scores_ep(\\d+)\\.json\", fname)\n",
        "    if match:\n",
        "        epoch = int(match.group(1))\n",
        "        with open(os.path.join(eval_dir, fname), \"r\") as f:\n",
        "            data = json.load(f)\n",
        "            result_list.append({\n",
        "                \"epoch\": epoch,\n",
        "                \"FID\": data.get(\"FID\", None),\n",
        "                \"CLIP\": data.get(\"CLIP Image-Text Score\", None)\n",
        "            })\n",
        "\n",
        "# 照 epoch 排序\n",
        "result_list.sort(key=lambda x: x[\"epoch\"])\n",
        "\n",
        "# 提取資料\n",
        "epochs = [r[\"epoch\"] for r in result_list]\n",
        "fid_scores = [r[\"FID\"] for r in result_list]\n",
        "clip_scores = [r[\"CLIP\"] for r in result_list]\n",
        "\n",
        "# 畫 FID vs. Epoch\n",
        "plt.figure()\n",
        "plt.plot(epochs, fid_scores, marker='o')\n",
        "plt.xlabel(\"Epoch\")\n",
        "plt.ylabel(\"FID\")\n",
        "plt.title(\"FID Score vs. Epoch\")\n",
        "plt.grid(True)\n",
        "plt.xticks(epochs)\n",
        "plt.gca().invert_yaxis()  # FID 越低越好\n",
        "plt.show()\n",
        "\n",
        "# 畫 CLIP Score vs. Epoch\n",
        "plt.figure()\n",
        "plt.plot(epochs, clip_scores, marker='o')\n",
        "plt.xlabel(\"Epoch\")\n",
        "plt.ylabel(\"CLIP Image-Text Score\")\n",
        "plt.title(\"CLIP Score vs. Epoch\")\n",
        "plt.grid(True)\n",
        "plt.xticks(epochs)\n",
        "plt.show()"
      ],
      "metadata": {
        "id": "W1xIjKny5Rbc",
        "colab": {
          "base_uri": "https://localhost:8080/",
          "height": 927
        },
        "outputId": "ee338f45-f6a4-43c0-f52e-e5649ff5c559"
      },
      "execution_count": null,
      "outputs": [
        {
          "output_type": "display_data",
          "data": {
            "text/plain": [
              "<Figure size 640x480 with 1 Axes>"
            ],
            "image/png": "[encoded data removed]"
          },
          "metadata": {}
        },
        {
          "output_type": "display_data",
          "data": {
            "text/plain": [
              "<Figure size 640x480 with 1 Axes>"
            ],
            "image/png": "[encoded data removed]"
          },
          "metadata": {}
        }
      ]
    },
    {
      "cell_type": "markdown",
      "source": [
        "## DDIM"
      ],
      "metadata": {
        "id": "SP7jzFyI432V"
      }
    },
    {
      "cell_type": "code",
      "execution_count": null,
      "metadata": {
        "id": "VS9p867EICE5"
      },
      "outputs": [],
      "source": [
        "@torch.no_grad()\n",
        "def generate_batch(prompts, unet, vae, tokenizer, text_encoder, device, steps=50, guidance_scale=7.5):\n",
        "    unet.eval()\n",
        "    scheduler = DDIMScheduler()\n",
        "    scheduler.set_timesteps(steps)\n",
        "    scheduler.eta = 0.0\n",
        "\n",
        "    batch_size = len(prompts)\n",
        "    cond_ids = tokenizer(prompts, return_tensors=\"pt\", padding=\"max_length\", truncation=True, max_length=77).input_ids.to(device)\n",
        "    uncond_ids = tokenizer([\"\"] * batch_size, return_tensors=\"pt\", padding=\"max_length\", truncation=True, max_length=77).input_ids.to(device)\n",
        "\n",
        "    cond_emb = text_encoder(cond_ids)[0]\n",
        "    uncond_emb = text_encoder(uncond_ids)[0]\n",
        "    encoder_input = torch.cat([uncond_emb, cond_emb], dim=0)  # (2B, 77, D)\n",
        "\n",
        "    latents = torch.randn((batch_size, 4, 32, 32)).to(device)\n",
        "\n",
        "    for t in scheduler.timesteps:\n",
        "        latent_input = latents.repeat(2, 1, 1, 1)\n",
        "        noise_pred = unet(latent_input, t.to(device), encoder_hidden_states=encoder_input).sample\n",
        "        noise_pred_uncond, noise_pred_cond = noise_pred.chunk(2)\n",
        "        noise_pred = noise_pred_uncond + guidance_scale * (noise_pred_cond - noise_pred_uncond)\n",
        "        latents = scheduler.step(noise_pred, t, latents).prev_sample\n",
        "\n",
        "    latents = latents / 0.18215\n",
        "    images = vae.decode(latents, return_dict=False)[0]\n",
        "    images = (images.clamp(-1, 1) + 1) / 2\n",
        "\n",
        "    pil_images = [transforms.ToPILImage()(img.cpu()) for img in images]\n",
        "    return pil_images\n",
        "\n",
        "def test_inference(ckpt_path, test_json_path, save_folder, device=\"cuda\", steps=50, guidance_scale=7.5, batch_size=4):\n",
        "    tokenizer = CLIPTokenizer.from_pretrained(\"openai/clip-vit-base-patch32\")\n",
        "    text_encoder = CLIPTextModel.from_pretrained(\"openai/clip-vit-base-patch32\").eval().to(device)\n",
        "    text_encoder.requires_grad_(False)\n",
        "    vae = AutoencoderKL.from_pretrained(\"CompVis/stable-diffusion-v1-4\", subfolder=\"vae\").to(device)\n",
        "    vae.requires_grad_(False)\n",
        "\n",
        "    print(f\"🔍 Loading checkpoint: {ckpt_path}\")\n",
        "    # 1. 初始化 unet（使用原始 config）\n",
        "    # 本地路徑，不需要再用 from_config()，而是直接用 from_pretrained()\n",
        "    # 1. 建立一樣的 UNet 架構\n",
        "    unet = UNet2DConditionModel(\n",
        "    sample_size=32,\n",
        "    in_channels=4,\n",
        "    out_channels=4,\n",
        "    block_out_channels=(192, 384, 768, 768),\n",
        "    layers_per_block=2,\n",
        "    down_block_types=(\n",
        "        \"CrossAttnDownBlock2D\", \"CrossAttnDownBlock2D\",\n",
        "        \"CrossAttnDownBlock2D\", \"CrossAttnDownBlock2D\"\n",
        "    ),\n",
        "    up_block_types=(\n",
        "        \"CrossAttnUpBlock2D\", \"CrossAttnUpBlock2D\",\n",
        "        \"CrossAttnUpBlock2D\", \"CrossAttnUpBlock2D\"\n",
        "    ),\n",
        "    cross_attention_dim=512,\n",
        "    attention_head_dim=8\n",
        "    ).to(device)\n",
        "\n",
        "    # 2. 載入訓練好的權重（推薦用 EMA）\n",
        "    ckpt = torch.load(ckpt_path, map_location=device)\n",
        "    if \"ema\" in ckpt:\n",
        "        print(\"✅ Using EMA weights\")\n",
        "        unet.load_state_dict(ckpt[\"ema\"])\n",
        "    else:\n",
        "        print(\"⚠️ Using raw UNet weights\")\n",
        "        unet.load_state_dict(ckpt[\"unet\"])\n",
        "\n",
        "    os.makedirs(save_folder, exist_ok=True)\n",
        "    with open(test_json_path, \"r\") as f:\n",
        "        test_data = list(json.load(f).items())  # 轉成 list 才能 batch\n",
        "\n",
        "    print(f\"🚀 Start batch inference: {len(test_data)} samples | Batch size={batch_size}\")\n",
        "    for i in tqdm(range(0, len(test_data), batch_size), desc=\"Batch generating\"):\n",
        "        batch_items = test_data[i:i+batch_size]\n",
        "        prompts = [item[1][\"text_prompt\"] for item in batch_items]\n",
        "        filenames = [item[1][\"image_name\"] for item in batch_items]\n",
        "\n",
        "        images = generate_batch(prompts, unet, vae, tokenizer, text_encoder, device,\n",
        "                                steps=steps, guidance_scale=guidance_scale)\n",
        "        for img, fname in zip(images, filenames):\n",
        "            img.save(os.path.join(save_folder, fname))\n",
        "\n"
      ]
    },
    {
      "cell_type": "markdown",
      "metadata": {
        "id": "VWL4_wWaICE4"
      },
      "source": [
        "### Step=10, guidance=2"
      ]
    },
    {
      "cell_type": "code",
      "execution_count": null,
      "metadata": {
        "colab": {
          "base_uri": "https://localhost:8080/",
          "height": 1000,
          "referenced_widgets": [
            "609e993523ca43d6b0de77fa0d95b873",
            "6660437632d34dd7881a128d28276779",
            "4046e130822d419884a9ff11549c1405",
            "defb3a8e254d43d788ee54236a07682b",
            "c137ea92c78841aaa2927753bb56a835",
            "9365a5e991fd4536a605364a881fc6ae",
            "e947a40cd3e84e0e8b9d0d0a04a1fb50",
            "e7a88627e2bd44388f489c7c1479f1b2",
            "70b790cc72b044e19f843be08d50b70d",
            "de52fb880c75421199508f43750d3571",
            "ec7f375f86814de793180a6ce28002eb"
          ]
        },
        "outputId": "5a915a50-61aa-419a-9d5f-a6be64453d04",
        "id": "qE1uIMG0ICE7",
        "collapsed": true
      },
      "outputs": [
        {
          "output_type": "stream",
          "name": "stdout",
          "text": [
            "\n",
            "🎯 Epoch 6: Generating images...\n",
            "🔍 Loading checkpoint: /content/drive/MyDrive/DDIM6/ckpt/checkpoint_epoch6.pt\n",
            "✅ Using EMA weights\n",
            "🚀 Start batch inference: 1063 samples | Batch size=16\n"
          ]
        },
        {
          "output_type": "stream",
          "name": "stderr",
          "text": [
            "Batch generating: 100%|██████████| 67/67 [01:51<00:00,  1.66s/it]\n"
          ]
        },
        {
          "output_type": "stream",
          "name": "stdout",
          "text": [
            "[INFO] Loading test JSON file: /content/test.json.\n",
            "[INFO] Found 1063 images in the zip file.\n",
            "[INFO] Checking if all image paths from the test JSON file are present in the zip file.\n",
            "[INFO] Loading CLIP model: ViT-B-32-quickgelu with pretrained weights: openai.\n"
          ]
        },
        {
          "output_type": "display_data",
          "data": {
            "text/plain": [
              "open_clip_model.safetensors:   0%|          | 0.00/605M [00:00<?, ?B/s]"
            ],
            "application/vnd.jupyter.widget-view+json": {
              "version_major": 2,
              "version_minor": 0,
              "model_id": "609e993523ca43d6b0de77fa0d95b873"
            }
          },
          "metadata": {}
        },
        {
          "output_type": "stream",
          "name": "stdout",
          "text": [
            "[INFO] Calculating CLIP scores for 1063 images...\n"
          ]
        },
        {
          "output_type": "stream",
          "name": "stderr",
          "text": [
            "100%|██████████| 34/34 [00:02<00:00, 15.45it/s]\n"
          ]
        },
        {
          "output_type": "stream",
          "name": "stdout",
          "text": [
            "CLIP Image-Text Score: 0.253743\n",
            "[INFO] Found 1063 images in the zip file.\n"
          ]
        },
        {
          "output_type": "stream",
          "name": "stderr",
          "text": [
            "Downloading: \"https://download.pytorch.org/models/inception_v3_google-0cc3c7bd.pth\" to /root/.cache/torch/hub/checkpoints/inception_v3_google-0cc3c7bd.pth\n",
            "100%|██████████| 104M/104M [00:00<00:00, 168MB/s] \n"
          ]
        },
        {
          "output_type": "stream",
          "name": "stdout",
          "text": [
            "[INFO] Generating Inception model features...\n"
          ]
        },
        {
          "output_type": "stream",
          "name": "stderr",
          "text": []
        },
        {
          "output_type": "stream",
          "name": "stdout",
          "text": [
            "[INFO] Calculating FID score...\n",
            "[INFO] FID score: 150.6101.\n",
            "✅ Epoch 6 scores:\n",
            "  FID: 150.6101\n",
            "  CLIP Image-Text Score: 0.2537\n",
            "\n",
            "🎯 Epoch 10: Generating images...\n",
            "🔍 Loading checkpoint: /content/drive/MyDrive/DDIM6/ckpt/checkpoint_epoch10.pt\n",
            "✅ Using EMA weights\n",
            "🚀 Start batch inference: 1063 samples | Batch size=16\n"
          ]
        },
        {
          "output_type": "stream",
          "name": "stderr",
          "text": [
            "Batch generating: 100%|██████████| 67/67 [01:51<00:00,  1.67s/it]\n"
          ]
        },
        {
          "output_type": "stream",
          "name": "stdout",
          "text": [
            "[INFO] Loading test JSON file: /content/test.json.\n",
            "[INFO] Found 1063 images in the zip file.\n",
            "[INFO] Checking if all image paths from the test JSON file are present in the zip file.\n",
            "[INFO] Loading CLIP model: ViT-B-32-quickgelu with pretrained weights: openai.\n",
            "[INFO] Calculating CLIP scores for 1063 images...\n"
          ]
        },
        {
          "output_type": "stream",
          "name": "stderr",
          "text": [
            "100%|██████████| 34/34 [00:02<00:00, 16.28it/s]\n"
          ]
        },
        {
          "output_type": "stream",
          "name": "stdout",
          "text": [
            "CLIP Image-Text Score: 0.269237\n",
            "[INFO] Found 1063 images in the zip file.\n",
            "[INFO] Generating Inception model features...\n"
          ]
        },
        {
          "output_type": "stream",
          "name": "stderr",
          "text": []
        },
        {
          "output_type": "stream",
          "name": "stdout",
          "text": [
            "[INFO] Calculating FID score...\n",
            "[INFO] FID score: 124.3254.\n",
            "✅ Epoch 10 scores:\n",
            "  FID: 124.3254\n",
            "  CLIP Image-Text Score: 0.2692\n",
            "\n",
            "🎯 Epoch 14: Generating images...\n",
            "🔍 Loading checkpoint: /content/drive/MyDrive/DDIM6/ckpt/checkpoint_epoch14.pt\n",
            "✅ Using EMA weights\n",
            "🚀 Start batch inference: 1063 samples | Batch size=16\n"
          ]
        },
        {
          "output_type": "stream",
          "name": "stderr",
          "text": [
            "Batch generating: 100%|██████████| 67/67 [01:51<00:00,  1.66s/it]\n"
          ]
        },
        {
          "output_type": "stream",
          "name": "stdout",
          "text": [
            "[INFO] Loading test JSON file: /content/test.json.\n",
            "[INFO] Found 1063 images in the zip file.\n",
            "[INFO] Checking if all image paths from the test JSON file are present in the zip file.\n",
            "[INFO] Loading CLIP model: ViT-B-32-quickgelu with pretrained weights: openai.\n",
            "[INFO] Calculating CLIP scores for 1063 images...\n"
          ]
        },
        {
          "output_type": "stream",
          "name": "stderr",
          "text": [
            "100%|██████████| 34/34 [00:01<00:00, 17.11it/s]\n"
          ]
        },
        {
          "output_type": "stream",
          "name": "stdout",
          "text": [
            "CLIP Image-Text Score: 0.272801\n",
            "[INFO] Found 1063 images in the zip file.\n",
            "[INFO] Generating Inception model features...\n"
          ]
        },
        {
          "output_type": "stream",
          "name": "stderr",
          "text": []
        },
        {
          "output_type": "stream",
          "name": "stdout",
          "text": [
            "[INFO] Calculating FID score...\n",
            "[INFO] FID score: 116.0131.\n",
            "✅ Epoch 14 scores:\n",
            "  FID: 116.0131\n",
            "  CLIP Image-Text Score: 0.2728\n",
            "\n",
            "🎯 Epoch 18: Generating images...\n",
            "🔍 Loading checkpoint: /content/drive/MyDrive/DDIM6/ckpt/checkpoint_epoch18.pt\n",
            "✅ Using EMA weights\n",
            "🚀 Start batch inference: 1063 samples | Batch size=16\n"
          ]
        },
        {
          "output_type": "stream",
          "name": "stderr",
          "text": [
            "Batch generating: 100%|██████████| 67/67 [01:50<00:00,  1.66s/it]\n"
          ]
        },
        {
          "output_type": "stream",
          "name": "stdout",
          "text": [
            "[INFO] Loading test JSON file: /content/test.json.\n",
            "[INFO] Found 1063 images in the zip file.\n",
            "[INFO] Checking if all image paths from the test JSON file are present in the zip file.\n",
            "[INFO] Loading CLIP model: ViT-B-32-quickgelu with pretrained weights: openai.\n",
            "[INFO] Calculating CLIP scores for 1063 images...\n"
          ]
        },
        {
          "output_type": "stream",
          "name": "stderr",
          "text": [
            "100%|██████████| 34/34 [00:02<00:00, 16.66it/s]\n"
          ]
        },
        {
          "output_type": "stream",
          "name": "stdout",
          "text": [
            "CLIP Image-Text Score: 0.273701\n",
            "[INFO] Found 1063 images in the zip file.\n",
            "[INFO] Generating Inception model features...\n"
          ]
        },
        {
          "output_type": "stream",
          "name": "stderr",
          "text": []
        },
        {
          "output_type": "stream",
          "name": "stdout",
          "text": [
            "[INFO] Calculating FID score...\n",
            "[INFO] FID score: 112.6028.\n",
            "✅ Epoch 18 scores:\n",
            "  FID: 112.6028\n",
            "  CLIP Image-Text Score: 0.2737\n",
            "\n",
            "🎯 Epoch 22: Generating images...\n",
            "🔍 Loading checkpoint: /content/drive/MyDrive/DDIM6/ckpt/checkpoint_epoch22.pt\n",
            "✅ Using EMA weights\n",
            "🚀 Start batch inference: 1063 samples | Batch size=16\n"
          ]
        },
        {
          "output_type": "stream",
          "name": "stderr",
          "text": [
            "Batch generating: 100%|██████████| 67/67 [01:50<00:00,  1.65s/it]\n"
          ]
        },
        {
          "output_type": "stream",
          "name": "stdout",
          "text": [
            "[INFO] Loading test JSON file: /content/test.json.\n",
            "[INFO] Found 1063 images in the zip file.\n",
            "[INFO] Checking if all image paths from the test JSON file are present in the zip file.\n",
            "[INFO] Loading CLIP model: ViT-B-32-quickgelu with pretrained weights: openai.\n",
            "[INFO] Calculating CLIP scores for 1063 images...\n"
          ]
        },
        {
          "output_type": "stream",
          "name": "stderr",
          "text": [
            "100%|██████████| 34/34 [00:02<00:00, 16.23it/s]\n"
          ]
        },
        {
          "output_type": "stream",
          "name": "stdout",
          "text": [
            "CLIP Image-Text Score: 0.273877\n",
            "[INFO] Found 1063 images in the zip file.\n",
            "[INFO] Generating Inception model features...\n"
          ]
        },
        {
          "output_type": "stream",
          "name": "stderr",
          "text": []
        },
        {
          "output_type": "stream",
          "name": "stdout",
          "text": [
            "[INFO] Calculating FID score...\n",
            "[INFO] FID score: 116.6643.\n",
            "✅ Epoch 22 scores:\n",
            "  FID: 116.6643\n",
            "  CLIP Image-Text Score: 0.2739\n",
            "\n",
            "🎯 Epoch 26: Generating images...\n",
            "🔍 Loading checkpoint: /content/drive/MyDrive/DDIM6/ckpt/checkpoint_epoch26.pt\n",
            "✅ Using EMA weights\n",
            "🚀 Start batch inference: 1063 samples | Batch size=16\n"
          ]
        },
        {
          "output_type": "stream",
          "name": "stderr",
          "text": [
            "Batch generating: 100%|██████████| 67/67 [01:50<00:00,  1.65s/it]\n"
          ]
        },
        {
          "output_type": "stream",
          "name": "stdout",
          "text": [
            "[INFO] Loading test JSON file: /content/test.json.\n",
            "[INFO] Found 1063 images in the zip file.\n",
            "[INFO] Checking if all image paths from the test JSON file are present in the zip file.\n",
            "[INFO] Loading CLIP model: ViT-B-32-quickgelu with pretrained weights: openai.\n",
            "[INFO] Calculating CLIP scores for 1063 images...\n"
          ]
        },
        {
          "output_type": "stream",
          "name": "stderr",
          "text": [
            "100%|██████████| 34/34 [00:02<00:00, 16.43it/s]\n"
          ]
        },
        {
          "output_type": "stream",
          "name": "stdout",
          "text": [
            "CLIP Image-Text Score: 0.271789\n",
            "[INFO] Found 1063 images in the zip file.\n",
            "[INFO] Generating Inception model features...\n"
          ]
        },
        {
          "output_type": "stream",
          "name": "stderr",
          "text": []
        },
        {
          "output_type": "stream",
          "name": "stdout",
          "text": [
            "[INFO] Calculating FID score...\n",
            "[INFO] FID score: 118.1588.\n",
            "✅ Epoch 26 scores:\n",
            "  FID: 118.1588\n",
            "  CLIP Image-Text Score: 0.2718\n",
            "\n",
            "🎯 Epoch 30: Generating images...\n",
            "🔍 Loading checkpoint: /content/drive/MyDrive/DDIM6/ckpt/checkpoint_epoch30.pt\n",
            "✅ Using EMA weights\n",
            "🚀 Start batch inference: 1063 samples | Batch size=16\n"
          ]
        },
        {
          "output_type": "stream",
          "name": "stderr",
          "text": [
            "Batch generating: 100%|██████████| 67/67 [01:50<00:00,  1.64s/it]\n"
          ]
        },
        {
          "output_type": "stream",
          "name": "stdout",
          "text": [
            "[INFO] Loading test JSON file: /content/test.json.\n",
            "[INFO] Found 1063 images in the zip file.\n",
            "[INFO] Checking if all image paths from the test JSON file are present in the zip file.\n",
            "[INFO] Loading CLIP model: ViT-B-32-quickgelu with pretrained weights: openai.\n",
            "[INFO] Calculating CLIP scores for 1063 images...\n"
          ]
        },
        {
          "output_type": "stream",
          "name": "stderr",
          "text": [
            "100%|██████████| 34/34 [00:02<00:00, 16.63it/s]\n"
          ]
        },
        {
          "output_type": "stream",
          "name": "stdout",
          "text": [
            "CLIP Image-Text Score: 0.268659\n",
            "[INFO] Found 1063 images in the zip file.\n",
            "[INFO] Generating Inception model features...\n"
          ]
        },
        {
          "output_type": "stream",
          "name": "stderr",
          "text": []
        },
        {
          "output_type": "stream",
          "name": "stdout",
          "text": [
            "[INFO] Calculating FID score...\n",
            "[INFO] FID score: 125.7019.\n",
            "✅ Epoch 30 scores:\n",
            "  FID: 125.7019\n",
            "  CLIP Image-Text Score: 0.2687\n",
            "\n",
            "🎯 Epoch 34: Generating images...\n",
            "🔍 Loading checkpoint: /content/drive/MyDrive/DDIM6/ckpt/checkpoint_epoch34.pt\n",
            "✅ Using EMA weights\n",
            "🚀 Start batch inference: 1063 samples | Batch size=16\n"
          ]
        },
        {
          "output_type": "stream",
          "name": "stderr",
          "text": [
            "Batch generating: 100%|██████████| 67/67 [01:49<00:00,  1.64s/it]\n"
          ]
        },
        {
          "output_type": "stream",
          "name": "stdout",
          "text": [
            "[INFO] Loading test JSON file: /content/test.json.\n",
            "[INFO] Found 1063 images in the zip file.\n",
            "[INFO] Checking if all image paths from the test JSON file are present in the zip file.\n",
            "[INFO] Loading CLIP model: ViT-B-32-quickgelu with pretrained weights: openai.\n",
            "[INFO] Calculating CLIP scores for 1063 images...\n"
          ]
        },
        {
          "output_type": "stream",
          "name": "stderr",
          "text": [
            "100%|██████████| 34/34 [00:02<00:00, 16.66it/s]\n"
          ]
        },
        {
          "output_type": "stream",
          "name": "stdout",
          "text": [
            "CLIP Image-Text Score: 0.264361\n",
            "[INFO] Found 1063 images in the zip file.\n",
            "[INFO] Generating Inception model features...\n"
          ]
        },
        {
          "output_type": "stream",
          "name": "stderr",
          "text": []
        },
        {
          "output_type": "stream",
          "name": "stdout",
          "text": [
            "[INFO] Calculating FID score...\n",
            "[INFO] FID score: 130.9351.\n",
            "✅ Epoch 34 scores:\n",
            "  FID: 130.9351\n",
            "  CLIP Image-Text Score: 0.2644\n",
            "\n",
            "🎯 Epoch 38: Generating images...\n",
            "🔍 Loading checkpoint: /content/drive/MyDrive/DDIM6/ckpt/checkpoint_epoch38.pt\n",
            "✅ Using EMA weights\n",
            "🚀 Start batch inference: 1063 samples | Batch size=16\n"
          ]
        },
        {
          "output_type": "stream",
          "name": "stderr",
          "text": [
            "Batch generating: 100%|██████████| 67/67 [01:49<00:00,  1.64s/it]\n"
          ]
        },
        {
          "output_type": "stream",
          "name": "stdout",
          "text": [
            "[INFO] Loading test JSON file: /content/test.json.\n",
            "[INFO] Found 1063 images in the zip file.\n",
            "[INFO] Checking if all image paths from the test JSON file are present in the zip file.\n",
            "[INFO] Loading CLIP model: ViT-B-32-quickgelu with pretrained weights: openai.\n",
            "[INFO] Calculating CLIP scores for 1063 images...\n"
          ]
        },
        {
          "output_type": "stream",
          "name": "stderr",
          "text": [
            "100%|██████████| 34/34 [00:02<00:00, 16.47it/s]\n"
          ]
        },
        {
          "output_type": "stream",
          "name": "stdout",
          "text": [
            "CLIP Image-Text Score: 0.260957\n",
            "[INFO] Found 1063 images in the zip file.\n",
            "[INFO] Generating Inception model features...\n"
          ]
        },
        {
          "output_type": "stream",
          "name": "stderr",
          "text": []
        },
        {
          "output_type": "stream",
          "name": "stdout",
          "text": [
            "[INFO] Calculating FID score...\n",
            "[INFO] FID score: 136.2790.\n",
            "✅ Epoch 38 scores:\n",
            "  FID: 136.2790\n",
            "  CLIP Image-Text Score: 0.2610\n",
            "\n",
            "🎯 Epoch 42: Generating images...\n",
            "🔍 Loading checkpoint: /content/drive/MyDrive/DDIM6/ckpt/checkpoint_epoch42.pt\n",
            "✅ Using EMA weights\n",
            "🚀 Start batch inference: 1063 samples | Batch size=16\n"
          ]
        },
        {
          "output_type": "stream",
          "name": "stderr",
          "text": [
            "Batch generating: 100%|██████████| 67/67 [01:49<00:00,  1.64s/it]\n"
          ]
        },
        {
          "output_type": "stream",
          "name": "stdout",
          "text": [
            "[INFO] Loading test JSON file: /content/test.json.\n",
            "[INFO] Found 1063 images in the zip file.\n",
            "[INFO] Checking if all image paths from the test JSON file are present in the zip file.\n",
            "[INFO] Loading CLIP model: ViT-B-32-quickgelu with pretrained weights: openai.\n",
            "[INFO] Calculating CLIP scores for 1063 images...\n"
          ]
        },
        {
          "output_type": "stream",
          "name": "stderr",
          "text": [
            "100%|██████████| 34/34 [00:01<00:00, 17.02it/s]\n"
          ]
        },
        {
          "output_type": "stream",
          "name": "stdout",
          "text": [
            "CLIP Image-Text Score: 0.257984\n",
            "[INFO] Found 1063 images in the zip file.\n",
            "[INFO] Generating Inception model features...\n"
          ]
        },
        {
          "output_type": "stream",
          "name": "stderr",
          "text": []
        },
        {
          "output_type": "stream",
          "name": "stdout",
          "text": [
            "[INFO] Calculating FID score...\n",
            "[INFO] FID score: 141.1666.\n",
            "✅ Epoch 42 scores:\n",
            "  FID: 141.1666\n",
            "  CLIP Image-Text Score: 0.2580\n",
            "\n",
            "🎯 Epoch 46: Generating images...\n",
            "🔍 Loading checkpoint: /content/drive/MyDrive/DDIM6/ckpt/checkpoint_epoch46.pt\n",
            "✅ Using EMA weights\n",
            "🚀 Start batch inference: 1063 samples | Batch size=16\n"
          ]
        },
        {
          "output_type": "stream",
          "name": "stderr",
          "text": [
            "Batch generating: 100%|██████████| 67/67 [01:49<00:00,  1.64s/it]\n"
          ]
        },
        {
          "output_type": "stream",
          "name": "stdout",
          "text": [
            "[INFO] Loading test JSON file: /content/test.json.\n",
            "[INFO] Found 1063 images in the zip file.\n",
            "[INFO] Checking if all image paths from the test JSON file are present in the zip file.\n",
            "[INFO] Loading CLIP model: ViT-B-32-quickgelu with pretrained weights: openai.\n",
            "[INFO] Calculating CLIP scores for 1063 images...\n"
          ]
        },
        {
          "output_type": "stream",
          "name": "stderr",
          "text": [
            "100%|██████████| 34/34 [00:02<00:00, 16.24it/s]\n"
          ]
        },
        {
          "output_type": "stream",
          "name": "stdout",
          "text": [
            "CLIP Image-Text Score: 0.255257\n",
            "[INFO] Found 1063 images in the zip file.\n",
            "[INFO] Generating Inception model features...\n"
          ]
        },
        {
          "output_type": "stream",
          "name": "stderr",
          "text": []
        },
        {
          "output_type": "stream",
          "name": "stdout",
          "text": [
            "[INFO] Calculating FID score...\n",
            "[INFO] FID score: 145.5290.\n",
            "✅ Epoch 46 scores:\n",
            "  FID: 145.5290\n",
            "  CLIP Image-Text Score: 0.2553\n",
            "\n",
            "🎯 Epoch 50: Generating images...\n",
            "🔍 Loading checkpoint: /content/drive/MyDrive/DDIM6/ckpt/checkpoint_epoch50.pt\n",
            "✅ Using EMA weights\n",
            "🚀 Start batch inference: 1063 samples | Batch size=16\n"
          ]
        },
        {
          "output_type": "stream",
          "name": "stderr",
          "text": [
            "Batch generating: 100%|██████████| 67/67 [01:49<00:00,  1.63s/it]\n"
          ]
        },
        {
          "output_type": "stream",
          "name": "stdout",
          "text": [
            "[INFO] Loading test JSON file: /content/test.json.\n",
            "[INFO] Found 1063 images in the zip file.\n",
            "[INFO] Checking if all image paths from the test JSON file are present in the zip file.\n",
            "[INFO] Loading CLIP model: ViT-B-32-quickgelu with pretrained weights: openai.\n",
            "[INFO] Calculating CLIP scores for 1063 images...\n"
          ]
        },
        {
          "output_type": "stream",
          "name": "stderr",
          "text": [
            "100%|██████████| 34/34 [00:02<00:00, 16.86it/s]\n"
          ]
        },
        {
          "output_type": "stream",
          "name": "stdout",
          "text": [
            "CLIP Image-Text Score: 0.253520\n",
            "[INFO] Found 1063 images in the zip file.\n",
            "[INFO] Generating Inception model features...\n"
          ]
        },
        {
          "output_type": "stream",
          "name": "stderr",
          "text": []
        },
        {
          "output_type": "stream",
          "name": "stdout",
          "text": [
            "[INFO] Calculating FID score...\n",
            "[INFO] FID score: 147.9781.\n",
            "✅ Epoch 50 scores:\n",
            "  FID: 147.9781\n",
            "  CLIP Image-Text Score: 0.2535\n",
            "\n",
            "🎯 Epoch 54: Generating images...\n",
            "🔍 Loading checkpoint: /content/drive/MyDrive/DDIM6/ckpt/checkpoint_epoch54.pt\n",
            "✅ Using EMA weights\n",
            "🚀 Start batch inference: 1063 samples | Batch size=16\n"
          ]
        },
        {
          "output_type": "stream",
          "name": "stderr",
          "text": [
            "Batch generating: 100%|██████████| 67/67 [01:49<00:00,  1.64s/it]\n"
          ]
        },
        {
          "output_type": "stream",
          "name": "stdout",
          "text": [
            "[INFO] Loading test JSON file: /content/test.json.\n",
            "[INFO] Found 1063 images in the zip file.\n",
            "[INFO] Checking if all image paths from the test JSON file are present in the zip file.\n",
            "[INFO] Loading CLIP model: ViT-B-32-quickgelu with pretrained weights: openai.\n",
            "[INFO] Calculating CLIP scores for 1063 images...\n"
          ]
        },
        {
          "output_type": "stream",
          "name": "stderr",
          "text": [
            "100%|██████████| 34/34 [00:02<00:00, 16.39it/s]\n"
          ]
        },
        {
          "output_type": "stream",
          "name": "stdout",
          "text": [
            "CLIP Image-Text Score: 0.251079\n",
            "[INFO] Found 1063 images in the zip file.\n",
            "[INFO] Generating Inception model features...\n"
          ]
        },
        {
          "output_type": "stream",
          "name": "stderr",
          "text": []
        },
        {
          "output_type": "stream",
          "name": "stdout",
          "text": [
            "[INFO] Calculating FID score...\n",
            "[INFO] FID score: 150.9777.\n",
            "✅ Epoch 54 scores:\n",
            "  FID: 150.9777\n",
            "  CLIP Image-Text Score: 0.2511\n",
            "\n",
            "🎯 Epoch 58: Generating images...\n",
            "🔍 Loading checkpoint: /content/drive/MyDrive/DDIM6/ckpt/checkpoint_epoch58.pt\n",
            "✅ Using EMA weights\n",
            "🚀 Start batch inference: 1063 samples | Batch size=16\n"
          ]
        },
        {
          "output_type": "stream",
          "name": "stderr",
          "text": [
            "Batch generating: 100%|██████████| 67/67 [01:49<00:00,  1.64s/it]\n"
          ]
        },
        {
          "output_type": "stream",
          "name": "stdout",
          "text": [
            "[INFO] Loading test JSON file: /content/test.json.\n",
            "[INFO] Found 1063 images in the zip file.\n",
            "[INFO] Checking if all image paths from the test JSON file are present in the zip file.\n",
            "[INFO] Loading CLIP model: ViT-B-32-quickgelu with pretrained weights: openai.\n",
            "[INFO] Calculating CLIP scores for 1063 images...\n"
          ]
        },
        {
          "output_type": "stream",
          "name": "stderr",
          "text": [
            "100%|██████████| 34/34 [00:02<00:00, 15.53it/s]\n"
          ]
        },
        {
          "output_type": "stream",
          "name": "stdout",
          "text": [
            "CLIP Image-Text Score: 0.250670\n",
            "[INFO] Found 1063 images in the zip file.\n",
            "[INFO] Generating Inception model features...\n"
          ]
        },
        {
          "output_type": "stream",
          "name": "stderr",
          "text": []
        },
        {
          "output_type": "stream",
          "name": "stdout",
          "text": [
            "[INFO] Calculating FID score...\n",
            "[INFO] FID score: 152.8288.\n",
            "✅ Epoch 58 scores:\n",
            "  FID: 152.8288\n",
            "  CLIP Image-Text Score: 0.2507\n",
            "\n",
            "📊 Summary:\n",
            "Epoch  6 | FID: 150.6101 | CLIP: 0.2537\n",
            "Epoch 10 | FID: 124.3254 | CLIP: 0.2692\n",
            "Epoch 14 | FID: 116.0131 | CLIP: 0.2728\n",
            "Epoch 18 | FID: 112.6028 | CLIP: 0.2737\n",
            "Epoch 22 | FID: 116.6643 | CLIP: 0.2739\n",
            "Epoch 26 | FID: 118.1588 | CLIP: 0.2718\n",
            "Epoch 30 | FID: 125.7019 | CLIP: 0.2687\n",
            "Epoch 34 | FID: 130.9351 | CLIP: 0.2644\n",
            "Epoch 38 | FID: 136.2790 | CLIP: 0.2610\n",
            "Epoch 42 | FID: 141.1666 | CLIP: 0.2580\n",
            "Epoch 46 | FID: 145.5290 | CLIP: 0.2553\n",
            "Epoch 50 | FID: 147.9781 | CLIP: 0.2535\n",
            "Epoch 54 | FID: 150.9777 | CLIP: 0.2511\n",
            "Epoch 58 | FID: 152.8288 | CLIP: 0.2507\n"
          ]
        }
      ],
      "source": [
        "# 要測試的 epoch 清單（每兩個存一個）\n",
        "target_epochs = list(range(6, 61, 4))\n",
        "\n",
        "# 固定參數設定\n",
        "test_json_path = \"/content/test.json\"\n",
        "ref_mu_path = \"/content/drive/MyDrive/public_data/score/test_mu.npy\"\n",
        "ref_sigma_path = \"/content/drive/MyDrive/public_data/score/test_sigma.npy\"\n",
        "device = torch.device(\"cuda\" if torch.cuda.is_available() else \"cpu\")\n",
        "\n",
        "result_list = []\n",
        "os.makedirs(\"/content/generated_eval1\", exist_ok=True)\n",
        "for epoch in target_epochs:\n",
        "    ckpt_path = f\"/content/drive/MyDrive/DDIM11/ckpt/checkpoint_epoch{epoch}.pt\"\n",
        "    save_folder = f\"/content/generated_test6_{epoch}_10_2_2\"\n",
        "    os.makedirs(save_folder, exist_ok=True)\n",
        "\n",
        "    print(f\"\\n🎯 Epoch {epoch}: Generating images...\")\n",
        "\n",
        "    # 推論產圖\n",
        "    test_inference(\n",
        "        ckpt_path=ckpt_path,\n",
        "        test_json_path=test_json_path,\n",
        "        save_folder=save_folder,\n",
        "        steps=10,\n",
        "        guidance_scale=2,\n",
        "        batch_size=16\n",
        "    )\n",
        "\n",
        "    # 設定評分參數\n",
        "    args = SimpleNamespace(\n",
        "        ref_mu_path=ref_mu_path,\n",
        "        ref_sigma_path=ref_sigma_path,\n",
        "        test_json_path=test_json_path,\n",
        "        fake_img_root=save_folder,\n",
        "        image_size=256,\n",
        "        num_images=None,\n",
        "        scores=[\"fid\", \"clip_t\"],\n",
        "        model_name=\"ViT-B-32-quickgelu\",\n",
        "        pretrained=\"openai\",\n",
        "        batch_size=32,\n",
        "        num_workers=2,\n",
        "        verbose=True,\n",
        "        output_path=f\"/content/generated_eval1/scores_ep{epoch}.json\"\n",
        "    )\n",
        "\n",
        "    # 執行評分\n",
        "    output_json = {}\n",
        "    if 'clip_i' in args.scores or 'clip_t' in args.scores:\n",
        "        output_json.update(run_clip(args, device))\n",
        "    if 'fid' in args.scores:\n",
        "        output_json.update(run_fid(args, device))\n",
        "\n",
        "    # 印出分數\n",
        "    print(f\"✅ Epoch {epoch} scores:\")\n",
        "    for key in [\"FID\", \"CLIP Image-Text Score\"]:\n",
        "        if key in output_json:\n",
        "            print(f\"  {key}: {output_json[key]:.4f}\")\n",
        "\n",
        "    # 儲存分數\n",
        "    with open(args.output_path, \"w\") as f:\n",
        "        json.dump(output_json, f, indent=2)\n",
        "\n",
        "    # 收集結果\n",
        "    result_list.append({\n",
        "        \"epoch\": epoch,\n",
        "        \"FID\": output_json.get(\"FID\", None),\n",
        "        \"CLIP\": output_json.get(\"CLIP Image-Text Score\", None)\n",
        "    })\n",
        "\n",
        "# 總結\n",
        "print(\"\\n📊 Summary:\")\n",
        "for r in result_list:\n",
        "    print(f\"Epoch {r['epoch']:>2} | FID: {r['FID']:.4f} | CLIP: {r['CLIP']:.4f}\")"
      ]
    },
    {
      "cell_type": "code",
      "source": [
        "import os\n",
        "import re\n",
        "import json\n",
        "import matplotlib.pyplot as plt\n",
        "\n",
        "# 評分資料夾路徑\n",
        "eval_dir = \"/content/generated_eval1\"\n",
        "\n",
        "# 讀取所有 scores_ep*.json\n",
        "result_list = []\n",
        "for fname in sorted(os.listdir(eval_dir)):\n",
        "    match = re.match(r\"scores_ep(\\d+)\\.json\", fname)\n",
        "    if match:\n",
        "        epoch = int(match.group(1))\n",
        "        with open(os.path.join(eval_dir, fname), \"r\") as f:\n",
        "            data = json.load(f)\n",
        "            result_list.append({\n",
        "                \"epoch\": epoch,\n",
        "                \"FID\": data.get(\"FID\", None),\n",
        "                \"CLIP\": data.get(\"CLIP Image-Text Score\", None)\n",
        "            })\n",
        "\n",
        "# 照 epoch 排序\n",
        "result_list.sort(key=lambda x: x[\"epoch\"])\n",
        "\n",
        "# 提取資料\n",
        "epochs = [r[\"epoch\"] for r in result_list]\n",
        "fid_scores = [r[\"FID\"] for r in result_list]\n",
        "clip_scores = [r[\"CLIP\"] for r in result_list]\n",
        "\n",
        "# 畫 FID vs. Epoch\n",
        "plt.figure()\n",
        "plt.plot(epochs, fid_scores, marker='o')\n",
        "plt.xlabel(\"Epoch\")\n",
        "plt.ylabel(\"FID\")\n",
        "plt.title(\"FID Score vs. Epoch\")\n",
        "plt.grid(True)\n",
        "plt.xticks(epochs)\n",
        "plt.gca().invert_yaxis()  # FID 越低越好\n",
        "plt.show()\n",
        "\n",
        "# 畫 CLIP Score vs. Epoch\n",
        "plt.figure()\n",
        "plt.plot(epochs, clip_scores, marker='o')\n",
        "plt.xlabel(\"Epoch\")\n",
        "plt.ylabel(\"CLIP Image-Text Score\")\n",
        "plt.title(\"CLIP Score vs. Epoch\")\n",
        "plt.grid(True)\n",
        "plt.xticks(epochs)\n",
        "plt.show()"
      ],
      "metadata": {
        "id": "vIt97dO3ICFA",
        "colab": {
          "base_uri": "https://localhost:8080/",
          "height": 927
        },
        "outputId": "3484e598-7dfb-4c32-85e0-4e634f185ce7"
      },
      "execution_count": null,
      "outputs": [
        {
          "output_type": "display_data",
          "data": {
            "text/plain": [
              "<Figure size 640x480 with 1 Axes>"
            ],
            "image/png": "[encoded data removed]"
          },
          "metadata": {}
        },
        {
          "output_type": "display_data",
          "data": {
            "text/plain": [
              "<Figure size 640x480 with 1 Axes>"
            ],
            "image/png": "[encoded data removed]"
          },
          "metadata": {}
        }
      ]
    },
    {
      "cell_type": "code",
      "source": [
        "import shutil\n",
        "\n",
        "# 將 generated_images 資料夾壓縮成 zip\n",
        "shutil.make_archive(\"generated_test6_20_10_2_2\", \"zip\", \"generated_test6_20_10_2_2\")\n",
        "\n",
        "print(\"✅ 壓縮完成，可下載 generated_images.zip 檔案\")\n",
        "from google.colab import files\n",
        "\n",
        "files.download(\"/content/generated_test6_20_10_2_2.zip\")\n",
        "print(\"✅ 預測完成，generated_images.zip 已儲存並下載。\")"
      ],
      "metadata": {
        "colab": {
          "base_uri": "https://localhost:8080/",
          "height": 52
        },
        "outputId": "85647792-2794-48f7-a72c-1d736ac80aee",
        "id": "83z45YT3ICFE"
      },
      "execution_count": null,
      "outputs": [
        {
          "output_type": "stream",
          "name": "stdout",
          "text": [
            "✅ 壓縮完成，可下載 generated_images.zip 檔案\n"
          ]
        },
        {
          "output_type": "display_data",
          "data": {
            "text/plain": [
              "<IPython.core.display.Javascript object>"
            ],
            "application/javascript": [
              "\n",
              "    async function download(id, filename, size) {\n",
              "      if (!google.colab.kernel.accessAllowed) {\n",
              "        return;\n",
              "      }\n",
              "      const div = document.createElement('div');\n",
              "      const label = document.createElement('label');\n",
              "      label.textContent = `Downloading \"${filename}\": `;\n",
              "      div.appendChild(label);\n",
              "      const progress = document.createElement('progress');\n",
              "      progress.max = size;\n",
              "      div.appendChild(progress);\n",
              "      document.body.appendChild(div);\n",
              "\n",
              "      const buffers = [];\n",
              "      let downloaded = 0;\n",
              "\n",
              "      const channel = await google.colab.kernel.comms.open(id);\n",
              "      // Send a message to notify the kernel that we're ready.\n",
              "      channel.send({})\n",
              "\n",
              "      for await (const message of channel.messages) {\n",
              "        // Send a message to notify the kernel that we're ready.\n",
              "        channel.send({})\n",
              "        if (message.buffers) {\n",
              "          for (const buffer of message.buffers) {\n",
              "            buffers.push(buffer);\n",
              "            downloaded += buffer.byteLength;\n",
              "            progress.value = downloaded;\n",
              "          }\n",
              "        }\n",
              "      }\n",
              "      const blob = new Blob(buffers, {type: 'application/binary'});\n",
              "      const a = document.createElement('a');\n",
              "      a.href = window.URL.createObjectURL(blob);\n",
              "      a.download = filename;\n",
              "      div.appendChild(a);\n",
              "      a.click();\n",
              "      div.remove();\n",
              "    }\n",
              "  "
            ]
          },
          "metadata": {}
        },
        {
          "output_type": "display_data",
          "data": {
            "text/plain": [
              "<IPython.core.display.Javascript object>"
            ],
            "application/javascript": [
              "download(\"download_059cc3c2-50b2-476e-a468-a1cbf68fdda0\", \"generated_test6_20_10_2_2.zip\", 126931389)"
            ]
          },
          "metadata": {}
        },
        {
          "output_type": "stream",
          "name": "stdout",
          "text": [
            "✅ 預測完成，generated_images.zip 已儲存並下載。\n"
          ]
        }
      ]
    }
  ]
}